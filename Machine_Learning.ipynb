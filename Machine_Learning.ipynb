{
  "nbformat": 4,
  "nbformat_minor": 0,
  "metadata": {
    "colab": {
      "provenance": [],
      "authorship_tag": "ABX9TyMHULNzflL4FdT3jpNW0lep",
      "include_colab_link": true
    },
    "kernelspec": {
      "name": "python3",
      "display_name": "Python 3"
    },
    "language_info": {
      "name": "python"
    }
  },
  "cells": [
    {
      "cell_type": "markdown",
      "metadata": {
        "id": "view-in-github",
        "colab_type": "text"
      },
      "source": [
        "<a href=\"https://colab.research.google.com/github/Sandip-Maity-2023/Logic-building-with-Python/blob/main/Machine_Learning.ipynb\" target=\"_parent\"><img src=\"https://colab.research.google.com/assets/colab-badge.svg\" alt=\"Open In Colab\"/></a>"
      ]
    },
    {
      "cell_type": "code",
      "execution_count": null,
      "metadata": {
        "colab": {
          "base_uri": "https://localhost:8080/"
        },
        "id": "oWkpdghf-7GN",
        "outputId": "110e868e-7bc8-4b92-9c1a-87b1bac0a069"
      },
      "outputs": [
        {
          "output_type": "stream",
          "name": "stdout",
          "text": [
            "enter option:8\n",
            "enter option:6\n",
            "enter option:+\n",
            "14\n"
          ]
        }
      ],
      "source": [
        "a=int(input(\"enter option:\"))\n",
        "b=int(input(\"enter option:\"))\n",
        "x=(input(\"enter option:\"))\n",
        "match x:\n",
        "  case '+':\n",
        "    c=a+b\n",
        "    print(c)\n",
        "  case \"-\":\n",
        "    c=a-b\n",
        "    print(c)\n",
        "  case \"*\":\n",
        "    c=a*b\n",
        "    print(c)\n",
        "  case \"/\":\n",
        "    c=a/b\n",
        "    print(c)\n",
        "  case _:\n",
        "    print(\"enter proper no:\")\n"
      ]
    },
    {
      "cell_type": "code",
      "source": [],
      "metadata": {
        "id": "5zFD5w3gkWNg"
      },
      "execution_count": null,
      "outputs": []
    },
    {
      "cell_type": "code",
      "source": [
        "import pandas as pd\n",
        "import numpy as np\n",
        "#sample data\n",
        "data={'Age':[25,np.nan,54,33,48,np.nan]}\n",
        "df=pd.DataFrame(data)\n",
        "\n",
        "#Replace missing values with mean\n",
        "df['Age_Mean']=df['Age'].fillna(df['Age'].mean())\n",
        "\n",
        "#Replace missing values with median\n",
        "df['Age_Median']=df['Age'].fillna(df['Age'].median())\n",
        "\n",
        "#Replace missing values with mode\n",
        "df['Age_Mode']=df['Age'].fillna(df['Age'].mode()[0])\n",
        "\n",
        "print(df)"
      ],
      "metadata": {
        "colab": {
          "base_uri": "https://localhost:8080/"
        },
        "id": "T7AEVwvulzAc",
        "outputId": "934ce8d6-bf31-4dad-b5cc-196f14788a5f"
      },
      "execution_count": null,
      "outputs": [
        {
          "output_type": "stream",
          "name": "stdout",
          "text": [
            "    Age  Age_Mean  Age_Median  Age_Mode\n",
            "0  25.0      25.0        25.0      25.0\n",
            "1   NaN      40.0        40.5      25.0\n",
            "2  54.0      54.0        54.0      54.0\n",
            "3  33.0      33.0        33.0      33.0\n",
            "4  48.0      48.0        48.0      48.0\n",
            "5   NaN      40.0        40.5      25.0\n"
          ]
        }
      ]
    },
    {
      "cell_type": "code",
      "source": [
        "#Forward fill\n",
        "df['Age_Fill_Forward']=df['Age'].ffill()\n",
        "\n",
        "#Backward fill\n",
        "df['Age_Fill_Backward']=df['Age'].bfill()\n",
        "\n",
        "print(df)"
      ],
      "metadata": {
        "colab": {
          "base_uri": "https://localhost:8080/"
        },
        "id": "a7M2zvhqrTNo",
        "outputId": "fb2e0ddc-8e98-4c87-97a9-644fb26f8524"
      },
      "execution_count": null,
      "outputs": [
        {
          "output_type": "stream",
          "name": "stdout",
          "text": [
            "   customerID   Age      City  Monthly Spending(&)  Age_Fill_Forward  \\\n",
            "0         101  25.0  New york                200.0              25.0   \n",
            "1         102   NaN       NaN                  NaN              25.0   \n",
            "2         103  30.0   Chicago                150.0              30.0   \n",
            "3         104   NaN       NaN                120.0              30.0   \n",
            "4         105  40.0    London                312.0              40.0   \n",
            "\n",
            "   Age_Fill_Backward  \n",
            "0               25.0  \n",
            "1               30.0  \n",
            "2               30.0  \n",
            "3               40.0  \n",
            "4               40.0  \n"
          ]
        }
      ]
    },
    {
      "cell_type": "code",
      "source": [
        "#KNN imputation\n",
        "import pandas as pd\n",
        "import numpy as np\n",
        "#sample dataset\n",
        "data={\n",
        "    'customerID':[101,102,103,104,105],\n",
        "    'Age': [25,np.nan,30,np.nan,40],\n",
        "    'City':['New york',np.nan,'Chicago',np.nan,'London'],\n",
        "    'Monthly Spending(&)':[200,np.nan,150,120,312]\n",
        "}\n",
        "df=pd.DataFrame(data)\n",
        "#custom function for age\n",
        "def impute_age(row):\n",
        "  if pd.isna(row['Age']):\n",
        "    #use the average age of customers from the same city\n",
        "    avg_age=df[df['City']==row['City']]['Age'].mean()\n",
        "    return avg_age if not np.isnan(avg_age) else 30\n",
        "  return row['Age']\n",
        "\n",
        "def impute_city(row):\n",
        "  if pd.isna(row['City']):\n",
        "    spending_group=df['Monthly Spending($)']\n",
        "    common_city=df[spending_group.between(row['Monthly Spending($)']-50,row['MOnthly Spending($)']+50)]['city'].mode()\n",
        "    return common_city[0] if not common_city.empty else 'Unknown'\n",
        "  return row['City']\n",
        "  print(df)"
      ],
      "metadata": {
        "id": "TvFUgL5rto9H"
      },
      "execution_count": null,
      "outputs": []
    },
    {
      "cell_type": "code",
      "source": [
        "# prompt: 4\n",
        "\n",
        "import pandas as pd\n",
        "import numpy as np\n",
        "from sklearn.impute import KNNImputer\n",
        "\n",
        "# Assuming the provided code is in a file named 'your_script.py'\n",
        "# Execute the code\n",
        "# %run your_script.py\n",
        "\n",
        "# Sample data for KNN imputation (replace with your actual data)\n",
        "data = {\n",
        "    'customerID': [101, 102, 103, 104, 105],\n",
        "    'Age': [25, np.nan, 30, np.nan, 40],\n",
        "    'MonthlySpending': [200, np.nan, 150, 120, 312]\n",
        "}\n",
        "df = pd.DataFrame(data)\n",
        "\n",
        "# Apply KNN imputation\n",
        "imputer = KNNImputer(n_neighbors=2) # You can adjust the number of neighbors\n",
        "df_knn = pd.DataFrame(imputer.fit_transform(df[['Age', 'MonthlySpending']]), columns=['Age_KNN', 'MonthlySpending_KNN'])\n",
        "df = pd.concat([df, df_knn], axis=1)\n",
        "\n",
        "print(df)"
      ],
      "metadata": {
        "id": "2YIqyZoP2p5A",
        "colab": {
          "base_uri": "https://localhost:8080/"
        },
        "outputId": "1e0ccc6b-aedc-4c85-c9c7-af07ff867f72"
      },
      "execution_count": null,
      "outputs": [
        {
          "output_type": "stream",
          "name": "stdout",
          "text": [
            "   customerID   Age  MonthlySpending    Age_KNN  MonthlySpending_KNN\n",
            "0         101  25.0            200.0  25.000000                200.0\n",
            "1         102   NaN              NaN  31.666667                195.5\n",
            "2         103  30.0            150.0  30.000000                150.0\n",
            "3         104   NaN            120.0  27.500000                120.0\n",
            "4         105  40.0            312.0  40.000000                312.0\n"
          ]
        }
      ]
    },
    {
      "cell_type": "code",
      "source": [
        "import numpy as np\n",
        "import pandas as pd\n",
        "from sklearn.impute import KNNImputer\n",
        "\n",
        "#Sample data with missing values\n",
        "data={\n",
        "    'Feature1':[1,2,np.nan,4],\n",
        "    'Feature2':[5,np.nan,7,8],\n",
        "    'Feature3':[np.nan,11,12,13]\n",
        "\n",
        "}\n",
        "df=pd.DataFrame(data)\n",
        "\n",
        "print(\"Original Data:\")\n",
        "print(df)\n",
        "\n",
        "#Initialize the\n",
        "#Apply KNN imputation\n",
        "imputer=KNNImputer(n_neighbors=2,weights=\"uniform\")\n",
        "\n",
        "#perform operation\n",
        "imputed_data=imputer.fit_transform(df)\n",
        "\n",
        "#convert the result back to a DataFrame\n",
        "imputed_df=pd.DataFrame(imputed_data,columns=df.columns)\n",
        "\n",
        "print(\"\\nImputed Data:\")\n",
        "print(\"\\nData after KNN Imputation\")\n",
        "print(imputed_df)\n",
        "\n",
        "#create a new dataframe with imputed values\n",
        "#df_knn=pd.DataFrame(imputer.fit_transform(df),columns=df.columns)\n",
        "#df_knn"
      ],
      "metadata": {
        "id": "P3WkVWhs3Vrs",
        "colab": {
          "base_uri": "https://localhost:8080/"
        },
        "outputId": "82c74396-2455-414d-ae3d-b71022e8a140"
      },
      "execution_count": null,
      "outputs": [
        {
          "output_type": "stream",
          "name": "stdout",
          "text": [
            "Original Data:\n",
            "   Feature1  Feature2  Feature3\n",
            "0       1.0       5.0       NaN\n",
            "1       2.0       NaN      11.0\n",
            "2       NaN       7.0      12.0\n",
            "3       4.0       8.0      13.0\n",
            "\n",
            "Imputed Data:\n",
            "\n",
            "Data after KNN Imputation\n",
            "   Feature1  Feature2  Feature3\n",
            "0       1.0       5.0      11.5\n",
            "1       2.0       6.0      11.0\n",
            "2       3.0       7.0      12.0\n",
            "3       4.0       8.0      13.0\n"
          ]
        }
      ]
    },
    {
      "cell_type": "code",
      "source": [
        "import pandas as pd\n",
        "df=pd.DataFrame({\"Day\":[1,2,3,4,5],\"sales\":[100,None,150,None,200]})\n",
        "print(\"\\n\")\n",
        "print(\"***LOCF***\")\n",
        "print(df)"
      ],
      "metadata": {
        "colab": {
          "base_uri": "https://localhost:8080/"
        },
        "id": "10MGw40Ufp5y",
        "outputId": "ee06b2be-0c15-4603-d7b5-f19305a0e2ef"
      },
      "execution_count": null,
      "outputs": [
        {
          "output_type": "stream",
          "name": "stdout",
          "text": [
            "\n",
            "\n",
            "***LOCF***\n",
            "   Day  sales\n",
            "0    1  100.0\n",
            "1    2    NaN\n",
            "2    3  150.0\n",
            "3    4    NaN\n",
            "4    5  200.0\n"
          ]
        }
      ]
    },
    {
      "cell_type": "code",
      "source": [
        "import pandas as pd\n",
        "import numpy as np\n",
        "#sample data\n",
        "data={'Age':[25,np.nan,54,33,48,np.nan]}\n",
        "df=pd.DataFrame(data)\n",
        "\n",
        "a=int(input(\"enter option:1 mean,2 median,3 mode:\"))\n",
        "b=int(input(\"enter option:\"))\n",
        "x=(input(\"enter option:\"))\n",
        " match x:\n",
        "  case 1:\n",
        "\n",
        "df['Age_Mean']=df['Age'].fillna(df['Age'].mean())\n",
        "print(df)\n",
        "\n",
        "  case 2:\n",
        "df['Age_Median']=df['Age'].fillna(df['Age'].median())\n",
        "print(df)\n",
        "\n",
        "  case 3:\n",
        "df['Age_Mode']=df['Age'].fillna(df['Age'].mode()[0])\n",
        "print(df)\n",
        "\n",
        "  case _:\n",
        "    print(\"enter proper no:\")"
      ],
      "metadata": {
        "colab": {
          "base_uri": "https://localhost:8080/",
          "height": 110
        },
        "id": "I6-FFQLUkZfO",
        "outputId": "d685697f-cd69-402e-ceca-9ce2e12c8745"
      },
      "execution_count": null,
      "outputs": [
        {
          "output_type": "error",
          "ename": "IndentationError",
          "evalue": "expected an indented block after 'case' statement on line 11 (<ipython-input-7-c58eed740e37>, line 13)",
          "traceback": [
            "\u001b[0;36m  File \u001b[0;32m\"<ipython-input-7-c58eed740e37>\"\u001b[0;36m, line \u001b[0;32m13\u001b[0m\n\u001b[0;31m    df['Age_Mean']=df['Age'].fillna(df['Age'].mean())\u001b[0m\n\u001b[0m                                                     ^\u001b[0m\n\u001b[0;31mIndentationError\u001b[0m\u001b[0;31m:\u001b[0m expected an indented block after 'case' statement on line 11\n"
          ]
        }
      ]
    }
  ]
}