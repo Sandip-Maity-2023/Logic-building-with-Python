{
 "cells": [
  {
   "cell_type": "markdown",
   "id": "ce95acd2",
   "metadata": {},
   "source": [
    "The Joy of Computing using Python"
   ]
  },
  {
   "cell_type": "code",
   "execution_count": 5,
   "id": "ed28a9b3",
   "metadata": {},
   "outputs": [
    {
     "name": "stdout",
     "output_type": "stream",
     "text": [
      "Sandip talks to Sujata\n"
     ]
    }
   ],
   "source": [
    "print(\"Sandip\",\"talks \" + \"to Sujata\")"
   ]
  },
  {
   "cell_type": "code",
   "execution_count": 8,
   "id": "59a8fd4a",
   "metadata": {},
   "outputs": [
    {
     "data": {
      "text/plain": [
       "[-1, 8, -3]"
      ]
     },
     "execution_count": 8,
     "metadata": {},
     "output_type": "execute_result"
    }
   ],
   "source": [
    "def mystery(container):\n",
    "    result=[]\n",
    "    for i in range(len(container)):\n",
    "        if i % 2 != 0:\n",
    "            result.append(container[i]*4)\n",
    "        else:\n",
    "            result.append(container[i]*(-1))\n",
    "    return result\n",
    "\n",
    "mystery([1,2,3])"
   ]
  },
  {
   "cell_type": "code",
   "execution_count": 1,
   "id": "0af52a21",
   "metadata": {},
   "outputs": [
    {
     "name": "stdout",
     "output_type": "stream",
     "text": [
      "True\n",
      "False\n",
      "True\n",
      "False\n"
     ]
    }
   ],
   "source": [
    "def check_leap(year):\n",
    "    if year % 4 == 0:\n",
    "        if year % 100 == 0:\n",
    "            if year % 400 == 0:\n",
    "                return True\n",
    "            else:\n",
    "                return False\n",
    "        else:\n",
    "            return True\n",
    "    else:\n",
    "        return False\n",
    "print(check_leap(2000))  # True\n",
    "print(check_leap(1900))  # False    \n",
    "print(check_leap(2020))  # True\n",
    "print(check_leap(2021))  # False\n"
   ]
  },
  {
   "cell_type": "code",
   "execution_count": null,
   "id": "f74c6b2c",
   "metadata": {},
   "outputs": [],
   "source": []
  }
 ],
 "metadata": {
  "kernelspec": {
   "display_name": "Python 3",
   "language": "python",
   "name": "python3"
  },
  "language_info": {
   "codemirror_mode": {
    "name": "ipython",
    "version": 3
   },
   "file_extension": ".py",
   "mimetype": "text/x-python",
   "name": "python",
   "nbconvert_exporter": "python",
   "pygments_lexer": "ipython3",
   "version": "3.12.1"
  }
 },
 "nbformat": 4,
 "nbformat_minor": 5
}
