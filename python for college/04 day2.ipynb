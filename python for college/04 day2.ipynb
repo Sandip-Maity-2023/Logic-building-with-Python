{
 "cells": [
  {
   "cell_type": "code",
   "execution_count": 1,
   "id": "8201fcd5",
   "metadata": {},
   "outputs": [
    {
     "name": "stdout",
     "output_type": "stream",
     "text": [
      "welcome to the Python script!\n",
      "sum of 10 and 20 is 30\n"
     ]
    }
   ],
   "source": [
    "print('welcome to the Python script!')\n",
    "a=10\n",
    "b=20\n",
    "c=a+b\n",
    "print(f'sum of {a} and {b} is {c}')"
   ]
  },
  {
   "cell_type": "code",
   "execution_count": 15,
   "id": "a352e520",
   "metadata": {},
   "outputs": [
    {
     "name": "stdout",
     "output_type": "stream",
     "text": [
      "Begining of the while loop\n",
      "10\n",
      "11\n",
      "12\n",
      "13\n",
      "14\n",
      "15\n",
      "16\n",
      "17\n",
      "18\n",
      "19\n",
      "20\n",
      "End of the while loop\n",
      "\n",
      "\n",
      "0\n",
      "1\n",
      "2\n",
      "3\n",
      "4\n",
      "5\n",
      "6\n",
      "7\n",
      "8\n",
      "9\n",
      "\n",
      "\n",
      "11\n",
      "13\n",
      "15\n",
      "17\n",
      "19\n"
     ]
    }
   ],
   "source": [
    "i=10\n",
    "print('Begining of the while loop')\n",
    "while i<=20:\n",
    " print(i)\n",
    " i+=1\n",
    "print('End of the while loop')\n",
    "\n",
    "print('\\n')\n",
    "\n",
    "for i in range(10):\n",
    " print(i)\n",
    "\n",
    "print('\\n')\n",
    "for i in range(5,10):\n",
    " print(2*i+1)\n"
   ]
  },
  {
   "cell_type": "code",
   "execution_count": 16,
   "id": "7a62e9a9",
   "metadata": {},
   "outputs": [
    {
     "name": "stdout",
     "output_type": "stream",
     "text": [
      "Area= 14.696938456699069\n"
     ]
    }
   ],
   "source": [
    "a=int(input('Enter a number: '))\n",
    "b=int(input('Enter value of b: '))\n",
    "c=int(input('Enter value of c: '))\n",
    "s=(a+b+c)/2\n",
    "area=(s*(s-a)*(s-b)*(s-c))**0.5\n",
    "\n",
    "print('Area=',area)"
   ]
  },
  {
   "cell_type": "markdown",
   "id": "5e44dada",
   "metadata": {},
   "source": [
    "factorial by recursion"
   ]
  },
  {
   "cell_type": "code",
   "execution_count": 25,
   "id": "a23b4b08",
   "metadata": {},
   "outputs": [
    {
     "name": "stdout",
     "output_type": "stream",
     "text": [
      "1\n",
      "1\n",
      "120\n",
      "None\n"
     ]
    }
   ],
   "source": [
    "def factorial(n):\n",
    " if(n>=0):\n",
    "    if n==1:\n",
    "        return 1\n",
    "    elif n==0:\n",
    "        return 1\n",
    "    else:\n",
    "        return n*factorial(n-1)\n",
    "print(factorial(0))\n",
    "print(factorial(1))\n",
    "print(factorial(5))\n",
    "print(factorial(-5)) #not defined in mathematics\n"
   ]
  },
  {
   "cell_type": "code",
   "execution_count": 26,
   "id": "de3259ff",
   "metadata": {},
   "outputs": [
    {
     "data": {
      "text/plain": [
       "9"
      ]
     },
     "execution_count": 26,
     "metadata": {},
     "output_type": "execute_result"
    }
   ],
   "source": [
    "def add(a,b):\n",
    "    return a+b\n",
    "add(4,5)"
   ]
  },
  {
   "cell_type": "code",
   "execution_count": null,
   "id": "92cdb7ef",
   "metadata": {},
   "outputs": [],
   "source": [
    " "
   ]
  }
 ],
 "metadata": {
  "kernelspec": {
   "display_name": "Python 3",
   "language": "python",
   "name": "python3"
  },
  "language_info": {
   "codemirror_mode": {
    "name": "ipython",
    "version": 3
   },
   "file_extension": ".py",
   "mimetype": "text/x-python",
   "name": "python",
   "nbconvert_exporter": "python",
   "pygments_lexer": "ipython3",
   "version": "3.12.1"
  }
 },
 "nbformat": 4,
 "nbformat_minor": 5
}
