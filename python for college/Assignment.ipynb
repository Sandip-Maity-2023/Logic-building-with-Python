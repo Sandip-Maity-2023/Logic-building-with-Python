{
 "cells": [
  {
   "cell_type": "code",
   "execution_count": 1,
   "id": "7e0d150d",
   "metadata": {},
   "outputs": [
    {
     "name": "stdout",
     "output_type": "stream",
     "text": [
      "[0 1 2 3 4 5 6 7 8 9]\n"
     ]
    }
   ],
   "source": [
    "import numpy as np\n",
    "arr=np.arange(10)\n",
    "print(arr)"
   ]
  },
  {
   "cell_type": "code",
   "execution_count": 2,
   "id": "9b002564",
   "metadata": {},
   "outputs": [
    {
     "name": "stdout",
     "output_type": "stream",
     "text": [
      "[[0. 0. 0.]\n",
      " [0. 0. 0.]\n",
      " [0. 0. 0.]]\n"
     ]
    }
   ],
   "source": [
    "import numpy as np\n",
    "zero=np.zeros((3,3))\n",
    "print(zero)"
   ]
  },
  {
   "cell_type": "code",
   "execution_count": 3,
   "id": "b66117c3",
   "metadata": {},
   "outputs": [
    {
     "name": "stdout",
     "output_type": "stream",
     "text": [
      "[[1. 0. 0.]\n",
      " [0. 1. 0.]\n",
      " [0. 0. 1.]]\n"
     ]
    }
   ],
   "source": [
    "import numpy as np\n",
    "id=np.eye(3)\n",
    "print(id)"
   ]
  },
  {
   "cell_type": "code",
   "execution_count": 4,
   "id": "a33d11c7",
   "metadata": {},
   "outputs": [
    {
     "name": "stdout",
     "output_type": "stream",
     "text": [
      "[1 2 3 4 5]\n",
      "[10 11 12 13 14]\n"
     ]
    }
   ],
   "source": [
    "arr2=np.arange(1,6)\n",
    "arr3=np.arange(10,15)\n",
    "print(arr2)\n",
    "print(arr3)"
   ]
  },
  {
   "cell_type": "code",
   "execution_count": 5,
   "id": "c1bc226d",
   "metadata": {},
   "outputs": [
    {
     "name": "stdout",
     "output_type": "stream",
     "text": [
      "\n",
      "Addition: [11 13 15 17 19]\n",
      "Subtraction: [-9 -9 -9 -9 -9]\n",
      "Multiplication: [10 22 36 52 70]\n",
      "Division: [0.1        0.18181818 0.25       0.30769231 0.35714286]\n"
     ]
    }
   ],
   "source": [
    "print(\"\\nAddition:\", arr2 + arr3)\n",
    "print(\"Subtraction:\", arr2 - arr3)\n",
    "print(\"Multiplication:\", arr2 * arr3)\n",
    "print(\"Division:\", arr2 / arr3)"
   ]
  },
  {
   "cell_type": "code",
   "execution_count": 6,
   "id": "dcb1d946",
   "metadata": {},
   "outputs": [
    {
     "name": "stdout",
     "output_type": "stream",
     "text": [
      "\n",
      "1D Array (0–29):\n",
      " [ 0  1  2  3  4  5  6  7  8  9 10 11 12 13 14 15 16 17 18 19 20 21 22 23\n",
      " 24 25 26 27 28 29]\n",
      "\n",
      "Elements between indices 5 and 15: [ 5  6  7  8  9 10 11 12 13 14 15]\n",
      "\n",
      "Every second element: [ 0  2  4  6  8 10 12 14 16 18 20 22 24 26 28]\n"
     ]
    }
   ],
   "source": [
    "arr4 = np.arange(30)\n",
    "print(\"\\n1D Array (0–29):\\n\", arr4)\n",
    "\n",
    "# Slice elements between indices 5 and 15\n",
    "slice_part = arr4[5:16]\n",
    "print(\"\\nElements between indices 5 and 15:\", slice_part)\n",
    "\n",
    "# Extract every second element\n",
    "every_second = arr4[::2]\n",
    "print(\"\\nEvery second element:\", every_second)"
   ]
  },
  {
   "cell_type": "code",
   "execution_count": 7,
   "id": "e47f2dbf",
   "metadata": {},
   "outputs": [
    {
     "name": "stdout",
     "output_type": "stream",
     "text": [
      "3x3 Random Matrix (0–10):\n",
      " [[4 6 4]\n",
      " [8 4 8]\n",
      " [6 5 5]]\n"
     ]
    }
   ],
   "source": [
    "# Create a 3x3 array with random values between 0 and 10\n",
    "random_matrix = np.random.randint(0, 11, (3, 3))\n",
    "print(\"3x3 Random Matrix (0–10):\\n\", random_matrix)\n"
   ]
  },
  {
   "cell_type": "code",
   "execution_count": 8,
   "id": "bf7be94c",
   "metadata": {},
   "outputs": [
    {
     "name": "stdout",
     "output_type": "stream",
     "text": [
      "\n",
      "First two rows & first two columns:\n",
      " [[4 6]\n",
      " [8 4]]\n"
     ]
    }
   ],
   "source": [
    "# Extract the first two rows and first two columns\n",
    "sub_matrix = random_matrix[:2, :2]\n",
    "print(\"\\nFirst two rows & first two columns:\\n\", sub_matrix)"
   ]
  },
  {
   "cell_type": "code",
   "execution_count": 9,
   "id": "8e872a7b",
   "metadata": {},
   "outputs": [
    {
     "name": "stdout",
     "output_type": "stream",
     "text": [
      "\n",
      "Last row:\n",
      " [6 5 5]\n"
     ]
    }
   ],
   "source": [
    "# Extract the last row\n",
    "last_row = random_matrix[-1, :]\n",
    "print(\"\\nLast row:\\n\", last_row)"
   ]
  },
  {
   "cell_type": "code",
   "execution_count": 10,
   "id": "a74e30c8",
   "metadata": {},
   "outputs": [
    {
     "name": "stdout",
     "output_type": "stream",
     "text": [
      "\n",
      "1D Array (12 elements):\n",
      " [ 1  2  3  4  5  6  7  8  9 10 11 12]\n",
      "\n",
      "Reshaped 3x4 Matrix:\n",
      " [[ 1  2  3  4]\n",
      " [ 5  6  7  8]\n",
      " [ 9 10 11 12]]\n"
     ]
    }
   ],
   "source": [
    "arr = np.arange(1, 13)\n",
    "print(\"\\n1D Array (12 elements):\\n\", arr)\n",
    "\n",
    "# Reshape into a 3x4 matrix\n",
    "reshaped_matrix = arr.reshape(3, 4)\n",
    "print(\"\\nReshaped 3x4 Matrix:\\n\", reshaped_matrix)"
   ]
  },
  {
   "cell_type": "code",
   "execution_count": 11,
   "id": "205fc5cd",
   "metadata": {},
   "outputs": [
    {
     "name": "stdout",
     "output_type": "stream",
     "text": [
      "\n",
      "4x4 Random Matrix (1–20):\n",
      " [[ 6 15 18 15]\n",
      " [14 14 15 11]\n",
      " [ 1  3 15 19]\n",
      " [12 13 20 19]]\n",
      "\n",
      "Sum of all elements: 210\n",
      "Mean of all elements: 13.125\n",
      "Max of all elements: 20\n",
      "Min of all elements: 1\n",
      "\n",
      "Row-wise sum: [54 54 38 64]\n",
      "Column-wise sum: [33 45 68 64]\n"
     ]
    }
   ],
   "source": [
    "# Create a 4x4 matrix with random integers between 1 and 20\n",
    "matrix_4x4 = np.random.randint(1, 21, (4, 4))\n",
    "print(\"\\n4x4 Random Matrix (1–20):\\n\", matrix_4x4)\n",
    "\n",
    "# Aggregation functions\n",
    "print(\"\\nSum of all elements:\", np.sum(matrix_4x4))\n",
    "print(\"Mean of all elements:\", np.mean(matrix_4x4))\n",
    "print(\"Max of all elements:\", np.max(matrix_4x4))\n",
    "print(\"Min of all elements:\", np.min(matrix_4x4))\n",
    "\n",
    "# Row-wise and column-wise sum\n",
    "print(\"\\nRow-wise sum:\", np.sum(matrix_4x4, axis=1))\n",
    "print(\"Column-wise sum:\", np.sum(matrix_4x4, axis=0))"
   ]
  },
  {
   "cell_type": "code",
   "execution_count": 12,
   "id": "d01ee3d5",
   "metadata": {},
   "outputs": [
    {
     "name": "stdout",
     "output_type": "stream",
     "text": [
      "Matrix 1:\n",
      " [[3 9 8]\n",
      " [8 8 6]\n",
      " [1 6 6]]\n",
      "\n",
      "Matrix 2:\n",
      " [[7 8 6]\n",
      " [5 7 8]\n",
      " [9 9 8]]\n",
      "\n",
      "Dot Product (Matrix1 • Matrix2):\n",
      " [[138 159 154]\n",
      " [150 174 160]\n",
      " [ 91 104 102]]\n",
      "\n",
      "2x3 Matrix:\n",
      " [[3 9 9]\n",
      " [9 7 3]]\n",
      "\n",
      "Transpose of 2x3 Matrix:\n",
      " [[3 9]\n",
      " [9 7]\n",
      " [9 3]]\n",
      "\n",
      "1D Array of 10 random integers (1–100):\n",
      " [59 12  5 67 74 89 89 87 80 20]\n",
      "\n",
      "2D Array (3x4) with random integers (10–50):\n",
      " [[47 28 30 43]\n",
      " [24 29 16 16]\n",
      " [34 40 25 41]]\n"
     ]
    }
   ],
   "source": [
    "import numpy as np\n",
    "\n",
    "# --------------------------\n",
    "# Task 7\n",
    "# --------------------------\n",
    "# Create two 3x3 matrices\n",
    "mat1 = np.random.randint(1, 10, (3, 3))\n",
    "mat2 = np.random.randint(1, 10, (3, 3))\n",
    "\n",
    "print(\"Matrix 1:\\n\", mat1)\n",
    "print(\"\\nMatrix 2:\\n\", mat2)\n",
    "\n",
    "# Dot product\n",
    "dot_product = np.dot(mat1, mat2)\n",
    "print(\"\\nDot Product (Matrix1 • Matrix2):\\n\", dot_product)\n",
    "\n",
    "# Create a 2x3 matrix\n",
    "mat3 = np.random.randint(1, 10, (2, 3))\n",
    "print(\"\\n2x3 Matrix:\\n\", mat3)\n",
    "\n",
    "# Transpose\n",
    "transpose_mat3 = mat3.T\n",
    "print(\"\\nTranspose of 2x3 Matrix:\\n\", transpose_mat3)\n",
    "\n",
    "\n",
    "# --------------------------\n",
    "# Task 8\n",
    "# --------------------------\n",
    "# Generate an array of 10 random integers between 1 and 100\n",
    "arr_rand = np.random.randint(1, 101, 10)\n",
    "print(\"\\n1D Array of 10 random integers (1–100):\\n\", arr_rand)\n",
    "\n",
    "# Create a 2D NumPy array (3x4) with random integers between 10 and 50\n",
    "arr_2d = np.random.randint(10, 51, (3, 4))\n",
    "print(\"\\n2D Array (3x4) with random integers (10–50):\\n\", arr_2d)"
   ]
  },
  {
   "cell_type": "code",
   "execution_count": 13,
   "id": "f29b9aee",
   "metadata": {},
   "outputs": [
    {
     "name": "stdout",
     "output_type": "stream",
     "text": [
      "3x3 Random Float Matrix (0–1):\n",
      " [[0.29711986 0.06757268 0.41950524]\n",
      " [0.41060586 0.96094232 0.09467198]\n",
      " [0.63834777 0.00173731 0.13582214]]\n",
      "\n",
      "Standard Deviation of array: 29.453177146107684\n",
      "Variance of array: 867.489644\n",
      "\n",
      "Matrix A:\n",
      " [[1 2 3]\n",
      " [4 5 6]\n",
      " [7 8 9]]\n",
      "\n",
      "Matrix B:\n",
      " [[9 8 7]\n",
      " [6 5 4]\n",
      " [3 2 1]]\n",
      "\n",
      "Sum of Matrix A and Matrix B:\n",
      " [[10 10 10]\n",
      " [10 10 10]\n",
      " [10 10 10]]\n"
     ]
    }
   ],
   "source": [
    "import numpy as np\n",
    "\n",
    "# --------------------------\n",
    "# Task 9\n",
    "# --------------------------\n",
    "# Create a 2D array (3x3) with random float values between 0 and 1\n",
    "random_floats = np.random.rand(3, 3)\n",
    "print(\"3x3 Random Float Matrix (0–1):\\n\", random_floats)\n",
    "\n",
    "\n",
    "# --------------------------\n",
    "# Task 10\n",
    "# --------------------------\n",
    "# Generate 1000 random numbers between 0 and 100\n",
    "large_array = np.random.randint(0, 101, 1000)\n",
    "\n",
    "# Compute standard deviation and variance\n",
    "std_dev = np.std(large_array)\n",
    "variance = np.var(large_array)\n",
    "\n",
    "print(\"\\nStandard Deviation of array:\", std_dev)\n",
    "print(\"Variance of array:\", variance)\n",
    "\n",
    "\n",
    "# --------------------------\n",
    "# Task 11\n",
    "# --------------------------\n",
    "# Create two matrices of the same dimension using numpy.array()\n",
    "matrix_a = np.array([[1, 2, 3],\n",
    "                     [4, 5, 6],\n",
    "                     [7, 8, 9]])\n",
    "\n",
    "matrix_b = np.array([[9, 8, 7],\n",
    "                     [6, 5, 4],\n",
    "                     [3, 2, 1]])\n",
    "\n",
    "# Add the two matrices\n",
    "matrix_sum = matrix_a + matrix_b\n",
    "\n",
    "print(\"\\nMatrix A:\\n\", matrix_a)\n",
    "print(\"\\nMatrix B:\\n\", matrix_b)\n",
    "print(\"\\nSum of Matrix A and Matrix B:\\n\", matrix_sum)"
   ]
  },
  {
   "cell_type": "code",
   "execution_count": 14,
   "id": "a48ba82a",
   "metadata": {},
   "outputs": [
    {
     "name": "stdout",
     "output_type": "stream",
     "text": [
      "Matrix 1:\n",
      " [[10 20 30]\n",
      " [40 50 60]\n",
      " [70 80 90]]\n",
      "\n",
      "Matrix 2:\n",
      " [[5 4 3]\n",
      " [2 1 0]\n",
      " [9 8 7]]\n",
      "\n",
      "Subtraction (Matrix1 - Matrix2):\n",
      " [[ 5 16 27]\n",
      " [38 49 60]\n",
      " [61 72 83]]\n"
     ]
    }
   ],
   "source": [
    "import numpy as np\n",
    "\n",
    "# --------------------------\n",
    "# Task 12\n",
    "# --------------------------\n",
    "# Create two matrices of the same dimension\n",
    "mat1 = np.array([[10, 20, 30],\n",
    "                 [40, 50, 60],\n",
    "                 [70, 80, 90]])\n",
    "\n",
    "mat2 = np.array([[5, 4, 3],\n",
    "                 [2, 1, 0],\n",
    "                 [9, 8, 7]])\n",
    "\n",
    "# Subtract mat2 from mat1\n",
    "sub_result = mat1 - mat2\n",
    "print(\"Matrix 1:\\n\", mat1)\n",
    "print(\"\\nMatrix 2:\\n\", mat2)\n",
    "print(\"\\nSubtraction (Matrix1 - Matrix2):\\n\", sub_result)"
   ]
  },
  {
   "cell_type": "code",
   "execution_count": 15,
   "id": "cb08a99b",
   "metadata": {},
   "outputs": [
    {
     "name": "stdout",
     "output_type": "stream",
     "text": [
      "\n",
      "Matrix:\n",
      " [[1 2 3]\n",
      " [4 5 6]]\n",
      "\n",
      "Transpose:\n",
      " [[1 4]\n",
      " [2 5]\n",
      " [3 6]]\n",
      "\n",
      "Square Matrix:\n",
      " [[2 3]\n",
      " [1 4]]\n",
      "\n",
      "Determinant: 5.000000000000001\n",
      "\n",
      "Invertible Matrix:\n",
      " [[4 7]\n",
      " [2 6]]\n",
      "\n",
      "Inverse of the Matrix:\n",
      " [[ 0.6 -0.7]\n",
      " [-0.2  0.4]]\n"
     ]
    }
   ],
   "source": [
    "# Create a matrix\n",
    "mat3 = np.array([[1, 2, 3],\n",
    "                 [4, 5, 6]])\n",
    "\n",
    "# Compute transpose\n",
    "transpose_mat3 = np.transpose(mat3)   # OR mat3.T\n",
    "print(\"\\nMatrix:\\n\", mat3)\n",
    "print(\"\\nTranspose:\\n\", transpose_mat3)\n",
    "\n",
    "\n",
    "# --------------------------\n",
    "# Task 14\n",
    "# --------------------------\n",
    "# Create a square matrix\n",
    "square_matrix = np.array([[2, 3],\n",
    "                          [1, 4]])\n",
    "\n",
    "# Compute determinant\n",
    "det_val = np.linalg.det(square_matrix)\n",
    "print(\"\\nSquare Matrix:\\n\", square_matrix)\n",
    "print(\"\\nDeterminant:\", det_val)\n",
    "\n",
    "\n",
    "# --------------------------\n",
    "# Task 15\n",
    "# --------------------------\n",
    "# Create an invertible square matrix\n",
    "invertible_matrix = np.array([[4, 7],\n",
    "                              [2, 6]])\n",
    "\n",
    "# Compute inverse\n",
    "inverse_matrix = np.linalg.inv(invertible_matrix)\n",
    "print(\"\\nInvertible Matrix:\\n\", invertible_matrix)\n",
    "print(\"\\nInverse of the Matrix:\\n\", inverse_matrix)"
   ]
  },
  {
   "cell_type": "code",
   "execution_count": 16,
   "id": "513ee441",
   "metadata": {},
   "outputs": [
    {
     "name": "stdout",
     "output_type": "stream",
     "text": [
      "Square Matrix:\n",
      " [[4 2]\n",
      " [1 3]]\n",
      "\n",
      "Eigenvalues:\n",
      " [5. 2.]\n",
      "\n",
      "Eigenvectors:\n",
      " [[ 0.89442719 -0.70710678]\n",
      " [ 0.4472136   0.70710678]]\n"
     ]
    }
   ],
   "source": [
    "import numpy as np\n",
    "\n",
    "# --------------------------\n",
    "# Task 16 (Eigenvalues & Eigenvectors)\n",
    "# --------------------------\n",
    "# Create a square matrix\n",
    "square_matrix = np.array([[4, 2],\n",
    "                          [1, 3]])\n",
    "\n",
    "# Calculate eigenvalues and eigenvectors\n",
    "eigenvalues, eigenvectors = np.linalg.eig(square_matrix)\n",
    "print(\"Square Matrix:\\n\", square_matrix)\n",
    "print(\"\\nEigenvalues:\\n\", eigenvalues)\n",
    "print(\"\\nEigenvectors:\\n\", eigenvectors)"
   ]
  },
  {
   "cell_type": "code",
   "execution_count": 17,
   "id": "01b9e49c",
   "metadata": {},
   "outputs": [
    {
     "name": "stdout",
     "output_type": "stream",
     "text": [
      "\n",
      "Original Array: [15  3  8 23  7  1]\n",
      "Sorted Array (Ascending): [ 1  3  7  8 15 23]\n",
      "\n",
      "Original Array: [42 17 56  3 29]\n",
      "Sorted Array (Descending): [56 42 29 17  3]\n"
     ]
    }
   ],
   "source": [
    "arr1 = np.array([15, 3, 8, 23, 7, 1])\n",
    "\n",
    "# Sort in ascending order\n",
    "sorted_arr = np.sort(arr1)\n",
    "print(\"\\nOriginal Array:\", arr1)\n",
    "print(\"Sorted Array (Ascending):\", sorted_arr)\n",
    "\n",
    "\n",
    "# --------------------------\n",
    "# Task 18 (Sorting Descending)\n",
    "# --------------------------\n",
    "# Create a 1D array\n",
    "arr2 = np.array([42, 17, 56, 3, 29])\n",
    "\n",
    "# Sort ascending first, then reverse for descending\n",
    "sorted_desc = np.sort(arr2)[::-1]\n",
    "print(\"\\nOriginal Array:\", arr2)\n",
    "print(\"Sorted Array (Descending):\", sorted_desc)"
   ]
  },
  {
   "cell_type": "code",
   "execution_count": 18,
   "id": "f12ec02e",
   "metadata": {},
   "outputs": [
    {
     "name": "stdout",
     "output_type": "stream",
     "text": [
      "1D Array: [ 1  4  7 10  2  8  5]\n",
      "Indices of elements > 5: [2 3 5]\n",
      "Elements > 5: [ 7 10  8]\n",
      "\n",
      "Original 2D Array:\n",
      " [[12  4  7]\n",
      " [ 1  9  3]\n",
      " [ 6  2  8]]\n",
      "Row-wise Sorted Array:\n",
      " [[ 4  7 12]\n",
      " [ 1  3  9]\n",
      " [ 2  6  8]]\n",
      "\n",
      "Original 2D Array:\n",
      " [[15  2  9]\n",
      " [ 7 11  3]\n",
      " [ 4  8  6]]\n",
      "Column-wise Sorted Array:\n",
      " [[ 4  2  3]\n",
      " [ 7  8  6]\n",
      " [15 11  9]]\n",
      "\n",
      "Original City Array:\n",
      " ['Delhi' 'Mumbai' 'Chennai' 'Kolkata' 'Bengaluru' 'Hyderabad']\n",
      "Sorted City Array:\n",
      " ['Bengaluru' 'Chennai' 'Delhi' 'Hyderabad' 'Kolkata' 'Mumbai']\n"
     ]
    }
   ],
   "source": [
    "import numpy as np\n",
    "\n",
    "# --------------------------\n",
    "# Task 17\n",
    "# --------------------------\n",
    "# Create a 1D array\n",
    "arr1 = np.array([1, 4, 7, 10, 2, 8, 5])\n",
    "\n",
    "# Find indices of elements greater than 5\n",
    "indices = np.where(arr1 > 5)\n",
    "print(\"1D Array:\", arr1)\n",
    "print(\"Indices of elements > 5:\", indices[0])\n",
    "print(\"Elements > 5:\", arr1[indices])\n",
    "\n",
    "\n",
    "# --------------------------\n",
    "# Task 18\n",
    "# --------------------------\n",
    "# Create a 2D array\n",
    "arr2 = np.array([[12, 4, 7],\n",
    "                 [1, 9, 3],\n",
    "                 [6, 2, 8]])\n",
    "\n",
    "# Sort each row independently\n",
    "sorted_rows = np.sort(arr2, axis=1)\n",
    "print(\"\\nOriginal 2D Array:\\n\", arr2)\n",
    "print(\"Row-wise Sorted Array:\\n\", sorted_rows)\n",
    "\n",
    "\n",
    "# --------------------------\n",
    "# Task 19\n",
    "# --------------------------\n",
    "# Create another 2D array\n",
    "arr3 = np.array([[15, 2, 9],\n",
    "                 [7, 11, 3],\n",
    "                 [4, 8, 6]])\n",
    "\n",
    "# Sort each column individually\n",
    "sorted_columns = np.sort(arr3, axis=0)\n",
    "print(\"\\nOriginal 2D Array:\\n\", arr3)\n",
    "print(\"Column-wise Sorted Array:\\n\", sorted_columns)\n",
    "\n",
    "\n",
    "# --------------------------\n",
    "# Task 20\n",
    "# --------------------------\n",
    "# Create a 1D array with city names\n",
    "cities = np.array([\"Delhi\", \"Mumbai\", \"Chennai\", \"Kolkata\", \"Bengaluru\", \"Hyderabad\"])\n",
    "\n",
    "# Sort the array alphabetically\n",
    "sorted_cities = np.sort(cities)\n",
    "print(\"\\nOriginal City Array:\\n\", cities)\n",
    "print(\"Sorted City Array:\\n\", sorted_cities)"
   ]
  },
  {
   "cell_type": "code",
   "execution_count": 19,
   "id": "e19965b7",
   "metadata": {},
   "outputs": [
    {
     "name": "stdout",
     "output_type": "stream",
     "text": [
      "Ascending order: [ 3  5  7  8 12 15]\n"
     ]
    }
   ],
   "source": [
    "import numpy as np\n",
    "\n",
    "# Create a 1D array\n",
    "arr = np.array([12, 5, 8, 3, 15, 7])\n",
    "\n",
    "# Sort in ascending order\n",
    "sorted_arr = np.sort(arr)\n",
    "\n",
    "# Print result\n",
    "print(\"Ascending order:\", sorted_arr)\n"
   ]
  },
  {
   "cell_type": "code",
   "execution_count": 20,
   "id": "ed1ba5fb",
   "metadata": {},
   "outputs": [
    {
     "name": "stdout",
     "output_type": "stream",
     "text": [
      "Descending order: [15 12  8  7  5  3]\n"
     ]
    }
   ],
   "source": [
    "import numpy as np\n",
    "\n",
    "# Create a 1D array\n",
    "arr = np.array([12, 5, 8, 3, 15, 7])\n",
    "\n",
    "# Sort in descending order\n",
    "sorted_desc = np.sort(arr)[::-1]\n",
    "\n",
    "# Print result\n",
    "print(\"Descending order:\", sorted_desc)\n"
   ]
  },
  {
   "cell_type": "code",
   "execution_count": null,
   "id": "bbdff74a",
   "metadata": {},
   "outputs": [
    {
     "ename": "",
     "evalue": "",
     "output_type": "error",
     "traceback": [
      "\u001b[1;31mThe Kernel crashed while executing code in the current cell or a previous cell. \n",
      "\u001b[1;31mPlease review the code in the cell(s) to identify a possible cause of the failure. \n",
      "\u001b[1;31mClick <a href='https://aka.ms/vscodeJupyterKernelCrash'>here</a> for more info. \n",
      "\u001b[1;31mView Jupyter <a href='command:jupyter.viewOutput'>log</a> for further details."
     ]
    }
   ],
   "source": []
  },
  {
   "cell_type": "code",
   "execution_count": null,
   "id": "ab06a6a0",
   "metadata": {},
   "outputs": [],
   "source": []
  }
 ],
 "metadata": {
  "kernelspec": {
   "display_name": "Python 3",
   "language": "python",
   "name": "python3"
  },
  "language_info": {
   "codemirror_mode": {
    "name": "ipython",
    "version": 3
   },
   "file_extension": ".py",
   "mimetype": "text/x-python",
   "name": "python",
   "nbconvert_exporter": "python",
   "pygments_lexer": "ipython3",
   "version": "3.12.1"
  }
 },
 "nbformat": 4,
 "nbformat_minor": 5
}
