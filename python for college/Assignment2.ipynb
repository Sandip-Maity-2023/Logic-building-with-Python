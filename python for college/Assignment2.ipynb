{
 "cells": [
  {
   "cell_type": "code",
   "execution_count": 36,
   "id": "bb727923",
   "metadata": {},
   "outputs": [
    {
     "name": "stdout",
     "output_type": "stream",
     "text": [
      "        Name  Age       city  Salary\n",
      "0     Sandip   23    Kolkata   50000\n",
      "1      Suman   21     Mumbai   60000\n",
      "2     Sounak   22  New Delhi   55000\n",
      "3  Jyotirmoy   24  Bengaluru   65000\n",
      "4     Pratik   25   New York   70000\n",
      "First 3 rows\n",
      "     Name  Age       city  Salary\n",
      "0  Sandip   23    Kolkata   50000\n",
      "1   Suman   21     Mumbai   60000\n",
      "2  Sounak   22  New Delhi   55000\n",
      "Last 2 rows\n",
      "        Name  Age       city  Salary\n",
      "3  Jyotirmoy   24  Bengaluru   65000\n",
      "4     Pratik   25   New York   70000\n",
      "Shape of the Dataframe(rows,columns):\n",
      "(5, 4)\n",
      "Age Column:\n",
      "0    23\n",
      "1    21\n",
      "2    22\n",
      "3    24\n",
      "4    25\n",
      "Name: Age, dtype: int64\n",
      "Employees from Kolkata:\n",
      "     Name  Age     city  Salary\n",
      "0  Sandip   23  Kolkata   50000\n"
     ]
    }
   ],
   "source": [
    "import pandas as pd\n",
    "data={\n",
    "    'Name':['Sandip','Suman','Sounak','Jyotirmoy','Pratik'],\n",
    "    'Age':[23,21,22,24,25],\n",
    "    'city':['Kolkata','Mumbai','New Delhi','Bengaluru','New York'],\n",
    "    'Salary':[50000,60000,55000,65000,70000]\n",
    "}\n",
    "df=pd.DataFrame(data)\n",
    "print(df)\n",
    "\n",
    "print(\"First 3 rows\")\n",
    "print(df.head(3))\n",
    "\n",
    "print(\"Last 2 rows\")\n",
    "print(df.tail(2))\n",
    "\n",
    "print(\"Shape of the Dataframe(rows,columns):\")\n",
    "print(df.shape)\n",
    "\n",
    "print('Age Column:')\n",
    "print(df['Age'])\n",
    "\n",
    "print('Employees from Kolkata:')\n",
    "print(df[df['city']=='Kolkata'])"
   ]
  },
  {
   "cell_type": "code",
   "execution_count": null,
   "id": "5fb9a423",
   "metadata": {},
   "outputs": [
    {
     "name": "stdout",
     "output_type": "stream",
     "text": [
      "Original DataFrame:\n",
      "        Name   Age       city   Salary        Date\n",
      "0     Sandip  23.0    kolkata  50000.0  2023-01-12\n",
      "1      Suman  21.0        NaN      0.0  2025/11/12\n",
      "2     Sounak  22.0  New Delhi -44000.0  11-02-2023\n",
      "3  Jyotirmoy  25.0  Bengaluru      NaN  2020-12-30\n",
      "4   Prathama   NaN    Chennai  70000.0         NaN\n",
      "\n",
      "After dropping rows with missing values:\n",
      "     Name   Age       city   Salary        Date\n",
      "0  Sandip  23.0    kolkata  50000.0  2023-01-12\n",
      "2  Sounak  22.0  New Delhi -44000.0  11-02-2023\n",
      "\n",
      "After filling missing values:\n",
      "        Name    Age       city   Salary        Date\n",
      "0     Sandip  23.00    kolkata  50000.0  2023-01-12\n",
      "1      Suman  21.00    Unknown      0.0  2025/11/12\n",
      "2     Sounak  22.00  New Delhi -44000.0  11-02-2023\n",
      "3  Jyotirmoy  25.00  Bengaluru  25000.0  2020-12-30\n",
      "4   Prathama  22.75    Chennai  70000.0         NaN\n",
      "\n",
      "After handling negative salaries:\n",
      "        Name    Age       city   Salary        Date\n",
      "0     Sandip  23.00    kolkata  50000.0  2023-01-12\n",
      "1      Suman  21.00    Unknown      0.0  2025/11/12\n",
      "2     Sounak  22.00  New Delhi      0.0  11-02-2023\n",
      "3  Jyotirmoy  25.00  Bengaluru  25000.0  2020-12-30\n",
      "4   Prathama  22.75    Chennai  70000.0         NaN\n",
      "\n",
      "After converting Date column to datetime:\n",
      "        Name    Age       city   Salary        Date\n",
      "0     Sandip  23.00    kolkata  50000.0  2023-01-12\n",
      "1      Suman  21.00    Unknown      0.0  2025-11-12\n",
      "2     Sounak  22.00  New Delhi      0.0  11-02-2023\n",
      "3  Jyotirmoy  25.00  Bengaluru  25000.0  2020-12-30\n",
      "4   Prathama  22.75    Chennai  70000.0         NaN\n"
     ]
    },
    {
     "name": "stderr",
     "output_type": "stream",
     "text": [
      "C:\\Users\\12san\\AppData\\Local\\Temp\\ipykernel_12660\\3478784694.py:20: FutureWarning: A value is trying to be set on a copy of a DataFrame or Series through chained assignment using an inplace method.\n",
      "The behavior will change in pandas 3.0. This inplace method will never work because the intermediate object on which we are setting values always behaves as a copy.\n",
      "\n",
      "For example, when doing 'df[col].method(value, inplace=True)', try using 'df.method({col: value}, inplace=True)' or df[col] = df[col].method(value) instead, to perform the operation inplace on the original object.\n",
      "\n",
      "\n",
      "  fill_df['Age'].fillna(fill_df['Age'].mean(),inplace=True)\n",
      "C:\\Users\\12san\\AppData\\Local\\Temp\\ipykernel_12660\\3478784694.py:21: FutureWarning: A value is trying to be set on a copy of a DataFrame or Series through chained assignment using an inplace method.\n",
      "The behavior will change in pandas 3.0. This inplace method will never work because the intermediate object on which we are setting values always behaves as a copy.\n",
      "\n",
      "For example, when doing 'df[col].method(value, inplace=True)', try using 'df.method({col: value}, inplace=True)' or df[col] = df[col].method(value) instead, to perform the operation inplace on the original object.\n",
      "\n",
      "\n",
      "  fill_df['city'].fillna('Unknown',inplace=True)\n",
      "C:\\Users\\12san\\AppData\\Local\\Temp\\ipykernel_12660\\3478784694.py:22: FutureWarning: A value is trying to be set on a copy of a DataFrame or Series through chained assignment using an inplace method.\n",
      "The behavior will change in pandas 3.0. This inplace method will never work because the intermediate object on which we are setting values always behaves as a copy.\n",
      "\n",
      "For example, when doing 'df[col].method(value, inplace=True)', try using 'df.method({col: value}, inplace=True)' or df[col] = df[col].method(value) instead, to perform the operation inplace on the original object.\n",
      "\n",
      "\n",
      "  fill_df['Salary'].fillna(fill_df['Salary'].median(),inplace=True)\n",
      "C:\\Users\\12san\\AppData\\Local\\Temp\\ipykernel_12660\\3478784694.py:33: FutureWarning: errors='ignore' is deprecated and will raise in a future version. Use to_datetime without passing `errors` and catch exceptions explicitly instead\n",
      "  fill_df['Date']=pd.to_datetime(fill_df['Date'],errors='ignore')\n"
     ]
    }
   ],
   "source": [
    "import pandas as pd\n",
    "import numpy as np\n",
    "\n",
    "data={\n",
    "    'Name':['Sandip','Suman','Sounak','Jyotirmoy','Prathama'],\n",
    "    'Age':[23,21,22,25,np.nan],\n",
    "    'city':['kolkata',np.nan,'New Delhi','Bengaluru','Chennai'],\n",
    "    'Salary':[50000,0,-44000,np.nan,70000],\n",
    "    'Date':['2023-01-12','2025/11/12','11-02-2023','2020-12-30',np.nan]\n",
    "}\n",
    "df=pd.DataFrame(data)       \n",
    "print(\"Original DataFrame:\")\n",
    "print(df)\n",
    "\n",
    "drop_df=df.dropna()\n",
    "print(\"\\nAfter dropping rows with missing values:\")\n",
    "print(drop_df)\n",
    "\n",
    "fill_df=df.copy()\n",
    "fill_df['Age'].fillna(fill_df['Age'].mean(),inplace=True)\n",
    "fill_df['city'].fillna('Unknown',inplace=True)\n",
    "fill_df['Salary'].fillna(fill_df['Salary'].median(),inplace=True)\n",
    "print(\"\\nAfter filling missing values:\")\n",
    "print(fill_df)\n",
    "\n",
    "fill_df['Salary']=fill_df['Salary'].apply(lambda x:0 if x<0 else x)\n",
    "print(\"\\nAfter handling negative salaries:\")\n",
    "print(fill_df)\n",
    "\n",
    "\n",
    "\n",
    "fill_df['Date'] = fill_df['Date'].str.replace('/', '-', regex=False)\n",
    "fill_df['Date']=pd.to_datetime(fill_df['Date'],errors='ignore')\n",
    "print('\\nAfter converting Date column to datetime:')\n",
    "print(fill_df)\n"
   ]
  },
  {
   "cell_type": "code",
   "execution_count": 38,
   "id": "4ced38b7",
   "metadata": {},
   "outputs": [
    {
     "name": "stdout",
     "output_type": "stream",
     "text": [
      "DataFrame 1:\n",
      "{'StudentID': [101, 102, 103, 104, 105], 'Name': ['Sandip', 'Pratasha', 'Sounak', 'Moupia', 'Prathama'], 'Age': [23, 21, 22, 25, 24]}\n",
      "\n",
      "DataFrame 2:\n",
      "{'StudentID': [106, 109, 101, 102, 104], 'Subject': ['Maths', 'Science', 'History', 'Geography', 'Maths'], 'Marks': [85, 90, 78, 88, 92]}\n",
      "\n",
      "After Merging on StudentID:\n",
      "   StudentID      Name  Age    Subject  Marks\n",
      "0        101    Sandip   23    History     78\n",
      "1        102  Pratasha   21  Geography     88\n",
      "2        104    Moupia   25      Maths     92\n",
      "\n",
      "After Left Join:\n",
      "   StudentID      Name  Age    Subject  Marks\n",
      "0        101    Sandip   23    History   78.0\n",
      "1        102  Pratasha   21  Geography   88.0\n",
      "2        103    Sounak   22        NaN    NaN\n",
      "3        104    Moupia   25      Maths   92.0\n",
      "4        105  Prathama   24        NaN    NaN\n",
      "\n",
      "After Right Join:\n",
      "   StudentID      Name   Age    Subject  Marks\n",
      "0        106       NaN   NaN      Maths     85\n",
      "1        109       NaN   NaN    Science     90\n",
      "2        101    Sandip  23.0    History     78\n",
      "3        102  Pratasha  21.0  Geography     88\n",
      "4        104    Moupia  25.0      Maths     92\n",
      "\n",
      "After Outer Join:\n",
      "   StudentID      Name   Age    Subject  Marks\n",
      "0        101    Sandip  23.0    History   78.0\n",
      "1        102  Pratasha  21.0  Geography   88.0\n",
      "2        103    Sounak  22.0        NaN    NaN\n",
      "3        104    Moupia  25.0      Maths   92.0\n",
      "4        105  Prathama  24.0        NaN    NaN\n",
      "5        106       NaN   NaN      Maths   85.0\n",
      "6        109       NaN   NaN    Science   90.0\n",
      "\n",
      "After Inner Join:\n",
      "   StudentID      Name  Age    Subject  Marks\n",
      "0        101    Sandip   23    History     78\n",
      "1        102  Pratasha   21  Geography     88\n",
      "2        104    Moupia   25      Maths     92\n"
     ]
    }
   ],
   "source": [
    "import pandas as pd\n",
    "\n",
    "data={\n",
    "    'StudentID':[101,102,103,104,105],\n",
    "    'Name':['Sandip','Pratasha','Sounak','Moupia','Prathama'],\n",
    "    'Age':[23,21,22,25,24]\n",
    "}\n",
    "\n",
    "value={\n",
    "    'StudentID':[106,109,101,102,104],\n",
    "    'Subject':['Maths','Science','History','Geography','Maths'],\n",
    "    'Marks':[85,90,78,88,92]\n",
    "}\n",
    "\n",
    "print(\"DataFrame 1:\")\n",
    "df1=pd.DataFrame(data)\n",
    "print(data)\n",
    "print(\"\\nDataFrame 2:\")\n",
    "df2=pd.DataFrame(value)\n",
    "print(value)\n",
    "\n",
    "merge=pd.merge(df1,df2,on='StudentID')\n",
    "print(\"\\nAfter Merging on StudentID:\")\n",
    "print(merge)\n",
    "\n",
    "left_join=pd.merge(df1,df2,on='StudentID',how='left')\n",
    "print(\"\\nAfter Left Join:\")\n",
    "print(left_join)\n",
    "\n",
    "right_join=pd.merge(df1,df2,on='StudentID',how='right')\n",
    "print(\"\\nAfter Right Join:\")\n",
    "print(right_join)\n",
    "\n",
    "outer_join=pd.merge(df1,df2,on='StudentID',how='outer')\n",
    "print(\"\\nAfter Outer Join:\")\n",
    "print(outer_join)\n",
    "\n",
    "inner_join = pd.merge(df1, df2, on='StudentID', how='inner')\n",
    "print(\"\\nAfter Inner Join:\")\n",
    "print(inner_join)"
   ]
  },
  {
   "cell_type": "code",
   "execution_count": 23,
   "id": "b1303815",
   "metadata": {},
   "outputs": [
    {
     "name": "stdout",
     "output_type": "stream",
     "text": [
      "\n",
      "Sales\n",
      "  Region Salesperson  SalesAmount Month\n",
      "0  North       Alice         5000   Jan\n",
      "1  South         Bob         7000   Jan\n",
      "2   East     Charlie         6000   Feb\n",
      "3   West       Alice         8000   Feb\n",
      "4  North       David         6500   Mar\n",
      "\n",
      "Pivot Table (Total Sales Amount by Region and Salesperson):\n",
      "Salesperson  Alice   Bob  Charlie  David\n",
      "Region                                  \n",
      "East             0     0     6000      0\n",
      "North         5000     0        0   6500\n",
      "South            0  7000        0      0\n",
      "West          8000     0        0      0\n",
      "\n",
      "Cross Tabulation (Count of Sales by Salesperson and Month):\n",
      "Month        Feb  Jan  Mar  All\n",
      "Salesperson                    \n",
      "Alice          1    1    0    2\n",
      "Bob            0    1    0    1\n",
      "Charlie        1    0    0    1\n",
      "David          0    0    1    1\n",
      "All            2    2    1    5\n"
     ]
    }
   ],
   "source": [
    "import pandas as pd\n",
    "import numpy as np\n",
    "sales=pd.DataFrame({\n",
    "    'Region':['North','South','East','West','North'],\n",
    "    'Salesperson': ['Alice', 'Bob', 'Charlie', 'Alice', 'David'],\n",
    "    'SalesAmount': [5000, 7000, 6000, 8000, 6500],\n",
    "    'Month': ['Jan', 'Jan', 'Feb', 'Feb', 'Mar']\n",
    "})\n",
    "\n",
    "print('\\nSales')\n",
    "print(sales)\n",
    "\n",
    "\n",
    "table=pd.pivot_table(sales,values='SalesAmount',index='Region',columns='Salesperson',aggfunc='sum',fill_value=0)\n",
    "print(\"\\nPivot Table (Total Sales Amount by Region and Salesperson):\")\n",
    "print(table)\n",
    "\n",
    "\n",
    "cross_tab=pd.crosstab(sales['Salesperson'],sales['Month'],margins=True)\n",
    "print(\"\\nCross Tabulation (Count of Sales by Salesperson and Month):\")\n",
    "print(cross_tab)"
   ]
  },
  {
   "cell_type": "code",
   "execution_count": 24,
   "id": "5adfb9a6",
   "metadata": {},
   "outputs": [
    {
     "name": "stdout",
     "output_type": "stream",
     "text": [
      "Dictionary: {'a': 1, 'b': 2, 'c': 3}\n"
     ]
    }
   ],
   "source": [
    "list_of_tuples=[('a',1),('b',2),('c',3)]\n",
    "\n",
    "dictionary=dict(list_of_tuples)\n",
    "\n",
    "print(\"Dictionary:\", dictionary)"
   ]
  },
  {
   "cell_type": "code",
   "execution_count": 25,
   "id": "8dae7688",
   "metadata": {},
   "outputs": [
    {
     "name": "stdout",
     "output_type": "stream",
     "text": [
      "This is a tuple (100, 200, 300)\n"
     ]
    }
   ],
   "source": [
    "# Sample tuple\n",
    "t = (100, 200, 300)\n",
    "\n",
    "# String formatting\n",
    "print(\"This is a tuple {}\".format(t))\n"
   ]
  },
  {
   "cell_type": "code",
   "execution_count": 26,
   "id": "a0141c7c",
   "metadata": {},
   "outputs": [
    {
     "name": "stdout",
     "output_type": "stream",
     "text": [
      "Updated List of Tuples: [(10, 20, 100), (40, 50, 100), (70, 80, 100)]\n"
     ]
    }
   ],
   "source": [
    "list_of_tuples=[(10,20,40),(40,50,60),(70,80,90)]\n",
    "\n",
    "update_list=[t[:-1]+(100,) for t in list_of_tuples]\n",
    "\n",
    "print(\"Updated List of Tuples:\", update_list)"
   ]
  },
  {
   "cell_type": "code",
   "execution_count": 39,
   "id": "477715a1",
   "metadata": {},
   "outputs": [
    {
     "name": "stdout",
     "output_type": "stream",
     "text": [
      "Average of each column: [31.0, 42.333333333333336, 41.666666666666664, 45.0]\n"
     ]
    }
   ],
   "source": [
    "tuple_of_tuples = ((10, 20,30,25), (32, 45,48,78), (51,62,47,32))\n",
    "average=[sum(col)/len(col) for col in zip(*tuple_of_tuples)]\n",
    "\n",
    "print(\"Average of each column:\", average)"
   ]
  },
  {
   "cell_type": "code",
   "execution_count": 28,
   "id": "f86fcee1",
   "metadata": {},
   "outputs": [
    {
     "name": "stdout",
     "output_type": "stream",
     "text": [
      "Ascending order by value: {'d': 1, 'b': 3, 'a': 5, 'c': 9}\n",
      "Descending order by value: {'c': 9, 'a': 5, 'b': 3, 'd': 1}\n"
     ]
    }
   ],
   "source": [
    "my_dict={'a':5,'b':3,'c':9,'d':1}\n",
    "\n",
    "asc=dict(sorted(my_dict.items(),key=lambda item:item[1]))\n",
    "print(\"Ascending order by value:\", asc)\n",
    "\n",
    "desc=dict(sorted(my_dict.items(),key=lambda item:item[1],reverse=True))\n",
    "print(\"Descending order by value:\", desc)"
   ]
  },
  {
   "cell_type": "code",
   "execution_count": 29,
   "id": "58cb76ec",
   "metadata": {},
   "outputs": [
    {
     "name": "stdout",
     "output_type": "stream",
     "text": [
      "Sum of values: 60\n"
     ]
    }
   ],
   "source": [
    "# Sample dictionary\n",
    "my_dict = {'a': 10, 'b': 20, 'c': 30}\n",
    "\n",
    "# Sum of values\n",
    "total = sum(my_dict.values())\n",
    "print(\"Sum of values:\", total)\n"
   ]
  },
  {
   "cell_type": "code",
   "execution_count": 30,
   "id": "fec3872a",
   "metadata": {},
   "outputs": [
    {
     "name": "stdout",
     "output_type": "stream",
     "text": [
      "Product of values: 24\n"
     ]
    }
   ],
   "source": [
    "# Sample dictionary\n",
    "my_dict = {'a': 2, 'b': 3, 'c': 4}\n",
    "\n",
    "# Multiply values\n",
    "result = 1\n",
    "for value in my_dict.values():\n",
    "    result *= value\n",
    "\n",
    "print(\"Product of values:\", result)\n"
   ]
  },
  {
   "cell_type": "code",
   "execution_count": 31,
   "id": "e8184569",
   "metadata": {},
   "outputs": [
    {
     "name": "stdout",
     "output_type": "stream",
     "text": [
      "Dictionary after removal: {'a': 1, 'c': 3}\n"
     ]
    }
   ],
   "source": [
    "# Sample dictionary\n",
    "my_dict = {'a': 1, 'b': 2, 'c': 3}\n",
    "\n",
    "# Remove key 'b' safely\n",
    "if 'b' in my_dict:\n",
    "    del my_dict['b']\n",
    "\n",
    "print(\"Dictionary after removal:\", my_dict)\n"
   ]
  },
  {
   "cell_type": "code",
   "execution_count": 32,
   "id": "5061f199",
   "metadata": {},
   "outputs": [
    {
     "name": "stdout",
     "output_type": "stream",
     "text": [
      "Sorted by key: {'a': 5, 'b': 2, 'c': 9, 'd': 1}\n"
     ]
    }
   ],
   "source": [
    "# Sample dictionary\n",
    "my_dict = {'b': 2, 'a': 5, 'd': 1, 'c': 9}\n",
    "\n",
    "# Sort by key\n",
    "sorted_dict = dict(sorted(my_dict.items()))\n",
    "print(\"Sorted by key:\", sorted_dict)\n"
   ]
  },
  {
   "cell_type": "code",
   "execution_count": 33,
   "id": "32e27001",
   "metadata": {},
   "outputs": [
    {
     "name": "stdout",
     "output_type": "stream",
     "text": [
      "Maximum value: 50\n",
      "Minimum value: 5\n"
     ]
    }
   ],
   "source": [
    "# Sample dictionary\n",
    "my_dict = {'a': 10, 'b': 50, 'c': 5, 'd': 25}\n",
    "\n",
    "# Find max and min values\n",
    "max_val = max(my_dict.values())\n",
    "min_val = min(my_dict.values())\n",
    "\n",
    "print(\"Maximum value:\", max_val)\n",
    "print(\"Minimum value:\", min_val)\n"
   ]
  },
  {
   "cell_type": "code",
   "execution_count": 34,
   "id": "6e04699b",
   "metadata": {},
   "outputs": [
    {
     "name": "stdout",
     "output_type": "stream",
     "text": [
      "Dictionary after removing duplicates: {'a': 10, 'b': 20, 'd': 30}\n"
     ]
    }
   ],
   "source": [
    "# Sample dictionary\n",
    "my_dict = {'a': 10, 'b': 20, 'c': 10, 'd': 30, 'e': 20}\n",
    "\n",
    "# Remove duplicates by values\n",
    "unique_dict = {}\n",
    "for key, value in my_dict.items():\n",
    "    if value not in unique_dict.values():\n",
    "        unique_dict[key] = value\n",
    "\n",
    "print(\"Dictionary after removing duplicates:\", unique_dict)\n"
   ]
  },
  {
   "cell_type": "code",
   "execution_count": 35,
   "id": "021302e4",
   "metadata": {},
   "outputs": [
    {
     "name": "stdout",
     "output_type": "stream",
     "text": [
      "Combined dictionary: Counter({'a': 400, 'b': 400, 'd': 400, 'c': 300})\n"
     ]
    }
   ],
   "source": [
    "from collections import Counter\n",
    "\n",
    "d1 = {'a': 100, 'b': 200, 'c': 300}\n",
    "d2 = {'a': 300, 'b': 200, 'd': 400}\n",
    "\n",
    "# Combine using Counter\n",
    "combined = Counter(d1) + Counter(d2)\n",
    "\n",
    "print(\"Combined dictionary:\", combined)\n"
   ]
  },
  {
   "cell_type": "code",
   "execution_count": null,
   "id": "2a9fb548",
   "metadata": {},
   "outputs": [],
   "source": []
  }
 ],
 "metadata": {
  "kernelspec": {
   "display_name": "Python 3",
   "language": "python",
   "name": "python3"
  },
  "language_info": {
   "codemirror_mode": {
    "name": "ipython",
    "version": 3
   },
   "file_extension": ".py",
   "mimetype": "text/x-python",
   "name": "python",
   "nbconvert_exporter": "python",
   "pygments_lexer": "ipython3",
   "version": "3.12.1"
  }
 },
 "nbformat": 4,
 "nbformat_minor": 5
}
