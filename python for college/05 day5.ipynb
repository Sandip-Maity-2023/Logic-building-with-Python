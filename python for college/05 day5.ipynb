{
 "cells": [
  {
   "cell_type": "code",
   "execution_count": 25,
   "id": "bf8495da",
   "metadata": {},
   "outputs": [
    {
     "name": "stdout",
     "output_type": "stream",
     "text": [
      "[1 2 3 4 5 6 7 8]\n",
      "original array [ 0  1  2  3  4  5  6  7  8  9 10 11 12 13 14 15 16 17 18 19 20 21 22 23\n",
      " 24 25 26 27 28 29]\n",
      "nums between 5 to 15  [ 5  6  7  8  9 10 11 12 13 14 15]\n",
      "every second element:  [ 0  2  4  6  8 10 12 14 16 18 20 22 24 26 28]\n",
      "[2 3 4 5]\n",
      " \n",
      "[[0. 0. 0.]\n",
      " [0. 0. 0.]\n",
      " [0. 0. 0.]]\n",
      "\n",
      "\n",
      "[[1. 0. 0.]\n",
      " [0. 1. 0.]\n",
      " [0. 0. 1.]]\n",
      " \n",
      "eye  [[1. 0. 0.]\n",
      " [0. 1. 0.]\n",
      " [0. 0. 1.]]\n"
     ]
    }
   ],
   "source": [
    "import numpy as np\n",
    "a = np.arange(1, 9)\n",
    "print(a)\n",
    "\n",
    "a=np.arange(30)\n",
    "k=np.arange(2,6)\n",
    "b=a[5:16]\n",
    "c=a[::2]\n",
    "print(\"original array\",a)\n",
    "print(\"nums between 5 to 15 \",b)\n",
    "print(\"every second element: \",c)\n",
    "print(k)\n",
    "print(end=\" \\n\")\n",
    "\n",
    "a=np.zeros((3,3))\n",
    "print(a)\n",
    "\n",
    "print(\"\\n\")\n",
    "a=np.identity(3)\n",
    "print(a)\n",
    "\n",
    "print(\" \")\n",
    "a1=np.eye(3)\n",
    "print(\"eye \",a1)\n"
   ]
  },
  {
   "cell_type": "code",
   "execution_count": 20,
   "id": "a8d956df",
   "metadata": {},
   "outputs": [
    {
     "name": "stdout",
     "output_type": "stream",
     "text": [
      "[ 1 11  9 61 13]\n",
      "\n",
      "\n",
      "[[23 96 38 89 55]\n",
      " [84 21 65 93 72]]\n",
      "\n",
      "\n",
      "[0.18561223 0.73924441 0.17995491 0.46372166 0.75799705]\n",
      "\n",
      "\n",
      "85\n"
     ]
    }
   ],
   "source": [
    "from numpy import random\n",
    "x=random.randint(100,size=(5))\n",
    "print(x)\n",
    "print(\"\\n\")\n",
    "y=random.randint(100,size=(2,5))\n",
    "print(y)\n",
    "\n",
    "print(\"\\n\")\n",
    "z=random.rand(5)\n",
    "print(z)\n",
    "\n",
    "print(\"\\n\")\n",
    "x=random.choice([3,24,57,85])\n",
    "print(x)"
   ]
  },
  {
   "cell_type": "code",
   "execution_count": 22,
   "id": "43a239d9",
   "metadata": {},
   "outputs": [
    {
     "name": "stdout",
     "output_type": "stream",
     "text": [
      "[[22  2 22  7  7]\n",
      " [ 2  2 22  4  4]\n",
      " [ 2  7  4  2 22]]\n"
     ]
    }
   ],
   "source": [
    "x=random.choice([2,7,4,22],size=(3,5))\n",
    "print(x)"
   ]
  },
  {
   "cell_type": "code",
   "execution_count": null,
   "id": "e081c955",
   "metadata": {},
   "outputs": [],
   "source": []
  }
 ],
 "metadata": {
  "kernelspec": {
   "display_name": "Python 3",
   "language": "python",
   "name": "python3"
  },
  "language_info": {
   "codemirror_mode": {
    "name": "ipython",
    "version": 3
   },
   "file_extension": ".py",
   "mimetype": "text/x-python",
   "name": "python",
   "nbconvert_exporter": "python",
   "pygments_lexer": "ipython3",
   "version": "3.12.1"
  }
 },
 "nbformat": 4,
 "nbformat_minor": 5
}
