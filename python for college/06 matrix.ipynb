{
 "cells": [
  {
   "cell_type": "code",
   "execution_count": 3,
   "id": "2cb94d49",
   "metadata": {},
   "outputs": [
    {
     "name": "stdout",
     "output_type": "stream",
     "text": [
      "Matrix 1:\n",
      "[[ 9  7  7]\n",
      " [ 4  3 10]\n",
      " [ 7  4  7]]\n",
      "Matrix 2:\n",
      "[[ 4  8 10]\n",
      " [ 4  1  6]\n",
      " [ 9  1  4]]\n",
      "Dot Product of matrix 1 and matrix 2:\n",
      "[[127  86 160]\n",
      " [118  45  98]\n",
      " [107  67 122]]\n",
      "Element [0,0] = dot([9 7 7], [4 4 9])\n",
      "Element [0,1] = dot([9 7 7], [8 1 1])\n",
      "Element [0,2] = dot([9 7 7], [10  6  4])\n",
      "Element [1,0] = dot([ 4  3 10], [4 4 9])\n",
      "Element [1,1] = dot([ 4  3 10], [8 1 1])\n",
      "Element [1,2] = dot([ 4  3 10], [10  6  4])\n",
      "Element [2,0] = dot([7 4 7], [4 4 9])\n",
      "Element [2,1] = dot([7 4 7], [8 1 1])\n",
      "Element [2,2] = dot([7 4 7], [10  6  4])\n"
     ]
    }
   ],
   "source": [
    "import numpy as np\n",
    "from numpy import random\n",
    "m1=random.randint(1,11,size=(3,3))\n",
    "m2=random.randint(1,11,size=(3,3))\n",
    "dot_product=np.dot(m1,m2)\n",
    "print(\"Matrix 1:\")\n",
    "print(m1)\n",
    "print(\"Matrix 2:\")\n",
    "print(m2)\n",
    "print(\"Dot Product of matrix 1 and matrix 2:\")\n",
    "print(dot_product)\n",
    "\n",
    "for i in range(3):\n",
    "    for j in range(3):\n",
    "        print(f\"Element [{i},{j}] = dot({m1[i,:]}, {m2[:,j]})\")\n"
   ]
  },
  {
   "cell_type": "code",
   "execution_count": 5,
   "id": "ee815b43",
   "metadata": {},
   "outputs": [
    {
     "name": "stdout",
     "output_type": "stream",
     "text": [
      "Original Array:  [ 0  1  2  3  4  5  6  7  8  9 10 11 12 13 14 15 16 17 18 19 20 21 22 23\n",
      " 24 25 26 27 28 29]\n",
      "Numbers between indices 5 to 15:  [15]\n",
      "Every second element from the array:  [ 0  2  4  6  8 10 12 14 16 18 20 22 24 26 28]\n"
     ]
    }
   ],
   "source": [
    "import numpy as np\n",
    "a=np.arange(30)\n",
    "b=a[15:16]\n",
    "c=a[::2]\n",
    "print(\"Original Array: \",a)\n",
    "print(\"Numbers between indices 5 to 15: \",b)\n",
    "print(\"Every second element from the array: \",c)\n"
   ]
  },
  {
   "cell_type": "code",
   "execution_count": 6,
   "id": "b9571dc9",
   "metadata": {},
   "outputs": [
    {
     "name": "stdout",
     "output_type": "stream",
     "text": [
      "[[1. 0. 0.]\n",
      " [0. 1. 0.]\n",
      " [0. 0. 1.]]\n"
     ]
    }
   ],
   "source": [
    "import numpy as np\n",
    "id=np.eye(3)\n",
    "print(id)"
   ]
  },
  {
   "cell_type": "code",
   "execution_count": 9,
   "id": "9425cb86",
   "metadata": {},
   "outputs": [
    {
     "name": "stdout",
     "output_type": "stream",
     "text": [
      "[1 2 3 4 5]\n",
      "[10]\n",
      "Addition:  [11 12 13 14 15]\n",
      "Substraction:  [-9 -8 -7 -6 -5]\n",
      "Multiplication:  [10 20 30 40 50]\n",
      "Division:  [0.1 0.2 0.3 0.4 0.5]\n"
     ]
    }
   ],
   "source": [
    "import numpy as np\n",
    "a=np.arange(1,6)\n",
    "print(a)\n",
    "b=np.arange(10,15,10)\n",
    "print(b)\n",
    "add=a+b\n",
    "sub=a-b\n",
    "mul=a*b\n",
    "div=a/b\n",
    "print(\"Addition: \",add)\n",
    "print(\"Substraction: \",sub)\n",
    "print(\"Multiplication: \",mul)\n",
    "print(\"Division: \",div)"
   ]
  },
  {
   "cell_type": "code",
   "execution_count": 11,
   "id": "e56838bd",
   "metadata": {},
   "outputs": [
    {
     "name": "stdout",
     "output_type": "stream",
     "text": [
      "Standard Deviation:  4.831867007225076\n"
     ]
    }
   ],
   "source": [
    "import math\n",
    "\n",
    "def standard_deviation(data):\n",
    "    if len(data)==0:\n",
    "        return 0\n",
    "    mean=sum(data)/len(data)\n",
    "    variance=sum((x-mean)** 2 for x in data)/len(data)\n",
    "    return math.sqrt(variance)\n",
    "\n",
    "num=[10,12,23,16,23,21,16]\n",
    "print(\"Standard Deviation: \",standard_deviation(num))\n"
   ]
  },
  {
   "cell_type": "code",
   "execution_count": 12,
   "id": "93346d45",
   "metadata": {},
   "outputs": [
    {
     "name": "stdout",
     "output_type": "stream",
     "text": [
      "Original Matrix:\n",
      "[[4 6 5]\n",
      " [1 1 1]]\n",
      "Transposed of the Matrix:\n",
      "[[4 1]\n",
      " [6 1]\n",
      " [5 1]]\n",
      "Transposed using .T attribute:\n",
      "[[4 1]\n",
      " [6 1]\n",
      " [5 1]]\n"
     ]
    }
   ],
   "source": [
    "import numpy as np\n",
    "from numpy import random\n",
    "mat=random.randint(1,11,size=(2,3))\n",
    "tp1=np.transpose(mat)\n",
    "tp2=mat.T\n",
    "print(\"Original Matrix:\")\n",
    "print(mat)\n",
    "print(\"Transposed of the Matrix:\")\n",
    "print(tp1)\n",
    "print(\"Transposed using .T attribute:\")\n",
    "print(tp2)\n"
   ]
  },
  {
   "cell_type": "code",
   "execution_count": 13,
   "id": "3470b339",
   "metadata": {},
   "outputs": [
    {
     "name": "stdout",
     "output_type": "stream",
     "text": [
      "4*4 matrix with random integers:\n",
      "[[15  8 19  3]\n",
      " [10 13 10 13]\n",
      " [14  8 10  7]\n",
      " [16  1  6 10]]\n",
      "Sum of all elements:  163\n",
      "Mean of all elements:  10.1875\n",
      "Maximum element:  19\n",
      "Column-wise sum: [55 30 45 33]\n",
      "Row-wise sums: [45 46 39 33]\n"
     ]
    }
   ],
   "source": [
    "import numpy as np\n",
    "from numpy import random\n",
    "a=random.randint(1,20,size=(4,4))\n",
    "sum_matrix=np.sum(a)\n",
    "mean_matrix=np.mean(a)\n",
    "min_matrix=np.min(a)\n",
    "max_matrix=np.max(a)\n",
    "row_sum=np.sum(a,axis=1)\n",
    "col_sum=np.sum(a,axis=0)\n",
    "print(\"4*4 matrix with random integers:\")\n",
    "print(a)\n",
    "print(\"Sum of all elements: \",sum_matrix)\n",
    "print(\"Mean of all elements: \",mean_matrix)\n",
    "print(\"Maximum element: \",max_matrix)\n",
    "print(\"Column-wise sum:\",col_sum)\n",
    "print(\"Row-wise sums:\",row_sum)\n"
   ]
  },
  {
   "cell_type": "code",
   "execution_count": 3,
   "id": "e290aa9b",
   "metadata": {},
   "outputs": [
    {
     "name": "stdout",
     "output_type": "stream",
     "text": [
      "9\n"
     ]
    }
   ],
   "source": [
    "from numpy import random\n",
    "x=random.choice([3,5,7,9])\n",
    "print(x)"
   ]
  },
  {
   "cell_type": "code",
   "execution_count": 4,
   "id": "5c75a6d9",
   "metadata": {},
   "outputs": [
    {
     "name": "stdout",
     "output_type": "stream",
     "text": [
      "[[3 3 3 3 5]\n",
      " [5 3 5 7 9]\n",
      " [3 5 3 9 9]]\n"
     ]
    }
   ],
   "source": [
    "y=random.choice([3,5,7,9],size=(3,5))\n",
    "print(y)"
   ]
  },
  {
   "cell_type": "code",
   "execution_count": null,
   "id": "e3288ab7",
   "metadata": {},
   "outputs": [
    {
     "name": "stdout",
     "output_type": "stream",
     "text": [
      "[[0.00803913 0.68645805 0.62829722]\n",
      " [0.14938596 0.1568295  0.07447487]\n",
      " [0.69559283 0.34850446 0.16701405]]\n"
     ]
    }
   ],
   "source": [
    "a=random.rand(3,3)\n",
    "print(a)\n"
   ]
  },
  {
   "cell_type": "code",
   "execution_count": 15,
   "id": "250ee083",
   "metadata": {},
   "outputs": [
    {
     "name": "stdout",
     "output_type": "stream",
     "text": [
      "Mean: 50.0\n",
      "median: 50.0\n",
      "standard deviation: 28.577380332470412\n",
      "variance: 816.6666666666666\n",
      "Standard deviation: [ 1  2  3  4  5  6  7  8  9 10 11 12 13 14 15 16 17 18 19 20 21 22 23 24\n",
      " 25 26 27 28 29 30 31 32 33 34 35 36 37 38 39 40 41 42 43 44 45 46 47 48\n",
      " 49 50 51 52 53 54 55 56 57 58 59 60 61 62 63 64 65 66 67 68 69 70 71 72\n",
      " 73 74 75 76 77 78 79 80 81 82 83 84 85 86 87 88 89 90 91 92 93 94 95 96\n",
      " 97 98 99]\n"
     ]
    }
   ],
   "source": [
    "import numpy as np\n",
    "from numpy import random\n",
    "r=np.arange(1,100)\n",
    "m1=np.mean(r)\n",
    "m2=np.median(r)\n",
    "m3=np.std(r)\n",
    "m4=np.var(r)\n",
    "print(\"Mean:\",m1)\n",
    "print(\"median:\",m2)\n",
    "print(\"standard deviation:\",m3)\n",
    "print(\"variance:\",m4)\n",
    "print(\"Standard deviation:\",r)\n"
   ]
  },
  {
   "cell_type": "markdown",
   "id": "6a60de84",
   "metadata": {},
   "source": []
  },
  {
   "cell_type": "code",
   "execution_count": null,
   "id": "2f1b5976",
   "metadata": {},
   "outputs": [
    {
     "name": "stdout",
     "output_type": "stream",
     "text": [
      "[25.        +0.j          1.11803399+1.08981379j -1.11803399+4.61652531j\n",
      " -1.11803399-4.61652531j  1.11803399-1.08981379j]\n"
     ]
    }
   ],
   "source": [
    "import numpy as np\n",
    "a=np.array([5,4,6,3,7]) #a is a 1D array representating a signal in the time domain\n",
    "gfg=np.fft.fft(a) #fast fourier transform \n",
    "print(gfg)"
   ]
  },
  {
   "cell_type": "code",
   "execution_count": 3,
   "id": "ea2e9d2a",
   "metadata": {},
   "outputs": [
    {
     "name": "stdout",
     "output_type": "stream",
     "text": [
      "[ 1.22464680e-16+0.00000000e+00j -3.44509285e-16-4.00000000e+00j\n",
      "  1.22464680e-16-2.22044605e-16j  9.95799250e-17+0.00000000e+00j\n",
      "  1.22464680e-16+0.00000000e+00j  9.95799250e-17+0.00000000e+00j\n",
      "  1.22464680e-16+2.22044605e-16j -3.44509285e-16+4.00000000e+00j]\n"
     ]
    }
   ],
   "source": [
    "import numpy as np\n",
    "n=8\n",
    "t=np.arange(n)\n",
    "f=np.sin(2*np.pi*t/n)\n",
    "ft=np.fft.fft(f)\n",
    "print(ft)"
   ]
  },
  {
   "cell_type": "code",
   "execution_count": null,
   "id": "51f9db41",
   "metadata": {},
   "outputs": [
    {
     "name": "stdout",
     "output_type": "stream",
     "text": [
      "(array([3, 5, 6], dtype=int64),)\n",
      "(array([1, 3, 5, 6], dtype=int64),)\n",
      "(array([0, 2, 4], dtype=int64),)\n",
      "[1 2 3 4 4 4 5]\n"
     ]
    }
   ],
   "source": [
    "import numpy as np\n",
    "arr=np.array([1,2,3,4,5,4,4])\n",
    "x=np.where(arr==4)\n",
    "print(x)\n",
    "\n",
    "y=np.where(arr%2==0)\n",
    "print(y)\n",
    "z=np.where(arr%2==1)\n",
    "print(z)\n",
    "print(np.sort(arr))\n",
    "\n",
    "arr="
   ]
  },
  {
   "cell_type": "code",
   "execution_count": null,
   "id": "13c5bf73",
   "metadata": {},
   "outputs": [],
   "source": []
  },
  {
   "cell_type": "code",
   "execution_count": null,
   "id": "be63fe29",
   "metadata": {},
   "outputs": [],
   "source": []
  }
 ],
 "metadata": {
  "kernelspec": {
   "display_name": "Python 3",
   "language": "python",
   "name": "python3"
  },
  "language_info": {
   "codemirror_mode": {
    "name": "ipython",
    "version": 3
   },
   "file_extension": ".py",
   "mimetype": "text/x-python",
   "name": "python",
   "nbconvert_exporter": "python",
   "pygments_lexer": "ipython3",
   "version": "3.12.1"
  }
 },
 "nbformat": 4,
 "nbformat_minor": 5
}
