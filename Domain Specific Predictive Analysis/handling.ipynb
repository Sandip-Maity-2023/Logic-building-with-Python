{
 "cells": [
  {
   "cell_type": "code",
   "execution_count": 39,
   "id": "c9a440a2",
   "metadata": {},
   "outputs": [
    {
     "name": "stdout",
     "output_type": "stream",
     "text": [
      "  first_name last_name blood_type marriage_status  income     device\n",
      "0      Abdul     Colon         A+         married  145000  AndroidOS\n",
      "1      Abdul    Pierce         B+         married   85000      MacOS\n",
      "2    Desirae    Pierce         B+         MARRIED  130000        iOS\n",
      "3    Shannon    Gibson         A+         married  175000      MacOS\n",
      "4    Desirae    Little         B+      unmarried   130000      MacOS\n"
     ]
    }
   ],
   "source": [
    "import numpy as np\n",
    "import pandas as pd\n",
    "import matplotlib.pyplot as plt\n",
    "import seaborn as sns\n",
    "from sklearn.preprocessing import LabelEncoder\n",
    "\n",
    "\n",
    "data=pd.read_csv('demo.csv')\n",
    "print(data.head())"
   ]
  },
  {
   "cell_type": "code",
   "execution_count": 40,
   "id": "8059f9cb",
   "metadata": {},
   "outputs": [
    {
     "name": "stdout",
     "output_type": "stream",
     "text": [
      "  blood_type\n",
      "0         A+\n",
      "1         A-\n",
      "2         B+\n",
      "3         B-\n",
      "4        AB+\n",
      "5        AB-\n",
      "6         O+\n",
      "7         O-\n"
     ]
    }
   ],
   "source": [
    "valid_bloodtype=['A+','A-','B+','B-','AB+','AB-','O+','O-']\n",
    "cat=pd.DataFrame({'blood_type':valid_bloodtype})\n",
    "print(cat)"
   ]
  },
  {
   "cell_type": "code",
   "execution_count": 41,
   "id": "ffff3678",
   "metadata": {},
   "outputs": [
    {
     "data": {
      "text/plain": [
       "{'C+', 'D-'}"
      ]
     },
     "execution_count": 41,
     "metadata": {},
     "output_type": "execute_result"
    }
   ],
   "source": [
    "unique=set(data['blood_type']) #used set of unique blood types found in the blood type column\n",
    "valid_set=set(cat['blood_type']) #creates a set of all valid valid_bloodtype\n",
    "bogus_types=unique.difference(valid_bloodtype) #calculate set difference unique and valid set\n",
    "bogus_types"
   ]
  },
  {
   "cell_type": "code",
   "execution_count": 42,
   "id": "9d2e98bc",
   "metadata": {},
   "outputs": [
    {
     "data": {
      "text/plain": [
       "<bound method Series.unique of 0        A+\n",
       "1        B+\n",
       "2        B+\n",
       "3        A+\n",
       "4        B+\n",
       "       ... \n",
       "9995     O+\n",
       "9996    AB+\n",
       "9997     B+\n",
       "9998     B+\n",
       "9999     O+\n",
       "Name: blood_type, Length: 9910, dtype: object>"
      ]
     },
     "execution_count": 42,
     "metadata": {},
     "output_type": "execute_result"
    }
   ],
   "source": [
    "bogus_index=data['blood_type'].isin(bogus_types) #returns a boolean series indicating which rows have bogus blood types\n",
    "\n",
    "without=data[~bogus_index].copy() #-  inverts the Boolean Series to select rows not in bogus_types creating a copy\n",
    "\n",
    "without['blood_type'].unique #distinct valid blood types"
   ]
  },
  {
   "cell_type": "code",
   "execution_count": 43,
   "id": "8486c403",
   "metadata": {},
   "outputs": [
    {
     "data": {
      "text/plain": [
       "array(['married', 'MARRIED', ' married', 'unmarried ', 'divorced',\n",
       "       'unmarried', 'UNMARRIED', 'separated'], dtype=object)"
      ]
     },
     "execution_count": 43,
     "metadata": {},
     "output_type": "execute_result"
    }
   ],
   "source": [
    "data['marriage_status'].unique()"
   ]
  },
  {
   "cell_type": "code",
   "execution_count": 44,
   "id": "cd7337d8",
   "metadata": {},
   "outputs": [
    {
     "data": {
      "text/plain": [
       "array(['married', ' married', 'unmarried ', 'divorced', 'unmarried',\n",
       "       'separated'], dtype=object)"
      ]
     },
     "execution_count": 44,
     "metadata": {},
     "output_type": "execute_result"
    }
   ],
   "source": [
    "inconsistent=data.copy()\n",
    "inconsistent['marriage_status']=inconsistent['marriage_status'].str.lower()\n",
    "inconsistent['marriage_status'].unique()"
   ]
  },
  {
   "cell_type": "code",
   "execution_count": 45,
   "id": "ddb4ac26",
   "metadata": {},
   "outputs": [
    {
     "data": {
      "text/plain": [
       "array(['married', 'unmarried', 'divorced', 'separated'], dtype=object)"
      ]
     },
     "execution_count": 45,
     "metadata": {},
     "output_type": "execute_result"
    }
   ],
   "source": [
    "inconsistent['marriage_status']=inconsistent['marriage_status'].str.strip()\n",
    "inconsistent['marriage_status'].unique()"
   ]
  },
  {
   "cell_type": "code",
   "execution_count": 46,
   "id": "46847b38",
   "metadata": {},
   "outputs": [
    {
     "name": "stdout",
     "output_type": "stream",
     "text": [
      "Max income-190000,Min income-40000\n"
     ]
    }
   ],
   "source": [
    "print(f\"Max income-{data['income'].max()},Min income-{data['income'].min()}\")"
   ]
  },
  {
   "cell_type": "code",
   "execution_count": 47,
   "id": "f390dd6c",
   "metadata": {},
   "outputs": [
    {
     "data": {
      "text/html": [
       "<div>\n",
       "<style scoped>\n",
       "    .dataframe tbody tr th:only-of-type {\n",
       "        vertical-align: middle;\n",
       "    }\n",
       "\n",
       "    .dataframe tbody tr th {\n",
       "        vertical-align: top;\n",
       "    }\n",
       "\n",
       "    .dataframe thead th {\n",
       "        text-align: right;\n",
       "    }\n",
       "</style>\n",
       "<table border=\"1\" class=\"dataframe\">\n",
       "  <thead>\n",
       "    <tr style=\"text-align: right;\">\n",
       "      <th></th>\n",
       "      <th>first_name</th>\n",
       "      <th>last_name</th>\n",
       "      <th>blood_type</th>\n",
       "      <th>marriage_status</th>\n",
       "      <th>income</th>\n",
       "      <th>device</th>\n",
       "      <th>income_groups</th>\n",
       "    </tr>\n",
       "  </thead>\n",
       "  <tbody>\n",
       "    <tr>\n",
       "      <th>0</th>\n",
       "      <td>Abdul</td>\n",
       "      <td>Colon</td>\n",
       "      <td>A+</td>\n",
       "      <td>married</td>\n",
       "      <td>145000</td>\n",
       "      <td>AndroidOS</td>\n",
       "      <td>125k-150k</td>\n",
       "    </tr>\n",
       "    <tr>\n",
       "      <th>1</th>\n",
       "      <td>Abdul</td>\n",
       "      <td>Pierce</td>\n",
       "      <td>B+</td>\n",
       "      <td>married</td>\n",
       "      <td>85000</td>\n",
       "      <td>MacOS</td>\n",
       "      <td>75k-100k</td>\n",
       "    </tr>\n",
       "    <tr>\n",
       "      <th>2</th>\n",
       "      <td>Desirae</td>\n",
       "      <td>Pierce</td>\n",
       "      <td>B+</td>\n",
       "      <td>MARRIED</td>\n",
       "      <td>130000</td>\n",
       "      <td>iOS</td>\n",
       "      <td>125k-150k</td>\n",
       "    </tr>\n",
       "    <tr>\n",
       "      <th>3</th>\n",
       "      <td>Shannon</td>\n",
       "      <td>Gibson</td>\n",
       "      <td>A+</td>\n",
       "      <td>married</td>\n",
       "      <td>175000</td>\n",
       "      <td>MacOS</td>\n",
       "      <td>150k+</td>\n",
       "    </tr>\n",
       "    <tr>\n",
       "      <th>4</th>\n",
       "      <td>Desirae</td>\n",
       "      <td>Little</td>\n",
       "      <td>B+</td>\n",
       "      <td>unmarried</td>\n",
       "      <td>130000</td>\n",
       "      <td>MacOS</td>\n",
       "      <td>125k-150k</td>\n",
       "    </tr>\n",
       "  </tbody>\n",
       "</table>\n",
       "</div>"
      ],
      "text/plain": [
       "  first_name last_name blood_type marriage_status  income     device  \\\n",
       "0      Abdul     Colon         A+         married  145000  AndroidOS   \n",
       "1      Abdul    Pierce         B+         married   85000      MacOS   \n",
       "2    Desirae    Pierce         B+         MARRIED  130000        iOS   \n",
       "3    Shannon    Gibson         A+         married  175000      MacOS   \n",
       "4    Desirae    Little         B+      unmarried   130000      MacOS   \n",
       "\n",
       "  income_groups  \n",
       "0     125k-150k  \n",
       "1      75k-100k  \n",
       "2     125k-150k  \n",
       "3         150k+  \n",
       "4     125k-150k  "
      ]
     },
     "execution_count": 47,
     "metadata": {},
     "output_type": "execute_result"
    }
   ],
   "source": [
    "bin=[40000,75000,100000,125000,150000,np.inf]\n",
    "label=['40k-75k','75k-100k','100k-125k','125k-150k','150k+']\n",
    "\n",
    "remapping=data.copy()\n",
    "remapping['income_groups']=pd.cut(remapping['income'],bins=bin,labels=label)\n",
    "remapping.head()\n"
   ]
  },
  {
   "cell_type": "code",
   "execution_count": 48,
   "id": "20aac762",
   "metadata": {},
   "outputs": [
    {
     "data": {
      "image/png": "[encoded data removed]",
      "text/plain": [
       "<Figure size 640x480 with 1 Axes>"
      ]
     },
     "metadata": {},
     "output_type": "display_data"
    }
   ],
   "source": [
    "remapping['income_groups'].value_counts().sort_index().plot.bar()\n",
    "plt.title('Income Group Distribution')\n",
    "plt.xlabel('Income Groups')\n",
    "plt.ylabel('Count')\n",
    "plt.legend()\n",
    "plt.show()"
   ]
  },
  {
   "cell_type": "code",
   "execution_count": 49,
   "id": "ad00c763",
   "metadata": {},
   "outputs": [
    {
     "data": {
      "text/html": [
       "<div>\n",
       "<style scoped>\n",
       "    .dataframe tbody tr th:only-of-type {\n",
       "        vertical-align: middle;\n",
       "    }\n",
       "\n",
       "    .dataframe tbody tr th {\n",
       "        vertical-align: top;\n",
       "    }\n",
       "\n",
       "    .dataframe thead th {\n",
       "        text-align: right;\n",
       "    }\n",
       "</style>\n",
       "<table border=\"1\" class=\"dataframe\">\n",
       "  <thead>\n",
       "    <tr style=\"text-align: right;\">\n",
       "      <th></th>\n",
       "      <th>phone_numbers</th>\n",
       "    </tr>\n",
       "  </thead>\n",
       "  <tbody>\n",
       "    <tr>\n",
       "      <th>0</th>\n",
       "      <td>+91 7011102272</td>\n",
       "    </tr>\n",
       "    <tr>\n",
       "      <th>1</th>\n",
       "      <td>3855492378</td>\n",
       "    </tr>\n",
       "    <tr>\n",
       "      <th>2</th>\n",
       "      <td>+91 9609431212</td>\n",
       "    </tr>\n",
       "    <tr>\n",
       "      <th>3</th>\n",
       "      <td>1071398280</td>\n",
       "    </tr>\n",
       "    <tr>\n",
       "      <th>4</th>\n",
       "      <td>+91 4443530991</td>\n",
       "    </tr>\n",
       "  </tbody>\n",
       "</table>\n",
       "</div>"
      ],
      "text/plain": [
       "    phone_numbers\n",
       "0  +91 7011102272\n",
       "1      3855492378\n",
       "2  +91 9609431212\n",
       "3      1071398280\n",
       "4  +91 4443530991"
      ]
     },
     "execution_count": 49,
     "metadata": {},
     "output_type": "execute_result"
    }
   ],
   "source": [
    "import random\n",
    "phone=[]\n",
    "\n",
    "for i in range(100):\n",
    "    num=random.randint(100000000,9999999999)\n",
    "    if i%2==0:\n",
    "        phone.append('+91 '+str(num))\n",
    "    else:\n",
    "        phone.append(str(num))\n",
    "numbers=pd.DataFrame({'phone_numbers':phone})\n",
    "numbers.head()"
   ]
  },
  {
   "cell_type": "code",
   "execution_count": 50,
   "id": "86ce5e57",
   "metadata": {},
   "outputs": [
    {
     "data": {
      "text/html": [
       "<div>\n",
       "<style scoped>\n",
       "    .dataframe tbody tr th:only-of-type {\n",
       "        vertical-align: middle;\n",
       "    }\n",
       "\n",
       "    .dataframe tbody tr th {\n",
       "        vertical-align: top;\n",
       "    }\n",
       "\n",
       "    .dataframe thead th {\n",
       "        text-align: right;\n",
       "    }\n",
       "</style>\n",
       "<table border=\"1\" class=\"dataframe\">\n",
       "  <thead>\n",
       "    <tr style=\"text-align: right;\">\n",
       "      <th></th>\n",
       "      <th>phone_numbers</th>\n",
       "    </tr>\n",
       "  </thead>\n",
       "  <tbody>\n",
       "    <tr>\n",
       "      <th>0</th>\n",
       "      <td>7011102272</td>\n",
       "    </tr>\n",
       "    <tr>\n",
       "      <th>1</th>\n",
       "      <td>3855492378</td>\n",
       "    </tr>\n",
       "    <tr>\n",
       "      <th>2</th>\n",
       "      <td>9609431212</td>\n",
       "    </tr>\n",
       "    <tr>\n",
       "      <th>3</th>\n",
       "      <td>1071398280</td>\n",
       "    </tr>\n",
       "    <tr>\n",
       "      <th>4</th>\n",
       "      <td>4443530991</td>\n",
       "    </tr>\n",
       "  </tbody>\n",
       "</table>\n",
       "</div>"
      ],
      "text/plain": [
       "  phone_numbers\n",
       "0    7011102272\n",
       "1    3855492378\n",
       "2    9609431212\n",
       "3    1071398280\n",
       "4    4443530991"
      ]
     },
     "execution_count": 50,
     "metadata": {},
     "output_type": "execute_result"
    }
   ],
   "source": [
    "numbers['phone_numbers']=numbers['phone_numbers'].str.replace(r'\\+91','',regex=True)\n",
    "num_digits=numbers['phone_numbers'].str.len()\n",
    "\n",
    "invalid_index=numbers[num_digits<10].index\n",
    "numbers.drop(invalid_index,inplace=True)\n",
    "\n",
    "numbers.dropna(inplace=True)\n",
    "numbers.reset_index(drop=True,inplace=True)\n",
    "\n",
    "numbers.head()\n"
   ]
  },
  {
   "cell_type": "code",
   "execution_count": 52,
   "id": "183ee3d3",
   "metadata": {},
   "outputs": [
    {
     "ename": "AssertionError",
     "evalue": "some phone numbers do not have 10 digits",
     "output_type": "error",
     "traceback": [
      "\u001b[1;31m---------------------------------------------------------------------------\u001b[0m",
      "\u001b[1;31mAssertionError\u001b[0m                            Traceback (most recent call last)",
      "Cell \u001b[1;32mIn[52], line 2\u001b[0m\n\u001b[0;32m      1\u001b[0m \u001b[38;5;28;01massert\u001b[39;00m \u001b[38;5;129;01mnot\u001b[39;00m numbers[\u001b[38;5;124m'\u001b[39m\u001b[38;5;124mphone_numbers\u001b[39m\u001b[38;5;124m'\u001b[39m]\u001b[38;5;241m.\u001b[39mstr\u001b[38;5;241m.\u001b[39mcontains(\u001b[38;5;124mr\u001b[39m\u001b[38;5;124m'\u001b[39m\u001b[38;5;124m\\\u001b[39m\u001b[38;5;124m+91\u001b[39m\u001b[38;5;124m'\u001b[39m)\u001b[38;5;241m.\u001b[39many(),\u001b[38;5;124m\"\u001b[39m\u001b[38;5;124mFound phone numbers with +91 prefix\u001b[39m\u001b[38;5;124m\"\u001b[39m\n\u001b[1;32m----> 2\u001b[0m \u001b[38;5;28;01massert\u001b[39;00m (numbers[\u001b[38;5;124m'\u001b[39m\u001b[38;5;124mphone_numbers\u001b[39m\u001b[38;5;124m'\u001b[39m]\u001b[38;5;241m.\u001b[39mstr\u001b[38;5;241m.\u001b[39mlen()\u001b[38;5;241m==\u001b[39m\u001b[38;5;241m10\u001b[39m)\u001b[38;5;241m.\u001b[39mall(),\u001b[38;5;124m\"\u001b[39m\u001b[38;5;124msome phone numbers do not have 10 digits\u001b[39m\u001b[38;5;124m\"\u001b[39m\n",
      "\u001b[1;31mAssertionError\u001b[0m: some phone numbers do not have 10 digits"
     ]
    }
   ],
   "source": [
    "assert not numbers['phone_numbers'].str.contains(r'\\+91').any(),\"Found phone numbers with +91 prefix\"\n",
    "assert (numbers['phone_numbers'].str.len()==10).all(),\"some phone numbers do not have 10 digits\"\n"
   ]
  },
  {
   "cell_type": "code",
   "execution_count": 54,
   "id": "c0978154",
   "metadata": {},
   "outputs": [
    {
     "data": {
      "image/png": "[encoded data removed]",
      "text/plain": [
       "<Figure size 640x480 with 1 Axes>"
      ]
     },
     "metadata": {},
     "output_type": "display_data"
    }
   ],
   "source": [
    "import seaborn as sns\n",
    "sns.countplot(x='blood_type',data=without)\n",
    "plt.title('Count of Blood Types')\n",
    "plt.xlabel('Blood Type')\n",
    "plt.ylabel('Count')\n",
    "plt.tight_layout() #used  Without it, labels might get clipped or overlap. With it, everything fits nicely Let me know if you want to see how it compares visually with and without!\n",
    "\n",
    "plt.show()"
   ]
  },
  {
   "cell_type": "code",
   "execution_count": 55,
   "id": "6f4cd3f2",
   "metadata": {},
   "outputs": [
    {
     "data": {
      "image/png": "[encoded data removed]",
      "text/plain": [
       "<Figure size 640x480 with 1 Axes>"
      ]
     },
     "metadata": {},
     "output_type": "display_data"
    }
   ],
   "source": [
    "sns.boxplot(x='marriage_status', y='income', data=inconsistent)\n",
    "\n",
    "plt.title('Income Distribution by Marriage Status')\n",
    "plt.xlabel('Marriage Status')\n",
    "plt.ylabel('Income') \n",
    "plt.tight_layout()\n",
    "plt.show()"
   ]
  },
  {
   "cell_type": "code",
   "execution_count": null,
   "id": "223746cf",
   "metadata": {},
   "outputs": [
    {
     "data": {
      "text/html": [
       "<div>\n",
       "<style scoped>\n",
       "    .dataframe tbody tr th:only-of-type {\n",
       "        vertical-align: middle;\n",
       "    }\n",
       "\n",
       "    .dataframe tbody tr th {\n",
       "        vertical-align: top;\n",
       "    }\n",
       "\n",
       "    .dataframe thead th {\n",
       "        text-align: right;\n",
       "    }\n",
       "</style>\n",
       "<table border=\"1\" class=\"dataframe\">\n",
       "  <thead>\n",
       "    <tr style=\"text-align: right;\">\n",
       "      <th></th>\n",
       "      <th>blood_type</th>\n",
       "      <th>blood_type_encoded</th>\n",
       "    </tr>\n",
       "  </thead>\n",
       "  <tbody>\n",
       "    <tr>\n",
       "      <th>0</th>\n",
       "      <td>A+</td>\n",
       "      <td>0</td>\n",
       "    </tr>\n",
       "    <tr>\n",
       "      <th>1</th>\n",
       "      <td>B+</td>\n",
       "      <td>4</td>\n",
       "    </tr>\n",
       "    <tr>\n",
       "      <th>5</th>\n",
       "      <td>A-</td>\n",
       "      <td>1</td>\n",
       "    </tr>\n",
       "    <tr>\n",
       "      <th>7</th>\n",
       "      <td>AB-</td>\n",
       "      <td>3</td>\n",
       "    </tr>\n",
       "    <tr>\n",
       "      <th>9</th>\n",
       "      <td>AB+</td>\n",
       "      <td>2</td>\n",
       "    </tr>\n",
       "    <tr>\n",
       "      <th>10</th>\n",
       "      <td>B-</td>\n",
       "      <td>5</td>\n",
       "    </tr>\n",
       "    <tr>\n",
       "      <th>12</th>\n",
       "      <td>O-</td>\n",
       "      <td>7</td>\n",
       "    </tr>\n",
       "    <tr>\n",
       "      <th>21</th>\n",
       "      <td>O+</td>\n",
       "      <td>6</td>\n",
       "    </tr>\n",
       "  </tbody>\n",
       "</table>\n",
       "</div>"
      ],
      "text/plain": [
       "   blood_type  blood_type_encoded\n",
       "0          A+                   0\n",
       "1          B+                   4\n",
       "5          A-                   1\n",
       "7         AB-                   3\n",
       "9         AB+                   2\n",
       "10         B-                   5\n",
       "12         O-                   7\n",
       "21         O+                   6"
      ]
     },
     "execution_count": 56,
     "metadata": {},
     "output_type": "execute_result"
    }
   ],
   "source": [
    "l=LabelEncoder()\n",
    "without['blood_type_encoded']=l.fit_transform(without['blood_type']) #mean - LabelEncoder() → creates an encoder object l that can convert categories (like 'A+', 'O-', etc.) into integers.\n",
    "without[['blood_type','blood_type_encoded']].drop_duplicates()\n",
    "\n"
   ]
  },
  {
   "cell_type": "code",
   "execution_count": 59,
   "id": "a01b809b",
   "metadata": {},
   "outputs": [
    {
     "data": {
      "text/html": [
       "<div>\n",
       "<style scoped>\n",
       "    .dataframe tbody tr th:only-of-type {\n",
       "        vertical-align: middle;\n",
       "    }\n",
       "\n",
       "    .dataframe tbody tr th {\n",
       "        vertical-align: top;\n",
       "    }\n",
       "\n",
       "    .dataframe thead th {\n",
       "        text-align: right;\n",
       "    }\n",
       "</style>\n",
       "<table border=\"1\" class=\"dataframe\">\n",
       "  <thead>\n",
       "    <tr style=\"text-align: right;\">\n",
       "      <th></th>\n",
       "      <th>first_name</th>\n",
       "      <th>last_name</th>\n",
       "      <th>blood_type</th>\n",
       "      <th>income</th>\n",
       "      <th>device</th>\n",
       "      <th>marriage_status_divorced</th>\n",
       "      <th>marriage_status_married</th>\n",
       "      <th>marriage_status_separated</th>\n",
       "      <th>marriage_status_unmarried</th>\n",
       "    </tr>\n",
       "  </thead>\n",
       "  <tbody>\n",
       "    <tr>\n",
       "      <th>0</th>\n",
       "      <td>Abdul</td>\n",
       "      <td>Colon</td>\n",
       "      <td>A+</td>\n",
       "      <td>145000</td>\n",
       "      <td>AndroidOS</td>\n",
       "      <td>False</td>\n",
       "      <td>True</td>\n",
       "      <td>False</td>\n",
       "      <td>False</td>\n",
       "    </tr>\n",
       "    <tr>\n",
       "      <th>1</th>\n",
       "      <td>Abdul</td>\n",
       "      <td>Pierce</td>\n",
       "      <td>B+</td>\n",
       "      <td>85000</td>\n",
       "      <td>MacOS</td>\n",
       "      <td>False</td>\n",
       "      <td>True</td>\n",
       "      <td>False</td>\n",
       "      <td>False</td>\n",
       "    </tr>\n",
       "    <tr>\n",
       "      <th>2</th>\n",
       "      <td>Desirae</td>\n",
       "      <td>Pierce</td>\n",
       "      <td>B+</td>\n",
       "      <td>130000</td>\n",
       "      <td>iOS</td>\n",
       "      <td>False</td>\n",
       "      <td>True</td>\n",
       "      <td>False</td>\n",
       "      <td>False</td>\n",
       "    </tr>\n",
       "    <tr>\n",
       "      <th>3</th>\n",
       "      <td>Shannon</td>\n",
       "      <td>Gibson</td>\n",
       "      <td>A+</td>\n",
       "      <td>175000</td>\n",
       "      <td>MacOS</td>\n",
       "      <td>False</td>\n",
       "      <td>True</td>\n",
       "      <td>False</td>\n",
       "      <td>False</td>\n",
       "    </tr>\n",
       "    <tr>\n",
       "      <th>4</th>\n",
       "      <td>Desirae</td>\n",
       "      <td>Little</td>\n",
       "      <td>B+</td>\n",
       "      <td>130000</td>\n",
       "      <td>MacOS</td>\n",
       "      <td>False</td>\n",
       "      <td>False</td>\n",
       "      <td>False</td>\n",
       "      <td>True</td>\n",
       "    </tr>\n",
       "  </tbody>\n",
       "</table>\n",
       "</div>"
      ],
      "text/plain": [
       "  first_name last_name blood_type  income     device  \\\n",
       "0      Abdul     Colon         A+  145000  AndroidOS   \n",
       "1      Abdul    Pierce         B+   85000      MacOS   \n",
       "2    Desirae    Pierce         B+  130000        iOS   \n",
       "3    Shannon    Gibson         A+  175000      MacOS   \n",
       "4    Desirae    Little         B+  130000      MacOS   \n",
       "\n",
       "   marriage_status_divorced  marriage_status_married  \\\n",
       "0                     False                     True   \n",
       "1                     False                     True   \n",
       "2                     False                     True   \n",
       "3                     False                     True   \n",
       "4                     False                    False   \n",
       "\n",
       "   marriage_status_separated  marriage_status_unmarried  \n",
       "0                      False                      False  \n",
       "1                      False                      False  \n",
       "2                      False                      False  \n",
       "3                      False                      False  \n",
       "4                      False                       True  "
      ]
     },
     "execution_count": 59,
     "metadata": {},
     "output_type": "execute_result"
    }
   ],
   "source": [
    "inconsistent=pd.get_dummies(inconsistent,columns=['marriage_status'])\n",
    "inconsistent.head()"
   ]
  },
  {
   "cell_type": "code",
   "execution_count": 60,
   "id": "66203c25",
   "metadata": {},
   "outputs": [
    {
     "data": {
      "text/html": [
       "<div>\n",
       "<style scoped>\n",
       "    .dataframe tbody tr th:only-of-type {\n",
       "        vertical-align: middle;\n",
       "    }\n",
       "\n",
       "    .dataframe tbody tr th {\n",
       "        vertical-align: top;\n",
       "    }\n",
       "\n",
       "    .dataframe thead th {\n",
       "        text-align: right;\n",
       "    }\n",
       "</style>\n",
       "<table border=\"1\" class=\"dataframe\">\n",
       "  <thead>\n",
       "    <tr style=\"text-align: right;\">\n",
       "      <th></th>\n",
       "      <th>income</th>\n",
       "      <th>income_groups</th>\n",
       "      <th>income_groups_encoded</th>\n",
       "    </tr>\n",
       "  </thead>\n",
       "  <tbody>\n",
       "    <tr>\n",
       "      <th>0</th>\n",
       "      <td>145000</td>\n",
       "      <td>125k-150k</td>\n",
       "      <td>4.0</td>\n",
       "    </tr>\n",
       "    <tr>\n",
       "      <th>1</th>\n",
       "      <td>85000</td>\n",
       "      <td>75k-100k</td>\n",
       "      <td>2.0</td>\n",
       "    </tr>\n",
       "    <tr>\n",
       "      <th>2</th>\n",
       "      <td>130000</td>\n",
       "      <td>125k-150k</td>\n",
       "      <td>4.0</td>\n",
       "    </tr>\n",
       "    <tr>\n",
       "      <th>3</th>\n",
       "      <td>175000</td>\n",
       "      <td>150k+</td>\n",
       "      <td>NaN</td>\n",
       "    </tr>\n",
       "    <tr>\n",
       "      <th>4</th>\n",
       "      <td>130000</td>\n",
       "      <td>125k-150k</td>\n",
       "      <td>4.0</td>\n",
       "    </tr>\n",
       "  </tbody>\n",
       "</table>\n",
       "</div>"
      ],
      "text/plain": [
       "   income income_groups  income_groups_encoded\n",
       "0  145000     125k-150k                    4.0\n",
       "1   85000      75k-100k                    2.0\n",
       "2  130000     125k-150k                    4.0\n",
       "3  175000         150k+                    NaN\n",
       "4  130000     125k-150k                    4.0"
      ]
     },
     "execution_count": 60,
     "metadata": {},
     "output_type": "execute_result"
    }
   ],
   "source": [
    "custom_map={\n",
    "    '40k-75k':1,\n",
    "    '75k-100k':2,\n",
    "    '100k-125k':3,\n",
    "    '125k-150k':4,\n",
    "    '150k':5\n",
    "}\n",
    "\n",
    "remapping['income_groups_encoded']=remapping['income_groups'].map(custom_map)\n",
    "remapping[['income','income_groups','income_groups_encoded']].head()"
   ]
  },
  {
   "cell_type": "code",
   "execution_count": null,
   "id": "9a3b5f27",
   "metadata": {},
   "outputs": [],
   "source": []
  }
 ],
 "metadata": {
  "kernelspec": {
   "display_name": "Python 3",
   "language": "python",
   "name": "python3"
  },
  "language_info": {
   "codemirror_mode": {
    "name": "ipython",
    "version": 3
   },
   "file_extension": ".py",
   "mimetype": "text/x-python",
   "name": "python",
   "nbconvert_exporter": "python",
   "pygments_lexer": "ipython3",
   "version": "3.12.1"
  }
 },
 "nbformat": 4,
 "nbformat_minor": 5
}
