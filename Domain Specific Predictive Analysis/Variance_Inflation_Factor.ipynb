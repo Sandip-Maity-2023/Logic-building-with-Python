{
 "cells": [
  {
   "cell_type": "markdown",
   "id": "1e39e7db",
   "metadata": {},
   "source": [
    "Consider a dataset of 500 individuals containing their gender, height, weight and Body Mass Index (BMI). Here, Index is the dependent variable and Gender, Height and Weight are independent variables. We will be using Pandas library for its implementation."
   ]
  },
  {
   "cell_type": "code",
   "execution_count": 23,
   "id": "23664a5d",
   "metadata": {},
   "outputs": [
    {
     "name": "stdout",
     "output_type": "stream",
     "text": [
      "   Gender  Height  Weight  Index\n",
      "0    Male     174      96      4\n",
      "1    Male     189      87      2\n",
      "2  Female     185     110      4\n",
      "3  Female     195     104      3\n",
      "4    Male     149      61      3\n"
     ]
    }
   ],
   "source": [
    "import pandas as pd\n",
    "\n",
    "data=pd.read_csv('BMI.csv')\n",
    "print(data.head())"
   ]
  },
  {
   "cell_type": "markdown",
   "id": "2c98a577",
   "metadata": {},
   "source": [
    "VIF = 1: No multicollinearity.\n",
    "\n",
    "VIF between 1 and 5: Moderate correlation, probably fine.\n",
    "\n",
    "VIF > 5 (or >10): High multicollinearity → consider removing that variable.\n",
    "Statsmodels internally does this for each feature \n",
    "Xi:\n",
    "Takes one column (X_i) as the dependent variable (target).\n",
    "\n",
    "Uses all the other columns in x as independent variables (predictors).\n",
    "\n",
    "Fits a linear regression:\n",
    "𝑋𝑖=𝛽0+𝛽1𝑋1+𝛽2𝑋2+⋯+𝛽𝑘𝑋𝑘+𝜖Xi=β0+β1X1+β2X2+⋯+βkXk+ϵ excluding 𝑋𝑖Xi itself from the predictors)\n",
    "\n",
    "Calculates 𝑅2\n",
    " (coefficient of determination) from that regression — this measures how much of 𝑋i\n",
    "\t​\n"
   ]
  },
  {
   "cell_type": "code",
   "execution_count": 24,
   "id": "091de052",
   "metadata": {},
   "outputs": [
    {
     "name": "stdout",
     "output_type": "stream",
     "text": [
      "  features        VIF\n",
      "0   Gender   2.028864\n",
      "1   Height  11.623103\n",
      "2   Weight  10.688377\n"
     ]
    }
   ],
   "source": [
    "import pandas as pd\n",
    "from statsmodels.stats.outliers_influence import variance_inflation_factor\n",
    "\n",
    "# Convert categorical variable to numeric\n",
    "data['Gender'] = data['Gender'].map({'Male': 0, 'Female': 1})\n",
    "\n",
    "# Select features\n",
    "x = data[['Gender', 'Height', 'Weight']]\n",
    "\n",
    "# Drop missing and infinite values properly\n",
    "#x = x.dropna()\n",
    "#x = x.replace([float('inf'), float('-inf')], pd.NA).dropna()\n",
    "\n",
    "# Reset index (optional but safe)\n",
    "#x = x.reset_index(drop=True)\n",
    "\n",
    "# Calculate VIF\n",
    "vif = pd.DataFrame()\n",
    "vif['features'] = x.columns\n",
    "vif['VIF'] = [variance_inflation_factor(x.values, i) for i in range(len(x.columns))]\n",
    "\n",
    "print(vif)\n"
   ]
  },
  {
   "cell_type": "markdown",
   "id": "00f79101",
   "metadata": {},
   "source": [
    "REGULARIZATION"
   ]
  },
  {
   "cell_type": "code",
   "execution_count": 33,
   "id": "699c4861",
   "metadata": {},
   "outputs": [
    {
     "name": "stdout",
     "output_type": "stream",
     "text": [
      "Mean Squared Error:0.06362439921332456\n",
      "Coefficients: [60.50305581 98.52475354 64.3929265  56.96061238 35.52928502]\n"
     ]
    }
   ],
   "source": [
    "from sklearn.linear_model import Lasso\n",
    "from sklearn.model_selection import train_test_split\n",
    "from sklearn.datasets import make_regression\n",
    "from sklearn.metrics import mean_squared_error\n",
    "\n",
    "x,y=make_regression(n_samples=100,n_features=5,noise=0.1,random_state=42) #noise=0.1 → adds random Gaussian noise (mean = 0, std = 0.1)\n",
    "x_train,x_test,y_train,y_test=train_test_split(x,y,test_size=0.2,random_state=42)\n",
    "\n",
    "lasso=Lasso(alpha=0.1)\n",
    "lasso.fit(x_train,y_train)\n",
    "\n",
    "y_prediction=lasso.predict(x_test)\n",
    "\n",
    "mse=mean_squared_error(y_test,y_prediction)\n",
    "print(f\"Mean Squared Error:{mse}\")\n",
    "print(\"Coefficients:\",lasso.coef_)"
   ]
  },
  {
   "cell_type": "code",
   "execution_count": 34,
   "id": "c7eb8fa9",
   "metadata": {},
   "outputs": [
    {
     "name": "stdout",
     "output_type": "stream",
     "text": [
      "Mean Squared Error: 4.114050771972589\n",
      "Coefficients: [59.87954432 97.15091098 63.24364738 56.31999433 35.34591136]\n"
     ]
    }
   ],
   "source": [
    "from sklearn.linear_model import Ridge\n",
    "#other libraries...\n",
    "\n",
    "ridge=Ridge(alpha=1.0)\n",
    "ridge.fit(x_train,y_train)\n",
    "y_pred2=ridge.predict(x_test)\n",
    "\n",
    "mse1=mean_squared_error(y_test,y_pred2)\n",
    "print(\"Mean Squared Error:\",mse1)\n",
    "print(\"Coefficients:\",ridge.coef_)"
   ]
  },
  {
   "cell_type": "code",
   "execution_count": 35,
   "id": "49d4d66c",
   "metadata": {},
   "outputs": [
    {
     "name": "stdout",
     "output_type": "stream",
     "text": [
      "Mean Squared Error 2662.3292683761697\n",
      "Coefficients: [41.2685658  60.6166494  34.45391474 37.4873701  26.29561474]\n"
     ]
    }
   ],
   "source": [
    "from sklearn.linear_model import ElasticNet\n",
    "\n",
    "model=ElasticNet(alpha=1.0,l1_ratio=0.5)\n",
    "model.fit(x_train,y_train)\n",
    "\n",
    "y_pred3=model.predict(x_test)\n",
    "mse2=mean_squared_error(y_test,y_pred3)\n",
    "\n",
    "print(\"Mean Squared Error\",mse2)\n",
    "print(\"Coefficients:\",model.coef_)"
   ]
  },
  {
   "cell_type": "code",
   "execution_count": null,
   "id": "6391d594",
   "metadata": {},
   "outputs": [],
   "source": []
  }
 ],
 "metadata": {
  "kernelspec": {
   "display_name": "Python 3",
   "language": "python",
   "name": "python3"
  },
  "language_info": {
   "codemirror_mode": {
    "name": "ipython",
    "version": 3
   },
   "file_extension": ".py",
   "mimetype": "text/x-python",
   "name": "python",
   "nbconvert_exporter": "python",
   "pygments_lexer": "ipython3",
   "version": "3.12.1"
  }
 },
 "nbformat": 4,
 "nbformat_minor": 5
}
