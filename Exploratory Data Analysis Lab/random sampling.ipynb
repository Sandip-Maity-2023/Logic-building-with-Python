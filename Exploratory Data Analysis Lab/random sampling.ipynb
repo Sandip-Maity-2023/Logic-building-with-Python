{
 "cells": [
  {
   "cell_type": "code",
   "execution_count": 8,
   "id": "initial_id",
   "metadata": {
    "collapsed": true,
    "ExecuteTime": {
     "end_time": "2025-02-26T11:03:39.129869Z",
     "start_time": "2025-02-26T11:03:39.085440Z"
    }
   },
   "outputs": [
    {
     "name": "stdout",
     "output_type": "stream",
     "text": [
      "     PubchemFP0  PubchemFP1  PubchemFP2  PubchemFP3  PubchemFP4  PubchemFP5  \\\n",
      "0             1           1           1           0           0           0   \n",
      "1             0           0           0           0           0           0   \n",
      "2             1           1           1           0           0           0   \n",
      "3             1           1           1           0           0           0   \n",
      "4             0           0           0           0           0           0   \n",
      "..          ...         ...         ...         ...         ...         ...   \n",
      "573           1           1           1           0           0           0   \n",
      "574           1           1           0           0           0           0   \n",
      "575           1           1           1           0           0           0   \n",
      "576           1           1           0           0           0           0   \n",
      "577           1           1           0           0           0           0   \n",
      "\n",
      "     PubchemFP6  PubchemFP7  PubchemFP8  PubchemFP9  ...  PubchemFP872  \\\n",
      "0             0           0           0           1  ...             0   \n",
      "1             0           0           0           1  ...             0   \n",
      "2             0           0           0           1  ...             0   \n",
      "3             0           0           0           1  ...             0   \n",
      "4             0           0           0           1  ...             0   \n",
      "..          ...         ...         ...         ...  ...           ...   \n",
      "573           0           0           0           1  ...             0   \n",
      "574           0           0           0           1  ...             0   \n",
      "575           0           0           0           1  ...             0   \n",
      "576           0           0           0           1  ...             0   \n",
      "577           0           0           0           1  ...             0   \n",
      "\n",
      "     PubchemFP873  PubchemFP874  PubchemFP875  PubchemFP876  PubchemFP877  \\\n",
      "0               0             0             0             0             0   \n",
      "1               0             0             0             0             0   \n",
      "2               0             0             0             0             0   \n",
      "3               0             0             0             0             0   \n",
      "4               0             0             0             0             0   \n",
      "..            ...           ...           ...           ...           ...   \n",
      "573             0             0             0             0             0   \n",
      "574             0             0             0             0             0   \n",
      "575             0             0             0             0             0   \n",
      "576             0             0             0             0             0   \n",
      "577             0             0             0             0             0   \n",
      "\n",
      "     PubchemFP878  PubchemFP879  PubchemFP880  Activity  \n",
      "0               0             0             0    active  \n",
      "1               0             0             0    active  \n",
      "2               0             0             0    active  \n",
      "3               0             0             0    active  \n",
      "4               0             0             0    active  \n",
      "..            ...           ...           ...       ...  \n",
      "573             0             0             0  inactive  \n",
      "574             0             0             0  inactive  \n",
      "575             0             0             0  inactive  \n",
      "576             0             0             0  inactive  \n",
      "577             0             0             0  inactive  \n",
      "\n",
      "[578 rows x 882 columns]\n",
      "   PubchemFP0  PubchemFP1  PubchemFP2  PubchemFP3  PubchemFP4  PubchemFP5  \\\n",
      "0           1           1           1           0           0           0   \n",
      "1           0           0           0           0           0           0   \n",
      "2           1           1           1           0           0           0   \n",
      "3           1           1           1           0           0           0   \n",
      "4           0           0           0           0           0           0   \n",
      "\n",
      "   PubchemFP6  PubchemFP7  PubchemFP8  PubchemFP9  ...  PubchemFP872  \\\n",
      "0           0           0           0           1  ...             0   \n",
      "1           0           0           0           1  ...             0   \n",
      "2           0           0           0           1  ...             0   \n",
      "3           0           0           0           1  ...             0   \n",
      "4           0           0           0           1  ...             0   \n",
      "\n",
      "   PubchemFP873  PubchemFP874  PubchemFP875  PubchemFP876  PubchemFP877  \\\n",
      "0             0             0             0             0             0   \n",
      "1             0             0             0             0             0   \n",
      "2             0             0             0             0             0   \n",
      "3             0             0             0             0             0   \n",
      "4             0             0             0             0             0   \n",
      "\n",
      "   PubchemFP878  PubchemFP879  PubchemFP880  Activity  \n",
      "0             0             0             0    active  \n",
      "1             0             0             0    active  \n",
      "2             0             0             0    active  \n",
      "3             0             0             0    active  \n",
      "4             0             0             0    active  \n",
      "\n",
      "[5 rows x 882 columns]\n"
     ]
    }
   ],
   "source": [
    "import pandas as pd\n",
    "from sklearn.model_selection import train_test_split\n",
    "\n",
    "#load data into pandas frame\n",
    "data=pd.read_csv('randomdata.csv')\n",
    "print(data)\n",
    "\n",
    "print(data.head())\n",
    "\n",
    "X = data.drop('PubchemFP0', axis=1)  \n",
    "y = data['PubchemFP1']\n"
   ]
  },
  {
   "cell_type": "code",
   "outputs": [],
   "source": [],
   "metadata": {
    "collapsed": false
   },
   "id": "fcf05c6744bdcd10"
  }
 ],
 "metadata": {
  "kernelspec": {
   "display_name": "Python 3",
   "language": "python",
   "name": "python3"
  },
  "language_info": {
   "codemirror_mode": {
    "name": "ipython",
    "version": 2
   },
   "file_extension": ".py",
   "mimetype": "text/x-python",
   "name": "python",
   "nbconvert_exporter": "python",
   "pygments_lexer": "ipython2",
   "version": "2.7.6"
  }
 },
 "nbformat": 4,
 "nbformat_minor": 5
}
