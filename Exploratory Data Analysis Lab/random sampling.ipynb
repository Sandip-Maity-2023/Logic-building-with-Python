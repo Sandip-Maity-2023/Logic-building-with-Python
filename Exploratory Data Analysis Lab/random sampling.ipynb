{
 "cells": [
  {
   "cell_type": "code",
   "execution_count": 17,
   "id": "initial_id",
   "metadata": {
    "collapsed": true,
    "ExecuteTime": {
     "end_time": "2025-02-26T11:46:38.073687Z",
     "start_time": "2025-02-26T11:46:38.032021Z"
    }
   },
   "outputs": [
    {
     "name": "stdout",
     "output_type": "stream",
     "text": [
      "     PubchemFP0  PubchemFP1  PubchemFP2  PubchemFP3  PubchemFP4  PubchemFP5  \\\n",
      "0             1           1           1           0           0           0   \n",
      "1             0           0           0           0           0           0   \n",
      "2             1           1           1           0           0           0   \n",
      "3             1           1           1           0           0           0   \n",
      "4             0           0           0           0           0           0   \n",
      "..          ...         ...         ...         ...         ...         ...   \n",
      "573           1           1           1           0           0           0   \n",
      "574           1           1           0           0           0           0   \n",
      "575           1           1           1           0           0           0   \n",
      "576           1           1           0           0           0           0   \n",
      "577           1           1           0           0           0           0   \n",
      "\n",
      "     PubchemFP6  PubchemFP7  PubchemFP8  PubchemFP9  ...  PubchemFP872  \\\n",
      "0             0           0           0           1  ...             0   \n",
      "1             0           0           0           1  ...             0   \n",
      "2             0           0           0           1  ...             0   \n",
      "3             0           0           0           1  ...             0   \n",
      "4             0           0           0           1  ...             0   \n",
      "..          ...         ...         ...         ...  ...           ...   \n",
      "573           0           0           0           1  ...             0   \n",
      "574           0           0           0           1  ...             0   \n",
      "575           0           0           0           1  ...             0   \n",
      "576           0           0           0           1  ...             0   \n",
      "577           0           0           0           1  ...             0   \n",
      "\n",
      "     PubchemFP873  PubchemFP874  PubchemFP875  PubchemFP876  PubchemFP877  \\\n",
      "0               0             0             0             0             0   \n",
      "1               0             0             0             0             0   \n",
      "2               0             0             0             0             0   \n",
      "3               0             0             0             0             0   \n",
      "4               0             0             0             0             0   \n",
      "..            ...           ...           ...           ...           ...   \n",
      "573             0             0             0             0             0   \n",
      "574             0             0             0             0             0   \n",
      "575             0             0             0             0             0   \n",
      "576             0             0             0             0             0   \n",
      "577             0             0             0             0             0   \n",
      "\n",
      "     PubchemFP878  PubchemFP879  PubchemFP880  Activity  \n",
      "0               0             0             0    active  \n",
      "1               0             0             0    active  \n",
      "2               0             0             0    active  \n",
      "3               0             0             0    active  \n",
      "4               0             0             0    active  \n",
      "..            ...           ...           ...       ...  \n",
      "573             0             0             0  inactive  \n",
      "574             0             0             0  inactive  \n",
      "575             0             0             0  inactive  \n",
      "576             0             0             0  inactive  \n",
      "577             0             0             0  inactive  \n",
      "\n",
      "[578 rows x 882 columns]\n",
      "   PubchemFP0  PubchemFP1  PubchemFP2  PubchemFP3  PubchemFP4  PubchemFP5  \\\n",
      "0           1           1           1           0           0           0   \n",
      "1           0           0           0           0           0           0   \n",
      "2           1           1           1           0           0           0   \n",
      "3           1           1           1           0           0           0   \n",
      "4           0           0           0           0           0           0   \n",
      "\n",
      "   PubchemFP6  PubchemFP7  PubchemFP8  PubchemFP9  ...  PubchemFP872  \\\n",
      "0           0           0           0           1  ...             0   \n",
      "1           0           0           0           1  ...             0   \n",
      "2           0           0           0           1  ...             0   \n",
      "3           0           0           0           1  ...             0   \n",
      "4           0           0           0           1  ...             0   \n",
      "\n",
      "   PubchemFP873  PubchemFP874  PubchemFP875  PubchemFP876  PubchemFP877  \\\n",
      "0             0             0             0             0             0   \n",
      "1             0             0             0             0             0   \n",
      "2             0             0             0             0             0   \n",
      "3             0             0             0             0             0   \n",
      "4             0             0             0             0             0   \n",
      "\n",
      "   PubchemFP878  PubchemFP879  PubchemFP880  Activity  \n",
      "0             0             0             0    active  \n",
      "1             0             0             0    active  \n",
      "2             0             0             0    active  \n",
      "3             0             0             0    active  \n",
      "4             0             0             0    active  \n",
      "\n",
      "[5 rows x 882 columns]\n"
     ]
    }
   ],
   "source": [
    "import random\n",
    "\n",
    "import pandas as pd\n",
    "from sklearn.model_selection import train_test_split\n",
    "\n",
    "import matplotlib.pyplot as plt\n",
    "\n",
    "#load data into pandas frame\n",
    "data=pd.read_csv('randomdata.csv')\n",
    "print(data)\n",
    "\n",
    "print(data.head())\n",
    "\n",
    "\n"
   ]
  },
  {
   "cell_type": "code",
   "outputs": [],
   "source": [
    "df=pd.DataFrame(data)"
   ],
   "metadata": {
    "collapsed": false,
    "ExecuteTime": {
     "end_time": "2025-02-26T11:46:41.019878Z",
     "start_time": "2025-02-26T11:46:41.016647Z"
    }
   },
   "id": "26bface3204dd042",
   "execution_count": 18
  },
  {
   "cell_type": "code",
   "outputs": [
    {
     "data": {
      "text/plain": "<Figure size 800x800 with 1 Axes>",
      "image/png": "[encoded data removed]"
     },
     "metadata": {},
     "output_type": "display_data"
    }
   ],
   "source": [
    "# Perform sampling (50% of the data)\n",
    "sampled_df = df.sample(frac=0.5, random_state=1)\n",
    "\n",
    "# Create a pie chart of the \"Activity\" column\n",
    "activity_counts = sampled_df['Activity'].value_counts()\n",
    "plt.figure(figsize=(8, 8))\n",
    "plt.pie(activity_counts, labels=activity_counts.index, autopct='%1.1f%%', startangle=90)\n",
    "plt.title('Distribution of Activity in Sampled Data')\n",
    "plt.show()\n"
   ],
   "metadata": {
    "collapsed": false,
    "ExecuteTime": {
     "end_time": "2025-02-26T11:46:41.877686Z",
     "start_time": "2025-02-26T11:46:41.809494Z"
    }
   },
   "id": "1f0caa28b0bc1336",
   "execution_count": 19
  },
  {
   "cell_type": "code",
   "outputs": [
    {
     "name": "stdout",
     "output_type": "stream",
     "text": [
      "     PubchemFP0  PubchemFP1  PubchemFP2  PubchemFP3  PubchemFP4  PubchemFP5  \\\n",
      "192           0           0           0           0           0           0   \n",
      "419           1           1           1           0           0           0   \n",
      "350           1           1           1           0           0           0   \n",
      "410           0           0           0           0           0           0   \n",
      "480           1           1           1           0           0           0   \n",
      "..          ...         ...         ...         ...         ...         ...   \n",
      "143           1           1           1           0           0           0   \n",
      "312           1           1           1           0           0           0   \n",
      "14            0           0           0           0           0           0   \n",
      "544           1           1           1           0           0           0   \n",
      "442           1           1           1           0           0           0   \n",
      "\n",
      "     PubchemFP6  PubchemFP7  PubchemFP8  PubchemFP9  ...  PubchemFP872  \\\n",
      "192           0           0           0           1  ...             0   \n",
      "419           0           0           0           1  ...             0   \n",
      "350           0           0           0           1  ...             0   \n",
      "410           0           0           0           1  ...             0   \n",
      "480           0           0           0           1  ...             0   \n",
      "..          ...         ...         ...         ...  ...           ...   \n",
      "143           0           0           0           1  ...             0   \n",
      "312           0           0           0           1  ...             0   \n",
      "14            0           0           0           1  ...             0   \n",
      "544           0           0           0           1  ...             0   \n",
      "442           0           0           0           1  ...             0   \n",
      "\n",
      "     PubchemFP873  PubchemFP874  PubchemFP875  PubchemFP876  PubchemFP877  \\\n",
      "192             0             0             0             0             0   \n",
      "419             0             0             0             0             0   \n",
      "350             0             0             0             0             0   \n",
      "410             0             0             0             0             0   \n",
      "480             0             0             0             0             0   \n",
      "..            ...           ...           ...           ...           ...   \n",
      "143             0             0             0             0             0   \n",
      "312             0             0             0             0             0   \n",
      "14              0             0             0             0             0   \n",
      "544             0             0             0             0             0   \n",
      "442             0             0             0             0             0   \n",
      "\n",
      "     PubchemFP878  PubchemFP879  PubchemFP880  Activity  \n",
      "192             0             0             0    active  \n",
      "419             0             0             0  inactive  \n",
      "350             0             0             0    active  \n",
      "410             0             0             0    active  \n",
      "480             0             0             0  inactive  \n",
      "..            ...           ...           ...       ...  \n",
      "143             0             0             0    active  \n",
      "312             0             0             0    active  \n",
      "14              0             0             0    active  \n",
      "544             0             0             0  inactive  \n",
      "442             0             0             0  inactive  \n",
      "\n",
      "[289 rows x 882 columns]\n"
     ]
    }
   ],
   "source": [
    "sampled_df = df.sample(frac=0.5, random_state=1)\n",
    "\n",
    "# Show the sampled data\n",
    "print(sampled_df)\n"
   ],
   "metadata": {
    "collapsed": false,
    "ExecuteTime": {
     "end_time": "2025-02-26T11:45:03.359902Z",
     "start_time": "2025-02-26T11:45:03.349211Z"
    }
   },
   "id": "262a657da6ac0d37",
   "execution_count": 16
  },
  {
   "cell_type": "code",
   "outputs": [
    {
     "data": {
      "text/plain": "<Figure size 640x480 with 1 Axes>",
      "image/png": "[encoded data removed]"
     },
     "metadata": {},
     "output_type": "display_data"
    }
   ],
   "source": [
    "import matplotlib.pyplot as plt\n",
    "import pandas as pd\n",
    "data = pd.read_csv('randomdata.csv')\n",
    "x=data.drop([\"Activity\"],axis=1)\n",
    "y=data[\"Activity\"]\n",
    "\n",
    "count_class = y.value_counts() # Count the occurrences of each class\n",
    "plt.bar(count_class.index, count_class.values)\n",
    "plt.xlabel('Class')\n",
    "plt.ylabel('Count')\n",
    "plt.title('Class Distribution')\n",
    "plt.xticks(count_class.index, ['Class 0', 'Class 1'])\n",
    "plt.show()\n"
   ],
   "metadata": {
    "collapsed": false,
    "ExecuteTime": {
     "end_time": "2025-02-26T11:52:12.993829Z",
     "start_time": "2025-02-26T11:52:12.873857Z"
    }
   },
   "id": "f013885cc740ee9",
   "execution_count": 25
  },
  {
   "cell_type": "code",
   "outputs": [
    {
     "ename": "ModuleNotFoundError",
     "evalue": "No module named 'imblearn'",
     "output_type": "error",
     "traceback": [
      "\u001B[1;31m---------------------------------------------------------------------------\u001B[0m",
      "\u001B[1;31mModuleNotFoundError\u001B[0m                       Traceback (most recent call last)",
      "Cell \u001B[1;32mIn[27], line 1\u001B[0m\n\u001B[1;32m----> 1\u001B[0m \u001B[38;5;28;01mfrom\u001B[39;00m \u001B[38;5;21;01mimblearn\u001B[39;00m\u001B[38;5;21;01m.\u001B[39;00m\u001B[38;5;21;01mover_sampling\u001B[39;00m \u001B[38;5;28;01mimport\u001B[39;00m SMOTE\n\u001B[0;32m      3\u001B[0m smote\u001B[38;5;241m=\u001B[39mSMOTE(sampling_strategy\u001B[38;5;241m=\u001B[39m\u001B[38;5;124m'\u001B[39m\u001B[38;5;124mminority\u001B[39m\u001B[38;5;124m'\u001B[39m) \n\u001B[0;32m      4\u001B[0m x,y\u001B[38;5;241m=\u001B[39msmote\u001B[38;5;241m.\u001B[39mfit_resample(x,y)\n",
      "\u001B[1;31mModuleNotFoundError\u001B[0m: No module named 'imblearn'"
     ]
    }
   ],
   "source": [
    "\n",
    "from imblearn.over_sampling import SMOTE\n",
    "\n",
    "smote=SMOTE(sampling_strategy='minority') \n",
    "x,y=smote.fit_resample(x,y)\n",
    "y.value_counts()\n"
   ],
   "metadata": {
    "collapsed": false,
    "ExecuteTime": {
     "end_time": "2025-02-26T11:54:25.424539Z",
     "start_time": "2025-02-26T11:54:25.411509Z"
    }
   },
   "id": "42325044e5b9570a",
   "execution_count": 27
  },
  {
   "cell_type": "code",
   "outputs": [],
   "source": [],
   "metadata": {
    "collapsed": false
   },
   "id": "83be1f9a30864348"
  }
 ],
 "metadata": {
  "kernelspec": {
   "display_name": "Python 3",
   "language": "python",
   "name": "python3"
  },
  "language_info": {
   "codemirror_mode": {
    "name": "ipython",
    "version": 2
   },
   "file_extension": ".py",
   "mimetype": "text/x-python",
   "name": "python",
   "nbconvert_exporter": "python",
   "pygments_lexer": "ipython2",
   "version": "2.7.6"
  }
 },
 "nbformat": 4,
 "nbformat_minor": 5
}
