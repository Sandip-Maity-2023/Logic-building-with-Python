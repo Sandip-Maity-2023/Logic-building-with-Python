{
 "cells": [
  {
   "cell_type": "code",
   "execution_count": null,
   "id": "initial_id",
   "metadata": {
    "ExecuteTime": {
     "end_time": "2025-02-08T04:40:37.019215Z",
     "start_time": "2025-02-08T04:40:35.239466Z"
    },
    "collapsed": true
   },
   "outputs": [],
   "source": [
    "import pandas as pd #lib is used for data manipulation and analysis\n",
    "import numpy as np #lib is used for numerical computations\n",
    "s=pd.Series([1,2,3,4,5]) #array of numbers is created using pandas\n"
   ]
  },
  {
   "cell_type": "code",
   "execution_count": null,
   "id": "638f1085d9419d40",
   "metadata": {
    "ExecuteTime": {
     "end_time": "2025-02-08T06:21:14.766240Z",
     "start_time": "2025-02-08T06:21:14.760239Z"
    },
    "collapsed": false
   },
   "outputs": [
    {
     "name": "stdout",
     "output_type": "stream",
     "text": [
      "0    1\n",
      "1    2\n",
      "2    3\n",
      "3    4\n",
      "4    5\n",
      "dtype: int64\n",
      "    names  marks\n",
      "0   Harry    100\n",
      "1  Sounak     56\n",
      "2  Pratik     45\n",
      "3  Amzeed     55\n"
     ]
    }
   ],
   "source": [
    "print(s)\n",
    "df=pd.DataFrame({\"names\":[\"Harry\", \"Sounak\",\"Pratik\",\"Amzeed\"],\"marks\":[100,56,45,55]}) #datframe means 2D data structure with labeled axes (rows and columns)\n",
    "#creating a dataframe with names and marks as columns\n",
    "print(df)"
   ]
  },
  {
   "cell_type": "code",
   "execution_count": 4,
   "id": "2020ccc69792cf03",
   "metadata": {
    "ExecuteTime": {
     "end_time": "2025-02-08T04:40:37.040189Z",
     "start_time": "2025-02-08T04:40:37.033017Z"
    },
    "collapsed": false
   },
   "outputs": [
    {
     "name": "stdout",
     "output_type": "stream",
     "text": [
      "    names  marks\n",
      "0   Harry    100\n",
      "1  Sounak     56\n",
      "2  Pratik     45\n",
      "3  Amzeed     55\n"
     ]
    }
   ],
   "source": [
    "print(df)"
   ]
  },
  {
   "cell_type": "markdown",
   "id": "257f29fe73539f35",
   "metadata": {
    "collapsed": false
   },
   "source": []
  },
  {
   "cell_type": "code",
   "execution_count": null,
   "id": "2af1dcca3c6a61a1",
   "metadata": {
    "ExecuteTime": {
     "end_time": "2025-02-08T04:40:37.053135Z",
     "start_time": "2025-02-08T04:40:37.043507Z"
    },
    "collapsed": false
   },
   "outputs": [],
   "source": [
    "df=pd.read_csv(\"Book2.csv\") #reading a csv file and creating a dataframe from it\n",
    "               "
   ]
  },
  {
   "cell_type": "code",
   "execution_count": null,
   "id": "b4f71d60bdc760b7",
   "metadata": {
    "ExecuteTime": {
     "end_time": "2025-02-08T04:40:37.078857Z",
     "start_time": "2025-02-08T04:40:37.055295Z"
    },
    "collapsed": false
   },
   "outputs": [
    {
     "name": "stdout",
     "output_type": "stream",
     "text": [
      "    Unnamed: 0  id    name  zeros  zeros + 1\n",
      "0            0   1  sandip      0          2\n",
      "1            1   2   rahul      0          2\n",
      "2            2   3     piu      0          2\n",
      "3            3   4    ullu      0          2\n",
      "4            4   5   rahul      0          2\n",
      "5            5   6     hoo      0          2\n",
      "6            6   7     joy      0          2\n",
      "7            7   8     swe      0          2\n",
      "8            8   9     sde      0          2\n",
      "9            9  10      qa      0          2\n",
      "10          10  11     wet      0          2\n",
      "11          11  12     sda      0          2\n",
      "12          12  13     ssd      0          2\n",
      "13          13  14       a      0          2\n",
      "14          14  15       d      0          2\n",
      "15          15  16      vf      0          2\n",
      "16          16  17      tg      0          2\n",
      "17          17  18     vbr      0          2\n",
      "18          18  19      rg      0          2\n",
      "19          19  20      rb      0          2\n",
      "20          20  21     rgt      0          2\n",
      "21          21  22     hth      0          2\n",
      "22          22  23      tg      0          2\n"
     ]
    },
    {
     "data": {
      "text/html": [
       "<div>\n",
       "<style scoped>\n",
       "    .dataframe tbody tr th:only-of-type {\n",
       "        vertical-align: middle;\n",
       "    }\n",
       "\n",
       "    .dataframe tbody tr th {\n",
       "        vertical-align: top;\n",
       "    }\n",
       "\n",
       "    .dataframe thead th {\n",
       "        text-align: right;\n",
       "    }\n",
       "</style>\n",
       "<table border=\"1\" class=\"dataframe\">\n",
       "  <thead>\n",
       "    <tr style=\"text-align: right;\">\n",
       "      <th></th>\n",
       "      <th>Unnamed: 0</th>\n",
       "      <th>id</th>\n",
       "      <th>name</th>\n",
       "      <th>zeros</th>\n",
       "      <th>zeros + 1</th>\n",
       "    </tr>\n",
       "  </thead>\n",
       "  <tbody>\n",
       "    <tr>\n",
       "      <th>18</th>\n",
       "      <td>18</td>\n",
       "      <td>19</td>\n",
       "      <td>rg</td>\n",
       "      <td>0</td>\n",
       "      <td>2</td>\n",
       "    </tr>\n",
       "    <tr>\n",
       "      <th>19</th>\n",
       "      <td>19</td>\n",
       "      <td>20</td>\n",
       "      <td>rb</td>\n",
       "      <td>0</td>\n",
       "      <td>2</td>\n",
       "    </tr>\n",
       "    <tr>\n",
       "      <th>20</th>\n",
       "      <td>20</td>\n",
       "      <td>21</td>\n",
       "      <td>rgt</td>\n",
       "      <td>0</td>\n",
       "      <td>2</td>\n",
       "    </tr>\n",
       "    <tr>\n",
       "      <th>21</th>\n",
       "      <td>21</td>\n",
       "      <td>22</td>\n",
       "      <td>hth</td>\n",
       "      <td>0</td>\n",
       "      <td>2</td>\n",
       "    </tr>\n",
       "    <tr>\n",
       "      <th>22</th>\n",
       "      <td>22</td>\n",
       "      <td>23</td>\n",
       "      <td>tg</td>\n",
       "      <td>0</td>\n",
       "      <td>2</td>\n",
       "    </tr>\n",
       "  </tbody>\n",
       "</table>\n",
       "</div>"
      ],
      "text/plain": [
       "    Unnamed: 0  id name  zeros  zeros + 1\n",
       "18          18  19   rg      0          2\n",
       "19          19  20   rb      0          2\n",
       "20          20  21  rgt      0          2\n",
       "21          21  22  hth      0          2\n",
       "22          22  23   tg      0          2"
      ]
     },
     "execution_count": 6,
     "metadata": {},
     "output_type": "execute_result"
    }
   ],
   "source": [
    "print(df)\n",
    "df.describe() #provides a statistical summary of the dataframe\n",
    "df.info() #provides information about the dataframe such as data types and non-null values\n",
    "df.head() #displays the first 5 rows of the dataframe\n",
    "df.iloc[0] #displays the first row of the dataframe\n",
    "\n",
    "df.tail() #displays the last 5 rows of the dataframe\n",
    "df.iloc[0:2] #displays the first 2 rows of the dataframe\n"
   ]
  },
  {
   "cell_type": "code",
   "execution_count": null,
   "id": "fd0217d545cc2cd4",
   "metadata": {
    "ExecuteTime": {
     "end_time": "2025-02-08T04:40:37.093600Z",
     "start_time": "2025-02-08T04:40:37.080261Z"
    },
    "collapsed": false
   },
   "outputs": [
    {
     "name": "stdout",
     "output_type": "stream",
     "text": [
      "<class 'pandas.core.frame.DataFrame'>\n",
      "RangeIndex: 23 entries, 0 to 22\n",
      "Data columns (total 5 columns):\n",
      " #   Column      Non-Null Count  Dtype \n",
      "---  ------      --------------  ----- \n",
      " 0   Unnamed: 0  23 non-null     int64 \n",
      " 1   id          23 non-null     int64 \n",
      " 2   name        23 non-null     object\n",
      " 3   zeros       23 non-null     int64 \n",
      " 4   zeros + 1   23 non-null     int64 \n",
      "dtypes: int64(4), object(1)\n",
      "memory usage: 1.0+ KB\n"
     ]
    }
   ],
   "source": [
    "df[\"id\"].describe() #provides a statistical summary of the \"id\" column in the dataframe\n",
    "df[\"id\"].mean() #calculates the mean of the \"id\" column in the dataframe\n",
    "df.info() #provides information about the dataframe such as data types and non-null values\n",
    "df[\"id\"].median() #calculates the median of the \"id\" column in the dataframe"
   ]
  },
  {
   "cell_type": "code",
   "execution_count": 8,
   "id": "eb5125c4254bb4f0",
   "metadata": {
    "ExecuteTime": {
     "end_time": "2025-02-08T04:40:37.108041Z",
     "start_time": "2025-02-08T04:40:37.095766Z"
    },
    "collapsed": false
   },
   "outputs": [
    {
     "data": {
      "text/html": [
       "<div>\n",
       "<style scoped>\n",
       "    .dataframe tbody tr th:only-of-type {\n",
       "        vertical-align: middle;\n",
       "    }\n",
       "\n",
       "    .dataframe tbody tr th {\n",
       "        vertical-align: top;\n",
       "    }\n",
       "\n",
       "    .dataframe thead th {\n",
       "        text-align: right;\n",
       "    }\n",
       "</style>\n",
       "<table border=\"1\" class=\"dataframe\">\n",
       "  <thead>\n",
       "    <tr style=\"text-align: right;\">\n",
       "      <th></th>\n",
       "      <th>Unnamed: 0</th>\n",
       "      <th>id</th>\n",
       "      <th>zeros</th>\n",
       "      <th>zeros + 1</th>\n",
       "    </tr>\n",
       "  </thead>\n",
       "  <tbody>\n",
       "    <tr>\n",
       "      <th>count</th>\n",
       "      <td>23.00000</td>\n",
       "      <td>23.00000</td>\n",
       "      <td>23.0</td>\n",
       "      <td>23.0</td>\n",
       "    </tr>\n",
       "    <tr>\n",
       "      <th>mean</th>\n",
       "      <td>11.00000</td>\n",
       "      <td>12.00000</td>\n",
       "      <td>0.0</td>\n",
       "      <td>2.0</td>\n",
       "    </tr>\n",
       "    <tr>\n",
       "      <th>std</th>\n",
       "      <td>6.78233</td>\n",
       "      <td>6.78233</td>\n",
       "      <td>0.0</td>\n",
       "      <td>0.0</td>\n",
       "    </tr>\n",
       "    <tr>\n",
       "      <th>min</th>\n",
       "      <td>0.00000</td>\n",
       "      <td>1.00000</td>\n",
       "      <td>0.0</td>\n",
       "      <td>2.0</td>\n",
       "    </tr>\n",
       "    <tr>\n",
       "      <th>25%</th>\n",
       "      <td>5.50000</td>\n",
       "      <td>6.50000</td>\n",
       "      <td>0.0</td>\n",
       "      <td>2.0</td>\n",
       "    </tr>\n",
       "    <tr>\n",
       "      <th>50%</th>\n",
       "      <td>11.00000</td>\n",
       "      <td>12.00000</td>\n",
       "      <td>0.0</td>\n",
       "      <td>2.0</td>\n",
       "    </tr>\n",
       "    <tr>\n",
       "      <th>75%</th>\n",
       "      <td>16.50000</td>\n",
       "      <td>17.50000</td>\n",
       "      <td>0.0</td>\n",
       "      <td>2.0</td>\n",
       "    </tr>\n",
       "    <tr>\n",
       "      <th>max</th>\n",
       "      <td>22.00000</td>\n",
       "      <td>23.00000</td>\n",
       "      <td>0.0</td>\n",
       "      <td>2.0</td>\n",
       "    </tr>\n",
       "  </tbody>\n",
       "</table>\n",
       "</div>"
      ],
      "text/plain": [
       "       Unnamed: 0        id  zeros  zeros + 1\n",
       "count    23.00000  23.00000   23.0       23.0\n",
       "mean     11.00000  12.00000    0.0        2.0\n",
       "std       6.78233   6.78233    0.0        0.0\n",
       "min       0.00000   1.00000    0.0        2.0\n",
       "25%       5.50000   6.50000    0.0        2.0\n",
       "50%      11.00000  12.00000    0.0        2.0\n",
       "75%      16.50000  17.50000    0.0        2.0\n",
       "max      22.00000  23.00000    0.0        2.0"
      ]
     },
     "execution_count": 8,
     "metadata": {},
     "output_type": "execute_result"
    }
   ],
   "source": [
    "df.describe()"
   ]
  },
  {
   "cell_type": "code",
   "execution_count": 9,
   "id": "91b0440c0c972ce8",
   "metadata": {
    "ExecuteTime": {
     "end_time": "2025-02-08T04:41:54.849654Z",
     "start_time": "2025-02-08T04:41:54.843837Z"
    },
    "collapsed": false
   },
   "outputs": [
    {
     "data": {
      "text/plain": [
       "0      1\n",
       "1      2\n",
       "2      3\n",
       "3      4\n",
       "4      5\n",
       "5      6\n",
       "6      7\n",
       "7      8\n",
       "8      9\n",
       "9     10\n",
       "10    11\n",
       "11    12\n",
       "12    13\n",
       "13    14\n",
       "14    15\n",
       "15    16\n",
       "16    17\n",
       "17    18\n",
       "18    19\n",
       "19    20\n",
       "20    21\n",
       "21    22\n",
       "22    23\n",
       "Name: id, dtype: int64"
      ]
     },
     "execution_count": 9,
     "metadata": {},
     "output_type": "execute_result"
    }
   ],
   "source": [
    "df[\"id\"]"
   ]
  },
  {
   "cell_type": "code",
   "execution_count": null,
   "id": "70c38fae57a538af",
   "metadata": {
    "ExecuteTime": {
     "end_time": "2025-02-08T04:42:36.146193Z",
     "start_time": "2025-02-08T04:42:36.140283Z"
    },
    "collapsed": false
   },
   "outputs": [
    {
     "data": {
      "text/plain": [
       "pandas.core.series.Series"
      ]
     },
     "execution_count": 10,
     "metadata": {},
     "output_type": "execute_result"
    }
   ],
   "source": [
    "type(df[\"id\"]) #displays the type of the \"id\" column in the dataframe \n",
    "df[\"id\"].dtype #displays the data type of the \"id\" column in the dataframe"
   ]
  },
  {
   "cell_type": "code",
   "execution_count": 11,
   "id": "a100a8dea29fdb4",
   "metadata": {
    "ExecuteTime": {
     "end_time": "2025-02-08T05:18:14.503036Z",
     "start_time": "2025-02-08T05:18:14.496984Z"
    },
    "collapsed": false
   },
   "outputs": [
    {
     "data": {
      "text/plain": [
       "Unnamed: 0         0\n",
       "id                 1\n",
       "name          sandip\n",
       "zeros              0\n",
       "zeros + 1          2\n",
       "Name: 0, dtype: object"
      ]
     },
     "execution_count": 11,
     "metadata": {},
     "output_type": "execute_result"
    }
   ],
   "source": [
    "df.iloc[0]"
   ]
  },
  {
   "cell_type": "code",
   "execution_count": null,
   "id": "291e8fe7cebe6c65",
   "metadata": {
    "ExecuteTime": {
     "end_time": "2025-02-08T05:45:34.449381Z",
     "start_time": "2025-02-08T05:45:34.440571Z"
    },
    "collapsed": false
   },
   "outputs": [],
   "source": [
    "df2=pd.read_csv(\"Book2.csv\") #reading a csv file and creating a dataframe from it\n",
    "df2 #displays the dataframe created from the csv file"
   ]
  },
  {
   "cell_type": "code",
   "execution_count": null,
   "id": "4b5da3717a879bfe",
   "metadata": {
    "ExecuteTime": {
     "end_time": "2025-02-08T05:45:49.523804Z",
     "start_time": "2025-02-08T05:45:49.513030Z"
    },
    "collapsed": false
   },
   "outputs": [
    {
     "data": {
      "text/html": [
       "<div>\n",
       "<style scoped>\n",
       "    .dataframe tbody tr th:only-of-type {\n",
       "        vertical-align: middle;\n",
       "    }\n",
       "\n",
       "    .dataframe tbody tr th {\n",
       "        vertical-align: top;\n",
       "    }\n",
       "\n",
       "    .dataframe thead th {\n",
       "        text-align: right;\n",
       "    }\n",
       "</style>\n",
       "<table border=\"1\" class=\"dataframe\">\n",
       "  <thead>\n",
       "    <tr style=\"text-align: right;\">\n",
       "      <th></th>\n",
       "      <th>Unnamed: 0</th>\n",
       "      <th>id</th>\n",
       "      <th>name</th>\n",
       "      <th>zeros</th>\n",
       "      <th>zeros + 1</th>\n",
       "    </tr>\n",
       "  </thead>\n",
       "  <tbody>\n",
       "    <tr>\n",
       "      <th>0</th>\n",
       "      <td>0</td>\n",
       "      <td>1</td>\n",
       "      <td>sandip</td>\n",
       "      <td>0</td>\n",
       "      <td>2</td>\n",
       "    </tr>\n",
       "    <tr>\n",
       "      <th>1</th>\n",
       "      <td>1</td>\n",
       "      <td>2</td>\n",
       "      <td>rahul</td>\n",
       "      <td>0</td>\n",
       "      <td>2</td>\n",
       "    </tr>\n",
       "    <tr>\n",
       "      <th>2</th>\n",
       "      <td>2</td>\n",
       "      <td>3</td>\n",
       "      <td>piu</td>\n",
       "      <td>0</td>\n",
       "      <td>2</td>\n",
       "    </tr>\n",
       "    <tr>\n",
       "      <th>3</th>\n",
       "      <td>3</td>\n",
       "      <td>4</td>\n",
       "      <td>ullu</td>\n",
       "      <td>0</td>\n",
       "      <td>2</td>\n",
       "    </tr>\n",
       "    <tr>\n",
       "      <th>4</th>\n",
       "      <td>4</td>\n",
       "      <td>5</td>\n",
       "      <td>rahul</td>\n",
       "      <td>0</td>\n",
       "      <td>2</td>\n",
       "    </tr>\n",
       "  </tbody>\n",
       "</table>\n",
       "</div>"
      ],
      "text/plain": [
       "   Unnamed: 0  id    name  zeros  zeros + 1\n",
       "0           0   1  sandip      0          2\n",
       "1           1   2   rahul      0          2\n",
       "2           2   3     piu      0          2\n",
       "3           3   4    ullu      0          2\n",
       "4           4   5   rahul      0          2"
      ]
     },
     "execution_count": 13,
     "metadata": {},
     "output_type": "execute_result"
    }
   ],
   "source": [
    "df2.head() #displays the first 5 rows of the dataframe created from the csv file"
   ]
  },
  {
   "cell_type": "code",
   "execution_count": null,
   "id": "ab369c7da94d8ad0",
   "metadata": {
    "ExecuteTime": {
     "end_time": "2025-02-08T05:46:49.391323Z",
     "start_time": "2025-02-08T05:46:49.384378Z"
    },
    "collapsed": false
   },
   "outputs": [
    {
     "data": {
      "text/html": [
       "<div>\n",
       "<style scoped>\n",
       "    .dataframe tbody tr th:only-of-type {\n",
       "        vertical-align: middle;\n",
       "    }\n",
       "\n",
       "    .dataframe tbody tr th {\n",
       "        vertical-align: top;\n",
       "    }\n",
       "\n",
       "    .dataframe thead th {\n",
       "        text-align: right;\n",
       "    }\n",
       "</style>\n",
       "<table border=\"1\" class=\"dataframe\">\n",
       "  <thead>\n",
       "    <tr style=\"text-align: right;\">\n",
       "      <th></th>\n",
       "      <th>Unnamed: 0</th>\n",
       "      <th>id</th>\n",
       "      <th>name</th>\n",
       "      <th>zeros</th>\n",
       "      <th>zeros + 1</th>\n",
       "    </tr>\n",
       "  </thead>\n",
       "  <tbody>\n",
       "    <tr>\n",
       "      <th>0</th>\n",
       "      <td>0</td>\n",
       "      <td>1</td>\n",
       "      <td>sandip</td>\n",
       "      <td>0</td>\n",
       "      <td>2</td>\n",
       "    </tr>\n",
       "    <tr>\n",
       "      <th>1</th>\n",
       "      <td>1</td>\n",
       "      <td>2</td>\n",
       "      <td>rahul</td>\n",
       "      <td>0</td>\n",
       "      <td>2</td>\n",
       "    </tr>\n",
       "    <tr>\n",
       "      <th>2</th>\n",
       "      <td>2</td>\n",
       "      <td>3</td>\n",
       "      <td>piu</td>\n",
       "      <td>0</td>\n",
       "      <td>2</td>\n",
       "    </tr>\n",
       "    <tr>\n",
       "      <th>3</th>\n",
       "      <td>3</td>\n",
       "      <td>4</td>\n",
       "      <td>ullu</td>\n",
       "      <td>0</td>\n",
       "      <td>2</td>\n",
       "    </tr>\n",
       "    <tr>\n",
       "      <th>4</th>\n",
       "      <td>4</td>\n",
       "      <td>5</td>\n",
       "      <td>rahul</td>\n",
       "      <td>0</td>\n",
       "      <td>2</td>\n",
       "    </tr>\n",
       "    <tr>\n",
       "      <th>5</th>\n",
       "      <td>5</td>\n",
       "      <td>6</td>\n",
       "      <td>hoo</td>\n",
       "      <td>0</td>\n",
       "      <td>2</td>\n",
       "    </tr>\n",
       "    <tr>\n",
       "      <th>6</th>\n",
       "      <td>6</td>\n",
       "      <td>7</td>\n",
       "      <td>joy</td>\n",
       "      <td>0</td>\n",
       "      <td>2</td>\n",
       "    </tr>\n",
       "    <tr>\n",
       "      <th>7</th>\n",
       "      <td>7</td>\n",
       "      <td>8</td>\n",
       "      <td>swe</td>\n",
       "      <td>0</td>\n",
       "      <td>2</td>\n",
       "    </tr>\n",
       "    <tr>\n",
       "      <th>8</th>\n",
       "      <td>8</td>\n",
       "      <td>9</td>\n",
       "      <td>sde</td>\n",
       "      <td>0</td>\n",
       "      <td>2</td>\n",
       "    </tr>\n",
       "    <tr>\n",
       "      <th>9</th>\n",
       "      <td>9</td>\n",
       "      <td>10</td>\n",
       "      <td>qa</td>\n",
       "      <td>0</td>\n",
       "      <td>2</td>\n",
       "    </tr>\n",
       "    <tr>\n",
       "      <th>10</th>\n",
       "      <td>10</td>\n",
       "      <td>11</td>\n",
       "      <td>wet</td>\n",
       "      <td>0</td>\n",
       "      <td>2</td>\n",
       "    </tr>\n",
       "    <tr>\n",
       "      <th>11</th>\n",
       "      <td>11</td>\n",
       "      <td>12</td>\n",
       "      <td>sda</td>\n",
       "      <td>0</td>\n",
       "      <td>2</td>\n",
       "    </tr>\n",
       "    <tr>\n",
       "      <th>12</th>\n",
       "      <td>12</td>\n",
       "      <td>13</td>\n",
       "      <td>ssd</td>\n",
       "      <td>0</td>\n",
       "      <td>2</td>\n",
       "    </tr>\n",
       "    <tr>\n",
       "      <th>13</th>\n",
       "      <td>13</td>\n",
       "      <td>14</td>\n",
       "      <td>a</td>\n",
       "      <td>0</td>\n",
       "      <td>2</td>\n",
       "    </tr>\n",
       "    <tr>\n",
       "      <th>14</th>\n",
       "      <td>14</td>\n",
       "      <td>15</td>\n",
       "      <td>d</td>\n",
       "      <td>0</td>\n",
       "      <td>2</td>\n",
       "    </tr>\n",
       "    <tr>\n",
       "      <th>15</th>\n",
       "      <td>15</td>\n",
       "      <td>16</td>\n",
       "      <td>vf</td>\n",
       "      <td>0</td>\n",
       "      <td>2</td>\n",
       "    </tr>\n",
       "    <tr>\n",
       "      <th>16</th>\n",
       "      <td>16</td>\n",
       "      <td>17</td>\n",
       "      <td>tg</td>\n",
       "      <td>0</td>\n",
       "      <td>2</td>\n",
       "    </tr>\n",
       "    <tr>\n",
       "      <th>17</th>\n",
       "      <td>17</td>\n",
       "      <td>18</td>\n",
       "      <td>vbr</td>\n",
       "      <td>0</td>\n",
       "      <td>2</td>\n",
       "    </tr>\n",
       "    <tr>\n",
       "      <th>18</th>\n",
       "      <td>18</td>\n",
       "      <td>19</td>\n",
       "      <td>rg</td>\n",
       "      <td>0</td>\n",
       "      <td>2</td>\n",
       "    </tr>\n",
       "    <tr>\n",
       "      <th>19</th>\n",
       "      <td>19</td>\n",
       "      <td>20</td>\n",
       "      <td>rb</td>\n",
       "      <td>0</td>\n",
       "      <td>2</td>\n",
       "    </tr>\n",
       "    <tr>\n",
       "      <th>20</th>\n",
       "      <td>20</td>\n",
       "      <td>21</td>\n",
       "      <td>rgt</td>\n",
       "      <td>0</td>\n",
       "      <td>2</td>\n",
       "    </tr>\n",
       "    <tr>\n",
       "      <th>21</th>\n",
       "      <td>21</td>\n",
       "      <td>22</td>\n",
       "      <td>hth</td>\n",
       "      <td>0</td>\n",
       "      <td>2</td>\n",
       "    </tr>\n",
       "    <tr>\n",
       "      <th>22</th>\n",
       "      <td>22</td>\n",
       "      <td>23</td>\n",
       "      <td>tg</td>\n",
       "      <td>0</td>\n",
       "      <td>2</td>\n",
       "    </tr>\n",
       "  </tbody>\n",
       "</table>\n",
       "</div>"
      ],
      "text/plain": [
       "    Unnamed: 0  id    name  zeros  zeros + 1\n",
       "0            0   1  sandip      0          2\n",
       "1            1   2   rahul      0          2\n",
       "2            2   3     piu      0          2\n",
       "3            3   4    ullu      0          2\n",
       "4            4   5   rahul      0          2\n",
       "5            5   6     hoo      0          2\n",
       "6            6   7     joy      0          2\n",
       "7            7   8     swe      0          2\n",
       "8            8   9     sde      0          2\n",
       "9            9  10      qa      0          2\n",
       "10          10  11     wet      0          2\n",
       "11          11  12     sda      0          2\n",
       "12          12  13     ssd      0          2\n",
       "13          13  14       a      0          2\n",
       "14          14  15       d      0          2\n",
       "15          15  16      vf      0          2\n",
       "16          16  17      tg      0          2\n",
       "17          17  18     vbr      0          2\n",
       "18          18  19      rg      0          2\n",
       "19          19  20      rb      0          2\n",
       "20          20  21     rgt      0          2\n",
       "21          21  22     hth      0          2\n",
       "22          22  23      tg      0          2"
      ]
     },
     "execution_count": 14,
     "metadata": {},
     "output_type": "execute_result"
    }
   ],
   "source": [
    "df.dropna() #drops any rows with missing values from the dataframe\n",
    "df.dropna(axis=0) #drops any rows with missing values from the dataframe along the row axis\n",
    "df.dropna(axis=1) #drops any columns with missing values from the dataframe along the column axis\n",
    "df.dropna(thresh=1) #drops any rows with less than 1 non-null value from the dataframe\n"
   ]
  },
  {
   "cell_type": "code",
   "execution_count": null,
   "id": "8f47a5b8f60093e7",
   "metadata": {
    "ExecuteTime": {
     "end_time": "2025-02-08T05:47:33.899534Z",
     "start_time": "2025-02-08T05:47:33.892647Z"
    },
    "collapsed": false
   },
   "outputs": [
    {
     "data": {
      "text/html": [
       "<div>\n",
       "<style scoped>\n",
       "    .dataframe tbody tr th:only-of-type {\n",
       "        vertical-align: middle;\n",
       "    }\n",
       "\n",
       "    .dataframe tbody tr th {\n",
       "        vertical-align: top;\n",
       "    }\n",
       "\n",
       "    .dataframe thead th {\n",
       "        text-align: right;\n",
       "    }\n",
       "</style>\n",
       "<table border=\"1\" class=\"dataframe\">\n",
       "  <thead>\n",
       "    <tr style=\"text-align: right;\">\n",
       "      <th></th>\n",
       "      <th>Unnamed: 0</th>\n",
       "      <th>id</th>\n",
       "      <th>name</th>\n",
       "      <th>zeros</th>\n",
       "      <th>zeros + 1</th>\n",
       "    </tr>\n",
       "  </thead>\n",
       "  <tbody>\n",
       "    <tr>\n",
       "      <th>0</th>\n",
       "      <td>0</td>\n",
       "      <td>1</td>\n",
       "      <td>sandip</td>\n",
       "      <td>0</td>\n",
       "      <td>2</td>\n",
       "    </tr>\n",
       "    <tr>\n",
       "      <th>1</th>\n",
       "      <td>1</td>\n",
       "      <td>2</td>\n",
       "      <td>rahul</td>\n",
       "      <td>0</td>\n",
       "      <td>2</td>\n",
       "    </tr>\n",
       "    <tr>\n",
       "      <th>2</th>\n",
       "      <td>2</td>\n",
       "      <td>3</td>\n",
       "      <td>piu</td>\n",
       "      <td>0</td>\n",
       "      <td>2</td>\n",
       "    </tr>\n",
       "    <tr>\n",
       "      <th>3</th>\n",
       "      <td>3</td>\n",
       "      <td>4</td>\n",
       "      <td>ullu</td>\n",
       "      <td>0</td>\n",
       "      <td>2</td>\n",
       "    </tr>\n",
       "    <tr>\n",
       "      <th>4</th>\n",
       "      <td>4</td>\n",
       "      <td>5</td>\n",
       "      <td>rahul</td>\n",
       "      <td>0</td>\n",
       "      <td>2</td>\n",
       "    </tr>\n",
       "    <tr>\n",
       "      <th>5</th>\n",
       "      <td>5</td>\n",
       "      <td>6</td>\n",
       "      <td>hoo</td>\n",
       "      <td>0</td>\n",
       "      <td>2</td>\n",
       "    </tr>\n",
       "    <tr>\n",
       "      <th>6</th>\n",
       "      <td>6</td>\n",
       "      <td>7</td>\n",
       "      <td>joy</td>\n",
       "      <td>0</td>\n",
       "      <td>2</td>\n",
       "    </tr>\n",
       "    <tr>\n",
       "      <th>7</th>\n",
       "      <td>7</td>\n",
       "      <td>8</td>\n",
       "      <td>swe</td>\n",
       "      <td>0</td>\n",
       "      <td>2</td>\n",
       "    </tr>\n",
       "    <tr>\n",
       "      <th>8</th>\n",
       "      <td>8</td>\n",
       "      <td>9</td>\n",
       "      <td>sde</td>\n",
       "      <td>0</td>\n",
       "      <td>2</td>\n",
       "    </tr>\n",
       "    <tr>\n",
       "      <th>9</th>\n",
       "      <td>9</td>\n",
       "      <td>10</td>\n",
       "      <td>qa</td>\n",
       "      <td>0</td>\n",
       "      <td>2</td>\n",
       "    </tr>\n",
       "    <tr>\n",
       "      <th>10</th>\n",
       "      <td>10</td>\n",
       "      <td>11</td>\n",
       "      <td>wet</td>\n",
       "      <td>0</td>\n",
       "      <td>2</td>\n",
       "    </tr>\n",
       "    <tr>\n",
       "      <th>11</th>\n",
       "      <td>11</td>\n",
       "      <td>12</td>\n",
       "      <td>sda</td>\n",
       "      <td>0</td>\n",
       "      <td>2</td>\n",
       "    </tr>\n",
       "    <tr>\n",
       "      <th>12</th>\n",
       "      <td>12</td>\n",
       "      <td>13</td>\n",
       "      <td>ssd</td>\n",
       "      <td>0</td>\n",
       "      <td>2</td>\n",
       "    </tr>\n",
       "    <tr>\n",
       "      <th>13</th>\n",
       "      <td>13</td>\n",
       "      <td>14</td>\n",
       "      <td>a</td>\n",
       "      <td>0</td>\n",
       "      <td>2</td>\n",
       "    </tr>\n",
       "    <tr>\n",
       "      <th>14</th>\n",
       "      <td>14</td>\n",
       "      <td>15</td>\n",
       "      <td>d</td>\n",
       "      <td>0</td>\n",
       "      <td>2</td>\n",
       "    </tr>\n",
       "    <tr>\n",
       "      <th>15</th>\n",
       "      <td>15</td>\n",
       "      <td>16</td>\n",
       "      <td>vf</td>\n",
       "      <td>0</td>\n",
       "      <td>2</td>\n",
       "    </tr>\n",
       "    <tr>\n",
       "      <th>16</th>\n",
       "      <td>16</td>\n",
       "      <td>17</td>\n",
       "      <td>tg</td>\n",
       "      <td>0</td>\n",
       "      <td>2</td>\n",
       "    </tr>\n",
       "    <tr>\n",
       "      <th>17</th>\n",
       "      <td>17</td>\n",
       "      <td>18</td>\n",
       "      <td>vbr</td>\n",
       "      <td>0</td>\n",
       "      <td>2</td>\n",
       "    </tr>\n",
       "    <tr>\n",
       "      <th>18</th>\n",
       "      <td>18</td>\n",
       "      <td>19</td>\n",
       "      <td>rg</td>\n",
       "      <td>0</td>\n",
       "      <td>2</td>\n",
       "    </tr>\n",
       "    <tr>\n",
       "      <th>19</th>\n",
       "      <td>19</td>\n",
       "      <td>20</td>\n",
       "      <td>rb</td>\n",
       "      <td>0</td>\n",
       "      <td>2</td>\n",
       "    </tr>\n",
       "    <tr>\n",
       "      <th>20</th>\n",
       "      <td>20</td>\n",
       "      <td>21</td>\n",
       "      <td>rgt</td>\n",
       "      <td>0</td>\n",
       "      <td>2</td>\n",
       "    </tr>\n",
       "    <tr>\n",
       "      <th>21</th>\n",
       "      <td>21</td>\n",
       "      <td>22</td>\n",
       "      <td>hth</td>\n",
       "      <td>0</td>\n",
       "      <td>2</td>\n",
       "    </tr>\n",
       "    <tr>\n",
       "      <th>22</th>\n",
       "      <td>22</td>\n",
       "      <td>23</td>\n",
       "      <td>tg</td>\n",
       "      <td>0</td>\n",
       "      <td>2</td>\n",
       "    </tr>\n",
       "  </tbody>\n",
       "</table>\n",
       "</div>"
      ],
      "text/plain": [
       "    Unnamed: 0  id    name  zeros  zeros + 1\n",
       "0            0   1  sandip      0          2\n",
       "1            1   2   rahul      0          2\n",
       "2            2   3     piu      0          2\n",
       "3            3   4    ullu      0          2\n",
       "4            4   5   rahul      0          2\n",
       "5            5   6     hoo      0          2\n",
       "6            6   7     joy      0          2\n",
       "7            7   8     swe      0          2\n",
       "8            8   9     sde      0          2\n",
       "9            9  10      qa      0          2\n",
       "10          10  11     wet      0          2\n",
       "11          11  12     sda      0          2\n",
       "12          12  13     ssd      0          2\n",
       "13          13  14       a      0          2\n",
       "14          14  15       d      0          2\n",
       "15          15  16      vf      0          2\n",
       "16          16  17      tg      0          2\n",
       "17          17  18     vbr      0          2\n",
       "18          18  19      rg      0          2\n",
       "19          19  20      rb      0          2\n",
       "20          20  21     rgt      0          2\n",
       "21          21  22     hth      0          2\n",
       "22          22  23      tg      0          2"
      ]
     },
     "execution_count": 15,
     "metadata": {},
     "output_type": "execute_result"
    }
   ],
   "source": [
    "df2.fillna(5) #fills any missing values in the dataframe with the value 5\n",
    "df2.fillna(0) #fills any missing values in the dataframe with the value 0\n",
    "df2.fillna(method=\"ffill\") #fills any missing values in the dataframe using forward fill method\n",
    "df2.fillna(method=\"bfill\") #fills any missing values in the dataframe using backward fill method\n"
   ]
  },
  {
   "cell_type": "code",
   "execution_count": 16,
   "id": "f375b8968794aca1",
   "metadata": {
    "ExecuteTime": {
     "end_time": "2025-02-08T05:48:25.874324Z",
     "start_time": "2025-02-08T05:48:25.866456Z"
    },
    "collapsed": false
   },
   "outputs": [
    {
     "data": {
      "text/html": [
       "<div>\n",
       "<style scoped>\n",
       "    .dataframe tbody tr th:only-of-type {\n",
       "        vertical-align: middle;\n",
       "    }\n",
       "\n",
       "    .dataframe tbody tr th {\n",
       "        vertical-align: top;\n",
       "    }\n",
       "\n",
       "    .dataframe thead th {\n",
       "        text-align: right;\n",
       "    }\n",
       "</style>\n",
       "<table border=\"1\" class=\"dataframe\">\n",
       "  <thead>\n",
       "    <tr style=\"text-align: right;\">\n",
       "      <th></th>\n",
       "      <th>Unnamed: 0</th>\n",
       "      <th>id</th>\n",
       "      <th>Name</th>\n",
       "      <th>zeros</th>\n",
       "      <th>zeros + 1</th>\n",
       "    </tr>\n",
       "  </thead>\n",
       "  <tbody>\n",
       "    <tr>\n",
       "      <th>0</th>\n",
       "      <td>0</td>\n",
       "      <td>1</td>\n",
       "      <td>sandip</td>\n",
       "      <td>0</td>\n",
       "      <td>2</td>\n",
       "    </tr>\n",
       "    <tr>\n",
       "      <th>1</th>\n",
       "      <td>1</td>\n",
       "      <td>2</td>\n",
       "      <td>rahul</td>\n",
       "      <td>0</td>\n",
       "      <td>2</td>\n",
       "    </tr>\n",
       "    <tr>\n",
       "      <th>2</th>\n",
       "      <td>2</td>\n",
       "      <td>3</td>\n",
       "      <td>piu</td>\n",
       "      <td>0</td>\n",
       "      <td>2</td>\n",
       "    </tr>\n",
       "    <tr>\n",
       "      <th>3</th>\n",
       "      <td>3</td>\n",
       "      <td>4</td>\n",
       "      <td>ullu</td>\n",
       "      <td>0</td>\n",
       "      <td>2</td>\n",
       "    </tr>\n",
       "    <tr>\n",
       "      <th>4</th>\n",
       "      <td>4</td>\n",
       "      <td>5</td>\n",
       "      <td>rahul</td>\n",
       "      <td>0</td>\n",
       "      <td>2</td>\n",
       "    </tr>\n",
       "    <tr>\n",
       "      <th>5</th>\n",
       "      <td>5</td>\n",
       "      <td>6</td>\n",
       "      <td>hoo</td>\n",
       "      <td>0</td>\n",
       "      <td>2</td>\n",
       "    </tr>\n",
       "    <tr>\n",
       "      <th>6</th>\n",
       "      <td>6</td>\n",
       "      <td>7</td>\n",
       "      <td>joy</td>\n",
       "      <td>0</td>\n",
       "      <td>2</td>\n",
       "    </tr>\n",
       "    <tr>\n",
       "      <th>7</th>\n",
       "      <td>7</td>\n",
       "      <td>8</td>\n",
       "      <td>swe</td>\n",
       "      <td>0</td>\n",
       "      <td>2</td>\n",
       "    </tr>\n",
       "    <tr>\n",
       "      <th>8</th>\n",
       "      <td>8</td>\n",
       "      <td>9</td>\n",
       "      <td>sde</td>\n",
       "      <td>0</td>\n",
       "      <td>2</td>\n",
       "    </tr>\n",
       "    <tr>\n",
       "      <th>9</th>\n",
       "      <td>9</td>\n",
       "      <td>10</td>\n",
       "      <td>qa</td>\n",
       "      <td>0</td>\n",
       "      <td>2</td>\n",
       "    </tr>\n",
       "    <tr>\n",
       "      <th>10</th>\n",
       "      <td>10</td>\n",
       "      <td>11</td>\n",
       "      <td>wet</td>\n",
       "      <td>0</td>\n",
       "      <td>2</td>\n",
       "    </tr>\n",
       "    <tr>\n",
       "      <th>11</th>\n",
       "      <td>11</td>\n",
       "      <td>12</td>\n",
       "      <td>sda</td>\n",
       "      <td>0</td>\n",
       "      <td>2</td>\n",
       "    </tr>\n",
       "    <tr>\n",
       "      <th>12</th>\n",
       "      <td>12</td>\n",
       "      <td>13</td>\n",
       "      <td>ssd</td>\n",
       "      <td>0</td>\n",
       "      <td>2</td>\n",
       "    </tr>\n",
       "    <tr>\n",
       "      <th>13</th>\n",
       "      <td>13</td>\n",
       "      <td>14</td>\n",
       "      <td>a</td>\n",
       "      <td>0</td>\n",
       "      <td>2</td>\n",
       "    </tr>\n",
       "    <tr>\n",
       "      <th>14</th>\n",
       "      <td>14</td>\n",
       "      <td>15</td>\n",
       "      <td>d</td>\n",
       "      <td>0</td>\n",
       "      <td>2</td>\n",
       "    </tr>\n",
       "    <tr>\n",
       "      <th>15</th>\n",
       "      <td>15</td>\n",
       "      <td>16</td>\n",
       "      <td>vf</td>\n",
       "      <td>0</td>\n",
       "      <td>2</td>\n",
       "    </tr>\n",
       "    <tr>\n",
       "      <th>16</th>\n",
       "      <td>16</td>\n",
       "      <td>17</td>\n",
       "      <td>tg</td>\n",
       "      <td>0</td>\n",
       "      <td>2</td>\n",
       "    </tr>\n",
       "    <tr>\n",
       "      <th>17</th>\n",
       "      <td>17</td>\n",
       "      <td>18</td>\n",
       "      <td>vbr</td>\n",
       "      <td>0</td>\n",
       "      <td>2</td>\n",
       "    </tr>\n",
       "    <tr>\n",
       "      <th>18</th>\n",
       "      <td>18</td>\n",
       "      <td>19</td>\n",
       "      <td>rg</td>\n",
       "      <td>0</td>\n",
       "      <td>2</td>\n",
       "    </tr>\n",
       "    <tr>\n",
       "      <th>19</th>\n",
       "      <td>19</td>\n",
       "      <td>20</td>\n",
       "      <td>rb</td>\n",
       "      <td>0</td>\n",
       "      <td>2</td>\n",
       "    </tr>\n",
       "    <tr>\n",
       "      <th>20</th>\n",
       "      <td>20</td>\n",
       "      <td>21</td>\n",
       "      <td>rgt</td>\n",
       "      <td>0</td>\n",
       "      <td>2</td>\n",
       "    </tr>\n",
       "    <tr>\n",
       "      <th>21</th>\n",
       "      <td>21</td>\n",
       "      <td>22</td>\n",
       "      <td>hth</td>\n",
       "      <td>0</td>\n",
       "      <td>2</td>\n",
       "    </tr>\n",
       "    <tr>\n",
       "      <th>22</th>\n",
       "      <td>22</td>\n",
       "      <td>23</td>\n",
       "      <td>tg</td>\n",
       "      <td>0</td>\n",
       "      <td>2</td>\n",
       "    </tr>\n",
       "  </tbody>\n",
       "</table>\n",
       "</div>"
      ],
      "text/plain": [
       "    Unnamed: 0  id    Name  zeros  zeros + 1\n",
       "0            0   1  sandip      0          2\n",
       "1            1   2   rahul      0          2\n",
       "2            2   3     piu      0          2\n",
       "3            3   4    ullu      0          2\n",
       "4            4   5   rahul      0          2\n",
       "5            5   6     hoo      0          2\n",
       "6            6   7     joy      0          2\n",
       "7            7   8     swe      0          2\n",
       "8            8   9     sde      0          2\n",
       "9            9  10      qa      0          2\n",
       "10          10  11     wet      0          2\n",
       "11          11  12     sda      0          2\n",
       "12          12  13     ssd      0          2\n",
       "13          13  14       a      0          2\n",
       "14          14  15       d      0          2\n",
       "15          15  16      vf      0          2\n",
       "16          16  17      tg      0          2\n",
       "17          17  18     vbr      0          2\n",
       "18          18  19      rg      0          2\n",
       "19          19  20      rb      0          2\n",
       "20          20  21     rgt      0          2\n",
       "21          21  22     hth      0          2\n",
       "22          22  23      tg      0          2"
      ]
     },
     "execution_count": 16,
     "metadata": {},
     "output_type": "execute_result"
    }
   ],
   "source": [
    "df.rename(columns={\"name\":\"Name\"})"
   ]
  },
  {
   "cell_type": "code",
   "execution_count": 17,
   "id": "8ec185fbf4a65b9d",
   "metadata": {
    "ExecuteTime": {
     "end_time": "2025-02-08T05:48:37.530456Z",
     "start_time": "2025-02-08T05:48:37.523256Z"
    },
    "collapsed": false
   },
   "outputs": [
    {
     "data": {
      "text/html": [
       "<div>\n",
       "<style scoped>\n",
       "    .dataframe tbody tr th:only-of-type {\n",
       "        vertical-align: middle;\n",
       "    }\n",
       "\n",
       "    .dataframe tbody tr th {\n",
       "        vertical-align: top;\n",
       "    }\n",
       "\n",
       "    .dataframe thead th {\n",
       "        text-align: right;\n",
       "    }\n",
       "</style>\n",
       "<table border=\"1\" class=\"dataframe\">\n",
       "  <thead>\n",
       "    <tr style=\"text-align: right;\">\n",
       "      <th></th>\n",
       "      <th>Unnamed: 0</th>\n",
       "      <th>id</th>\n",
       "      <th>name</th>\n",
       "      <th>zeros</th>\n",
       "      <th>zeros + 1</th>\n",
       "    </tr>\n",
       "  </thead>\n",
       "  <tbody>\n",
       "    <tr>\n",
       "      <th>0</th>\n",
       "      <td>0</td>\n",
       "      <td>1</td>\n",
       "      <td>sandip</td>\n",
       "      <td>0</td>\n",
       "      <td>2</td>\n",
       "    </tr>\n",
       "    <tr>\n",
       "      <th>1</th>\n",
       "      <td>1</td>\n",
       "      <td>2</td>\n",
       "      <td>rahul</td>\n",
       "      <td>0</td>\n",
       "      <td>2</td>\n",
       "    </tr>\n",
       "    <tr>\n",
       "      <th>2</th>\n",
       "      <td>2</td>\n",
       "      <td>3</td>\n",
       "      <td>piu</td>\n",
       "      <td>0</td>\n",
       "      <td>2</td>\n",
       "    </tr>\n",
       "    <tr>\n",
       "      <th>3</th>\n",
       "      <td>3</td>\n",
       "      <td>4</td>\n",
       "      <td>ullu</td>\n",
       "      <td>0</td>\n",
       "      <td>2</td>\n",
       "    </tr>\n",
       "    <tr>\n",
       "      <th>4</th>\n",
       "      <td>4</td>\n",
       "      <td>5</td>\n",
       "      <td>rahul</td>\n",
       "      <td>0</td>\n",
       "      <td>2</td>\n",
       "    </tr>\n",
       "    <tr>\n",
       "      <th>5</th>\n",
       "      <td>5</td>\n",
       "      <td>6</td>\n",
       "      <td>hoo</td>\n",
       "      <td>0</td>\n",
       "      <td>2</td>\n",
       "    </tr>\n",
       "    <tr>\n",
       "      <th>6</th>\n",
       "      <td>6</td>\n",
       "      <td>7</td>\n",
       "      <td>joy</td>\n",
       "      <td>0</td>\n",
       "      <td>2</td>\n",
       "    </tr>\n",
       "    <tr>\n",
       "      <th>7</th>\n",
       "      <td>7</td>\n",
       "      <td>8</td>\n",
       "      <td>swe</td>\n",
       "      <td>0</td>\n",
       "      <td>2</td>\n",
       "    </tr>\n",
       "    <tr>\n",
       "      <th>8</th>\n",
       "      <td>8</td>\n",
       "      <td>9</td>\n",
       "      <td>sde</td>\n",
       "      <td>0</td>\n",
       "      <td>2</td>\n",
       "    </tr>\n",
       "    <tr>\n",
       "      <th>9</th>\n",
       "      <td>9</td>\n",
       "      <td>10</td>\n",
       "      <td>qa</td>\n",
       "      <td>0</td>\n",
       "      <td>2</td>\n",
       "    </tr>\n",
       "    <tr>\n",
       "      <th>10</th>\n",
       "      <td>10</td>\n",
       "      <td>11</td>\n",
       "      <td>wet</td>\n",
       "      <td>0</td>\n",
       "      <td>2</td>\n",
       "    </tr>\n",
       "    <tr>\n",
       "      <th>11</th>\n",
       "      <td>11</td>\n",
       "      <td>12</td>\n",
       "      <td>sda</td>\n",
       "      <td>0</td>\n",
       "      <td>2</td>\n",
       "    </tr>\n",
       "    <tr>\n",
       "      <th>12</th>\n",
       "      <td>12</td>\n",
       "      <td>13</td>\n",
       "      <td>ssd</td>\n",
       "      <td>0</td>\n",
       "      <td>2</td>\n",
       "    </tr>\n",
       "    <tr>\n",
       "      <th>13</th>\n",
       "      <td>13</td>\n",
       "      <td>14</td>\n",
       "      <td>a</td>\n",
       "      <td>0</td>\n",
       "      <td>2</td>\n",
       "    </tr>\n",
       "    <tr>\n",
       "      <th>14</th>\n",
       "      <td>14</td>\n",
       "      <td>15</td>\n",
       "      <td>d</td>\n",
       "      <td>0</td>\n",
       "      <td>2</td>\n",
       "    </tr>\n",
       "    <tr>\n",
       "      <th>15</th>\n",
       "      <td>15</td>\n",
       "      <td>16</td>\n",
       "      <td>vf</td>\n",
       "      <td>0</td>\n",
       "      <td>2</td>\n",
       "    </tr>\n",
       "    <tr>\n",
       "      <th>16</th>\n",
       "      <td>16</td>\n",
       "      <td>17</td>\n",
       "      <td>tg</td>\n",
       "      <td>0</td>\n",
       "      <td>2</td>\n",
       "    </tr>\n",
       "    <tr>\n",
       "      <th>17</th>\n",
       "      <td>17</td>\n",
       "      <td>18</td>\n",
       "      <td>vbr</td>\n",
       "      <td>0</td>\n",
       "      <td>2</td>\n",
       "    </tr>\n",
       "    <tr>\n",
       "      <th>18</th>\n",
       "      <td>18</td>\n",
       "      <td>19</td>\n",
       "      <td>rg</td>\n",
       "      <td>0</td>\n",
       "      <td>2</td>\n",
       "    </tr>\n",
       "    <tr>\n",
       "      <th>19</th>\n",
       "      <td>19</td>\n",
       "      <td>20</td>\n",
       "      <td>rb</td>\n",
       "      <td>0</td>\n",
       "      <td>2</td>\n",
       "    </tr>\n",
       "    <tr>\n",
       "      <th>20</th>\n",
       "      <td>20</td>\n",
       "      <td>21</td>\n",
       "      <td>rgt</td>\n",
       "      <td>0</td>\n",
       "      <td>2</td>\n",
       "    </tr>\n",
       "    <tr>\n",
       "      <th>21</th>\n",
       "      <td>21</td>\n",
       "      <td>22</td>\n",
       "      <td>hth</td>\n",
       "      <td>0</td>\n",
       "      <td>2</td>\n",
       "    </tr>\n",
       "    <tr>\n",
       "      <th>22</th>\n",
       "      <td>22</td>\n",
       "      <td>23</td>\n",
       "      <td>tg</td>\n",
       "      <td>0</td>\n",
       "      <td>2</td>\n",
       "    </tr>\n",
       "  </tbody>\n",
       "</table>\n",
       "</div>"
      ],
      "text/plain": [
       "    Unnamed: 0  id    name  zeros  zeros + 1\n",
       "0            0   1  sandip      0          2\n",
       "1            1   2   rahul      0          2\n",
       "2            2   3     piu      0          2\n",
       "3            3   4    ullu      0          2\n",
       "4            4   5   rahul      0          2\n",
       "5            5   6     hoo      0          2\n",
       "6            6   7     joy      0          2\n",
       "7            7   8     swe      0          2\n",
       "8            8   9     sde      0          2\n",
       "9            9  10      qa      0          2\n",
       "10          10  11     wet      0          2\n",
       "11          11  12     sda      0          2\n",
       "12          12  13     ssd      0          2\n",
       "13          13  14       a      0          2\n",
       "14          14  15       d      0          2\n",
       "15          15  16      vf      0          2\n",
       "16          16  17      tg      0          2\n",
       "17          17  18     vbr      0          2\n",
       "18          18  19      rg      0          2\n",
       "19          19  20      rb      0          2\n",
       "20          20  21     rgt      0          2\n",
       "21          21  22     hth      0          2\n",
       "22          22  23      tg      0          2"
      ]
     },
     "execution_count": 17,
     "metadata": {},
     "output_type": "execute_result"
    }
   ],
   "source": [
    "df"
   ]
  },
  {
   "cell_type": "code",
   "execution_count": null,
   "id": "df43f9e206934238",
   "metadata": {
    "ExecuteTime": {
     "end_time": "2025-02-08T05:50:33.186622Z",
     "start_time": "2025-02-08T05:50:33.182512Z"
    },
    "collapsed": false
   },
   "outputs": [
    {
     "data": {
      "text/plain": [
       "dtype('O')"
      ]
     },
     "execution_count": 101,
     "metadata": {},
     "output_type": "execute_result"
    }
   ],
   "source": [
    "df['id']=df['id'].astype(str) #converts the \"id\" column in the dataframe to string type\n",
    "df['id'].dtype #displays the data type of the \"id\" column in the dataframe after conversion column in the dataframe to boolean type\n",
    "df['id'].astype(object) #converts the \"id\" column in the dataframe to object type\n",
    "df['id'].astype(\"category\") #converts the \"id\" column in the dataframe to category type\n",
    "df['id'].astype(int) #converts the \"id\" column in the dataframe to integer type\n",
    "df['id'].astype(float) #converts the \"id\" column in the dataframe to float type\n",
    "df['id'].astype(str) #converts the \"id\" column in the dataframe to string type\n",
    "df['id'].astype(bool) #converts the \"id\" column in the dataframe to boolean type \n",
    "#dtype('O') means object type in pandas, which is used for string data"
   ]
  },
  {
   "cell_type": "code",
   "execution_count": 19,
   "id": "b6b46cf0cfb32061",
   "metadata": {
    "ExecuteTime": {
     "end_time": "2025-02-08T05:50:37.346560Z",
     "start_time": "2025-02-08T05:50:37.337799Z"
    },
    "collapsed": false
   },
   "outputs": [
    {
     "data": {
      "text/html": [
       "<div>\n",
       "<style scoped>\n",
       "    .dataframe tbody tr th:only-of-type {\n",
       "        vertical-align: middle;\n",
       "    }\n",
       "\n",
       "    .dataframe tbody tr th {\n",
       "        vertical-align: top;\n",
       "    }\n",
       "\n",
       "    .dataframe thead th {\n",
       "        text-align: right;\n",
       "    }\n",
       "</style>\n",
       "<table border=\"1\" class=\"dataframe\">\n",
       "  <thead>\n",
       "    <tr style=\"text-align: right;\">\n",
       "      <th></th>\n",
       "      <th>Unnamed: 0</th>\n",
       "      <th>id</th>\n",
       "      <th>name</th>\n",
       "      <th>zeros</th>\n",
       "      <th>zeros + 1</th>\n",
       "    </tr>\n",
       "  </thead>\n",
       "  <tbody>\n",
       "    <tr>\n",
       "      <th>0</th>\n",
       "      <td>0</td>\n",
       "      <td>1</td>\n",
       "      <td>sandip</td>\n",
       "      <td>0</td>\n",
       "      <td>2</td>\n",
       "    </tr>\n",
       "    <tr>\n",
       "      <th>1</th>\n",
       "      <td>1</td>\n",
       "      <td>2</td>\n",
       "      <td>rahul</td>\n",
       "      <td>0</td>\n",
       "      <td>2</td>\n",
       "    </tr>\n",
       "    <tr>\n",
       "      <th>2</th>\n",
       "      <td>2</td>\n",
       "      <td>3</td>\n",
       "      <td>piu</td>\n",
       "      <td>0</td>\n",
       "      <td>2</td>\n",
       "    </tr>\n",
       "    <tr>\n",
       "      <th>3</th>\n",
       "      <td>3</td>\n",
       "      <td>4</td>\n",
       "      <td>ullu</td>\n",
       "      <td>0</td>\n",
       "      <td>2</td>\n",
       "    </tr>\n",
       "    <tr>\n",
       "      <th>4</th>\n",
       "      <td>4</td>\n",
       "      <td>5</td>\n",
       "      <td>rahul</td>\n",
       "      <td>0</td>\n",
       "      <td>2</td>\n",
       "    </tr>\n",
       "    <tr>\n",
       "      <th>5</th>\n",
       "      <td>5</td>\n",
       "      <td>6</td>\n",
       "      <td>hoo</td>\n",
       "      <td>0</td>\n",
       "      <td>2</td>\n",
       "    </tr>\n",
       "    <tr>\n",
       "      <th>6</th>\n",
       "      <td>6</td>\n",
       "      <td>7</td>\n",
       "      <td>joy</td>\n",
       "      <td>0</td>\n",
       "      <td>2</td>\n",
       "    </tr>\n",
       "    <tr>\n",
       "      <th>7</th>\n",
       "      <td>7</td>\n",
       "      <td>8</td>\n",
       "      <td>swe</td>\n",
       "      <td>0</td>\n",
       "      <td>2</td>\n",
       "    </tr>\n",
       "    <tr>\n",
       "      <th>8</th>\n",
       "      <td>8</td>\n",
       "      <td>9</td>\n",
       "      <td>sde</td>\n",
       "      <td>0</td>\n",
       "      <td>2</td>\n",
       "    </tr>\n",
       "    <tr>\n",
       "      <th>9</th>\n",
       "      <td>9</td>\n",
       "      <td>10</td>\n",
       "      <td>qa</td>\n",
       "      <td>0</td>\n",
       "      <td>2</td>\n",
       "    </tr>\n",
       "    <tr>\n",
       "      <th>10</th>\n",
       "      <td>10</td>\n",
       "      <td>11</td>\n",
       "      <td>wet</td>\n",
       "      <td>0</td>\n",
       "      <td>2</td>\n",
       "    </tr>\n",
       "    <tr>\n",
       "      <th>11</th>\n",
       "      <td>11</td>\n",
       "      <td>12</td>\n",
       "      <td>sda</td>\n",
       "      <td>0</td>\n",
       "      <td>2</td>\n",
       "    </tr>\n",
       "    <tr>\n",
       "      <th>12</th>\n",
       "      <td>12</td>\n",
       "      <td>13</td>\n",
       "      <td>ssd</td>\n",
       "      <td>0</td>\n",
       "      <td>2</td>\n",
       "    </tr>\n",
       "    <tr>\n",
       "      <th>13</th>\n",
       "      <td>13</td>\n",
       "      <td>14</td>\n",
       "      <td>a</td>\n",
       "      <td>0</td>\n",
       "      <td>2</td>\n",
       "    </tr>\n",
       "    <tr>\n",
       "      <th>14</th>\n",
       "      <td>14</td>\n",
       "      <td>15</td>\n",
       "      <td>d</td>\n",
       "      <td>0</td>\n",
       "      <td>2</td>\n",
       "    </tr>\n",
       "    <tr>\n",
       "      <th>15</th>\n",
       "      <td>15</td>\n",
       "      <td>16</td>\n",
       "      <td>vf</td>\n",
       "      <td>0</td>\n",
       "      <td>2</td>\n",
       "    </tr>\n",
       "    <tr>\n",
       "      <th>16</th>\n",
       "      <td>16</td>\n",
       "      <td>17</td>\n",
       "      <td>tg</td>\n",
       "      <td>0</td>\n",
       "      <td>2</td>\n",
       "    </tr>\n",
       "    <tr>\n",
       "      <th>17</th>\n",
       "      <td>17</td>\n",
       "      <td>18</td>\n",
       "      <td>vbr</td>\n",
       "      <td>0</td>\n",
       "      <td>2</td>\n",
       "    </tr>\n",
       "    <tr>\n",
       "      <th>18</th>\n",
       "      <td>18</td>\n",
       "      <td>19</td>\n",
       "      <td>rg</td>\n",
       "      <td>0</td>\n",
       "      <td>2</td>\n",
       "    </tr>\n",
       "    <tr>\n",
       "      <th>19</th>\n",
       "      <td>19</td>\n",
       "      <td>20</td>\n",
       "      <td>rb</td>\n",
       "      <td>0</td>\n",
       "      <td>2</td>\n",
       "    </tr>\n",
       "    <tr>\n",
       "      <th>20</th>\n",
       "      <td>20</td>\n",
       "      <td>21</td>\n",
       "      <td>rgt</td>\n",
       "      <td>0</td>\n",
       "      <td>2</td>\n",
       "    </tr>\n",
       "    <tr>\n",
       "      <th>21</th>\n",
       "      <td>21</td>\n",
       "      <td>22</td>\n",
       "      <td>hth</td>\n",
       "      <td>0</td>\n",
       "      <td>2</td>\n",
       "    </tr>\n",
       "    <tr>\n",
       "      <th>22</th>\n",
       "      <td>22</td>\n",
       "      <td>23</td>\n",
       "      <td>tg</td>\n",
       "      <td>0</td>\n",
       "      <td>2</td>\n",
       "    </tr>\n",
       "  </tbody>\n",
       "</table>\n",
       "</div>"
      ],
      "text/plain": [
       "    Unnamed: 0  id    name  zeros  zeros + 1\n",
       "0            0   1  sandip      0          2\n",
       "1            1   2   rahul      0          2\n",
       "2            2   3     piu      0          2\n",
       "3            3   4    ullu      0          2\n",
       "4            4   5   rahul      0          2\n",
       "5            5   6     hoo      0          2\n",
       "6            6   7     joy      0          2\n",
       "7            7   8     swe      0          2\n",
       "8            8   9     sde      0          2\n",
       "9            9  10      qa      0          2\n",
       "10          10  11     wet      0          2\n",
       "11          11  12     sda      0          2\n",
       "12          12  13     ssd      0          2\n",
       "13          13  14       a      0          2\n",
       "14          14  15       d      0          2\n",
       "15          15  16      vf      0          2\n",
       "16          16  17      tg      0          2\n",
       "17          17  18     vbr      0          2\n",
       "18          18  19      rg      0          2\n",
       "19          19  20      rb      0          2\n",
       "20          20  21     rgt      0          2\n",
       "21          21  22     hth      0          2\n",
       "22          22  23      tg      0          2"
      ]
     },
     "execution_count": 19,
     "metadata": {},
     "output_type": "execute_result"
    }
   ],
   "source": [
    "df"
   ]
  },
  {
   "cell_type": "code",
   "execution_count": 20,
   "id": "2c2085bd5d8fef3a",
   "metadata": {
    "ExecuteTime": {
     "end_time": "2025-02-08T05:51:30.052167Z",
     "start_time": "2025-02-08T05:51:30.047147Z"
    },
    "collapsed": false
   },
   "outputs": [
    {
     "data": {
      "text/plain": [
       "0     sandip\n",
       "1      rahul\n",
       "2        piu\n",
       "3       ullu\n",
       "4      rahul\n",
       "5        hoo\n",
       "6        joy\n",
       "7        swe\n",
       "8        sde\n",
       "9         qa\n",
       "10       wet\n",
       "11       sda\n",
       "12       ssd\n",
       "13         a\n",
       "14         d\n",
       "15        vf\n",
       "16        tg\n",
       "17       vbr\n",
       "18        rg\n",
       "19        rb\n",
       "20       rgt\n",
       "21       hth\n",
       "22        tg\n",
       "Name: name, dtype: object"
      ]
     },
     "execution_count": 20,
     "metadata": {},
     "output_type": "execute_result"
    }
   ],
   "source": [
    "df[\"name\"]"
   ]
  },
  {
   "cell_type": "code",
   "execution_count": 21,
   "id": "79df030f90c9ddc1",
   "metadata": {
    "ExecuteTime": {
     "end_time": "2025-02-08T05:51:57.232571Z",
     "start_time": "2025-02-08T05:51:57.227572Z"
    },
    "collapsed": false
   },
   "outputs": [
    {
     "data": {
      "text/plain": [
       "'sandip'"
      ]
     },
     "execution_count": 21,
     "metadata": {},
     "output_type": "execute_result"
    }
   ],
   "source": [
    "df[\"name\"][0]"
   ]
  },
  {
   "cell_type": "code",
   "execution_count": null,
   "id": "4ea88f725bea73cf",
   "metadata": {
    "ExecuteTime": {
     "end_time": "2025-02-08T05:52:45.493424Z",
     "start_time": "2025-02-08T05:52:45.486314Z"
    },
    "collapsed": false
   },
   "outputs": [
    {
     "data": {
      "text/plain": [
       "23"
      ]
     },
     "execution_count": 22,
     "metadata": {},
     "output_type": "execute_result"
    }
   ],
   "source": [
    "len(df) #displays the number of rows in the dataframe\n",
    "len(df.columns) #displays the number of columns in the dataframe"
   ]
  },
  {
   "cell_type": "code",
   "execution_count": null,
   "id": "4c0ac4c57720c479",
   "metadata": {
    "ExecuteTime": {
     "end_time": "2025-02-08T05:53:29.942895Z",
     "start_time": "2025-02-08T05:53:29.938527Z"
    },
    "collapsed": false
   },
   "outputs": [],
   "source": [
    "df[\"zeros\"]=[0 for i in range(len(df))] #creates a new column \"zeros\" in the dataframe with all values set to 0\n",
    "df[\"zeros\"]=[0]*len(df) #creates a new column \"zeros\" in the dataframe with all values set to 0"
   ]
  },
  {
   "cell_type": "code",
   "execution_count": 24,
   "id": "9829283aa1939804",
   "metadata": {
    "ExecuteTime": {
     "end_time": "2025-02-08T05:53:34.023189Z",
     "start_time": "2025-02-08T05:53:34.016428Z"
    },
    "collapsed": false
   },
   "outputs": [
    {
     "data": {
      "text/html": [
       "<div>\n",
       "<style scoped>\n",
       "    .dataframe tbody tr th:only-of-type {\n",
       "        vertical-align: middle;\n",
       "    }\n",
       "\n",
       "    .dataframe tbody tr th {\n",
       "        vertical-align: top;\n",
       "    }\n",
       "\n",
       "    .dataframe thead th {\n",
       "        text-align: right;\n",
       "    }\n",
       "</style>\n",
       "<table border=\"1\" class=\"dataframe\">\n",
       "  <thead>\n",
       "    <tr style=\"text-align: right;\">\n",
       "      <th></th>\n",
       "      <th>Unnamed: 0</th>\n",
       "      <th>id</th>\n",
       "      <th>name</th>\n",
       "      <th>zeros</th>\n",
       "      <th>zeros + 1</th>\n",
       "    </tr>\n",
       "  </thead>\n",
       "  <tbody>\n",
       "    <tr>\n",
       "      <th>0</th>\n",
       "      <td>0</td>\n",
       "      <td>1</td>\n",
       "      <td>sandip</td>\n",
       "      <td>0</td>\n",
       "      <td>2</td>\n",
       "    </tr>\n",
       "    <tr>\n",
       "      <th>1</th>\n",
       "      <td>1</td>\n",
       "      <td>2</td>\n",
       "      <td>rahul</td>\n",
       "      <td>0</td>\n",
       "      <td>2</td>\n",
       "    </tr>\n",
       "    <tr>\n",
       "      <th>2</th>\n",
       "      <td>2</td>\n",
       "      <td>3</td>\n",
       "      <td>piu</td>\n",
       "      <td>0</td>\n",
       "      <td>2</td>\n",
       "    </tr>\n",
       "    <tr>\n",
       "      <th>3</th>\n",
       "      <td>3</td>\n",
       "      <td>4</td>\n",
       "      <td>ullu</td>\n",
       "      <td>0</td>\n",
       "      <td>2</td>\n",
       "    </tr>\n",
       "    <tr>\n",
       "      <th>4</th>\n",
       "      <td>4</td>\n",
       "      <td>5</td>\n",
       "      <td>rahul</td>\n",
       "      <td>0</td>\n",
       "      <td>2</td>\n",
       "    </tr>\n",
       "    <tr>\n",
       "      <th>5</th>\n",
       "      <td>5</td>\n",
       "      <td>6</td>\n",
       "      <td>hoo</td>\n",
       "      <td>0</td>\n",
       "      <td>2</td>\n",
       "    </tr>\n",
       "    <tr>\n",
       "      <th>6</th>\n",
       "      <td>6</td>\n",
       "      <td>7</td>\n",
       "      <td>joy</td>\n",
       "      <td>0</td>\n",
       "      <td>2</td>\n",
       "    </tr>\n",
       "    <tr>\n",
       "      <th>7</th>\n",
       "      <td>7</td>\n",
       "      <td>8</td>\n",
       "      <td>swe</td>\n",
       "      <td>0</td>\n",
       "      <td>2</td>\n",
       "    </tr>\n",
       "    <tr>\n",
       "      <th>8</th>\n",
       "      <td>8</td>\n",
       "      <td>9</td>\n",
       "      <td>sde</td>\n",
       "      <td>0</td>\n",
       "      <td>2</td>\n",
       "    </tr>\n",
       "    <tr>\n",
       "      <th>9</th>\n",
       "      <td>9</td>\n",
       "      <td>10</td>\n",
       "      <td>qa</td>\n",
       "      <td>0</td>\n",
       "      <td>2</td>\n",
       "    </tr>\n",
       "    <tr>\n",
       "      <th>10</th>\n",
       "      <td>10</td>\n",
       "      <td>11</td>\n",
       "      <td>wet</td>\n",
       "      <td>0</td>\n",
       "      <td>2</td>\n",
       "    </tr>\n",
       "    <tr>\n",
       "      <th>11</th>\n",
       "      <td>11</td>\n",
       "      <td>12</td>\n",
       "      <td>sda</td>\n",
       "      <td>0</td>\n",
       "      <td>2</td>\n",
       "    </tr>\n",
       "    <tr>\n",
       "      <th>12</th>\n",
       "      <td>12</td>\n",
       "      <td>13</td>\n",
       "      <td>ssd</td>\n",
       "      <td>0</td>\n",
       "      <td>2</td>\n",
       "    </tr>\n",
       "    <tr>\n",
       "      <th>13</th>\n",
       "      <td>13</td>\n",
       "      <td>14</td>\n",
       "      <td>a</td>\n",
       "      <td>0</td>\n",
       "      <td>2</td>\n",
       "    </tr>\n",
       "    <tr>\n",
       "      <th>14</th>\n",
       "      <td>14</td>\n",
       "      <td>15</td>\n",
       "      <td>d</td>\n",
       "      <td>0</td>\n",
       "      <td>2</td>\n",
       "    </tr>\n",
       "    <tr>\n",
       "      <th>15</th>\n",
       "      <td>15</td>\n",
       "      <td>16</td>\n",
       "      <td>vf</td>\n",
       "      <td>0</td>\n",
       "      <td>2</td>\n",
       "    </tr>\n",
       "    <tr>\n",
       "      <th>16</th>\n",
       "      <td>16</td>\n",
       "      <td>17</td>\n",
       "      <td>tg</td>\n",
       "      <td>0</td>\n",
       "      <td>2</td>\n",
       "    </tr>\n",
       "    <tr>\n",
       "      <th>17</th>\n",
       "      <td>17</td>\n",
       "      <td>18</td>\n",
       "      <td>vbr</td>\n",
       "      <td>0</td>\n",
       "      <td>2</td>\n",
       "    </tr>\n",
       "    <tr>\n",
       "      <th>18</th>\n",
       "      <td>18</td>\n",
       "      <td>19</td>\n",
       "      <td>rg</td>\n",
       "      <td>0</td>\n",
       "      <td>2</td>\n",
       "    </tr>\n",
       "    <tr>\n",
       "      <th>19</th>\n",
       "      <td>19</td>\n",
       "      <td>20</td>\n",
       "      <td>rb</td>\n",
       "      <td>0</td>\n",
       "      <td>2</td>\n",
       "    </tr>\n",
       "    <tr>\n",
       "      <th>20</th>\n",
       "      <td>20</td>\n",
       "      <td>21</td>\n",
       "      <td>rgt</td>\n",
       "      <td>0</td>\n",
       "      <td>2</td>\n",
       "    </tr>\n",
       "    <tr>\n",
       "      <th>21</th>\n",
       "      <td>21</td>\n",
       "      <td>22</td>\n",
       "      <td>hth</td>\n",
       "      <td>0</td>\n",
       "      <td>2</td>\n",
       "    </tr>\n",
       "    <tr>\n",
       "      <th>22</th>\n",
       "      <td>22</td>\n",
       "      <td>23</td>\n",
       "      <td>tg</td>\n",
       "      <td>0</td>\n",
       "      <td>2</td>\n",
       "    </tr>\n",
       "  </tbody>\n",
       "</table>\n",
       "</div>"
      ],
      "text/plain": [
       "    Unnamed: 0  id    name  zeros  zeros + 1\n",
       "0            0   1  sandip      0          2\n",
       "1            1   2   rahul      0          2\n",
       "2            2   3     piu      0          2\n",
       "3            3   4    ullu      0          2\n",
       "4            4   5   rahul      0          2\n",
       "5            5   6     hoo      0          2\n",
       "6            6   7     joy      0          2\n",
       "7            7   8     swe      0          2\n",
       "8            8   9     sde      0          2\n",
       "9            9  10      qa      0          2\n",
       "10          10  11     wet      0          2\n",
       "11          11  12     sda      0          2\n",
       "12          12  13     ssd      0          2\n",
       "13          13  14       a      0          2\n",
       "14          14  15       d      0          2\n",
       "15          15  16      vf      0          2\n",
       "16          16  17      tg      0          2\n",
       "17          17  18     vbr      0          2\n",
       "18          18  19      rg      0          2\n",
       "19          19  20      rb      0          2\n",
       "20          20  21     rgt      0          2\n",
       "21          21  22     hth      0          2\n",
       "22          22  23      tg      0          2"
      ]
     },
     "execution_count": 24,
     "metadata": {},
     "output_type": "execute_result"
    }
   ],
   "source": [
    "df"
   ]
  },
  {
   "cell_type": "code",
   "execution_count": null,
   "id": "7c7d849ee5c67ec7",
   "metadata": {
    "ExecuteTime": {
     "end_time": "2025-02-08T05:58:58.620020Z",
     "start_time": "2025-02-08T05:58:58.615832Z"
    },
    "collapsed": false
   },
   "outputs": [],
   "source": [
    "def fx(a): #function to add 1 to the value of a\n",
    "    i=1\n",
    "    return i+1\n",
    "df[\"zeros + 1\"]=df[\"zeros\"].apply(fx) #creates a new column \"zeros + 1\" in the dataframe by applying the function fx to the \"zeros\" column"
   ]
  },
  {
   "cell_type": "code",
   "execution_count": 26,
   "id": "7408444049e933b3",
   "metadata": {
    "ExecuteTime": {
     "end_time": "2025-02-08T05:59:03.734969Z",
     "start_time": "2025-02-08T05:59:03.727276Z"
    },
    "collapsed": false
   },
   "outputs": [
    {
     "data": {
      "text/html": [
       "<div>\n",
       "<style scoped>\n",
       "    .dataframe tbody tr th:only-of-type {\n",
       "        vertical-align: middle;\n",
       "    }\n",
       "\n",
       "    .dataframe tbody tr th {\n",
       "        vertical-align: top;\n",
       "    }\n",
       "\n",
       "    .dataframe thead th {\n",
       "        text-align: right;\n",
       "    }\n",
       "</style>\n",
       "<table border=\"1\" class=\"dataframe\">\n",
       "  <thead>\n",
       "    <tr style=\"text-align: right;\">\n",
       "      <th></th>\n",
       "      <th>Unnamed: 0</th>\n",
       "      <th>id</th>\n",
       "      <th>name</th>\n",
       "      <th>zeros</th>\n",
       "      <th>zeros + 1</th>\n",
       "    </tr>\n",
       "  </thead>\n",
       "  <tbody>\n",
       "    <tr>\n",
       "      <th>0</th>\n",
       "      <td>0</td>\n",
       "      <td>1</td>\n",
       "      <td>sandip</td>\n",
       "      <td>0</td>\n",
       "      <td>2</td>\n",
       "    </tr>\n",
       "    <tr>\n",
       "      <th>1</th>\n",
       "      <td>1</td>\n",
       "      <td>2</td>\n",
       "      <td>rahul</td>\n",
       "      <td>0</td>\n",
       "      <td>2</td>\n",
       "    </tr>\n",
       "    <tr>\n",
       "      <th>2</th>\n",
       "      <td>2</td>\n",
       "      <td>3</td>\n",
       "      <td>piu</td>\n",
       "      <td>0</td>\n",
       "      <td>2</td>\n",
       "    </tr>\n",
       "    <tr>\n",
       "      <th>3</th>\n",
       "      <td>3</td>\n",
       "      <td>4</td>\n",
       "      <td>ullu</td>\n",
       "      <td>0</td>\n",
       "      <td>2</td>\n",
       "    </tr>\n",
       "    <tr>\n",
       "      <th>4</th>\n",
       "      <td>4</td>\n",
       "      <td>5</td>\n",
       "      <td>rahul</td>\n",
       "      <td>0</td>\n",
       "      <td>2</td>\n",
       "    </tr>\n",
       "    <tr>\n",
       "      <th>5</th>\n",
       "      <td>5</td>\n",
       "      <td>6</td>\n",
       "      <td>hoo</td>\n",
       "      <td>0</td>\n",
       "      <td>2</td>\n",
       "    </tr>\n",
       "    <tr>\n",
       "      <th>6</th>\n",
       "      <td>6</td>\n",
       "      <td>7</td>\n",
       "      <td>joy</td>\n",
       "      <td>0</td>\n",
       "      <td>2</td>\n",
       "    </tr>\n",
       "    <tr>\n",
       "      <th>7</th>\n",
       "      <td>7</td>\n",
       "      <td>8</td>\n",
       "      <td>swe</td>\n",
       "      <td>0</td>\n",
       "      <td>2</td>\n",
       "    </tr>\n",
       "    <tr>\n",
       "      <th>8</th>\n",
       "      <td>8</td>\n",
       "      <td>9</td>\n",
       "      <td>sde</td>\n",
       "      <td>0</td>\n",
       "      <td>2</td>\n",
       "    </tr>\n",
       "    <tr>\n",
       "      <th>9</th>\n",
       "      <td>9</td>\n",
       "      <td>10</td>\n",
       "      <td>qa</td>\n",
       "      <td>0</td>\n",
       "      <td>2</td>\n",
       "    </tr>\n",
       "    <tr>\n",
       "      <th>10</th>\n",
       "      <td>10</td>\n",
       "      <td>11</td>\n",
       "      <td>wet</td>\n",
       "      <td>0</td>\n",
       "      <td>2</td>\n",
       "    </tr>\n",
       "    <tr>\n",
       "      <th>11</th>\n",
       "      <td>11</td>\n",
       "      <td>12</td>\n",
       "      <td>sda</td>\n",
       "      <td>0</td>\n",
       "      <td>2</td>\n",
       "    </tr>\n",
       "    <tr>\n",
       "      <th>12</th>\n",
       "      <td>12</td>\n",
       "      <td>13</td>\n",
       "      <td>ssd</td>\n",
       "      <td>0</td>\n",
       "      <td>2</td>\n",
       "    </tr>\n",
       "    <tr>\n",
       "      <th>13</th>\n",
       "      <td>13</td>\n",
       "      <td>14</td>\n",
       "      <td>a</td>\n",
       "      <td>0</td>\n",
       "      <td>2</td>\n",
       "    </tr>\n",
       "    <tr>\n",
       "      <th>14</th>\n",
       "      <td>14</td>\n",
       "      <td>15</td>\n",
       "      <td>d</td>\n",
       "      <td>0</td>\n",
       "      <td>2</td>\n",
       "    </tr>\n",
       "    <tr>\n",
       "      <th>15</th>\n",
       "      <td>15</td>\n",
       "      <td>16</td>\n",
       "      <td>vf</td>\n",
       "      <td>0</td>\n",
       "      <td>2</td>\n",
       "    </tr>\n",
       "    <tr>\n",
       "      <th>16</th>\n",
       "      <td>16</td>\n",
       "      <td>17</td>\n",
       "      <td>tg</td>\n",
       "      <td>0</td>\n",
       "      <td>2</td>\n",
       "    </tr>\n",
       "    <tr>\n",
       "      <th>17</th>\n",
       "      <td>17</td>\n",
       "      <td>18</td>\n",
       "      <td>vbr</td>\n",
       "      <td>0</td>\n",
       "      <td>2</td>\n",
       "    </tr>\n",
       "    <tr>\n",
       "      <th>18</th>\n",
       "      <td>18</td>\n",
       "      <td>19</td>\n",
       "      <td>rg</td>\n",
       "      <td>0</td>\n",
       "      <td>2</td>\n",
       "    </tr>\n",
       "    <tr>\n",
       "      <th>19</th>\n",
       "      <td>19</td>\n",
       "      <td>20</td>\n",
       "      <td>rb</td>\n",
       "      <td>0</td>\n",
       "      <td>2</td>\n",
       "    </tr>\n",
       "    <tr>\n",
       "      <th>20</th>\n",
       "      <td>20</td>\n",
       "      <td>21</td>\n",
       "      <td>rgt</td>\n",
       "      <td>0</td>\n",
       "      <td>2</td>\n",
       "    </tr>\n",
       "    <tr>\n",
       "      <th>21</th>\n",
       "      <td>21</td>\n",
       "      <td>22</td>\n",
       "      <td>hth</td>\n",
       "      <td>0</td>\n",
       "      <td>2</td>\n",
       "    </tr>\n",
       "    <tr>\n",
       "      <th>22</th>\n",
       "      <td>22</td>\n",
       "      <td>23</td>\n",
       "      <td>tg</td>\n",
       "      <td>0</td>\n",
       "      <td>2</td>\n",
       "    </tr>\n",
       "  </tbody>\n",
       "</table>\n",
       "</div>"
      ],
      "text/plain": [
       "    Unnamed: 0  id    name  zeros  zeros + 1\n",
       "0            0   1  sandip      0          2\n",
       "1            1   2   rahul      0          2\n",
       "2            2   3     piu      0          2\n",
       "3            3   4    ullu      0          2\n",
       "4            4   5   rahul      0          2\n",
       "5            5   6     hoo      0          2\n",
       "6            6   7     joy      0          2\n",
       "7            7   8     swe      0          2\n",
       "8            8   9     sde      0          2\n",
       "9            9  10      qa      0          2\n",
       "10          10  11     wet      0          2\n",
       "11          11  12     sda      0          2\n",
       "12          12  13     ssd      0          2\n",
       "13          13  14       a      0          2\n",
       "14          14  15       d      0          2\n",
       "15          15  16      vf      0          2\n",
       "16          16  17      tg      0          2\n",
       "17          17  18     vbr      0          2\n",
       "18          18  19      rg      0          2\n",
       "19          19  20      rb      0          2\n",
       "20          20  21     rgt      0          2\n",
       "21          21  22     hth      0          2\n",
       "22          22  23      tg      0          2"
      ]
     },
     "execution_count": 26,
     "metadata": {},
     "output_type": "execute_result"
    }
   ],
   "source": [
    "df"
   ]
  },
  {
   "cell_type": "code",
   "execution_count": null,
   "id": "3be1972b2be5a8d0",
   "metadata": {
    "ExecuteTime": {
     "end_time": "2025-02-08T06:01:45.137495Z",
     "start_time": "2025-02-08T06:01:45.132533Z"
    },
    "collapsed": false
   },
   "outputs": [],
   "source": [
    "df.to_csv(\"Book3.csv\") #saves the dataframe to a csv file named \"Book3.csv\"\n",
    "df.to_csv(\"Book4.csv\", index=False) #saves the dataframe to a csv file named \"Book4.csv\" without the index "
   ]
  },
  {
   "cell_type": "code",
   "execution_count": 28,
   "id": "8bd8cd72208db123",
   "metadata": {
    "ExecuteTime": {
     "end_time": "2025-02-08T06:01:25.488019Z",
     "start_time": "2025-02-08T06:01:25.479050Z"
    },
    "collapsed": false
   },
   "outputs": [
    {
     "data": {
      "text/html": [
       "<div>\n",
       "<style scoped>\n",
       "    .dataframe tbody tr th:only-of-type {\n",
       "        vertical-align: middle;\n",
       "    }\n",
       "\n",
       "    .dataframe tbody tr th {\n",
       "        vertical-align: top;\n",
       "    }\n",
       "\n",
       "    .dataframe thead th {\n",
       "        text-align: right;\n",
       "    }\n",
       "</style>\n",
       "<table border=\"1\" class=\"dataframe\">\n",
       "  <thead>\n",
       "    <tr style=\"text-align: right;\">\n",
       "      <th></th>\n",
       "      <th>Unnamed: 0</th>\n",
       "      <th>id</th>\n",
       "      <th>name</th>\n",
       "      <th>zeros</th>\n",
       "      <th>zeros + 1</th>\n",
       "    </tr>\n",
       "  </thead>\n",
       "  <tbody>\n",
       "    <tr>\n",
       "      <th>0</th>\n",
       "      <td>0</td>\n",
       "      <td>1</td>\n",
       "      <td>sandip</td>\n",
       "      <td>0</td>\n",
       "      <td>2</td>\n",
       "    </tr>\n",
       "    <tr>\n",
       "      <th>1</th>\n",
       "      <td>1</td>\n",
       "      <td>2</td>\n",
       "      <td>rahul</td>\n",
       "      <td>0</td>\n",
       "      <td>2</td>\n",
       "    </tr>\n",
       "    <tr>\n",
       "      <th>2</th>\n",
       "      <td>2</td>\n",
       "      <td>3</td>\n",
       "      <td>piu</td>\n",
       "      <td>0</td>\n",
       "      <td>2</td>\n",
       "    </tr>\n",
       "    <tr>\n",
       "      <th>3</th>\n",
       "      <td>3</td>\n",
       "      <td>4</td>\n",
       "      <td>ullu</td>\n",
       "      <td>0</td>\n",
       "      <td>2</td>\n",
       "    </tr>\n",
       "    <tr>\n",
       "      <th>4</th>\n",
       "      <td>4</td>\n",
       "      <td>5</td>\n",
       "      <td>rahul</td>\n",
       "      <td>0</td>\n",
       "      <td>2</td>\n",
       "    </tr>\n",
       "    <tr>\n",
       "      <th>5</th>\n",
       "      <td>5</td>\n",
       "      <td>6</td>\n",
       "      <td>hoo</td>\n",
       "      <td>0</td>\n",
       "      <td>2</td>\n",
       "    </tr>\n",
       "    <tr>\n",
       "      <th>6</th>\n",
       "      <td>6</td>\n",
       "      <td>7</td>\n",
       "      <td>joy</td>\n",
       "      <td>0</td>\n",
       "      <td>2</td>\n",
       "    </tr>\n",
       "    <tr>\n",
       "      <th>7</th>\n",
       "      <td>7</td>\n",
       "      <td>8</td>\n",
       "      <td>swe</td>\n",
       "      <td>0</td>\n",
       "      <td>2</td>\n",
       "    </tr>\n",
       "    <tr>\n",
       "      <th>8</th>\n",
       "      <td>8</td>\n",
       "      <td>9</td>\n",
       "      <td>sde</td>\n",
       "      <td>0</td>\n",
       "      <td>2</td>\n",
       "    </tr>\n",
       "    <tr>\n",
       "      <th>9</th>\n",
       "      <td>9</td>\n",
       "      <td>10</td>\n",
       "      <td>qa</td>\n",
       "      <td>0</td>\n",
       "      <td>2</td>\n",
       "    </tr>\n",
       "    <tr>\n",
       "      <th>10</th>\n",
       "      <td>10</td>\n",
       "      <td>11</td>\n",
       "      <td>wet</td>\n",
       "      <td>0</td>\n",
       "      <td>2</td>\n",
       "    </tr>\n",
       "    <tr>\n",
       "      <th>11</th>\n",
       "      <td>11</td>\n",
       "      <td>12</td>\n",
       "      <td>sda</td>\n",
       "      <td>0</td>\n",
       "      <td>2</td>\n",
       "    </tr>\n",
       "    <tr>\n",
       "      <th>12</th>\n",
       "      <td>12</td>\n",
       "      <td>13</td>\n",
       "      <td>ssd</td>\n",
       "      <td>0</td>\n",
       "      <td>2</td>\n",
       "    </tr>\n",
       "    <tr>\n",
       "      <th>13</th>\n",
       "      <td>13</td>\n",
       "      <td>14</td>\n",
       "      <td>a</td>\n",
       "      <td>0</td>\n",
       "      <td>2</td>\n",
       "    </tr>\n",
       "    <tr>\n",
       "      <th>14</th>\n",
       "      <td>14</td>\n",
       "      <td>15</td>\n",
       "      <td>d</td>\n",
       "      <td>0</td>\n",
       "      <td>2</td>\n",
       "    </tr>\n",
       "    <tr>\n",
       "      <th>15</th>\n",
       "      <td>15</td>\n",
       "      <td>16</td>\n",
       "      <td>vf</td>\n",
       "      <td>0</td>\n",
       "      <td>2</td>\n",
       "    </tr>\n",
       "    <tr>\n",
       "      <th>16</th>\n",
       "      <td>16</td>\n",
       "      <td>17</td>\n",
       "      <td>tg</td>\n",
       "      <td>0</td>\n",
       "      <td>2</td>\n",
       "    </tr>\n",
       "    <tr>\n",
       "      <th>17</th>\n",
       "      <td>17</td>\n",
       "      <td>18</td>\n",
       "      <td>vbr</td>\n",
       "      <td>0</td>\n",
       "      <td>2</td>\n",
       "    </tr>\n",
       "    <tr>\n",
       "      <th>18</th>\n",
       "      <td>18</td>\n",
       "      <td>19</td>\n",
       "      <td>rg</td>\n",
       "      <td>0</td>\n",
       "      <td>2</td>\n",
       "    </tr>\n",
       "    <tr>\n",
       "      <th>19</th>\n",
       "      <td>19</td>\n",
       "      <td>20</td>\n",
       "      <td>rb</td>\n",
       "      <td>0</td>\n",
       "      <td>2</td>\n",
       "    </tr>\n",
       "    <tr>\n",
       "      <th>20</th>\n",
       "      <td>20</td>\n",
       "      <td>21</td>\n",
       "      <td>rgt</td>\n",
       "      <td>0</td>\n",
       "      <td>2</td>\n",
       "    </tr>\n",
       "    <tr>\n",
       "      <th>21</th>\n",
       "      <td>21</td>\n",
       "      <td>22</td>\n",
       "      <td>hth</td>\n",
       "      <td>0</td>\n",
       "      <td>2</td>\n",
       "    </tr>\n",
       "    <tr>\n",
       "      <th>22</th>\n",
       "      <td>22</td>\n",
       "      <td>23</td>\n",
       "      <td>tg</td>\n",
       "      <td>0</td>\n",
       "      <td>2</td>\n",
       "    </tr>\n",
       "  </tbody>\n",
       "</table>\n",
       "</div>"
      ],
      "text/plain": [
       "    Unnamed: 0  id    name  zeros  zeros + 1\n",
       "0            0   1  sandip      0          2\n",
       "1            1   2   rahul      0          2\n",
       "2            2   3     piu      0          2\n",
       "3            3   4    ullu      0          2\n",
       "4            4   5   rahul      0          2\n",
       "5            5   6     hoo      0          2\n",
       "6            6   7     joy      0          2\n",
       "7            7   8     swe      0          2\n",
       "8            8   9     sde      0          2\n",
       "9            9  10      qa      0          2\n",
       "10          10  11     wet      0          2\n",
       "11          11  12     sda      0          2\n",
       "12          12  13     ssd      0          2\n",
       "13          13  14       a      0          2\n",
       "14          14  15       d      0          2\n",
       "15          15  16      vf      0          2\n",
       "16          16  17      tg      0          2\n",
       "17          17  18     vbr      0          2\n",
       "18          18  19      rg      0          2\n",
       "19          19  20      rb      0          2\n",
       "20          20  21     rgt      0          2\n",
       "21          21  22     hth      0          2\n",
       "22          22  23      tg      0          2"
      ]
     },
     "execution_count": 28,
     "metadata": {},
     "output_type": "execute_result"
    }
   ],
   "source": [
    "df"
   ]
  },
  {
   "cell_type": "code",
   "execution_count": null,
   "id": "607d4e584b96de81",
   "metadata": {
    "ExecuteTime": {
     "end_time": "2025-02-08T06:07:43.857204Z",
     "start_time": "2025-02-08T06:07:43.853465Z"
    },
    "collapsed": false
   },
   "outputs": [],
   "source": [
    "df1=pd.DataFrame({\"name\":[\"Harry\",\"Rohan\",\"Shubham\",\"Divya\",\"Aparna\",\"Samantha\",\"Khusi\"],\"marks\":[100,54,200,34,78,55,90]})\n",
    "#creating a dataframe with names and marks as columns\n",
    "df1.to_csv(\"Book5.csv\") #saves the dataframe to a csv file named \"Book5.csv\""
   ]
  },
  {
   "cell_type": "code",
   "execution_count": null,
   "id": "5a6a2089b09cf03f",
   "metadata": {
    "ExecuteTime": {
     "end_time": "2025-02-08T06:08:06.975046Z",
     "start_time": "2025-02-08T06:08:06.967470Z"
    },
    "collapsed": false
   },
   "outputs": [
    {
     "data": {
      "text/html": [
       "<div>\n",
       "<style scoped>\n",
       "    .dataframe tbody tr th:only-of-type {\n",
       "        vertical-align: middle;\n",
       "    }\n",
       "\n",
       "    .dataframe tbody tr th {\n",
       "        vertical-align: top;\n",
       "    }\n",
       "\n",
       "    .dataframe thead th {\n",
       "        text-align: right;\n",
       "    }\n",
       "</style>\n",
       "<table border=\"1\" class=\"dataframe\">\n",
       "  <thead>\n",
       "    <tr style=\"text-align: right;\">\n",
       "      <th></th>\n",
       "      <th>name</th>\n",
       "      <th>marks</th>\n",
       "    </tr>\n",
       "  </thead>\n",
       "  <tbody>\n",
       "    <tr>\n",
       "      <th>0</th>\n",
       "      <td>Harry</td>\n",
       "      <td>100</td>\n",
       "    </tr>\n",
       "    <tr>\n",
       "      <th>1</th>\n",
       "      <td>Rohan</td>\n",
       "      <td>54</td>\n",
       "    </tr>\n",
       "    <tr>\n",
       "      <th>2</th>\n",
       "      <td>Shubham</td>\n",
       "      <td>200</td>\n",
       "    </tr>\n",
       "    <tr>\n",
       "      <th>3</th>\n",
       "      <td>Divya</td>\n",
       "      <td>34</td>\n",
       "    </tr>\n",
       "    <tr>\n",
       "      <th>4</th>\n",
       "      <td>Aparna</td>\n",
       "      <td>78</td>\n",
       "    </tr>\n",
       "    <tr>\n",
       "      <th>5</th>\n",
       "      <td>Samantha</td>\n",
       "      <td>55</td>\n",
       "    </tr>\n",
       "    <tr>\n",
       "      <th>6</th>\n",
       "      <td>Khusi</td>\n",
       "      <td>90</td>\n",
       "    </tr>\n",
       "  </tbody>\n",
       "</table>\n",
       "</div>"
      ],
      "text/plain": [
       "       name  marks\n",
       "0     Harry    100\n",
       "1     Rohan     54\n",
       "2   Shubham    200\n",
       "3     Divya     34\n",
       "4    Aparna     78\n",
       "5  Samantha     55\n",
       "6     Khusi     90"
      ]
     },
     "execution_count": 30,
     "metadata": {},
     "output_type": "execute_result"
    }
   ],
   "source": []
  },
  {
   "cell_type": "code",
   "execution_count": null,
   "id": "e1d00b066fc59748",
   "metadata": {
    "ExecuteTime": {
     "end_time": "2025-02-08T06:08:39.496225Z",
     "start_time": "2025-02-08T06:08:39.485154Z"
    },
    "collapsed": false
   },
   "outputs": [
    {
     "data": {
      "text/html": [
       "<div>\n",
       "<style scoped>\n",
       "    .dataframe tbody tr th:only-of-type {\n",
       "        vertical-align: middle;\n",
       "    }\n",
       "\n",
       "    .dataframe tbody tr th {\n",
       "        vertical-align: top;\n",
       "    }\n",
       "\n",
       "    .dataframe thead th {\n",
       "        text-align: right;\n",
       "    }\n",
       "</style>\n",
       "<table border=\"1\" class=\"dataframe\">\n",
       "  <thead>\n",
       "    <tr style=\"text-align: right;\">\n",
       "      <th></th>\n",
       "      <th>name</th>\n",
       "      <th>marks</th>\n",
       "      <th>Unnamed: 0</th>\n",
       "      <th>id</th>\n",
       "      <th>zeros</th>\n",
       "      <th>zeros + 1</th>\n",
       "    </tr>\n",
       "  </thead>\n",
       "  <tbody>\n",
       "    <tr>\n",
       "      <th>0</th>\n",
       "      <td>Harry</td>\n",
       "      <td>100.0</td>\n",
       "      <td>NaN</td>\n",
       "      <td>NaN</td>\n",
       "      <td>NaN</td>\n",
       "      <td>NaN</td>\n",
       "    </tr>\n",
       "    <tr>\n",
       "      <th>1</th>\n",
       "      <td>Rohan</td>\n",
       "      <td>54.0</td>\n",
       "      <td>NaN</td>\n",
       "      <td>NaN</td>\n",
       "      <td>NaN</td>\n",
       "      <td>NaN</td>\n",
       "    </tr>\n",
       "    <tr>\n",
       "      <th>2</th>\n",
       "      <td>Shubham</td>\n",
       "      <td>200.0</td>\n",
       "      <td>NaN</td>\n",
       "      <td>NaN</td>\n",
       "      <td>NaN</td>\n",
       "      <td>NaN</td>\n",
       "    </tr>\n",
       "    <tr>\n",
       "      <th>3</th>\n",
       "      <td>Divya</td>\n",
       "      <td>34.0</td>\n",
       "      <td>NaN</td>\n",
       "      <td>NaN</td>\n",
       "      <td>NaN</td>\n",
       "      <td>NaN</td>\n",
       "    </tr>\n",
       "    <tr>\n",
       "      <th>4</th>\n",
       "      <td>Aparna</td>\n",
       "      <td>78.0</td>\n",
       "      <td>NaN</td>\n",
       "      <td>NaN</td>\n",
       "      <td>NaN</td>\n",
       "      <td>NaN</td>\n",
       "    </tr>\n",
       "    <tr>\n",
       "      <th>5</th>\n",
       "      <td>Samantha</td>\n",
       "      <td>55.0</td>\n",
       "      <td>NaN</td>\n",
       "      <td>NaN</td>\n",
       "      <td>NaN</td>\n",
       "      <td>NaN</td>\n",
       "    </tr>\n",
       "    <tr>\n",
       "      <th>6</th>\n",
       "      <td>Khusi</td>\n",
       "      <td>90.0</td>\n",
       "      <td>NaN</td>\n",
       "      <td>NaN</td>\n",
       "      <td>NaN</td>\n",
       "      <td>NaN</td>\n",
       "    </tr>\n",
       "    <tr>\n",
       "      <th>0</th>\n",
       "      <td>sandip</td>\n",
       "      <td>NaN</td>\n",
       "      <td>0.0</td>\n",
       "      <td>1.0</td>\n",
       "      <td>0.0</td>\n",
       "      <td>2.0</td>\n",
       "    </tr>\n",
       "    <tr>\n",
       "      <th>1</th>\n",
       "      <td>rahul</td>\n",
       "      <td>NaN</td>\n",
       "      <td>1.0</td>\n",
       "      <td>2.0</td>\n",
       "      <td>0.0</td>\n",
       "      <td>2.0</td>\n",
       "    </tr>\n",
       "    <tr>\n",
       "      <th>2</th>\n",
       "      <td>piu</td>\n",
       "      <td>NaN</td>\n",
       "      <td>2.0</td>\n",
       "      <td>3.0</td>\n",
       "      <td>0.0</td>\n",
       "      <td>2.0</td>\n",
       "    </tr>\n",
       "    <tr>\n",
       "      <th>3</th>\n",
       "      <td>ullu</td>\n",
       "      <td>NaN</td>\n",
       "      <td>3.0</td>\n",
       "      <td>4.0</td>\n",
       "      <td>0.0</td>\n",
       "      <td>2.0</td>\n",
       "    </tr>\n",
       "    <tr>\n",
       "      <th>4</th>\n",
       "      <td>rahul</td>\n",
       "      <td>NaN</td>\n",
       "      <td>4.0</td>\n",
       "      <td>5.0</td>\n",
       "      <td>0.0</td>\n",
       "      <td>2.0</td>\n",
       "    </tr>\n",
       "    <tr>\n",
       "      <th>5</th>\n",
       "      <td>hoo</td>\n",
       "      <td>NaN</td>\n",
       "      <td>5.0</td>\n",
       "      <td>6.0</td>\n",
       "      <td>0.0</td>\n",
       "      <td>2.0</td>\n",
       "    </tr>\n",
       "    <tr>\n",
       "      <th>6</th>\n",
       "      <td>joy</td>\n",
       "      <td>NaN</td>\n",
       "      <td>6.0</td>\n",
       "      <td>7.0</td>\n",
       "      <td>0.0</td>\n",
       "      <td>2.0</td>\n",
       "    </tr>\n",
       "    <tr>\n",
       "      <th>7</th>\n",
       "      <td>swe</td>\n",
       "      <td>NaN</td>\n",
       "      <td>7.0</td>\n",
       "      <td>8.0</td>\n",
       "      <td>0.0</td>\n",
       "      <td>2.0</td>\n",
       "    </tr>\n",
       "    <tr>\n",
       "      <th>8</th>\n",
       "      <td>sde</td>\n",
       "      <td>NaN</td>\n",
       "      <td>8.0</td>\n",
       "      <td>9.0</td>\n",
       "      <td>0.0</td>\n",
       "      <td>2.0</td>\n",
       "    </tr>\n",
       "    <tr>\n",
       "      <th>9</th>\n",
       "      <td>qa</td>\n",
       "      <td>NaN</td>\n",
       "      <td>9.0</td>\n",
       "      <td>10.0</td>\n",
       "      <td>0.0</td>\n",
       "      <td>2.0</td>\n",
       "    </tr>\n",
       "    <tr>\n",
       "      <th>10</th>\n",
       "      <td>wet</td>\n",
       "      <td>NaN</td>\n",
       "      <td>10.0</td>\n",
       "      <td>11.0</td>\n",
       "      <td>0.0</td>\n",
       "      <td>2.0</td>\n",
       "    </tr>\n",
       "    <tr>\n",
       "      <th>11</th>\n",
       "      <td>sda</td>\n",
       "      <td>NaN</td>\n",
       "      <td>11.0</td>\n",
       "      <td>12.0</td>\n",
       "      <td>0.0</td>\n",
       "      <td>2.0</td>\n",
       "    </tr>\n",
       "    <tr>\n",
       "      <th>12</th>\n",
       "      <td>ssd</td>\n",
       "      <td>NaN</td>\n",
       "      <td>12.0</td>\n",
       "      <td>13.0</td>\n",
       "      <td>0.0</td>\n",
       "      <td>2.0</td>\n",
       "    </tr>\n",
       "    <tr>\n",
       "      <th>13</th>\n",
       "      <td>a</td>\n",
       "      <td>NaN</td>\n",
       "      <td>13.0</td>\n",
       "      <td>14.0</td>\n",
       "      <td>0.0</td>\n",
       "      <td>2.0</td>\n",
       "    </tr>\n",
       "    <tr>\n",
       "      <th>14</th>\n",
       "      <td>d</td>\n",
       "      <td>NaN</td>\n",
       "      <td>14.0</td>\n",
       "      <td>15.0</td>\n",
       "      <td>0.0</td>\n",
       "      <td>2.0</td>\n",
       "    </tr>\n",
       "    <tr>\n",
       "      <th>15</th>\n",
       "      <td>vf</td>\n",
       "      <td>NaN</td>\n",
       "      <td>15.0</td>\n",
       "      <td>16.0</td>\n",
       "      <td>0.0</td>\n",
       "      <td>2.0</td>\n",
       "    </tr>\n",
       "    <tr>\n",
       "      <th>16</th>\n",
       "      <td>tg</td>\n",
       "      <td>NaN</td>\n",
       "      <td>16.0</td>\n",
       "      <td>17.0</td>\n",
       "      <td>0.0</td>\n",
       "      <td>2.0</td>\n",
       "    </tr>\n",
       "    <tr>\n",
       "      <th>17</th>\n",
       "      <td>vbr</td>\n",
       "      <td>NaN</td>\n",
       "      <td>17.0</td>\n",
       "      <td>18.0</td>\n",
       "      <td>0.0</td>\n",
       "      <td>2.0</td>\n",
       "    </tr>\n",
       "    <tr>\n",
       "      <th>18</th>\n",
       "      <td>rg</td>\n",
       "      <td>NaN</td>\n",
       "      <td>18.0</td>\n",
       "      <td>19.0</td>\n",
       "      <td>0.0</td>\n",
       "      <td>2.0</td>\n",
       "    </tr>\n",
       "    <tr>\n",
       "      <th>19</th>\n",
       "      <td>rb</td>\n",
       "      <td>NaN</td>\n",
       "      <td>19.0</td>\n",
       "      <td>20.0</td>\n",
       "      <td>0.0</td>\n",
       "      <td>2.0</td>\n",
       "    </tr>\n",
       "    <tr>\n",
       "      <th>20</th>\n",
       "      <td>rgt</td>\n",
       "      <td>NaN</td>\n",
       "      <td>20.0</td>\n",
       "      <td>21.0</td>\n",
       "      <td>0.0</td>\n",
       "      <td>2.0</td>\n",
       "    </tr>\n",
       "    <tr>\n",
       "      <th>21</th>\n",
       "      <td>hth</td>\n",
       "      <td>NaN</td>\n",
       "      <td>21.0</td>\n",
       "      <td>22.0</td>\n",
       "      <td>0.0</td>\n",
       "      <td>2.0</td>\n",
       "    </tr>\n",
       "    <tr>\n",
       "      <th>22</th>\n",
       "      <td>tg</td>\n",
       "      <td>NaN</td>\n",
       "      <td>22.0</td>\n",
       "      <td>23.0</td>\n",
       "      <td>0.0</td>\n",
       "      <td>2.0</td>\n",
       "    </tr>\n",
       "  </tbody>\n",
       "</table>\n",
       "</div>"
      ],
      "text/plain": [
       "        name  marks  Unnamed: 0    id  zeros  zeros + 1\n",
       "0      Harry  100.0         NaN   NaN    NaN        NaN\n",
       "1      Rohan   54.0         NaN   NaN    NaN        NaN\n",
       "2    Shubham  200.0         NaN   NaN    NaN        NaN\n",
       "3      Divya   34.0         NaN   NaN    NaN        NaN\n",
       "4     Aparna   78.0         NaN   NaN    NaN        NaN\n",
       "5   Samantha   55.0         NaN   NaN    NaN        NaN\n",
       "6      Khusi   90.0         NaN   NaN    NaN        NaN\n",
       "0     sandip    NaN         0.0   1.0    0.0        2.0\n",
       "1      rahul    NaN         1.0   2.0    0.0        2.0\n",
       "2        piu    NaN         2.0   3.0    0.0        2.0\n",
       "3       ullu    NaN         3.0   4.0    0.0        2.0\n",
       "4      rahul    NaN         4.0   5.0    0.0        2.0\n",
       "5        hoo    NaN         5.0   6.0    0.0        2.0\n",
       "6        joy    NaN         6.0   7.0    0.0        2.0\n",
       "7        swe    NaN         7.0   8.0    0.0        2.0\n",
       "8        sde    NaN         8.0   9.0    0.0        2.0\n",
       "9         qa    NaN         9.0  10.0    0.0        2.0\n",
       "10       wet    NaN        10.0  11.0    0.0        2.0\n",
       "11       sda    NaN        11.0  12.0    0.0        2.0\n",
       "12       ssd    NaN        12.0  13.0    0.0        2.0\n",
       "13         a    NaN        13.0  14.0    0.0        2.0\n",
       "14         d    NaN        14.0  15.0    0.0        2.0\n",
       "15        vf    NaN        15.0  16.0    0.0        2.0\n",
       "16        tg    NaN        16.0  17.0    0.0        2.0\n",
       "17       vbr    NaN        17.0  18.0    0.0        2.0\n",
       "18        rg    NaN        18.0  19.0    0.0        2.0\n",
       "19        rb    NaN        19.0  20.0    0.0        2.0\n",
       "20       rgt    NaN        20.0  21.0    0.0        2.0\n",
       "21       hth    NaN        21.0  22.0    0.0        2.0\n",
       "22        tg    NaN        22.0  23.0    0.0        2.0"
      ]
     },
     "execution_count": 31,
     "metadata": {},
     "output_type": "execute_result"
    }
   ],
   "source": [
    "pd.concat([df1,df2]) #concatenates two dataframes df1 and df2 vertically"
   ]
  },
  {
   "cell_type": "code",
   "execution_count": null,
   "id": "a4fc3d54a7a3efbe",
   "metadata": {
    "ExecuteTime": {
     "end_time": "2025-02-08T06:11:26.873202Z",
     "start_time": "2025-02-08T06:11:26.868944Z"
    },
    "collapsed": false
   },
   "outputs": [],
   "source": [
    "df3=pd.DataFrame({\"name\":[\"Akashi\",\"Priyanka\"],\"roll\":[1244,908]}) #creating a dataframe with names and roll numbers as columns"
   ]
  },
  {
   "cell_type": "code",
   "execution_count": 33,
   "id": "9cf7de08f10d582d",
   "metadata": {
    "ExecuteTime": {
     "end_time": "2025-02-08T06:11:44.369942Z",
     "start_time": "2025-02-08T06:11:44.362291Z"
    },
    "collapsed": false
   },
   "outputs": [
    {
     "data": {
      "text/html": [
       "<div>\n",
       "<style scoped>\n",
       "    .dataframe tbody tr th:only-of-type {\n",
       "        vertical-align: middle;\n",
       "    }\n",
       "\n",
       "    .dataframe tbody tr th {\n",
       "        vertical-align: top;\n",
       "    }\n",
       "\n",
       "    .dataframe thead th {\n",
       "        text-align: right;\n",
       "    }\n",
       "</style>\n",
       "<table border=\"1\" class=\"dataframe\">\n",
       "  <thead>\n",
       "    <tr style=\"text-align: right;\">\n",
       "      <th></th>\n",
       "      <th>name</th>\n",
       "      <th>roll</th>\n",
       "    </tr>\n",
       "  </thead>\n",
       "  <tbody>\n",
       "    <tr>\n",
       "      <th>0</th>\n",
       "      <td>Akashi</td>\n",
       "      <td>1244</td>\n",
       "    </tr>\n",
       "    <tr>\n",
       "      <th>1</th>\n",
       "      <td>Priyanka</td>\n",
       "      <td>908</td>\n",
       "    </tr>\n",
       "  </tbody>\n",
       "</table>\n",
       "</div>"
      ],
      "text/plain": [
       "       name  roll\n",
       "0    Akashi  1244\n",
       "1  Priyanka   908"
      ]
     },
     "execution_count": 33,
     "metadata": {},
     "output_type": "execute_result"
    }
   ],
   "source": [
    "df3"
   ]
  },
  {
   "cell_type": "code",
   "execution_count": null,
   "id": "d76c5c8d98bf1cca",
   "metadata": {
    "ExecuteTime": {
     "end_time": "2025-02-08T06:15:34.705298Z",
     "start_time": "2025-02-08T06:15:34.695488Z"
    },
    "collapsed": false
   },
   "outputs": [
    {
     "data": {
      "text/html": [
       "<div>\n",
       "<style scoped>\n",
       "    .dataframe tbody tr th:only-of-type {\n",
       "        vertical-align: middle;\n",
       "    }\n",
       "\n",
       "    .dataframe tbody tr th {\n",
       "        vertical-align: top;\n",
       "    }\n",
       "\n",
       "    .dataframe thead th {\n",
       "        text-align: right;\n",
       "    }\n",
       "</style>\n",
       "<table border=\"1\" class=\"dataframe\">\n",
       "  <thead>\n",
       "    <tr style=\"text-align: right;\">\n",
       "      <th></th>\n",
       "      <th>name</th>\n",
       "      <th>marks</th>\n",
       "      <th>roll</th>\n",
       "    </tr>\n",
       "  </thead>\n",
       "  <tbody>\n",
       "    <tr>\n",
       "      <th>0</th>\n",
       "      <td>Harry</td>\n",
       "      <td>100.0</td>\n",
       "      <td>NaN</td>\n",
       "    </tr>\n",
       "    <tr>\n",
       "      <th>1</th>\n",
       "      <td>Rohan</td>\n",
       "      <td>54.0</td>\n",
       "      <td>NaN</td>\n",
       "    </tr>\n",
       "    <tr>\n",
       "      <th>2</th>\n",
       "      <td>Shubham</td>\n",
       "      <td>200.0</td>\n",
       "      <td>NaN</td>\n",
       "    </tr>\n",
       "    <tr>\n",
       "      <th>3</th>\n",
       "      <td>Divya</td>\n",
       "      <td>34.0</td>\n",
       "      <td>NaN</td>\n",
       "    </tr>\n",
       "    <tr>\n",
       "      <th>4</th>\n",
       "      <td>Aparna</td>\n",
       "      <td>78.0</td>\n",
       "      <td>NaN</td>\n",
       "    </tr>\n",
       "    <tr>\n",
       "      <th>5</th>\n",
       "      <td>Samantha</td>\n",
       "      <td>55.0</td>\n",
       "      <td>NaN</td>\n",
       "    </tr>\n",
       "    <tr>\n",
       "      <th>6</th>\n",
       "      <td>Khusi</td>\n",
       "      <td>90.0</td>\n",
       "      <td>NaN</td>\n",
       "    </tr>\n",
       "    <tr>\n",
       "      <th>0</th>\n",
       "      <td>Akashi</td>\n",
       "      <td>NaN</td>\n",
       "      <td>1244.0</td>\n",
       "    </tr>\n",
       "    <tr>\n",
       "      <th>1</th>\n",
       "      <td>Priyanka</td>\n",
       "      <td>NaN</td>\n",
       "      <td>908.0</td>\n",
       "    </tr>\n",
       "  </tbody>\n",
       "</table>\n",
       "</div>"
      ],
      "text/plain": [
       "       name  marks    roll\n",
       "0     Harry  100.0     NaN\n",
       "1     Rohan   54.0     NaN\n",
       "2   Shubham  200.0     NaN\n",
       "3     Divya   34.0     NaN\n",
       "4    Aparna   78.0     NaN\n",
       "5  Samantha   55.0     NaN\n",
       "6     Khusi   90.0     NaN\n",
       "0    Akashi    NaN  1244.0\n",
       "1  Priyanka    NaN   908.0"
      ]
     },
     "execution_count": 34,
     "metadata": {},
     "output_type": "execute_result"
    }
   ],
   "source": [
    "pd.concat([df1,df3]) #concatenates two dataframes df1 and df3 vertically"
   ]
  },
  {
   "cell_type": "code",
   "execution_count": null,
   "id": "7a36eed851d66faf",
   "metadata": {
    "ExecuteTime": {
     "end_time": "2025-02-08T06:18:17.912604Z",
     "start_time": "2025-02-08T06:18:17.900367Z"
    },
    "collapsed": false
   },
   "outputs": [
    {
     "data": {
      "text/html": [
       "<div>\n",
       "<style scoped>\n",
       "    .dataframe tbody tr th:only-of-type {\n",
       "        vertical-align: middle;\n",
       "    }\n",
       "\n",
       "    .dataframe tbody tr th {\n",
       "        vertical-align: top;\n",
       "    }\n",
       "\n",
       "    .dataframe thead th {\n",
       "        text-align: right;\n",
       "    }\n",
       "</style>\n",
       "<table border=\"1\" class=\"dataframe\">\n",
       "  <thead>\n",
       "    <tr style=\"text-align: right;\">\n",
       "      <th></th>\n",
       "      <th>name</th>\n",
       "      <th>marks</th>\n",
       "      <th>roll</th>\n",
       "    </tr>\n",
       "  </thead>\n",
       "  <tbody>\n",
       "  </tbody>\n",
       "</table>\n",
       "</div>"
      ],
      "text/plain": [
       "Empty DataFrame\n",
       "Columns: [name, marks, roll]\n",
       "Index: []"
      ]
     },
     "execution_count": 35,
     "metadata": {},
     "output_type": "execute_result"
    }
   ],
   "source": [
    "pd.merge(df1,df3,on=\"name\") #merges two dataframes df1 and df3 on the \"name\" column"
   ]
  },
  {
   "cell_type": "markdown",
   "id": "f26a3e991f50f671",
   "metadata": {
    "collapsed": false
   },
   "source": [
    "Numpy Education\n",
    "NUMPY EDUCATION"
   ]
  },
  {
   "cell_type": "markdown",
   "id": "b7188b7e7aedb47c",
   "metadata": {
    "collapsed": false
   },
   "source": [
    "Numpy Education\n"
   ]
  },
  {
   "cell_type": "code",
   "execution_count": null,
   "id": "b13472f81ae0710c",
   "metadata": {
    "ExecuteTime": {
     "end_time": "2025-02-08T10:53:50.934486Z",
     "start_time": "2025-02-08T10:53:50.071635Z"
    },
    "collapsed": false
   },
   "outputs": [
    {
     "name": "stdout",
     "output_type": "stream",
     "text": [
      "hello world\n"
     ]
    },
    {
     "data": {
      "text/plain": [
       "4"
      ]
     },
     "execution_count": 36,
     "metadata": {},
     "output_type": "execute_result"
    }
   ],
   "source": [
    "import numpy as np\n",
    "print(\"hello world\")\n",
    "\n",
    "myarr=np.array([[2,4,5,7]],np.int64)# creating a 1D array of integers\n",
    "print(myarr[0]) #accessing the first element of the array\n",
    "\n",
    "myarr[0,1] #accessing the second element of the first row of the array 00 01\n",
    "myarr[0,2] #accessing the third element of the first row of the array  00 01 02\n",
    "myarr[2,3] #third row and fourth column of the array 00 01 02 03\n",
    "#                                                    10 11 12 13\n",
    "#                                                    20 21 22 23\n",
    "\n",
    "myarr[0,1]=5 #modifying the second element of the first row of the array"
   ]
  },
  {
   "cell_type": "code",
   "execution_count": null,
   "id": "72ecd8f70a932737",
   "metadata": {
    "ExecuteTime": {
     "end_time": "2025-02-08T10:53:52.988246Z",
     "start_time": "2025-02-08T10:53:52.981582Z"
    },
    "collapsed": false
   },
   "outputs": [
    {
     "data": {
      "text/plain": [
       "(1, 4)"
      ]
     },
     "execution_count": 37,
     "metadata": {},
     "output_type": "execute_result"
    }
   ],
   "source": [
    "myarr.shape #displays the shape of the array (number of rows, number of columns)"
   ]
  },
  {
   "cell_type": "code",
   "execution_count": 38,
   "id": "61c171b479ad8109",
   "metadata": {
    "ExecuteTime": {
     "end_time": "2025-02-08T10:53:54.431620Z",
     "start_time": "2025-02-08T10:53:54.426650Z"
    },
    "collapsed": false
   },
   "outputs": [
    {
     "data": {
      "text/plain": [
       "array([[2, 4, 5, 7]], dtype=int64)"
      ]
     },
     "execution_count": 38,
     "metadata": {},
     "output_type": "execute_result"
    }
   ],
   "source": [
    "myarr"
   ]
  },
  {
   "cell_type": "code",
   "execution_count": null,
   "id": "c1dc097165686d5e",
   "metadata": {
    "ExecuteTime": {
     "end_time": "2025-02-08T10:53:55.643397Z",
     "start_time": "2025-02-08T10:53:55.639736Z"
    },
    "collapsed": false
   },
   "outputs": [],
   "source": [
    "myarr[0,1]=45 #modifying the second element of the first row of the array"
   ]
  },
  {
   "cell_type": "code",
   "execution_count": 40,
   "id": "6814672fa0e49c68",
   "metadata": {
    "ExecuteTime": {
     "end_time": "2025-02-08T10:53:58.431137Z",
     "start_time": "2025-02-08T10:53:58.425472Z"
    },
    "collapsed": false
   },
   "outputs": [
    {
     "data": {
      "text/plain": [
       "array([[ 2, 45,  5,  7]], dtype=int64)"
      ]
     },
     "execution_count": 40,
     "metadata": {},
     "output_type": "execute_result"
    }
   ],
   "source": [
    "myarr"
   ]
  },
  {
   "cell_type": "code",
   "execution_count": null,
   "id": "74efda51a15511d9",
   "metadata": {
    "ExecuteTime": {
     "end_time": "2025-02-08T10:53:59.678033Z",
     "start_time": "2025-02-08T10:53:59.672916Z"
    },
    "collapsed": false
   },
   "outputs": [],
   "source": []
  },
  {
   "cell_type": "code",
   "execution_count": null,
   "id": "84ef779785b3c4e4",
   "metadata": {
    "ExecuteTime": {
     "end_time": "2025-02-08T10:54:01.844702Z",
     "start_time": "2025-02-08T10:54:00.688669Z"
    },
    "collapsed": false
   },
   "outputs": [],
   "source": [
    "import sklearn #lib is used for machine learning and data mining"
   ]
  },
  {
   "cell_type": "code",
   "execution_count": 42,
   "id": "10215f3662742da4",
   "metadata": {
    "ExecuteTime": {
     "end_time": "2025-02-08T10:54:02.793156Z",
     "start_time": "2025-02-08T10:54:02.789602Z"
    },
    "collapsed": false
   },
   "outputs": [],
   "source": [
    "i=45"
   ]
  },
  {
   "cell_type": "code",
   "execution_count": 43,
   "id": "5a2e8ae0357fc38d",
   "metadata": {
    "ExecuteTime": {
     "end_time": "2025-02-08T10:54:03.662078Z",
     "start_time": "2025-02-08T10:54:03.657568Z"
    },
    "collapsed": false
   },
   "outputs": [
    {
     "name": "stdout",
     "output_type": "stream",
     "text": [
      "7\n"
     ]
    }
   ],
   "source": [
    "print(7)"
   ]
  },
  {
   "cell_type": "code",
   "execution_count": 44,
   "id": "3b288917be0e2835",
   "metadata": {
    "ExecuteTime": {
     "end_time": "2025-02-08T10:54:04.641778Z",
     "start_time": "2025-02-08T10:54:04.636700Z"
    },
    "collapsed": false
   },
   "outputs": [
    {
     "data": {
      "text/plain": [
       "45"
      ]
     },
     "execution_count": 44,
     "metadata": {},
     "output_type": "execute_result"
    }
   ],
   "source": [
    "i"
   ]
  },
  {
   "cell_type": "code",
   "execution_count": 45,
   "id": "38ec2734519a9b2f",
   "metadata": {
    "ExecuteTime": {
     "end_time": "2025-02-08T10:54:05.407966Z",
     "start_time": "2025-02-08T10:54:05.403691Z"
    },
    "collapsed": false
   },
   "outputs": [
    {
     "data": {
      "text/plain": [
       "45"
      ]
     },
     "execution_count": 45,
     "metadata": {},
     "output_type": "execute_result"
    }
   ],
   "source": [
    "myarr[0,1]"
   ]
  },
  {
   "cell_type": "markdown",
   "id": "85cb0ec990220d04",
   "metadata": {
    "collapsed": false
   },
   "source": [
    "Array Creation: Conversion from other python structures"
   ]
  },
  {
   "cell_type": "markdown",
   "id": "d902a8ae2ac5b4a0",
   "metadata": {
    "collapsed": false
   },
   "source": []
  },
  {
   "cell_type": "markdown",
   "id": "56278f44afecc6f9",
   "metadata": {
    "collapsed": false
   },
   "source": []
  },
  {
   "cell_type": "code",
   "execution_count": null,
   "id": "1aa0881187f2a27b",
   "metadata": {
    "ExecuteTime": {
     "end_time": "2025-02-08T10:54:07.964283Z",
     "start_time": "2025-02-08T10:54:07.957206Z"
    },
    "collapsed": false
   },
   "outputs": [
    {
     "data": {
      "text/plain": [
       "array([[4, 3, 9],\n",
       "       [3, 0, 5],\n",
       "       [0, 2, 1]])"
      ]
     },
     "execution_count": 46,
     "metadata": {},
     "output_type": "execute_result"
    }
   ],
   "source": [
    "listarray=np.array([[4,3,9],[3,0,5],[0,2,1]]) #creating a 2D array of integers\n",
    "listarray"
   ]
  },
  {
   "cell_type": "code",
   "execution_count": null,
   "id": "b77e2b638010e902",
   "metadata": {
    "ExecuteTime": {
     "end_time": "2025-02-08T10:54:08.586255Z",
     "start_time": "2025-02-08T10:54:08.581141Z"
    },
    "collapsed": false
   },
   "outputs": [
    {
     "data": {
      "text/plain": [
       "dtype('int32')"
      ]
     },
     "execution_count": 47,
     "metadata": {},
     "output_type": "execute_result"
    }
   ],
   "source": [
    "listarray.dtype #displays the data type of the array elements"
   ]
  },
  {
   "cell_type": "code",
   "execution_count": null,
   "id": "aad8b421fab7e3b1",
   "metadata": {
    "ExecuteTime": {
     "end_time": "2025-02-08T10:54:09.138818Z",
     "start_time": "2025-02-08T10:54:09.134067Z"
    },
    "collapsed": false
   },
   "outputs": [
    {
     "data": {
      "text/plain": [
       "(3, 3)"
      ]
     },
     "execution_count": 48,
     "metadata": {},
     "output_type": "execute_result"
    }
   ],
   "source": [
    "listarray.shape #displays the shape of the array (number of rows, number of columns)"
   ]
  },
  {
   "cell_type": "code",
   "execution_count": null,
   "id": "4aed69a7fee329a3",
   "metadata": {
    "ExecuteTime": {
     "end_time": "2025-02-08T10:54:09.661173Z",
     "start_time": "2025-02-08T10:54:09.656908Z"
    },
    "collapsed": false
   },
   "outputs": [
    {
     "data": {
      "text/plain": [
       "array({34, 23}, dtype=object)"
      ]
     },
     "execution_count": 49,
     "metadata": {},
     "output_type": "execute_result"
    }
   ],
   "source": [
    "np.array({34,23,23}) #creating a set of integers"
   ]
  },
  {
   "cell_type": "code",
   "execution_count": null,
   "id": "37a934c8931abba6",
   "metadata": {
    "ExecuteTime": {
     "end_time": "2025-02-08T10:54:10.268124Z",
     "start_time": "2025-02-08T10:54:10.264770Z"
    },
    "collapsed": false
   },
   "outputs": [],
   "source": [
    "zeros=np.zeros((2,5)) #creating a 2D array of zeros with 2 rows and 5 columns"
   ]
  },
  {
   "cell_type": "code",
   "execution_count": null,
   "id": "fbfaff8ecdd2c27e",
   "metadata": {
    "ExecuteTime": {
     "end_time": "2025-02-08T10:54:10.777294Z",
     "start_time": "2025-02-08T10:54:10.772364Z"
    },
    "collapsed": false
   },
   "outputs": [
    {
     "data": {
      "text/plain": [
       "dtype('float64')"
      ]
     },
     "execution_count": 51,
     "metadata": {},
     "output_type": "execute_result"
    }
   ],
   "source": [
    "zeros.dtype #displays the data type of the array elements"
   ]
  },
  {
   "cell_type": "code",
   "execution_count": 52,
   "id": "16d199f43e066e2c",
   "metadata": {
    "ExecuteTime": {
     "end_time": "2025-02-08T10:54:11.341872Z",
     "start_time": "2025-02-08T10:54:11.337464Z"
    },
    "collapsed": false
   },
   "outputs": [
    {
     "data": {
      "text/plain": [
       "array([[0., 0., 0., 0., 0.],\n",
       "       [0., 0., 0., 0., 0.]])"
      ]
     },
     "execution_count": 52,
     "metadata": {},
     "output_type": "execute_result"
    }
   ],
   "source": [
    "zeros"
   ]
  },
  {
   "cell_type": "code",
   "execution_count": null,
   "id": "8ac35e5bd5110d8c",
   "metadata": {
    "ExecuteTime": {
     "end_time": "2025-02-08T10:54:11.867828Z",
     "start_time": "2025-02-08T10:54:11.864622Z"
    },
    "collapsed": false
   },
   "outputs": [],
   "source": [
    "rng=np.arange(15) #creating a 1D array of integers from 0 to 14"
   ]
  },
  {
   "cell_type": "code",
   "execution_count": 54,
   "id": "a4d4b30608ec4fa9",
   "metadata": {
    "ExecuteTime": {
     "end_time": "2025-02-08T10:54:12.459195Z",
     "start_time": "2025-02-08T10:54:12.453979Z"
    },
    "collapsed": false
   },
   "outputs": [
    {
     "data": {
      "text/plain": [
       "array([ 0,  1,  2,  3,  4,  5,  6,  7,  8,  9, 10, 11, 12, 13, 14])"
      ]
     },
     "execution_count": 54,
     "metadata": {},
     "output_type": "execute_result"
    }
   ],
   "source": [
    "rng"
   ]
  },
  {
   "cell_type": "code",
   "execution_count": 102,
   "id": "7eddcb9bcd141a04",
   "metadata": {
    "ExecuteTime": {
     "end_time": "2025-02-08T10:54:12.959678Z",
     "start_time": "2025-02-08T10:54:12.955432Z"
    },
    "collapsed": false
   },
   "outputs": [
    {
     "data": {
      "text/plain": [
       "array([1.        , 2.33333333, 3.66666667, 5.        ])"
      ]
     },
     "execution_count": 102,
     "metadata": {},
     "output_type": "execute_result"
    }
   ],
   "source": [
    "lspace=np.linspace(1,5,4) #creating a 1D array of evenly spaced numbers between 1 and 5 with 4 elements\n",
    "lspace"
   ]
  },
  {
   "cell_type": "code",
   "execution_count": 56,
   "id": "3ce330f2968a8145",
   "metadata": {
    "ExecuteTime": {
     "end_time": "2025-02-08T10:54:13.464937Z",
     "start_time": "2025-02-08T10:54:13.459556Z"
    },
    "collapsed": false
   },
   "outputs": [
    {
     "data": {
      "text/plain": [
       "array([1.        , 2.33333333, 3.66666667, 5.        ])"
      ]
     },
     "execution_count": 56,
     "metadata": {},
     "output_type": "execute_result"
    }
   ],
   "source": [
    "lspace"
   ]
  },
  {
   "cell_type": "code",
   "execution_count": null,
   "id": "d2835442ada94b8c",
   "metadata": {
    "ExecuteTime": {
     "end_time": "2025-02-08T10:54:14.115568Z",
     "start_time": "2025-02-08T10:54:14.111607Z"
    },
    "collapsed": false
   },
   "outputs": [],
   "source": [
    "emp_like=np.empty_like(lspace) #creating an empty array with the same shape as lspace"
   ]
  },
  {
   "cell_type": "code",
   "execution_count": 58,
   "id": "65f45f05eb61c170",
   "metadata": {
    "ExecuteTime": {
     "end_time": "2025-02-08T10:54:14.689624Z",
     "start_time": "2025-02-08T10:54:14.683840Z"
    },
    "collapsed": false
   },
   "outputs": [
    {
     "data": {
      "text/plain": [
       "array([1.        , 2.33333333, 3.66666667, 5.        ])"
      ]
     },
     "execution_count": 58,
     "metadata": {},
     "output_type": "execute_result"
    }
   ],
   "source": [
    "emp_like"
   ]
  },
  {
   "cell_type": "code",
   "execution_count": null,
   "id": "f3559a71d405424c",
   "metadata": {
    "ExecuteTime": {
     "end_time": "2025-02-08T10:54:15.240248Z",
     "start_time": "2025-02-08T10:54:15.235705Z"
    },
    "collapsed": false
   },
   "outputs": [],
   "source": [
    "ide=np.identity(45) #creating a 2D identity matrix of size 45x45"
   ]
  },
  {
   "cell_type": "code",
   "execution_count": 60,
   "id": "e769bd3a21cd3ee6",
   "metadata": {
    "ExecuteTime": {
     "end_time": "2025-02-08T10:54:15.871872Z",
     "start_time": "2025-02-08T10:54:15.866755Z"
    },
    "collapsed": false
   },
   "outputs": [
    {
     "data": {
      "text/plain": [
       "array([[1., 0., 0., ..., 0., 0., 0.],\n",
       "       [0., 1., 0., ..., 0., 0., 0.],\n",
       "       [0., 0., 1., ..., 0., 0., 0.],\n",
       "       ...,\n",
       "       [0., 0., 0., ..., 1., 0., 0.],\n",
       "       [0., 0., 0., ..., 0., 1., 0.],\n",
       "       [0., 0., 0., ..., 0., 0., 1.]])"
      ]
     },
     "execution_count": 60,
     "metadata": {},
     "output_type": "execute_result"
    }
   ],
   "source": [
    "ide"
   ]
  },
  {
   "cell_type": "code",
   "execution_count": null,
   "id": "28882fed8fef303c",
   "metadata": {
    "ExecuteTime": {
     "end_time": "2025-02-08T10:54:16.347784Z",
     "start_time": "2025-02-08T10:54:16.342098Z"
    },
    "collapsed": false
   },
   "outputs": [
    {
     "data": {
      "text/plain": [
       "(45, 45)"
      ]
     },
     "execution_count": 61,
     "metadata": {},
     "output_type": "execute_result"
    }
   ],
   "source": [
    "ide.shape #displays the shape of the identity matrix (number of rows, number of columns)"
   ]
  },
  {
   "cell_type": "code",
   "execution_count": null,
   "id": "ec8bb3926b23203f",
   "metadata": {
    "ExecuteTime": {
     "end_time": "2025-02-08T10:54:16.953655Z",
     "start_time": "2025-02-08T10:54:16.949684Z"
    },
    "collapsed": false
   },
   "outputs": [],
   "source": [
    "arr=np.arange(99) #creating a 1D array of integers from 0 to 98"
   ]
  },
  {
   "cell_type": "code",
   "execution_count": 63,
   "id": "cb3075e023f97e73",
   "metadata": {
    "ExecuteTime": {
     "end_time": "2025-02-08T10:54:17.586036Z",
     "start_time": "2025-02-08T10:54:17.580552Z"
    },
    "collapsed": false
   },
   "outputs": [
    {
     "data": {
      "text/plain": [
       "array([ 0,  1,  2,  3,  4,  5,  6,  7,  8,  9, 10, 11, 12, 13, 14, 15, 16,\n",
       "       17, 18, 19, 20, 21, 22, 23, 24, 25, 26, 27, 28, 29, 30, 31, 32, 33,\n",
       "       34, 35, 36, 37, 38, 39, 40, 41, 42, 43, 44, 45, 46, 47, 48, 49, 50,\n",
       "       51, 52, 53, 54, 55, 56, 57, 58, 59, 60, 61, 62, 63, 64, 65, 66, 67,\n",
       "       68, 69, 70, 71, 72, 73, 74, 75, 76, 77, 78, 79, 80, 81, 82, 83, 84,\n",
       "       85, 86, 87, 88, 89, 90, 91, 92, 93, 94, 95, 96, 97, 98])"
      ]
     },
     "execution_count": 63,
     "metadata": {},
     "output_type": "execute_result"
    }
   ],
   "source": [
    "arr"
   ]
  },
  {
   "cell_type": "code",
   "execution_count": null,
   "id": "d81b455dbabffac",
   "metadata": {
    "ExecuteTime": {
     "end_time": "2025-02-08T10:54:18.295717Z",
     "start_time": "2025-02-08T10:54:18.290374Z"
    },
    "collapsed": false
   },
   "outputs": [
    {
     "data": {
      "text/plain": [
       "array([[ 0,  1,  2,  3,  4,  5,  6,  7,  8,  9, 10, 11, 12, 13, 14, 15,\n",
       "        16, 17, 18, 19, 20, 21, 22, 23, 24, 25, 26, 27, 28, 29, 30, 31,\n",
       "        32],\n",
       "       [33, 34, 35, 36, 37, 38, 39, 40, 41, 42, 43, 44, 45, 46, 47, 48,\n",
       "        49, 50, 51, 52, 53, 54, 55, 56, 57, 58, 59, 60, 61, 62, 63, 64,\n",
       "        65],\n",
       "       [66, 67, 68, 69, 70, 71, 72, 73, 74, 75, 76, 77, 78, 79, 80, 81,\n",
       "        82, 83, 84, 85, 86, 87, 88, 89, 90, 91, 92, 93, 94, 95, 96, 97,\n",
       "        98]])"
      ]
     },
     "execution_count": 64,
     "metadata": {},
     "output_type": "execute_result"
    }
   ],
   "source": [
    "arr.reshape(3,33) #reshaping the array into a 2D array with 3 rows and 33 columns"
   ]
  },
  {
   "cell_type": "code",
   "execution_count": 103,
   "id": "1b6ceb977bc11f42",
   "metadata": {
    "ExecuteTime": {
     "end_time": "2025-02-08T10:54:18.901198Z",
     "start_time": "2025-02-08T10:54:18.897349Z"
    },
    "collapsed": false
   },
   "outputs": [
    {
     "data": {
      "text/plain": [
       "array([ 0,  1,  2,  3,  4,  5,  6,  7,  8,  9, 10, 11, 12, 13, 14, 15, 16,\n",
       "       17, 18, 19, 20, 21, 22, 23, 24, 25, 26, 27, 28, 29, 30, 31, 32, 33,\n",
       "       34, 35, 36, 37, 38, 39, 40, 41, 42, 43, 44, 45, 46, 47, 48, 49, 50,\n",
       "       51, 52, 53, 54, 55, 56, 57, 58, 59, 60, 61, 62, 63, 64, 65, 66, 67,\n",
       "       68, 69, 70, 71, 72, 73, 74, 75, 76, 77, 78, 79, 80, 81, 82, 83, 84,\n",
       "       85, 86, 87, 88, 89, 90, 91, 92, 93, 94, 95, 96, 97, 98])"
      ]
     },
     "execution_count": 103,
     "metadata": {},
     "output_type": "execute_result"
    }
   ],
   "source": [
    "arr=arr.ravel() #flattening the array into a 1D array\n",
    "arr"
   ]
  },
  {
   "cell_type": "code",
   "execution_count": 105,
   "id": "25aac5cc46ff1941",
   "metadata": {
    "ExecuteTime": {
     "end_time": "2025-02-08T10:54:19.366957Z",
     "start_time": "2025-02-08T10:54:19.361543Z"
    },
    "collapsed": false
   },
   "outputs": [
    {
     "data": {
      "text/plain": [
       "(99,)"
      ]
     },
     "execution_count": 105,
     "metadata": {},
     "output_type": "execute_result"
    }
   ],
   "source": [
    "arr.shape #displays the shape of the flattened array (number of elements)"
   ]
  },
  {
   "cell_type": "code",
   "execution_count": null,
   "id": "f5aa29a57c81c10f",
   "metadata": {
    "ExecuteTime": {
     "end_time": "2025-02-08T10:54:19.843786Z",
     "start_time": "2025-02-08T10:54:19.840355Z"
    },
    "collapsed": false
   },
   "outputs": [],
   "source": [
    "x=[[1,2,4],[4,5,6],[6,9,0]] #creating a 2D array of integers"
   ]
  },
  {
   "cell_type": "code",
   "execution_count": null,
   "id": "a7b5c7d5475d3dbf",
   "metadata": {
    "ExecuteTime": {
     "end_time": "2025-02-08T10:54:20.375658Z",
     "start_time": "2025-02-08T10:54:20.371677Z"
    },
    "collapsed": false
   },
   "outputs": [],
   "source": [
    "ar=np.array(x) #creating a numpy array from the 2D array x"
   ]
  },
  {
   "cell_type": "code",
   "execution_count": 69,
   "id": "5a5790f7e3c4d368",
   "metadata": {
    "ExecuteTime": {
     "end_time": "2025-02-08T10:54:20.971518Z",
     "start_time": "2025-02-08T10:54:20.966377Z"
    },
    "collapsed": false
   },
   "outputs": [
    {
     "data": {
      "text/plain": [
       "array([[1, 2, 4],\n",
       "       [4, 5, 6],\n",
       "       [6, 9, 0]])"
      ]
     },
     "execution_count": 69,
     "metadata": {},
     "output_type": "execute_result"
    }
   ],
   "source": [
    "ar"
   ]
  },
  {
   "cell_type": "code",
   "execution_count": null,
   "id": "24ea7c639ce6dbdb",
   "metadata": {
    "ExecuteTime": {
     "end_time": "2025-02-08T10:54:21.587804Z",
     "start_time": "2025-02-08T10:54:21.582190Z"
    },
    "collapsed": false
   },
   "outputs": [
    {
     "data": {
      "text/plain": [
       "array([11, 16, 10])"
      ]
     },
     "execution_count": 70,
     "metadata": {},
     "output_type": "execute_result"
    }
   ],
   "source": [
    "ar.sum(axis=0) #calculating the sum of the elements along the columns of the array"
   ]
  },
  {
   "cell_type": "code",
   "execution_count": null,
   "id": "61cebd5e5a2581f8",
   "metadata": {
    "ExecuteTime": {
     "end_time": "2025-02-08T10:54:22.182145Z",
     "start_time": "2025-02-08T10:54:22.176914Z"
    },
    "collapsed": false
   },
   "outputs": [
    {
     "data": {
      "text/plain": [
       "array([ 7, 15, 15])"
      ]
     },
     "execution_count": 71,
     "metadata": {},
     "output_type": "execute_result"
    }
   ],
   "source": [
    "ar.sum(axis=1) #calculating the sum of the elements along the rows of the array"
   ]
  },
  {
   "cell_type": "code",
   "execution_count": null,
   "id": "54c3cc446d4419da",
   "metadata": {
    "ExecuteTime": {
     "end_time": "2025-02-08T10:54:22.846Z",
     "start_time": "2025-02-08T10:54:22.840504Z"
    },
    "collapsed": false
   },
   "outputs": [
    {
     "data": {
      "text/plain": [
       "array([[1, 4, 6],\n",
       "       [2, 5, 9],\n",
       "       [4, 6, 0]])"
      ]
     },
     "execution_count": 72,
     "metadata": {},
     "output_type": "execute_result"
    }
   ],
   "source": [
    "ar.T #transposing the array (swapping rows and columns)"
   ]
  },
  {
   "cell_type": "code",
   "execution_count": null,
   "id": "540cd1a80de340e",
   "metadata": {
    "ExecuteTime": {
     "end_time": "2025-02-08T10:54:23.644526Z",
     "start_time": "2025-02-08T10:54:23.641028Z"
    },
    "collapsed": false
   },
   "outputs": [
    {
     "name": "stdout",
     "output_type": "stream",
     "text": [
      "1\n",
      "2\n",
      "4\n",
      "4\n",
      "5\n",
      "6\n",
      "6\n",
      "9\n",
      "0\n"
     ]
    }
   ],
   "source": [
    "for item in ar.flat: #iterating through the flattened array\n",
    "    print(item)"
   ]
  },
  {
   "cell_type": "code",
   "execution_count": 106,
   "id": "82b7da8a3513d87c",
   "metadata": {
    "ExecuteTime": {
     "end_time": "2025-02-08T10:54:24.566782Z",
     "start_time": "2025-02-08T10:54:24.561074Z"
    },
    "collapsed": false
   },
   "outputs": [
    {
     "data": {
      "text/plain": [
       "2"
      ]
     },
     "execution_count": 106,
     "metadata": {},
     "output_type": "execute_result"
    }
   ],
   "source": [
    "ar.ndim  #displays the number of dimensions of the array"
   ]
  },
  {
   "cell_type": "code",
   "execution_count": null,
   "id": "23bd4c485e6ab44d",
   "metadata": {
    "ExecuteTime": {
     "end_time": "2025-02-08T10:54:25.401688Z",
     "start_time": "2025-02-08T10:54:25.396758Z"
    },
    "collapsed": false
   },
   "outputs": [
    {
     "data": {
      "text/plain": [
       "9"
      ]
     },
     "execution_count": 75,
     "metadata": {},
     "output_type": "execute_result"
    }
   ],
   "source": [
    "ar.size #displays the total number of elements in the array"
   ]
  },
  {
   "cell_type": "code",
   "execution_count": null,
   "id": "35cb51bfecab86de",
   "metadata": {
    "ExecuteTime": {
     "end_time": "2025-02-08T10:54:25.897485Z",
     "start_time": "2025-02-08T10:54:25.892184Z"
    },
    "collapsed": false
   },
   "outputs": [
    {
     "data": {
      "text/plain": [
       "36"
      ]
     },
     "execution_count": 76,
     "metadata": {},
     "output_type": "execute_result"
    }
   ],
   "source": [
    "ar.nbytes #displays the total number of bytes used by the array"
   ]
  },
  {
   "cell_type": "code",
   "execution_count": null,
   "id": "cd56d46dbac6bdab",
   "metadata": {
    "ExecuteTime": {
     "end_time": "2025-02-08T10:54:26.520103Z",
     "start_time": "2025-02-08T10:54:26.516831Z"
    },
    "collapsed": false
   },
   "outputs": [],
   "source": [
    "one=np.array([1,2,33,4]) #creating a 1D array of integers"
   ]
  },
  {
   "cell_type": "code",
   "execution_count": null,
   "id": "246303e9711e2453",
   "metadata": {
    "ExecuteTime": {
     "end_time": "2025-02-08T10:54:27.172669Z",
     "start_time": "2025-02-08T10:54:27.166724Z"
    },
    "collapsed": false
   },
   "outputs": [
    {
     "data": {
      "text/plain": [
       "2"
      ]
     },
     "execution_count": 78,
     "metadata": {},
     "output_type": "execute_result"
    }
   ],
   "source": [
    "one.argmax() #returns the index of the maximum element in the array\n",
    "one.argmin() #returns the index of the minimum element in the array"
   ]
  },
  {
   "cell_type": "code",
   "execution_count": 79,
   "id": "5e5fda82ed9a7bb8",
   "metadata": {
    "ExecuteTime": {
     "end_time": "2025-02-08T10:54:28.005004Z",
     "start_time": "2025-02-08T10:54:28.000338Z"
    },
    "collapsed": false
   },
   "outputs": [
    {
     "data": {
      "text/plain": [
       "0"
      ]
     },
     "execution_count": 79,
     "metadata": {},
     "output_type": "execute_result"
    }
   ],
   "source": [
    "one.argmin()"
   ]
  },
  {
   "cell_type": "code",
   "execution_count": null,
   "id": "94897af79b85607c",
   "metadata": {
    "ExecuteTime": {
     "end_time": "2025-02-08T10:54:28.862840Z",
     "start_time": "2025-02-08T10:54:28.856440Z"
    },
    "collapsed": false
   },
   "outputs": [
    {
     "data": {
      "text/plain": [
       "array([0, 1, 3, 2], dtype=int64)"
      ]
     },
     "execution_count": 80,
     "metadata": {},
     "output_type": "execute_result"
    }
   ],
   "source": [
    "one.argsort() #returns the indices that would sort the array in ascending order"
   ]
  },
  {
   "cell_type": "code",
   "execution_count": 81,
   "id": "1b0a6ba7858feaed",
   "metadata": {
    "ExecuteTime": {
     "end_time": "2025-02-08T10:54:29.587658Z",
     "start_time": "2025-02-08T10:54:29.582615Z"
    },
    "collapsed": false
   },
   "outputs": [
    {
     "data": {
      "text/plain": [
       "array([0, 1, 3, 2], dtype=int64)"
      ]
     },
     "execution_count": 81,
     "metadata": {},
     "output_type": "execute_result"
    }
   ],
   "source": [
    "one.argsort()"
   ]
  },
  {
   "cell_type": "code",
   "execution_count": null,
   "id": "3287b95a0162bb52",
   "metadata": {
    "ExecuteTime": {
     "end_time": "2025-02-08T10:54:49.415700Z",
     "start_time": "2025-02-08T10:54:49.409712Z"
    },
    "collapsed": false
   },
   "outputs": [
    {
     "data": {
      "text/plain": [
       "array([2, 2, 1], dtype=int64)"
      ]
     },
     "execution_count": 82,
     "metadata": {},
     "output_type": "execute_result"
    }
   ],
   "source": [
    "\"\"\"43:22\"\"\"\n",
    "\n",
    "ar.argmax(axis=0) #returns the indices of the maximum elements along the columns of the array\n",
    "ar.argmax(axis=1)\n"
   ]
  },
  {
   "cell_type": "code",
   "execution_count": null,
   "id": "705962a04bd03f6e",
   "metadata": {
    "ExecuteTime": {
     "end_time": "2025-02-08T10:56:01.045687Z",
     "start_time": "2025-02-08T10:56:01.040836Z"
    },
    "collapsed": false
   },
   "outputs": [
    {
     "data": {
      "text/plain": [
       "array([1, 2, 4, 4, 5, 6, 6, 9, 0])"
      ]
     },
     "execution_count": 83,
     "metadata": {},
     "output_type": "execute_result"
    }
   ],
   "source": [
    "ar.ravel() #flattening the array into a 1D array"
   ]
  },
  {
   "cell_type": "code",
   "execution_count": 84,
   "id": "2d0bbae7953daf1e",
   "metadata": {
    "ExecuteTime": {
     "end_time": "2025-02-08T10:57:11.788996Z",
     "start_time": "2025-02-08T10:57:11.783096Z"
    },
    "collapsed": false
   },
   "outputs": [
    {
     "data": {
      "text/plain": [
       "array([[1],\n",
       "       [2],\n",
       "       [4],\n",
       "       [4],\n",
       "       [5],\n",
       "       [6],\n",
       "       [6],\n",
       "       [9],\n",
       "       [0]])"
      ]
     },
     "execution_count": 84,
     "metadata": {},
     "output_type": "execute_result"
    }
   ],
   "source": [
    "ar.reshape((9,1))"
   ]
  },
  {
   "cell_type": "code",
   "execution_count": null,
   "id": "f7db5d9803a4fe6b",
   "metadata": {
    "ExecuteTime": {
     "end_time": "2025-02-08T10:58:50.936667Z",
     "start_time": "2025-02-08T10:58:50.930792Z"
    },
    "collapsed": false
   },
   "outputs": [
    {
     "data": {
      "text/plain": [
       "array([1, 2, 4, 4, 5, 6, 6, 9, 0])"
      ]
     },
     "execution_count": 85,
     "metadata": {},
     "output_type": "execute_result"
    }
   ],
   "source": [
    "ar.reshape((9,)) #reshaping the array into a 1D array with 9 elements\n",
    "ar.reshape((1,9)) #reshaping the array into a 2D array with 1 row and 9 columns"
   ]
  },
  {
   "cell_type": "code",
   "execution_count": 86,
   "id": "d87453ec71c5b9e8",
   "metadata": {
    "ExecuteTime": {
     "end_time": "2025-02-08T11:01:05.160728Z",
     "start_time": "2025-02-08T11:01:05.157071Z"
    },
    "collapsed": false
   },
   "outputs": [],
   "source": [
    "ar2=np.array([[2,4,6],[4,8,0],[1,6,8]])"
   ]
  },
  {
   "cell_type": "code",
   "execution_count": 87,
   "id": "13a8dd565d229e15",
   "metadata": {
    "ExecuteTime": {
     "end_time": "2025-02-08T11:01:55.991066Z",
     "start_time": "2025-02-08T11:01:55.985457Z"
    },
    "collapsed": false
   },
   "outputs": [
    {
     "data": {
      "text/plain": [
       "array([[2, 4, 6],\n",
       "       [4, 8, 0],\n",
       "       [1, 6, 8]])"
      ]
     },
     "execution_count": 87,
     "metadata": {},
     "output_type": "execute_result"
    }
   ],
   "source": [
    "ar2"
   ]
  },
  {
   "cell_type": "code",
   "execution_count": 88,
   "id": "e0be1e45d32ad69",
   "metadata": {
    "ExecuteTime": {
     "end_time": "2025-02-08T11:02:05.013879Z",
     "start_time": "2025-02-08T11:02:05.008148Z"
    },
    "collapsed": false
   },
   "outputs": [
    {
     "data": {
      "text/plain": [
       "array([[1, 2, 4],\n",
       "       [4, 5, 6],\n",
       "       [6, 9, 0]])"
      ]
     },
     "execution_count": 88,
     "metadata": {},
     "output_type": "execute_result"
    }
   ],
   "source": [
    "ar"
   ]
  },
  {
   "cell_type": "code",
   "execution_count": null,
   "id": "fefc2356420a441b",
   "metadata": {
    "ExecuteTime": {
     "end_time": "2025-02-08T11:01:32.761566Z",
     "start_time": "2025-02-08T11:01:32.755888Z"
    },
    "collapsed": false
   },
   "outputs": [
    {
     "data": {
      "text/plain": [
       "array([[ 3,  6, 10],\n",
       "       [ 8, 13,  6],\n",
       "       [ 7, 15,  8]])"
      ]
     },
     "execution_count": 89,
     "metadata": {},
     "output_type": "execute_result"
    }
   ],
   "source": [
    "ar+ar2 #adding two arrays element-wise\n",
    "ar-ar2 #subtracting two arrays element-wise"
   ]
  },
  {
   "cell_type": "code",
   "execution_count": null,
   "id": "42a8b880291f7a3a",
   "metadata": {
    "ExecuteTime": {
     "end_time": "2025-02-08T11:03:04.868470Z",
     "start_time": "2025-02-08T11:03:04.862688Z"
    },
    "collapsed": false
   },
   "outputs": [
    {
     "data": {
      "text/plain": [
       "[52, 45, 8, 78]"
      ]
     },
     "execution_count": 90,
     "metadata": {},
     "output_type": "execute_result"
    }
   ],
   "source": [
    "[52,45]+[8,78] #adding two lists element-wise\n",
    "ar*ar2 #multiplying two arrays element-wise"
   ]
  },
  {
   "cell_type": "code",
   "execution_count": 91,
   "id": "cbf1b95e499ee92b",
   "metadata": {
    "ExecuteTime": {
     "end_time": "2025-02-08T11:03:40.392492Z",
     "start_time": "2025-02-08T11:03:40.386417Z"
    },
    "collapsed": false
   },
   "outputs": [
    {
     "data": {
      "text/plain": [
       "array([[ 2,  8, 24],\n",
       "       [16, 40,  0],\n",
       "       [ 6, 54,  0]])"
      ]
     },
     "execution_count": 91,
     "metadata": {},
     "output_type": "execute_result"
    }
   ],
   "source": [
    "ar*ar2"
   ]
  },
  {
   "cell_type": "code",
   "execution_count": null,
   "id": "cbb8bc3a4159a45b",
   "metadata": {
    "ExecuteTime": {
     "end_time": "2025-02-08T11:04:13.364684Z",
     "start_time": "2025-02-08T11:04:13.359927Z"
    },
    "collapsed": false
   },
   "outputs": [
    {
     "data": {
      "text/plain": [
       "array([[1.        , 1.41421356, 2.        ],\n",
       "       [2.        , 2.23606798, 2.44948974],\n",
       "       [2.44948974, 3.        , 0.        ]])"
      ]
     },
     "execution_count": 92,
     "metadata": {},
     "output_type": "execute_result"
    }
   ],
   "source": [
    "np.sqrt(ar) #calculating the square root of each element in the array\n",
    "np.std(ar) #calculating the standard deviation of the elements in the array"
   ]
  },
  {
   "cell_type": "code",
   "execution_count": null,
   "id": "a255c15ae014788e",
   "metadata": {
    "ExecuteTime": {
     "end_time": "2025-02-08T11:04:29.315122Z",
     "start_time": "2025-02-08T11:04:29.309457Z"
    },
    "collapsed": false
   },
   "outputs": [
    {
     "data": {
      "text/plain": [
       "8"
      ]
     },
     "execution_count": 93,
     "metadata": {},
     "output_type": "execute_result"
    }
   ],
   "source": [
    "ar2.max() #calculating the maximum element in the array\n",
    "ar2.min() #calculating the minimum element in the array"
   ]
  },
  {
   "cell_type": "code",
   "execution_count": null,
   "id": "96d3f9a0e1e0ad56",
   "metadata": {
    "ExecuteTime": {
     "end_time": "2025-02-08T11:04:54.842773Z",
     "start_time": "2025-02-08T11:04:54.836211Z"
    },
    "collapsed": false
   },
   "outputs": [
    {
     "data": {
      "text/plain": [
       "(array([1, 2, 2], dtype=int64), array([2, 0, 1], dtype=int64))"
      ]
     },
     "execution_count": 94,
     "metadata": {},
     "output_type": "execute_result"
    }
   ],
   "source": [
    "np.where(ar>5) #returns the indices of the elements that are greater than 5 in the array"
   ]
  },
  {
   "cell_type": "code",
   "execution_count": null,
   "id": "9a0b11e1a0ef0890",
   "metadata": {
    "ExecuteTime": {
     "end_time": "2025-02-08T11:09:27.408904Z",
     "start_time": "2025-02-08T11:09:27.405002Z"
    },
    "collapsed": false
   },
   "outputs": [],
   "source": [
    "import sys #lib is used for system-specific parameters and functions\n",
    "import os #lib is used for operating system dependent functionality"
   ]
  },
  {
   "cell_type": "code",
   "execution_count": null,
   "id": "93d11df1c9a453f5",
   "metadata": {
    "ExecuteTime": {
     "end_time": "2025-02-08T11:09:28.772857Z",
     "start_time": "2025-02-08T11:09:28.769401Z"
    },
    "collapsed": false
   },
   "outputs": [],
   "source": [
    "py_ar=[2,45,780] #creating a list of integers\n",
    "np_ar=np.array(py_ar) #creating a numpy array from the list"
   ]
  },
  {
   "cell_type": "code",
   "execution_count": null,
   "id": "c550381896393471",
   "metadata": {
    "ExecuteTime": {
     "end_time": "2025-02-08T11:09:29.742108Z",
     "start_time": "2025-02-08T11:09:29.737551Z"
    },
    "collapsed": false
   },
   "outputs": [
    {
     "data": {
      "text/plain": [
       "84"
      ]
     },
     "execution_count": 97,
     "metadata": {},
     "output_type": "execute_result"
    }
   ],
   "source": [
    "sys.getsizeof(1)*len(py_ar)     #calculating the size of the list in bytes"
   ]
  },
  {
   "cell_type": "code",
   "execution_count": null,
   "id": "ec147d4474c8614b",
   "metadata": {
    "ExecuteTime": {
     "end_time": "2025-02-08T11:10:36.109156Z",
     "start_time": "2025-02-08T11:10:36.103996Z"
    },
    "collapsed": false
   },
   "outputs": [
    {
     "data": {
      "text/plain": [
       "12"
      ]
     },
     "execution_count": 98,
     "metadata": {},
     "output_type": "execute_result"
    }
   ],
   "source": [
    "np_ar.itemsize*np_ar.size #calculating the size of the numpy array in bytes"
   ]
  },
  {
   "cell_type": "code",
   "execution_count": 99,
   "id": "a64be10a3009ae85",
   "metadata": {
    "ExecuteTime": {
     "end_time": "2025-02-08T11:14:30.746215Z",
     "start_time": "2025-02-08T11:14:30.740796Z"
    },
    "collapsed": false
   },
   "outputs": [
    {
     "ename": "SyntaxError",
     "evalue": "invalid syntax (886629713.py, line 1)",
     "output_type": "error",
     "traceback": [
      "\u001b[1;36m  Cell \u001b[1;32mIn[99], line 1\u001b[1;36m\u001b[0m\n\u001b[1;33m    https://numpy.org/doc/stable/reference/generated/numpy.ndarray.html\u001b[0m\n\u001b[1;37m          ^\u001b[0m\n\u001b[1;31mSyntaxError\u001b[0m\u001b[1;31m:\u001b[0m invalid syntax\n"
     ]
    }
   ],
   "source": [
    "https://numpy.org/doc/stable/reference/generated/numpy.ndarray.html"
   ]
  },
  {
   "cell_type": "code",
   "execution_count": null,
   "id": "3546c09b79d29094",
   "metadata": {
    "ExecuteTime": {
     "end_time": "2025-02-08T11:15:34.342609Z",
     "start_time": "2025-02-08T11:15:34.337609Z"
    },
    "collapsed": false
   },
   "outputs": [
    {
     "ename": "SyntaxError",
     "evalue": "invalid syntax (1533733370.py, line 1)",
     "output_type": "error",
     "traceback": [
      "\u001b[1;36m  Cell \u001b[1;32mIn[100], line 1\u001b[1;36m\u001b[0m\n\u001b[1;33m    https://pandas.pydata.org/docs/user_guide/basics.html\u001b[0m\n\u001b[1;37m          ^\u001b[0m\n\u001b[1;31mSyntaxError\u001b[0m\u001b[1;31m:\u001b[0m invalid syntax\n"
     ]
    }
   ],
   "source": [
    "\"\"\"https://pandas.pydata.org/docs/user_guide/basics.html\"\"\""
   ]
  },
  {
   "cell_type": "code",
   "execution_count": null,
   "id": "e50df63bd6bfc17f",
   "metadata": {
    "collapsed": false
   },
   "outputs": [],
   "source": []
  },
  {
   "cell_type": "code",
   "execution_count": null,
   "id": "7544b8da",
   "metadata": {},
   "outputs": [],
   "source": []
  },
  {
   "cell_type": "code",
   "execution_count": null,
   "id": "81d3449d",
   "metadata": {},
   "outputs": [],
   "source": []
  },
  {
   "cell_type": "code",
   "execution_count": null,
   "id": "bda3f94d",
   "metadata": {},
   "outputs": [],
   "source": []
  },
  {
   "cell_type": "code",
   "execution_count": null,
   "id": "c44cf364",
   "metadata": {},
   "outputs": [],
   "source": []
  },
  {
   "cell_type": "code",
   "execution_count": null,
   "id": "31c4fd37",
   "metadata": {},
   "outputs": [],
   "source": []
  }
 ],
 "metadata": {
  "kernelspec": {
   "display_name": "Python 3",
   "language": "python",
   "name": "python3"
  },
  "language_info": {
   "codemirror_mode": {
    "name": "ipython",
    "version": 3
   },
   "file_extension": ".py",
   "mimetype": "text/x-python",
   "name": "python",
   "nbconvert_exporter": "python",
   "pygments_lexer": "ipython3",
   "version": "3.12.1"
  }
 },
 "nbformat": 4,
 "nbformat_minor": 5
}
