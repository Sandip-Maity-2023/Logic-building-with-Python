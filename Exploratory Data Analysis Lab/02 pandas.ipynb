{
 "cells": [
  {
   "cell_type": "code",
   "execution_count": 2,
   "id": "initial_id",
   "metadata": {
    "collapsed": true,
    "ExecuteTime": {
     "end_time": "2025-02-08T04:40:37.019215Z",
     "start_time": "2025-02-08T04:40:35.239466Z"
    }
   },
   "outputs": [],
   "source": [
    "import pandas as pd\n",
    "s=pd.Series([1,2,3,4,5])\n"
   ]
  },
  {
   "cell_type": "code",
   "outputs": [
    {
     "name": "stdout",
     "output_type": "stream",
     "text": [
      "0    1\n",
      "1    2\n",
      "2    3\n",
      "3    4\n",
      "4    5\n",
      "dtype: int64\n",
      "    names  marks\n",
      "0   Harry    100\n",
      "1  Sounak     56\n",
      "2  Pratik     45\n",
      "3  Amzeed     55\n"
     ]
    }
   ],
   "source": [
    "print(s)\n",
    "df=pd.DataFrame({\"names\":[\"Harry\", \"Sounak\",\"Pratik\",\"Amzeed\"],\"marks\":[100,56,45,55]})\n",
    "print(df)"
   ],
   "metadata": {
    "collapsed": false,
    "ExecuteTime": {
     "end_time": "2025-02-08T06:21:14.766240Z",
     "start_time": "2025-02-08T06:21:14.760239Z"
    }
   },
   "id": "638f1085d9419d40",
   "execution_count": 54
  },
  {
   "cell_type": "code",
   "outputs": [
    {
     "name": "stdout",
     "output_type": "stream",
     "text": [
      "    names  marks\n",
      "0   Harry    100\n",
      "1  Sounak     56\n",
      "2  Pratik     45\n",
      "3  Amzeed     55\n"
     ]
    }
   ],
   "source": [
    "print(df)"
   ],
   "metadata": {
    "collapsed": false,
    "ExecuteTime": {
     "end_time": "2025-02-08T04:40:37.040189Z",
     "start_time": "2025-02-08T04:40:37.033017Z"
    }
   },
   "id": "2020ccc69792cf03",
   "execution_count": 4
  },
  {
   "cell_type": "markdown",
   "source": [],
   "metadata": {
    "collapsed": false
   },
   "id": "257f29fe73539f35"
  },
  {
   "cell_type": "code",
   "outputs": [],
   "source": [
    "df=pd.read_csv(\"Book2.csv\")\n",
    "               "
   ],
   "metadata": {
    "collapsed": false,
    "ExecuteTime": {
     "end_time": "2025-02-08T04:40:37.053135Z",
     "start_time": "2025-02-08T04:40:37.043507Z"
    }
   },
   "id": "2af1dcca3c6a61a1",
   "execution_count": 5
  },
  {
   "cell_type": "code",
   "outputs": [
    {
     "name": "stdout",
     "output_type": "stream",
     "text": [
      "    id    name\n",
      "0    1  sandip\n",
      "1    2   rahul\n",
      "2    3     piu\n",
      "3    4    ullu\n",
      "4    5   rahul\n",
      "5    6     hoo\n",
      "6    7     joy\n",
      "7    8     swe\n",
      "8    9     sde\n",
      "9   10      qa\n",
      "10  11     wet\n",
      "11  12     sda\n",
      "12  13     ssd\n",
      "13  14       a\n",
      "14  15       d\n",
      "15  16      vf\n",
      "16  17      tg\n",
      "17  18     vbr\n",
      "18  19      rg\n",
      "19  20      rb\n",
      "20  21     rgt\n",
      "21  22     hth\n",
      "22  23      tg\n"
     ]
    },
    {
     "data": {
      "text/plain": "    id name\n18  19   rg\n19  20   rb\n20  21  rgt\n21  22  hth\n22  23   tg",
      "text/html": "<div>\n<style scoped>\n    .dataframe tbody tr th:only-of-type {\n        vertical-align: middle;\n    }\n\n    .dataframe tbody tr th {\n        vertical-align: top;\n    }\n\n    .dataframe thead th {\n        text-align: right;\n    }\n</style>\n<table border=\"1\" class=\"dataframe\">\n  <thead>\n    <tr style=\"text-align: right;\">\n      <th></th>\n      <th>id</th>\n      <th>name</th>\n    </tr>\n  </thead>\n  <tbody>\n    <tr>\n      <th>18</th>\n      <td>19</td>\n      <td>rg</td>\n    </tr>\n    <tr>\n      <th>19</th>\n      <td>20</td>\n      <td>rb</td>\n    </tr>\n    <tr>\n      <th>20</th>\n      <td>21</td>\n      <td>rgt</td>\n    </tr>\n    <tr>\n      <th>21</th>\n      <td>22</td>\n      <td>hth</td>\n    </tr>\n    <tr>\n      <th>22</th>\n      <td>23</td>\n      <td>tg</td>\n    </tr>\n  </tbody>\n</table>\n</div>"
     },
     "execution_count": 6,
     "metadata": {},
     "output_type": "execute_result"
    }
   ],
   "source": [
    "print(df)\n",
    "df.describe()\n",
    "df.head()\n",
    "df.tail()\n"
   ],
   "metadata": {
    "collapsed": false,
    "ExecuteTime": {
     "end_time": "2025-02-08T04:40:37.078857Z",
     "start_time": "2025-02-08T04:40:37.055295Z"
    }
   },
   "id": "b4f71d60bdc760b7",
   "execution_count": 6
  },
  {
   "cell_type": "code",
   "outputs": [
    {
     "name": "stdout",
     "output_type": "stream",
     "text": [
      "<class 'pandas.core.frame.DataFrame'>\n",
      "RangeIndex: 23 entries, 0 to 22\n",
      "Data columns (total 2 columns):\n",
      " #   Column  Non-Null Count  Dtype \n",
      "---  ------  --------------  ----- \n",
      " 0   id      23 non-null     int64 \n",
      " 1   name    23 non-null     object\n",
      "dtypes: int64(1), object(1)\n",
      "memory usage: 500.0+ bytes\n"
     ]
    }
   ],
   "source": [
    "df[\"id\"].describe()\n",
    "df.info()"
   ],
   "metadata": {
    "collapsed": false,
    "ExecuteTime": {
     "end_time": "2025-02-08T04:40:37.093600Z",
     "start_time": "2025-02-08T04:40:37.080261Z"
    }
   },
   "id": "fd0217d545cc2cd4",
   "execution_count": 7
  },
  {
   "cell_type": "code",
   "outputs": [
    {
     "data": {
      "text/plain": "             id\ncount  23.00000\nmean   12.00000\nstd     6.78233\nmin     1.00000\n25%     6.50000\n50%    12.00000\n75%    17.50000\nmax    23.00000",
      "text/html": "<div>\n<style scoped>\n    .dataframe tbody tr th:only-of-type {\n        vertical-align: middle;\n    }\n\n    .dataframe tbody tr th {\n        vertical-align: top;\n    }\n\n    .dataframe thead th {\n        text-align: right;\n    }\n</style>\n<table border=\"1\" class=\"dataframe\">\n  <thead>\n    <tr style=\"text-align: right;\">\n      <th></th>\n      <th>id</th>\n    </tr>\n  </thead>\n  <tbody>\n    <tr>\n      <th>count</th>\n      <td>23.00000</td>\n    </tr>\n    <tr>\n      <th>mean</th>\n      <td>12.00000</td>\n    </tr>\n    <tr>\n      <th>std</th>\n      <td>6.78233</td>\n    </tr>\n    <tr>\n      <th>min</th>\n      <td>1.00000</td>\n    </tr>\n    <tr>\n      <th>25%</th>\n      <td>6.50000</td>\n    </tr>\n    <tr>\n      <th>50%</th>\n      <td>12.00000</td>\n    </tr>\n    <tr>\n      <th>75%</th>\n      <td>17.50000</td>\n    </tr>\n    <tr>\n      <th>max</th>\n      <td>23.00000</td>\n    </tr>\n  </tbody>\n</table>\n</div>"
     },
     "execution_count": 8,
     "metadata": {},
     "output_type": "execute_result"
    }
   ],
   "source": [
    "df.describe()"
   ],
   "metadata": {
    "collapsed": false,
    "ExecuteTime": {
     "end_time": "2025-02-08T04:40:37.108041Z",
     "start_time": "2025-02-08T04:40:37.095766Z"
    }
   },
   "id": "eb5125c4254bb4f0",
   "execution_count": 8
  },
  {
   "cell_type": "code",
   "outputs": [
    {
     "data": {
      "text/plain": "0      1\n1      2\n2      3\n3      4\n4      5\n5      6\n6      7\n7      8\n8      9\n9     10\n10    11\n11    12\n12    13\n13    14\n14    15\n15    16\n16    17\n17    18\n18    19\n19    20\n20    21\n21    22\n22    23\nName: id, dtype: int64"
     },
     "execution_count": 9,
     "metadata": {},
     "output_type": "execute_result"
    }
   ],
   "source": [
    "df[\"id\"]"
   ],
   "metadata": {
    "collapsed": false,
    "ExecuteTime": {
     "end_time": "2025-02-08T04:41:54.849654Z",
     "start_time": "2025-02-08T04:41:54.843837Z"
    }
   },
   "id": "91b0440c0c972ce8",
   "execution_count": 9
  },
  {
   "cell_type": "code",
   "outputs": [
    {
     "data": {
      "text/plain": "pandas.core.series.Series"
     },
     "execution_count": 10,
     "metadata": {},
     "output_type": "execute_result"
    }
   ],
   "source": [
    "type(df[\"id\"])"
   ],
   "metadata": {
    "collapsed": false,
    "ExecuteTime": {
     "end_time": "2025-02-08T04:42:36.146193Z",
     "start_time": "2025-02-08T04:42:36.140283Z"
    }
   },
   "id": "70c38fae57a538af",
   "execution_count": 10
  },
  {
   "cell_type": "code",
   "outputs": [
    {
     "data": {
      "text/plain": "id           1\nname    sandip\nName: 0, dtype: object"
     },
     "execution_count": 11,
     "metadata": {},
     "output_type": "execute_result"
    }
   ],
   "source": [
    "df.iloc[0]"
   ],
   "metadata": {
    "collapsed": false,
    "ExecuteTime": {
     "end_time": "2025-02-08T05:18:14.503036Z",
     "start_time": "2025-02-08T05:18:14.496984Z"
    }
   },
   "id": "a100a8dea29fdb4",
   "execution_count": 11
  },
  {
   "cell_type": "code",
   "outputs": [],
   "source": [
    "df2=pd.read_csv(\"Book2.csv\")"
   ],
   "metadata": {
    "collapsed": false,
    "ExecuteTime": {
     "end_time": "2025-02-08T05:45:34.449381Z",
     "start_time": "2025-02-08T05:45:34.440571Z"
    }
   },
   "id": "291e8fe7cebe6c65",
   "execution_count": 12
  },
  {
   "cell_type": "code",
   "outputs": [
    {
     "data": {
      "text/plain": "   id    name\n0   1  sandip\n1   2   rahul\n2   3     piu\n3   4    ullu\n4   5   rahul",
      "text/html": "<div>\n<style scoped>\n    .dataframe tbody tr th:only-of-type {\n        vertical-align: middle;\n    }\n\n    .dataframe tbody tr th {\n        vertical-align: top;\n    }\n\n    .dataframe thead th {\n        text-align: right;\n    }\n</style>\n<table border=\"1\" class=\"dataframe\">\n  <thead>\n    <tr style=\"text-align: right;\">\n      <th></th>\n      <th>id</th>\n      <th>name</th>\n    </tr>\n  </thead>\n  <tbody>\n    <tr>\n      <th>0</th>\n      <td>1</td>\n      <td>sandip</td>\n    </tr>\n    <tr>\n      <th>1</th>\n      <td>2</td>\n      <td>rahul</td>\n    </tr>\n    <tr>\n      <th>2</th>\n      <td>3</td>\n      <td>piu</td>\n    </tr>\n    <tr>\n      <th>3</th>\n      <td>4</td>\n      <td>ullu</td>\n    </tr>\n    <tr>\n      <th>4</th>\n      <td>5</td>\n      <td>rahul</td>\n    </tr>\n  </tbody>\n</table>\n</div>"
     },
     "execution_count": 13,
     "metadata": {},
     "output_type": "execute_result"
    }
   ],
   "source": [
    "df2.head()"
   ],
   "metadata": {
    "collapsed": false,
    "ExecuteTime": {
     "end_time": "2025-02-08T05:45:49.523804Z",
     "start_time": "2025-02-08T05:45:49.513030Z"
    }
   },
   "id": "4b5da3717a879bfe",
   "execution_count": 13
  },
  {
   "cell_type": "code",
   "outputs": [
    {
     "data": {
      "text/plain": "    id    name\n0    1  sandip\n1    2   rahul\n2    3     piu\n3    4    ullu\n4    5   rahul\n5    6     hoo\n6    7     joy\n7    8     swe\n8    9     sde\n9   10      qa\n10  11     wet\n11  12     sda\n12  13     ssd\n13  14       a\n14  15       d\n15  16      vf\n16  17      tg\n17  18     vbr\n18  19      rg\n19  20      rb\n20  21     rgt\n21  22     hth\n22  23      tg",
      "text/html": "<div>\n<style scoped>\n    .dataframe tbody tr th:only-of-type {\n        vertical-align: middle;\n    }\n\n    .dataframe tbody tr th {\n        vertical-align: top;\n    }\n\n    .dataframe thead th {\n        text-align: right;\n    }\n</style>\n<table border=\"1\" class=\"dataframe\">\n  <thead>\n    <tr style=\"text-align: right;\">\n      <th></th>\n      <th>id</th>\n      <th>name</th>\n    </tr>\n  </thead>\n  <tbody>\n    <tr>\n      <th>0</th>\n      <td>1</td>\n      <td>sandip</td>\n    </tr>\n    <tr>\n      <th>1</th>\n      <td>2</td>\n      <td>rahul</td>\n    </tr>\n    <tr>\n      <th>2</th>\n      <td>3</td>\n      <td>piu</td>\n    </tr>\n    <tr>\n      <th>3</th>\n      <td>4</td>\n      <td>ullu</td>\n    </tr>\n    <tr>\n      <th>4</th>\n      <td>5</td>\n      <td>rahul</td>\n    </tr>\n    <tr>\n      <th>5</th>\n      <td>6</td>\n      <td>hoo</td>\n    </tr>\n    <tr>\n      <th>6</th>\n      <td>7</td>\n      <td>joy</td>\n    </tr>\n    <tr>\n      <th>7</th>\n      <td>8</td>\n      <td>swe</td>\n    </tr>\n    <tr>\n      <th>8</th>\n      <td>9</td>\n      <td>sde</td>\n    </tr>\n    <tr>\n      <th>9</th>\n      <td>10</td>\n      <td>qa</td>\n    </tr>\n    <tr>\n      <th>10</th>\n      <td>11</td>\n      <td>wet</td>\n    </tr>\n    <tr>\n      <th>11</th>\n      <td>12</td>\n      <td>sda</td>\n    </tr>\n    <tr>\n      <th>12</th>\n      <td>13</td>\n      <td>ssd</td>\n    </tr>\n    <tr>\n      <th>13</th>\n      <td>14</td>\n      <td>a</td>\n    </tr>\n    <tr>\n      <th>14</th>\n      <td>15</td>\n      <td>d</td>\n    </tr>\n    <tr>\n      <th>15</th>\n      <td>16</td>\n      <td>vf</td>\n    </tr>\n    <tr>\n      <th>16</th>\n      <td>17</td>\n      <td>tg</td>\n    </tr>\n    <tr>\n      <th>17</th>\n      <td>18</td>\n      <td>vbr</td>\n    </tr>\n    <tr>\n      <th>18</th>\n      <td>19</td>\n      <td>rg</td>\n    </tr>\n    <tr>\n      <th>19</th>\n      <td>20</td>\n      <td>rb</td>\n    </tr>\n    <tr>\n      <th>20</th>\n      <td>21</td>\n      <td>rgt</td>\n    </tr>\n    <tr>\n      <th>21</th>\n      <td>22</td>\n      <td>hth</td>\n    </tr>\n    <tr>\n      <th>22</th>\n      <td>23</td>\n      <td>tg</td>\n    </tr>\n  </tbody>\n</table>\n</div>"
     },
     "execution_count": 14,
     "metadata": {},
     "output_type": "execute_result"
    }
   ],
   "source": [
    "df.dropna()"
   ],
   "metadata": {
    "collapsed": false,
    "ExecuteTime": {
     "end_time": "2025-02-08T05:46:49.391323Z",
     "start_time": "2025-02-08T05:46:49.384378Z"
    }
   },
   "id": "ab369c7da94d8ad0",
   "execution_count": 14
  },
  {
   "cell_type": "code",
   "outputs": [
    {
     "data": {
      "text/plain": "    id    name\n0    1  sandip\n1    2   rahul\n2    3     piu\n3    4    ullu\n4    5   rahul\n5    6     hoo\n6    7     joy\n7    8     swe\n8    9     sde\n9   10      qa\n10  11     wet\n11  12     sda\n12  13     ssd\n13  14       a\n14  15       d\n15  16      vf\n16  17      tg\n17  18     vbr\n18  19      rg\n19  20      rb\n20  21     rgt\n21  22     hth\n22  23      tg",
      "text/html": "<div>\n<style scoped>\n    .dataframe tbody tr th:only-of-type {\n        vertical-align: middle;\n    }\n\n    .dataframe tbody tr th {\n        vertical-align: top;\n    }\n\n    .dataframe thead th {\n        text-align: right;\n    }\n</style>\n<table border=\"1\" class=\"dataframe\">\n  <thead>\n    <tr style=\"text-align: right;\">\n      <th></th>\n      <th>id</th>\n      <th>name</th>\n    </tr>\n  </thead>\n  <tbody>\n    <tr>\n      <th>0</th>\n      <td>1</td>\n      <td>sandip</td>\n    </tr>\n    <tr>\n      <th>1</th>\n      <td>2</td>\n      <td>rahul</td>\n    </tr>\n    <tr>\n      <th>2</th>\n      <td>3</td>\n      <td>piu</td>\n    </tr>\n    <tr>\n      <th>3</th>\n      <td>4</td>\n      <td>ullu</td>\n    </tr>\n    <tr>\n      <th>4</th>\n      <td>5</td>\n      <td>rahul</td>\n    </tr>\n    <tr>\n      <th>5</th>\n      <td>6</td>\n      <td>hoo</td>\n    </tr>\n    <tr>\n      <th>6</th>\n      <td>7</td>\n      <td>joy</td>\n    </tr>\n    <tr>\n      <th>7</th>\n      <td>8</td>\n      <td>swe</td>\n    </tr>\n    <tr>\n      <th>8</th>\n      <td>9</td>\n      <td>sde</td>\n    </tr>\n    <tr>\n      <th>9</th>\n      <td>10</td>\n      <td>qa</td>\n    </tr>\n    <tr>\n      <th>10</th>\n      <td>11</td>\n      <td>wet</td>\n    </tr>\n    <tr>\n      <th>11</th>\n      <td>12</td>\n      <td>sda</td>\n    </tr>\n    <tr>\n      <th>12</th>\n      <td>13</td>\n      <td>ssd</td>\n    </tr>\n    <tr>\n      <th>13</th>\n      <td>14</td>\n      <td>a</td>\n    </tr>\n    <tr>\n      <th>14</th>\n      <td>15</td>\n      <td>d</td>\n    </tr>\n    <tr>\n      <th>15</th>\n      <td>16</td>\n      <td>vf</td>\n    </tr>\n    <tr>\n      <th>16</th>\n      <td>17</td>\n      <td>tg</td>\n    </tr>\n    <tr>\n      <th>17</th>\n      <td>18</td>\n      <td>vbr</td>\n    </tr>\n    <tr>\n      <th>18</th>\n      <td>19</td>\n      <td>rg</td>\n    </tr>\n    <tr>\n      <th>19</th>\n      <td>20</td>\n      <td>rb</td>\n    </tr>\n    <tr>\n      <th>20</th>\n      <td>21</td>\n      <td>rgt</td>\n    </tr>\n    <tr>\n      <th>21</th>\n      <td>22</td>\n      <td>hth</td>\n    </tr>\n    <tr>\n      <th>22</th>\n      <td>23</td>\n      <td>tg</td>\n    </tr>\n  </tbody>\n</table>\n</div>"
     },
     "execution_count": 16,
     "metadata": {},
     "output_type": "execute_result"
    }
   ],
   "source": [
    "df2.fillna(0)"
   ],
   "metadata": {
    "collapsed": false,
    "ExecuteTime": {
     "end_time": "2025-02-08T05:47:33.899534Z",
     "start_time": "2025-02-08T05:47:33.892647Z"
    }
   },
   "id": "8f47a5b8f60093e7",
   "execution_count": 16
  },
  {
   "cell_type": "code",
   "outputs": [
    {
     "data": {
      "text/plain": "    id    Name\n0    1  sandip\n1    2   rahul\n2    3     piu\n3    4    ullu\n4    5   rahul\n5    6     hoo\n6    7     joy\n7    8     swe\n8    9     sde\n9   10      qa\n10  11     wet\n11  12     sda\n12  13     ssd\n13  14       a\n14  15       d\n15  16      vf\n16  17      tg\n17  18     vbr\n18  19      rg\n19  20      rb\n20  21     rgt\n21  22     hth\n22  23      tg",
      "text/html": "<div>\n<style scoped>\n    .dataframe tbody tr th:only-of-type {\n        vertical-align: middle;\n    }\n\n    .dataframe tbody tr th {\n        vertical-align: top;\n    }\n\n    .dataframe thead th {\n        text-align: right;\n    }\n</style>\n<table border=\"1\" class=\"dataframe\">\n  <thead>\n    <tr style=\"text-align: right;\">\n      <th></th>\n      <th>id</th>\n      <th>Name</th>\n    </tr>\n  </thead>\n  <tbody>\n    <tr>\n      <th>0</th>\n      <td>1</td>\n      <td>sandip</td>\n    </tr>\n    <tr>\n      <th>1</th>\n      <td>2</td>\n      <td>rahul</td>\n    </tr>\n    <tr>\n      <th>2</th>\n      <td>3</td>\n      <td>piu</td>\n    </tr>\n    <tr>\n      <th>3</th>\n      <td>4</td>\n      <td>ullu</td>\n    </tr>\n    <tr>\n      <th>4</th>\n      <td>5</td>\n      <td>rahul</td>\n    </tr>\n    <tr>\n      <th>5</th>\n      <td>6</td>\n      <td>hoo</td>\n    </tr>\n    <tr>\n      <th>6</th>\n      <td>7</td>\n      <td>joy</td>\n    </tr>\n    <tr>\n      <th>7</th>\n      <td>8</td>\n      <td>swe</td>\n    </tr>\n    <tr>\n      <th>8</th>\n      <td>9</td>\n      <td>sde</td>\n    </tr>\n    <tr>\n      <th>9</th>\n      <td>10</td>\n      <td>qa</td>\n    </tr>\n    <tr>\n      <th>10</th>\n      <td>11</td>\n      <td>wet</td>\n    </tr>\n    <tr>\n      <th>11</th>\n      <td>12</td>\n      <td>sda</td>\n    </tr>\n    <tr>\n      <th>12</th>\n      <td>13</td>\n      <td>ssd</td>\n    </tr>\n    <tr>\n      <th>13</th>\n      <td>14</td>\n      <td>a</td>\n    </tr>\n    <tr>\n      <th>14</th>\n      <td>15</td>\n      <td>d</td>\n    </tr>\n    <tr>\n      <th>15</th>\n      <td>16</td>\n      <td>vf</td>\n    </tr>\n    <tr>\n      <th>16</th>\n      <td>17</td>\n      <td>tg</td>\n    </tr>\n    <tr>\n      <th>17</th>\n      <td>18</td>\n      <td>vbr</td>\n    </tr>\n    <tr>\n      <th>18</th>\n      <td>19</td>\n      <td>rg</td>\n    </tr>\n    <tr>\n      <th>19</th>\n      <td>20</td>\n      <td>rb</td>\n    </tr>\n    <tr>\n      <th>20</th>\n      <td>21</td>\n      <td>rgt</td>\n    </tr>\n    <tr>\n      <th>21</th>\n      <td>22</td>\n      <td>hth</td>\n    </tr>\n    <tr>\n      <th>22</th>\n      <td>23</td>\n      <td>tg</td>\n    </tr>\n  </tbody>\n</table>\n</div>"
     },
     "execution_count": 17,
     "metadata": {},
     "output_type": "execute_result"
    }
   ],
   "source": [
    "df.rename(columns={\"name\":\"Name\"})"
   ],
   "metadata": {
    "collapsed": false,
    "ExecuteTime": {
     "end_time": "2025-02-08T05:48:25.874324Z",
     "start_time": "2025-02-08T05:48:25.866456Z"
    }
   },
   "id": "f375b8968794aca1",
   "execution_count": 17
  },
  {
   "cell_type": "code",
   "outputs": [
    {
     "data": {
      "text/plain": "    id    name\n0    1  sandip\n1    2   rahul\n2    3     piu\n3    4    ullu\n4    5   rahul\n5    6     hoo\n6    7     joy\n7    8     swe\n8    9     sde\n9   10      qa\n10  11     wet\n11  12     sda\n12  13     ssd\n13  14       a\n14  15       d\n15  16      vf\n16  17      tg\n17  18     vbr\n18  19      rg\n19  20      rb\n20  21     rgt\n21  22     hth\n22  23      tg",
      "text/html": "<div>\n<style scoped>\n    .dataframe tbody tr th:only-of-type {\n        vertical-align: middle;\n    }\n\n    .dataframe tbody tr th {\n        vertical-align: top;\n    }\n\n    .dataframe thead th {\n        text-align: right;\n    }\n</style>\n<table border=\"1\" class=\"dataframe\">\n  <thead>\n    <tr style=\"text-align: right;\">\n      <th></th>\n      <th>id</th>\n      <th>name</th>\n    </tr>\n  </thead>\n  <tbody>\n    <tr>\n      <th>0</th>\n      <td>1</td>\n      <td>sandip</td>\n    </tr>\n    <tr>\n      <th>1</th>\n      <td>2</td>\n      <td>rahul</td>\n    </tr>\n    <tr>\n      <th>2</th>\n      <td>3</td>\n      <td>piu</td>\n    </tr>\n    <tr>\n      <th>3</th>\n      <td>4</td>\n      <td>ullu</td>\n    </tr>\n    <tr>\n      <th>4</th>\n      <td>5</td>\n      <td>rahul</td>\n    </tr>\n    <tr>\n      <th>5</th>\n      <td>6</td>\n      <td>hoo</td>\n    </tr>\n    <tr>\n      <th>6</th>\n      <td>7</td>\n      <td>joy</td>\n    </tr>\n    <tr>\n      <th>7</th>\n      <td>8</td>\n      <td>swe</td>\n    </tr>\n    <tr>\n      <th>8</th>\n      <td>9</td>\n      <td>sde</td>\n    </tr>\n    <tr>\n      <th>9</th>\n      <td>10</td>\n      <td>qa</td>\n    </tr>\n    <tr>\n      <th>10</th>\n      <td>11</td>\n      <td>wet</td>\n    </tr>\n    <tr>\n      <th>11</th>\n      <td>12</td>\n      <td>sda</td>\n    </tr>\n    <tr>\n      <th>12</th>\n      <td>13</td>\n      <td>ssd</td>\n    </tr>\n    <tr>\n      <th>13</th>\n      <td>14</td>\n      <td>a</td>\n    </tr>\n    <tr>\n      <th>14</th>\n      <td>15</td>\n      <td>d</td>\n    </tr>\n    <tr>\n      <th>15</th>\n      <td>16</td>\n      <td>vf</td>\n    </tr>\n    <tr>\n      <th>16</th>\n      <td>17</td>\n      <td>tg</td>\n    </tr>\n    <tr>\n      <th>17</th>\n      <td>18</td>\n      <td>vbr</td>\n    </tr>\n    <tr>\n      <th>18</th>\n      <td>19</td>\n      <td>rg</td>\n    </tr>\n    <tr>\n      <th>19</th>\n      <td>20</td>\n      <td>rb</td>\n    </tr>\n    <tr>\n      <th>20</th>\n      <td>21</td>\n      <td>rgt</td>\n    </tr>\n    <tr>\n      <th>21</th>\n      <td>22</td>\n      <td>hth</td>\n    </tr>\n    <tr>\n      <th>22</th>\n      <td>23</td>\n      <td>tg</td>\n    </tr>\n  </tbody>\n</table>\n</div>"
     },
     "execution_count": 18,
     "metadata": {},
     "output_type": "execute_result"
    }
   ],
   "source": [
    "df"
   ],
   "metadata": {
    "collapsed": false,
    "ExecuteTime": {
     "end_time": "2025-02-08T05:48:37.530456Z",
     "start_time": "2025-02-08T05:48:37.523256Z"
    }
   },
   "id": "8ec185fbf4a65b9d",
   "execution_count": 18
  },
  {
   "cell_type": "code",
   "outputs": [],
   "source": [
    "df['id']=df['id'].astype(str)"
   ],
   "metadata": {
    "collapsed": false,
    "ExecuteTime": {
     "end_time": "2025-02-08T05:50:33.186622Z",
     "start_time": "2025-02-08T05:50:33.182512Z"
    }
   },
   "id": "df43f9e206934238",
   "execution_count": 20
  },
  {
   "cell_type": "code",
   "outputs": [
    {
     "data": {
      "text/plain": "    id    name\n0    1  sandip\n1    2   rahul\n2    3     piu\n3    4    ullu\n4    5   rahul\n5    6     hoo\n6    7     joy\n7    8     swe\n8    9     sde\n9   10      qa\n10  11     wet\n11  12     sda\n12  13     ssd\n13  14       a\n14  15       d\n15  16      vf\n16  17      tg\n17  18     vbr\n18  19      rg\n19  20      rb\n20  21     rgt\n21  22     hth\n22  23      tg",
      "text/html": "<div>\n<style scoped>\n    .dataframe tbody tr th:only-of-type {\n        vertical-align: middle;\n    }\n\n    .dataframe tbody tr th {\n        vertical-align: top;\n    }\n\n    .dataframe thead th {\n        text-align: right;\n    }\n</style>\n<table border=\"1\" class=\"dataframe\">\n  <thead>\n    <tr style=\"text-align: right;\">\n      <th></th>\n      <th>id</th>\n      <th>name</th>\n    </tr>\n  </thead>\n  <tbody>\n    <tr>\n      <th>0</th>\n      <td>1</td>\n      <td>sandip</td>\n    </tr>\n    <tr>\n      <th>1</th>\n      <td>2</td>\n      <td>rahul</td>\n    </tr>\n    <tr>\n      <th>2</th>\n      <td>3</td>\n      <td>piu</td>\n    </tr>\n    <tr>\n      <th>3</th>\n      <td>4</td>\n      <td>ullu</td>\n    </tr>\n    <tr>\n      <th>4</th>\n      <td>5</td>\n      <td>rahul</td>\n    </tr>\n    <tr>\n      <th>5</th>\n      <td>6</td>\n      <td>hoo</td>\n    </tr>\n    <tr>\n      <th>6</th>\n      <td>7</td>\n      <td>joy</td>\n    </tr>\n    <tr>\n      <th>7</th>\n      <td>8</td>\n      <td>swe</td>\n    </tr>\n    <tr>\n      <th>8</th>\n      <td>9</td>\n      <td>sde</td>\n    </tr>\n    <tr>\n      <th>9</th>\n      <td>10</td>\n      <td>qa</td>\n    </tr>\n    <tr>\n      <th>10</th>\n      <td>11</td>\n      <td>wet</td>\n    </tr>\n    <tr>\n      <th>11</th>\n      <td>12</td>\n      <td>sda</td>\n    </tr>\n    <tr>\n      <th>12</th>\n      <td>13</td>\n      <td>ssd</td>\n    </tr>\n    <tr>\n      <th>13</th>\n      <td>14</td>\n      <td>a</td>\n    </tr>\n    <tr>\n      <th>14</th>\n      <td>15</td>\n      <td>d</td>\n    </tr>\n    <tr>\n      <th>15</th>\n      <td>16</td>\n      <td>vf</td>\n    </tr>\n    <tr>\n      <th>16</th>\n      <td>17</td>\n      <td>tg</td>\n    </tr>\n    <tr>\n      <th>17</th>\n      <td>18</td>\n      <td>vbr</td>\n    </tr>\n    <tr>\n      <th>18</th>\n      <td>19</td>\n      <td>rg</td>\n    </tr>\n    <tr>\n      <th>19</th>\n      <td>20</td>\n      <td>rb</td>\n    </tr>\n    <tr>\n      <th>20</th>\n      <td>21</td>\n      <td>rgt</td>\n    </tr>\n    <tr>\n      <th>21</th>\n      <td>22</td>\n      <td>hth</td>\n    </tr>\n    <tr>\n      <th>22</th>\n      <td>23</td>\n      <td>tg</td>\n    </tr>\n  </tbody>\n</table>\n</div>"
     },
     "execution_count": 21,
     "metadata": {},
     "output_type": "execute_result"
    }
   ],
   "source": [
    "df"
   ],
   "metadata": {
    "collapsed": false,
    "ExecuteTime": {
     "end_time": "2025-02-08T05:50:37.346560Z",
     "start_time": "2025-02-08T05:50:37.337799Z"
    }
   },
   "id": "b6b46cf0cfb32061",
   "execution_count": 21
  },
  {
   "cell_type": "code",
   "outputs": [
    {
     "data": {
      "text/plain": "0     sandip\n1      rahul\n2        piu\n3       ullu\n4      rahul\n5        hoo\n6        joy\n7        swe\n8        sde\n9         qa\n10       wet\n11       sda\n12       ssd\n13         a\n14         d\n15        vf\n16        tg\n17       vbr\n18        rg\n19        rb\n20       rgt\n21       hth\n22        tg\nName: name, dtype: object"
     },
     "execution_count": 24,
     "metadata": {},
     "output_type": "execute_result"
    }
   ],
   "source": [
    "df[\"name\"]"
   ],
   "metadata": {
    "collapsed": false,
    "ExecuteTime": {
     "end_time": "2025-02-08T05:51:30.052167Z",
     "start_time": "2025-02-08T05:51:30.047147Z"
    }
   },
   "id": "2c2085bd5d8fef3a",
   "execution_count": 24
  },
  {
   "cell_type": "code",
   "outputs": [
    {
     "data": {
      "text/plain": "'sandip'"
     },
     "execution_count": 25,
     "metadata": {},
     "output_type": "execute_result"
    }
   ],
   "source": [
    "df[\"name\"][0]"
   ],
   "metadata": {
    "collapsed": false,
    "ExecuteTime": {
     "end_time": "2025-02-08T05:51:57.232571Z",
     "start_time": "2025-02-08T05:51:57.227572Z"
    }
   },
   "id": "79df030f90c9ddc1",
   "execution_count": 25
  },
  {
   "cell_type": "code",
   "outputs": [
    {
     "data": {
      "text/plain": "23"
     },
     "execution_count": 26,
     "metadata": {},
     "output_type": "execute_result"
    }
   ],
   "source": [
    "len(df)"
   ],
   "metadata": {
    "collapsed": false,
    "ExecuteTime": {
     "end_time": "2025-02-08T05:52:45.493424Z",
     "start_time": "2025-02-08T05:52:45.486314Z"
    }
   },
   "id": "4ea88f725bea73cf",
   "execution_count": 26
  },
  {
   "cell_type": "code",
   "outputs": [],
   "source": [
    "df[\"zeros\"]=[0 for i in range(len(df))]"
   ],
   "metadata": {
    "collapsed": false,
    "ExecuteTime": {
     "end_time": "2025-02-08T05:53:29.942895Z",
     "start_time": "2025-02-08T05:53:29.938527Z"
    }
   },
   "id": "4c0ac4c57720c479",
   "execution_count": 27
  },
  {
   "cell_type": "code",
   "outputs": [
    {
     "data": {
      "text/plain": "    id    name  zeros\n0    1  sandip      0\n1    2   rahul      0\n2    3     piu      0\n3    4    ullu      0\n4    5   rahul      0\n5    6     hoo      0\n6    7     joy      0\n7    8     swe      0\n8    9     sde      0\n9   10      qa      0\n10  11     wet      0\n11  12     sda      0\n12  13     ssd      0\n13  14       a      0\n14  15       d      0\n15  16      vf      0\n16  17      tg      0\n17  18     vbr      0\n18  19      rg      0\n19  20      rb      0\n20  21     rgt      0\n21  22     hth      0\n22  23      tg      0",
      "text/html": "<div>\n<style scoped>\n    .dataframe tbody tr th:only-of-type {\n        vertical-align: middle;\n    }\n\n    .dataframe tbody tr th {\n        vertical-align: top;\n    }\n\n    .dataframe thead th {\n        text-align: right;\n    }\n</style>\n<table border=\"1\" class=\"dataframe\">\n  <thead>\n    <tr style=\"text-align: right;\">\n      <th></th>\n      <th>id</th>\n      <th>name</th>\n      <th>zeros</th>\n    </tr>\n  </thead>\n  <tbody>\n    <tr>\n      <th>0</th>\n      <td>1</td>\n      <td>sandip</td>\n      <td>0</td>\n    </tr>\n    <tr>\n      <th>1</th>\n      <td>2</td>\n      <td>rahul</td>\n      <td>0</td>\n    </tr>\n    <tr>\n      <th>2</th>\n      <td>3</td>\n      <td>piu</td>\n      <td>0</td>\n    </tr>\n    <tr>\n      <th>3</th>\n      <td>4</td>\n      <td>ullu</td>\n      <td>0</td>\n    </tr>\n    <tr>\n      <th>4</th>\n      <td>5</td>\n      <td>rahul</td>\n      <td>0</td>\n    </tr>\n    <tr>\n      <th>5</th>\n      <td>6</td>\n      <td>hoo</td>\n      <td>0</td>\n    </tr>\n    <tr>\n      <th>6</th>\n      <td>7</td>\n      <td>joy</td>\n      <td>0</td>\n    </tr>\n    <tr>\n      <th>7</th>\n      <td>8</td>\n      <td>swe</td>\n      <td>0</td>\n    </tr>\n    <tr>\n      <th>8</th>\n      <td>9</td>\n      <td>sde</td>\n      <td>0</td>\n    </tr>\n    <tr>\n      <th>9</th>\n      <td>10</td>\n      <td>qa</td>\n      <td>0</td>\n    </tr>\n    <tr>\n      <th>10</th>\n      <td>11</td>\n      <td>wet</td>\n      <td>0</td>\n    </tr>\n    <tr>\n      <th>11</th>\n      <td>12</td>\n      <td>sda</td>\n      <td>0</td>\n    </tr>\n    <tr>\n      <th>12</th>\n      <td>13</td>\n      <td>ssd</td>\n      <td>0</td>\n    </tr>\n    <tr>\n      <th>13</th>\n      <td>14</td>\n      <td>a</td>\n      <td>0</td>\n    </tr>\n    <tr>\n      <th>14</th>\n      <td>15</td>\n      <td>d</td>\n      <td>0</td>\n    </tr>\n    <tr>\n      <th>15</th>\n      <td>16</td>\n      <td>vf</td>\n      <td>0</td>\n    </tr>\n    <tr>\n      <th>16</th>\n      <td>17</td>\n      <td>tg</td>\n      <td>0</td>\n    </tr>\n    <tr>\n      <th>17</th>\n      <td>18</td>\n      <td>vbr</td>\n      <td>0</td>\n    </tr>\n    <tr>\n      <th>18</th>\n      <td>19</td>\n      <td>rg</td>\n      <td>0</td>\n    </tr>\n    <tr>\n      <th>19</th>\n      <td>20</td>\n      <td>rb</td>\n      <td>0</td>\n    </tr>\n    <tr>\n      <th>20</th>\n      <td>21</td>\n      <td>rgt</td>\n      <td>0</td>\n    </tr>\n    <tr>\n      <th>21</th>\n      <td>22</td>\n      <td>hth</td>\n      <td>0</td>\n    </tr>\n    <tr>\n      <th>22</th>\n      <td>23</td>\n      <td>tg</td>\n      <td>0</td>\n    </tr>\n  </tbody>\n</table>\n</div>"
     },
     "execution_count": 28,
     "metadata": {},
     "output_type": "execute_result"
    }
   ],
   "source": [
    "df"
   ],
   "metadata": {
    "collapsed": false,
    "ExecuteTime": {
     "end_time": "2025-02-08T05:53:34.023189Z",
     "start_time": "2025-02-08T05:53:34.016428Z"
    }
   },
   "id": "9829283aa1939804",
   "execution_count": 28
  },
  {
   "cell_type": "code",
   "outputs": [],
   "source": [
    "def fx(a):\n",
    "    i=1\n",
    "    return i+1\n",
    "df[\"zeros + 1\"]=df[\"zeros\"].apply(fx)"
   ],
   "metadata": {
    "collapsed": false,
    "ExecuteTime": {
     "end_time": "2025-02-08T05:58:58.620020Z",
     "start_time": "2025-02-08T05:58:58.615832Z"
    }
   },
   "id": "7c7d849ee5c67ec7",
   "execution_count": 39
  },
  {
   "cell_type": "code",
   "outputs": [
    {
     "data": {
      "text/plain": "    id    name  zeros  zeros + 1\n0    1  sandip      0          2\n1    2   rahul      0          2\n2    3     piu      0          2\n3    4    ullu      0          2\n4    5   rahul      0          2\n5    6     hoo      0          2\n6    7     joy      0          2\n7    8     swe      0          2\n8    9     sde      0          2\n9   10      qa      0          2\n10  11     wet      0          2\n11  12     sda      0          2\n12  13     ssd      0          2\n13  14       a      0          2\n14  15       d      0          2\n15  16      vf      0          2\n16  17      tg      0          2\n17  18     vbr      0          2\n18  19      rg      0          2\n19  20      rb      0          2\n20  21     rgt      0          2\n21  22     hth      0          2\n22  23      tg      0          2",
      "text/html": "<div>\n<style scoped>\n    .dataframe tbody tr th:only-of-type {\n        vertical-align: middle;\n    }\n\n    .dataframe tbody tr th {\n        vertical-align: top;\n    }\n\n    .dataframe thead th {\n        text-align: right;\n    }\n</style>\n<table border=\"1\" class=\"dataframe\">\n  <thead>\n    <tr style=\"text-align: right;\">\n      <th></th>\n      <th>id</th>\n      <th>name</th>\n      <th>zeros</th>\n      <th>zeros + 1</th>\n    </tr>\n  </thead>\n  <tbody>\n    <tr>\n      <th>0</th>\n      <td>1</td>\n      <td>sandip</td>\n      <td>0</td>\n      <td>2</td>\n    </tr>\n    <tr>\n      <th>1</th>\n      <td>2</td>\n      <td>rahul</td>\n      <td>0</td>\n      <td>2</td>\n    </tr>\n    <tr>\n      <th>2</th>\n      <td>3</td>\n      <td>piu</td>\n      <td>0</td>\n      <td>2</td>\n    </tr>\n    <tr>\n      <th>3</th>\n      <td>4</td>\n      <td>ullu</td>\n      <td>0</td>\n      <td>2</td>\n    </tr>\n    <tr>\n      <th>4</th>\n      <td>5</td>\n      <td>rahul</td>\n      <td>0</td>\n      <td>2</td>\n    </tr>\n    <tr>\n      <th>5</th>\n      <td>6</td>\n      <td>hoo</td>\n      <td>0</td>\n      <td>2</td>\n    </tr>\n    <tr>\n      <th>6</th>\n      <td>7</td>\n      <td>joy</td>\n      <td>0</td>\n      <td>2</td>\n    </tr>\n    <tr>\n      <th>7</th>\n      <td>8</td>\n      <td>swe</td>\n      <td>0</td>\n      <td>2</td>\n    </tr>\n    <tr>\n      <th>8</th>\n      <td>9</td>\n      <td>sde</td>\n      <td>0</td>\n      <td>2</td>\n    </tr>\n    <tr>\n      <th>9</th>\n      <td>10</td>\n      <td>qa</td>\n      <td>0</td>\n      <td>2</td>\n    </tr>\n    <tr>\n      <th>10</th>\n      <td>11</td>\n      <td>wet</td>\n      <td>0</td>\n      <td>2</td>\n    </tr>\n    <tr>\n      <th>11</th>\n      <td>12</td>\n      <td>sda</td>\n      <td>0</td>\n      <td>2</td>\n    </tr>\n    <tr>\n      <th>12</th>\n      <td>13</td>\n      <td>ssd</td>\n      <td>0</td>\n      <td>2</td>\n    </tr>\n    <tr>\n      <th>13</th>\n      <td>14</td>\n      <td>a</td>\n      <td>0</td>\n      <td>2</td>\n    </tr>\n    <tr>\n      <th>14</th>\n      <td>15</td>\n      <td>d</td>\n      <td>0</td>\n      <td>2</td>\n    </tr>\n    <tr>\n      <th>15</th>\n      <td>16</td>\n      <td>vf</td>\n      <td>0</td>\n      <td>2</td>\n    </tr>\n    <tr>\n      <th>16</th>\n      <td>17</td>\n      <td>tg</td>\n      <td>0</td>\n      <td>2</td>\n    </tr>\n    <tr>\n      <th>17</th>\n      <td>18</td>\n      <td>vbr</td>\n      <td>0</td>\n      <td>2</td>\n    </tr>\n    <tr>\n      <th>18</th>\n      <td>19</td>\n      <td>rg</td>\n      <td>0</td>\n      <td>2</td>\n    </tr>\n    <tr>\n      <th>19</th>\n      <td>20</td>\n      <td>rb</td>\n      <td>0</td>\n      <td>2</td>\n    </tr>\n    <tr>\n      <th>20</th>\n      <td>21</td>\n      <td>rgt</td>\n      <td>0</td>\n      <td>2</td>\n    </tr>\n    <tr>\n      <th>21</th>\n      <td>22</td>\n      <td>hth</td>\n      <td>0</td>\n      <td>2</td>\n    </tr>\n    <tr>\n      <th>22</th>\n      <td>23</td>\n      <td>tg</td>\n      <td>0</td>\n      <td>2</td>\n    </tr>\n  </tbody>\n</table>\n</div>"
     },
     "execution_count": 40,
     "metadata": {},
     "output_type": "execute_result"
    }
   ],
   "source": [
    "df"
   ],
   "metadata": {
    "collapsed": false,
    "ExecuteTime": {
     "end_time": "2025-02-08T05:59:03.734969Z",
     "start_time": "2025-02-08T05:59:03.727276Z"
    }
   },
   "id": "7408444049e933b3",
   "execution_count": 40
  },
  {
   "cell_type": "code",
   "outputs": [],
   "source": [
    "df.to_csv(\"Book3.csv\")"
   ],
   "metadata": {
    "collapsed": false,
    "ExecuteTime": {
     "end_time": "2025-02-08T06:01:45.137495Z",
     "start_time": "2025-02-08T06:01:45.132533Z"
    }
   },
   "id": "3be1972b2be5a8d0",
   "execution_count": 44
  },
  {
   "cell_type": "code",
   "outputs": [
    {
     "data": {
      "text/plain": "    id    name  zeros  zeros + 1\n0    1  sandip      0          2\n1    2   rahul      0          2\n2    3     piu      0          2\n3    4    ullu      0          2\n4    5   rahul      0          2\n5    6     hoo      0          2\n6    7     joy      0          2\n7    8     swe      0          2\n8    9     sde      0          2\n9   10      qa      0          2\n10  11     wet      0          2\n11  12     sda      0          2\n12  13     ssd      0          2\n13  14       a      0          2\n14  15       d      0          2\n15  16      vf      0          2\n16  17      tg      0          2\n17  18     vbr      0          2\n18  19      rg      0          2\n19  20      rb      0          2\n20  21     rgt      0          2\n21  22     hth      0          2\n22  23      tg      0          2",
      "text/html": "<div>\n<style scoped>\n    .dataframe tbody tr th:only-of-type {\n        vertical-align: middle;\n    }\n\n    .dataframe tbody tr th {\n        vertical-align: top;\n    }\n\n    .dataframe thead th {\n        text-align: right;\n    }\n</style>\n<table border=\"1\" class=\"dataframe\">\n  <thead>\n    <tr style=\"text-align: right;\">\n      <th></th>\n      <th>id</th>\n      <th>name</th>\n      <th>zeros</th>\n      <th>zeros + 1</th>\n    </tr>\n  </thead>\n  <tbody>\n    <tr>\n      <th>0</th>\n      <td>1</td>\n      <td>sandip</td>\n      <td>0</td>\n      <td>2</td>\n    </tr>\n    <tr>\n      <th>1</th>\n      <td>2</td>\n      <td>rahul</td>\n      <td>0</td>\n      <td>2</td>\n    </tr>\n    <tr>\n      <th>2</th>\n      <td>3</td>\n      <td>piu</td>\n      <td>0</td>\n      <td>2</td>\n    </tr>\n    <tr>\n      <th>3</th>\n      <td>4</td>\n      <td>ullu</td>\n      <td>0</td>\n      <td>2</td>\n    </tr>\n    <tr>\n      <th>4</th>\n      <td>5</td>\n      <td>rahul</td>\n      <td>0</td>\n      <td>2</td>\n    </tr>\n    <tr>\n      <th>5</th>\n      <td>6</td>\n      <td>hoo</td>\n      <td>0</td>\n      <td>2</td>\n    </tr>\n    <tr>\n      <th>6</th>\n      <td>7</td>\n      <td>joy</td>\n      <td>0</td>\n      <td>2</td>\n    </tr>\n    <tr>\n      <th>7</th>\n      <td>8</td>\n      <td>swe</td>\n      <td>0</td>\n      <td>2</td>\n    </tr>\n    <tr>\n      <th>8</th>\n      <td>9</td>\n      <td>sde</td>\n      <td>0</td>\n      <td>2</td>\n    </tr>\n    <tr>\n      <th>9</th>\n      <td>10</td>\n      <td>qa</td>\n      <td>0</td>\n      <td>2</td>\n    </tr>\n    <tr>\n      <th>10</th>\n      <td>11</td>\n      <td>wet</td>\n      <td>0</td>\n      <td>2</td>\n    </tr>\n    <tr>\n      <th>11</th>\n      <td>12</td>\n      <td>sda</td>\n      <td>0</td>\n      <td>2</td>\n    </tr>\n    <tr>\n      <th>12</th>\n      <td>13</td>\n      <td>ssd</td>\n      <td>0</td>\n      <td>2</td>\n    </tr>\n    <tr>\n      <th>13</th>\n      <td>14</td>\n      <td>a</td>\n      <td>0</td>\n      <td>2</td>\n    </tr>\n    <tr>\n      <th>14</th>\n      <td>15</td>\n      <td>d</td>\n      <td>0</td>\n      <td>2</td>\n    </tr>\n    <tr>\n      <th>15</th>\n      <td>16</td>\n      <td>vf</td>\n      <td>0</td>\n      <td>2</td>\n    </tr>\n    <tr>\n      <th>16</th>\n      <td>17</td>\n      <td>tg</td>\n      <td>0</td>\n      <td>2</td>\n    </tr>\n    <tr>\n      <th>17</th>\n      <td>18</td>\n      <td>vbr</td>\n      <td>0</td>\n      <td>2</td>\n    </tr>\n    <tr>\n      <th>18</th>\n      <td>19</td>\n      <td>rg</td>\n      <td>0</td>\n      <td>2</td>\n    </tr>\n    <tr>\n      <th>19</th>\n      <td>20</td>\n      <td>rb</td>\n      <td>0</td>\n      <td>2</td>\n    </tr>\n    <tr>\n      <th>20</th>\n      <td>21</td>\n      <td>rgt</td>\n      <td>0</td>\n      <td>2</td>\n    </tr>\n    <tr>\n      <th>21</th>\n      <td>22</td>\n      <td>hth</td>\n      <td>0</td>\n      <td>2</td>\n    </tr>\n    <tr>\n      <th>22</th>\n      <td>23</td>\n      <td>tg</td>\n      <td>0</td>\n      <td>2</td>\n    </tr>\n  </tbody>\n</table>\n</div>"
     },
     "execution_count": 43,
     "metadata": {},
     "output_type": "execute_result"
    }
   ],
   "source": [
    "df"
   ],
   "metadata": {
    "collapsed": false,
    "ExecuteTime": {
     "end_time": "2025-02-08T06:01:25.488019Z",
     "start_time": "2025-02-08T06:01:25.479050Z"
    }
   },
   "id": "8bd8cd72208db123",
   "execution_count": 43
  },
  {
   "cell_type": "code",
   "outputs": [],
   "source": [
    "df1=pd.DataFrame({\"name\":[\"Harry\",\"Rohan\",\"Shubham\",\"Divya\",\"Aparna\",\"Samantha\",\"Khusi\"],\"marks\":[100,54,200,34,78,55,90]})"
   ],
   "metadata": {
    "collapsed": false,
    "ExecuteTime": {
     "end_time": "2025-02-08T06:07:43.857204Z",
     "start_time": "2025-02-08T06:07:43.853465Z"
    }
   },
   "id": "607d4e584b96de81",
   "execution_count": 45
  },
  {
   "cell_type": "code",
   "outputs": [
    {
     "data": {
      "text/plain": "       name  marks\n0     Harry    100\n1     Rohan     54\n2   Shubham    200\n3     Divya     34\n4    Aparna     78\n5  Samantha     55\n6     Khusi     90",
      "text/html": "<div>\n<style scoped>\n    .dataframe tbody tr th:only-of-type {\n        vertical-align: middle;\n    }\n\n    .dataframe tbody tr th {\n        vertical-align: top;\n    }\n\n    .dataframe thead th {\n        text-align: right;\n    }\n</style>\n<table border=\"1\" class=\"dataframe\">\n  <thead>\n    <tr style=\"text-align: right;\">\n      <th></th>\n      <th>name</th>\n      <th>marks</th>\n    </tr>\n  </thead>\n  <tbody>\n    <tr>\n      <th>0</th>\n      <td>Harry</td>\n      <td>100</td>\n    </tr>\n    <tr>\n      <th>1</th>\n      <td>Rohan</td>\n      <td>54</td>\n    </tr>\n    <tr>\n      <th>2</th>\n      <td>Shubham</td>\n      <td>200</td>\n    </tr>\n    <tr>\n      <th>3</th>\n      <td>Divya</td>\n      <td>34</td>\n    </tr>\n    <tr>\n      <th>4</th>\n      <td>Aparna</td>\n      <td>78</td>\n    </tr>\n    <tr>\n      <th>5</th>\n      <td>Samantha</td>\n      <td>55</td>\n    </tr>\n    <tr>\n      <th>6</th>\n      <td>Khusi</td>\n      <td>90</td>\n    </tr>\n  </tbody>\n</table>\n</div>"
     },
     "execution_count": 47,
     "metadata": {},
     "output_type": "execute_result"
    }
   ],
   "source": [
    "df1"
   ],
   "metadata": {
    "collapsed": false,
    "ExecuteTime": {
     "end_time": "2025-02-08T06:08:06.975046Z",
     "start_time": "2025-02-08T06:08:06.967470Z"
    }
   },
   "id": "5a6a2089b09cf03f",
   "execution_count": 47
  },
  {
   "cell_type": "code",
   "outputs": [
    {
     "data": {
      "text/plain": "        name  marks    id\n0      Harry  100.0   NaN\n1      Rohan   54.0   NaN\n2    Shubham  200.0   NaN\n3      Divya   34.0   NaN\n4     Aparna   78.0   NaN\n5   Samantha   55.0   NaN\n6      Khusi   90.0   NaN\n0     sandip    NaN   1.0\n1      rahul    NaN   2.0\n2        piu    NaN   3.0\n3       ullu    NaN   4.0\n4      rahul    NaN   5.0\n5        hoo    NaN   6.0\n6        joy    NaN   7.0\n7        swe    NaN   8.0\n8        sde    NaN   9.0\n9         qa    NaN  10.0\n10       wet    NaN  11.0\n11       sda    NaN  12.0\n12       ssd    NaN  13.0\n13         a    NaN  14.0\n14         d    NaN  15.0\n15        vf    NaN  16.0\n16        tg    NaN  17.0\n17       vbr    NaN  18.0\n18        rg    NaN  19.0\n19        rb    NaN  20.0\n20       rgt    NaN  21.0\n21       hth    NaN  22.0\n22        tg    NaN  23.0",
      "text/html": "<div>\n<style scoped>\n    .dataframe tbody tr th:only-of-type {\n        vertical-align: middle;\n    }\n\n    .dataframe tbody tr th {\n        vertical-align: top;\n    }\n\n    .dataframe thead th {\n        text-align: right;\n    }\n</style>\n<table border=\"1\" class=\"dataframe\">\n  <thead>\n    <tr style=\"text-align: right;\">\n      <th></th>\n      <th>name</th>\n      <th>marks</th>\n      <th>id</th>\n    </tr>\n  </thead>\n  <tbody>\n    <tr>\n      <th>0</th>\n      <td>Harry</td>\n      <td>100.0</td>\n      <td>NaN</td>\n    </tr>\n    <tr>\n      <th>1</th>\n      <td>Rohan</td>\n      <td>54.0</td>\n      <td>NaN</td>\n    </tr>\n    <tr>\n      <th>2</th>\n      <td>Shubham</td>\n      <td>200.0</td>\n      <td>NaN</td>\n    </tr>\n    <tr>\n      <th>3</th>\n      <td>Divya</td>\n      <td>34.0</td>\n      <td>NaN</td>\n    </tr>\n    <tr>\n      <th>4</th>\n      <td>Aparna</td>\n      <td>78.0</td>\n      <td>NaN</td>\n    </tr>\n    <tr>\n      <th>5</th>\n      <td>Samantha</td>\n      <td>55.0</td>\n      <td>NaN</td>\n    </tr>\n    <tr>\n      <th>6</th>\n      <td>Khusi</td>\n      <td>90.0</td>\n      <td>NaN</td>\n    </tr>\n    <tr>\n      <th>0</th>\n      <td>sandip</td>\n      <td>NaN</td>\n      <td>1.0</td>\n    </tr>\n    <tr>\n      <th>1</th>\n      <td>rahul</td>\n      <td>NaN</td>\n      <td>2.0</td>\n    </tr>\n    <tr>\n      <th>2</th>\n      <td>piu</td>\n      <td>NaN</td>\n      <td>3.0</td>\n    </tr>\n    <tr>\n      <th>3</th>\n      <td>ullu</td>\n      <td>NaN</td>\n      <td>4.0</td>\n    </tr>\n    <tr>\n      <th>4</th>\n      <td>rahul</td>\n      <td>NaN</td>\n      <td>5.0</td>\n    </tr>\n    <tr>\n      <th>5</th>\n      <td>hoo</td>\n      <td>NaN</td>\n      <td>6.0</td>\n    </tr>\n    <tr>\n      <th>6</th>\n      <td>joy</td>\n      <td>NaN</td>\n      <td>7.0</td>\n    </tr>\n    <tr>\n      <th>7</th>\n      <td>swe</td>\n      <td>NaN</td>\n      <td>8.0</td>\n    </tr>\n    <tr>\n      <th>8</th>\n      <td>sde</td>\n      <td>NaN</td>\n      <td>9.0</td>\n    </tr>\n    <tr>\n      <th>9</th>\n      <td>qa</td>\n      <td>NaN</td>\n      <td>10.0</td>\n    </tr>\n    <tr>\n      <th>10</th>\n      <td>wet</td>\n      <td>NaN</td>\n      <td>11.0</td>\n    </tr>\n    <tr>\n      <th>11</th>\n      <td>sda</td>\n      <td>NaN</td>\n      <td>12.0</td>\n    </tr>\n    <tr>\n      <th>12</th>\n      <td>ssd</td>\n      <td>NaN</td>\n      <td>13.0</td>\n    </tr>\n    <tr>\n      <th>13</th>\n      <td>a</td>\n      <td>NaN</td>\n      <td>14.0</td>\n    </tr>\n    <tr>\n      <th>14</th>\n      <td>d</td>\n      <td>NaN</td>\n      <td>15.0</td>\n    </tr>\n    <tr>\n      <th>15</th>\n      <td>vf</td>\n      <td>NaN</td>\n      <td>16.0</td>\n    </tr>\n    <tr>\n      <th>16</th>\n      <td>tg</td>\n      <td>NaN</td>\n      <td>17.0</td>\n    </tr>\n    <tr>\n      <th>17</th>\n      <td>vbr</td>\n      <td>NaN</td>\n      <td>18.0</td>\n    </tr>\n    <tr>\n      <th>18</th>\n      <td>rg</td>\n      <td>NaN</td>\n      <td>19.0</td>\n    </tr>\n    <tr>\n      <th>19</th>\n      <td>rb</td>\n      <td>NaN</td>\n      <td>20.0</td>\n    </tr>\n    <tr>\n      <th>20</th>\n      <td>rgt</td>\n      <td>NaN</td>\n      <td>21.0</td>\n    </tr>\n    <tr>\n      <th>21</th>\n      <td>hth</td>\n      <td>NaN</td>\n      <td>22.0</td>\n    </tr>\n    <tr>\n      <th>22</th>\n      <td>tg</td>\n      <td>NaN</td>\n      <td>23.0</td>\n    </tr>\n  </tbody>\n</table>\n</div>"
     },
     "execution_count": 48,
     "metadata": {},
     "output_type": "execute_result"
    }
   ],
   "source": [
    "pd.concat([df1,df2])"
   ],
   "metadata": {
    "collapsed": false,
    "ExecuteTime": {
     "end_time": "2025-02-08T06:08:39.496225Z",
     "start_time": "2025-02-08T06:08:39.485154Z"
    }
   },
   "id": "e1d00b066fc59748",
   "execution_count": 48
  },
  {
   "cell_type": "code",
   "outputs": [],
   "source": [
    "df3=pd.DataFrame({\"name\":[\"Akashi\",\"Priyanka\"],\"roll\":[1244,908]})"
   ],
   "metadata": {
    "collapsed": false,
    "ExecuteTime": {
     "end_time": "2025-02-08T06:11:26.873202Z",
     "start_time": "2025-02-08T06:11:26.868944Z"
    }
   },
   "id": "a4fc3d54a7a3efbe",
   "execution_count": 49
  },
  {
   "cell_type": "code",
   "outputs": [
    {
     "data": {
      "text/plain": "       name  roll\n0    Akashi  1244\n1  Priyanka   908",
      "text/html": "<div>\n<style scoped>\n    .dataframe tbody tr th:only-of-type {\n        vertical-align: middle;\n    }\n\n    .dataframe tbody tr th {\n        vertical-align: top;\n    }\n\n    .dataframe thead th {\n        text-align: right;\n    }\n</style>\n<table border=\"1\" class=\"dataframe\">\n  <thead>\n    <tr style=\"text-align: right;\">\n      <th></th>\n      <th>name</th>\n      <th>roll</th>\n    </tr>\n  </thead>\n  <tbody>\n    <tr>\n      <th>0</th>\n      <td>Akashi</td>\n      <td>1244</td>\n    </tr>\n    <tr>\n      <th>1</th>\n      <td>Priyanka</td>\n      <td>908</td>\n    </tr>\n  </tbody>\n</table>\n</div>"
     },
     "execution_count": 50,
     "metadata": {},
     "output_type": "execute_result"
    }
   ],
   "source": [
    "df3"
   ],
   "metadata": {
    "collapsed": false,
    "ExecuteTime": {
     "end_time": "2025-02-08T06:11:44.369942Z",
     "start_time": "2025-02-08T06:11:44.362291Z"
    }
   },
   "id": "9cf7de08f10d582d",
   "execution_count": 50
  },
  {
   "cell_type": "code",
   "outputs": [
    {
     "data": {
      "text/plain": "       name  marks    roll\n0     Harry  100.0     NaN\n1     Rohan   54.0     NaN\n2   Shubham  200.0     NaN\n3     Divya   34.0     NaN\n4    Aparna   78.0     NaN\n5  Samantha   55.0     NaN\n6     Khusi   90.0     NaN\n0    Akashi    NaN  1244.0\n1  Priyanka    NaN   908.0",
      "text/html": "<div>\n<style scoped>\n    .dataframe tbody tr th:only-of-type {\n        vertical-align: middle;\n    }\n\n    .dataframe tbody tr th {\n        vertical-align: top;\n    }\n\n    .dataframe thead th {\n        text-align: right;\n    }\n</style>\n<table border=\"1\" class=\"dataframe\">\n  <thead>\n    <tr style=\"text-align: right;\">\n      <th></th>\n      <th>name</th>\n      <th>marks</th>\n      <th>roll</th>\n    </tr>\n  </thead>\n  <tbody>\n    <tr>\n      <th>0</th>\n      <td>Harry</td>\n      <td>100.0</td>\n      <td>NaN</td>\n    </tr>\n    <tr>\n      <th>1</th>\n      <td>Rohan</td>\n      <td>54.0</td>\n      <td>NaN</td>\n    </tr>\n    <tr>\n      <th>2</th>\n      <td>Shubham</td>\n      <td>200.0</td>\n      <td>NaN</td>\n    </tr>\n    <tr>\n      <th>3</th>\n      <td>Divya</td>\n      <td>34.0</td>\n      <td>NaN</td>\n    </tr>\n    <tr>\n      <th>4</th>\n      <td>Aparna</td>\n      <td>78.0</td>\n      <td>NaN</td>\n    </tr>\n    <tr>\n      <th>5</th>\n      <td>Samantha</td>\n      <td>55.0</td>\n      <td>NaN</td>\n    </tr>\n    <tr>\n      <th>6</th>\n      <td>Khusi</td>\n      <td>90.0</td>\n      <td>NaN</td>\n    </tr>\n    <tr>\n      <th>0</th>\n      <td>Akashi</td>\n      <td>NaN</td>\n      <td>1244.0</td>\n    </tr>\n    <tr>\n      <th>1</th>\n      <td>Priyanka</td>\n      <td>NaN</td>\n      <td>908.0</td>\n    </tr>\n  </tbody>\n</table>\n</div>"
     },
     "execution_count": 52,
     "metadata": {},
     "output_type": "execute_result"
    }
   ],
   "source": [
    "pd.concat([df1,df3])"
   ],
   "metadata": {
    "collapsed": false,
    "ExecuteTime": {
     "end_time": "2025-02-08T06:15:34.705298Z",
     "start_time": "2025-02-08T06:15:34.695488Z"
    }
   },
   "id": "d76c5c8d98bf1cca",
   "execution_count": 52
  },
  {
   "cell_type": "code",
   "outputs": [
    {
     "data": {
      "text/plain": "Empty DataFrame\nColumns: [name, marks, roll]\nIndex: []",
      "text/html": "<div>\n<style scoped>\n    .dataframe tbody tr th:only-of-type {\n        vertical-align: middle;\n    }\n\n    .dataframe tbody tr th {\n        vertical-align: top;\n    }\n\n    .dataframe thead th {\n        text-align: right;\n    }\n</style>\n<table border=\"1\" class=\"dataframe\">\n  <thead>\n    <tr style=\"text-align: right;\">\n      <th></th>\n      <th>name</th>\n      <th>marks</th>\n      <th>roll</th>\n    </tr>\n  </thead>\n  <tbody>\n  </tbody>\n</table>\n</div>"
     },
     "execution_count": 53,
     "metadata": {},
     "output_type": "execute_result"
    }
   ],
   "source": [
    "pd.merge(df1,df3,on=\"name\")"
   ],
   "metadata": {
    "collapsed": false,
    "ExecuteTime": {
     "end_time": "2025-02-08T06:18:17.912604Z",
     "start_time": "2025-02-08T06:18:17.900367Z"
    }
   },
   "id": "7a36eed851d66faf",
   "execution_count": 53
  },
  {
   "cell_type": "markdown",
   "source": [
    "Numpy Education\n",
    "NUMPY EDUCATION"
   ],
   "metadata": {
    "collapsed": false
   },
   "id": "f26a3e991f50f671"
  },
  {
   "cell_type": "markdown",
   "source": [
    "Numpy Education\n"
   ],
   "metadata": {
    "collapsed": false
   },
   "id": "b7188b7e7aedb47c"
  },
  {
   "cell_type": "code",
   "outputs": [
    {
     "name": "stdout",
     "output_type": "stream",
     "text": [
      "hello world\n"
     ]
    },
    {
     "data": {
      "text/plain": "4"
     },
     "execution_count": 4,
     "metadata": {},
     "output_type": "execute_result"
    }
   ],
   "source": [
    "import numpy as np\n",
    "print(\"hello world\")\n",
    "\n",
    "myarr=np.array([[2,4,5,7]],np.int64)\n",
    "\n",
    "myarr[0,1]"
   ],
   "metadata": {
    "collapsed": false,
    "ExecuteTime": {
     "end_time": "2025-02-08T10:53:50.934486Z",
     "start_time": "2025-02-08T10:53:50.071635Z"
    }
   },
   "id": "b13472f81ae0710c",
   "execution_count": 4
  },
  {
   "cell_type": "code",
   "outputs": [
    {
     "data": {
      "text/plain": "(1, 4)"
     },
     "execution_count": 5,
     "metadata": {},
     "output_type": "execute_result"
    }
   ],
   "source": [
    "myarr.shape"
   ],
   "metadata": {
    "collapsed": false,
    "ExecuteTime": {
     "end_time": "2025-02-08T10:53:52.988246Z",
     "start_time": "2025-02-08T10:53:52.981582Z"
    }
   },
   "id": "72ecd8f70a932737",
   "execution_count": 5
  },
  {
   "cell_type": "code",
   "outputs": [
    {
     "data": {
      "text/plain": "array([[2, 4, 5, 7]], dtype=int64)"
     },
     "execution_count": 6,
     "metadata": {},
     "output_type": "execute_result"
    }
   ],
   "source": [
    "myarr"
   ],
   "metadata": {
    "collapsed": false,
    "ExecuteTime": {
     "end_time": "2025-02-08T10:53:54.431620Z",
     "start_time": "2025-02-08T10:53:54.426650Z"
    }
   },
   "id": "61c171b479ad8109",
   "execution_count": 6
  },
  {
   "cell_type": "code",
   "outputs": [],
   "source": [
    "myarr[0,1]=45"
   ],
   "metadata": {
    "collapsed": false,
    "ExecuteTime": {
     "end_time": "2025-02-08T10:53:55.643397Z",
     "start_time": "2025-02-08T10:53:55.639736Z"
    }
   },
   "id": "c1dc097165686d5e",
   "execution_count": 7
  },
  {
   "cell_type": "code",
   "outputs": [
    {
     "data": {
      "text/plain": "array([[ 2, 45,  5,  7]], dtype=int64)"
     },
     "execution_count": 8,
     "metadata": {},
     "output_type": "execute_result"
    }
   ],
   "source": [
    "myarr"
   ],
   "metadata": {
    "collapsed": false,
    "ExecuteTime": {
     "end_time": "2025-02-08T10:53:58.431137Z",
     "start_time": "2025-02-08T10:53:58.425472Z"
    }
   },
   "id": "6814672fa0e49c68",
   "execution_count": 8
  },
  {
   "cell_type": "code",
   "outputs": [],
   "source": [],
   "metadata": {
    "collapsed": false,
    "ExecuteTime": {
     "end_time": "2025-02-08T10:53:59.678033Z",
     "start_time": "2025-02-08T10:53:59.672916Z"
    }
   },
   "id": "74efda51a15511d9",
   "execution_count": 8
  },
  {
   "cell_type": "code",
   "outputs": [],
   "source": [
    "import sklearn"
   ],
   "metadata": {
    "collapsed": false,
    "ExecuteTime": {
     "end_time": "2025-02-08T10:54:01.844702Z",
     "start_time": "2025-02-08T10:54:00.688669Z"
    }
   },
   "id": "84ef779785b3c4e4",
   "execution_count": 9
  },
  {
   "cell_type": "code",
   "outputs": [],
   "source": [
    "i=45"
   ],
   "metadata": {
    "collapsed": false,
    "ExecuteTime": {
     "end_time": "2025-02-08T10:54:02.793156Z",
     "start_time": "2025-02-08T10:54:02.789602Z"
    }
   },
   "id": "10215f3662742da4",
   "execution_count": 10
  },
  {
   "cell_type": "code",
   "outputs": [
    {
     "name": "stdout",
     "output_type": "stream",
     "text": [
      "7\n"
     ]
    }
   ],
   "source": [
    "print(7)"
   ],
   "metadata": {
    "collapsed": false,
    "ExecuteTime": {
     "end_time": "2025-02-08T10:54:03.662078Z",
     "start_time": "2025-02-08T10:54:03.657568Z"
    }
   },
   "id": "5a2e8ae0357fc38d",
   "execution_count": 11
  },
  {
   "cell_type": "code",
   "outputs": [
    {
     "data": {
      "text/plain": "45"
     },
     "execution_count": 12,
     "metadata": {},
     "output_type": "execute_result"
    }
   ],
   "source": [
    "i"
   ],
   "metadata": {
    "collapsed": false,
    "ExecuteTime": {
     "end_time": "2025-02-08T10:54:04.641778Z",
     "start_time": "2025-02-08T10:54:04.636700Z"
    }
   },
   "id": "3b288917be0e2835",
   "execution_count": 12
  },
  {
   "cell_type": "code",
   "outputs": [
    {
     "data": {
      "text/plain": "45"
     },
     "execution_count": 13,
     "metadata": {},
     "output_type": "execute_result"
    }
   ],
   "source": [
    "myarr[0,1]"
   ],
   "metadata": {
    "collapsed": false,
    "ExecuteTime": {
     "end_time": "2025-02-08T10:54:05.407966Z",
     "start_time": "2025-02-08T10:54:05.403691Z"
    }
   },
   "id": "38ec2734519a9b2f",
   "execution_count": 13
  },
  {
   "cell_type": "markdown",
   "source": [
    "Array Creation: Conversion from other python structures"
   ],
   "metadata": {
    "collapsed": false
   },
   "id": "85cb0ec990220d04"
  },
  {
   "cell_type": "markdown",
   "source": [],
   "metadata": {
    "collapsed": false
   },
   "id": "d902a8ae2ac5b4a0"
  },
  {
   "cell_type": "markdown",
   "source": [],
   "metadata": {
    "collapsed": false
   },
   "id": "56278f44afecc6f9"
  },
  {
   "cell_type": "code",
   "outputs": [
    {
     "data": {
      "text/plain": "array([[4, 3, 9],\n       [3, 0, 5],\n       [0, 2, 1]])"
     },
     "execution_count": 14,
     "metadata": {},
     "output_type": "execute_result"
    }
   ],
   "source": [
    "listarray=np.array([[4,3,9],[3,0,5],[0,2,1]])\n",
    "listarray"
   ],
   "metadata": {
    "collapsed": false,
    "ExecuteTime": {
     "end_time": "2025-02-08T10:54:07.964283Z",
     "start_time": "2025-02-08T10:54:07.957206Z"
    }
   },
   "id": "1aa0881187f2a27b",
   "execution_count": 14
  },
  {
   "cell_type": "code",
   "outputs": [
    {
     "data": {
      "text/plain": "dtype('int32')"
     },
     "execution_count": 15,
     "metadata": {},
     "output_type": "execute_result"
    }
   ],
   "source": [
    "listarray.dtype"
   ],
   "metadata": {
    "collapsed": false,
    "ExecuteTime": {
     "end_time": "2025-02-08T10:54:08.586255Z",
     "start_time": "2025-02-08T10:54:08.581141Z"
    }
   },
   "id": "b77e2b638010e902",
   "execution_count": 15
  },
  {
   "cell_type": "code",
   "outputs": [
    {
     "data": {
      "text/plain": "(3, 3)"
     },
     "execution_count": 16,
     "metadata": {},
     "output_type": "execute_result"
    }
   ],
   "source": [
    "listarray.shape"
   ],
   "metadata": {
    "collapsed": false,
    "ExecuteTime": {
     "end_time": "2025-02-08T10:54:09.138818Z",
     "start_time": "2025-02-08T10:54:09.134067Z"
    }
   },
   "id": "aad8b421fab7e3b1",
   "execution_count": 16
  },
  {
   "cell_type": "code",
   "outputs": [
    {
     "data": {
      "text/plain": "array({34, 23}, dtype=object)"
     },
     "execution_count": 17,
     "metadata": {},
     "output_type": "execute_result"
    }
   ],
   "source": [
    "np.array({34,23,23})"
   ],
   "metadata": {
    "collapsed": false,
    "ExecuteTime": {
     "end_time": "2025-02-08T10:54:09.661173Z",
     "start_time": "2025-02-08T10:54:09.656908Z"
    }
   },
   "id": "4aed69a7fee329a3",
   "execution_count": 17
  },
  {
   "cell_type": "code",
   "outputs": [],
   "source": [
    "zeros=np.zeros((2,5))"
   ],
   "metadata": {
    "collapsed": false,
    "ExecuteTime": {
     "end_time": "2025-02-08T10:54:10.268124Z",
     "start_time": "2025-02-08T10:54:10.264770Z"
    }
   },
   "id": "37a934c8931abba6",
   "execution_count": 18
  },
  {
   "cell_type": "code",
   "outputs": [
    {
     "data": {
      "text/plain": "dtype('float64')"
     },
     "execution_count": 19,
     "metadata": {},
     "output_type": "execute_result"
    }
   ],
   "source": [
    "zeros.dtype"
   ],
   "metadata": {
    "collapsed": false,
    "ExecuteTime": {
     "end_time": "2025-02-08T10:54:10.777294Z",
     "start_time": "2025-02-08T10:54:10.772364Z"
    }
   },
   "id": "fbfaff8ecdd2c27e",
   "execution_count": 19
  },
  {
   "cell_type": "code",
   "outputs": [
    {
     "data": {
      "text/plain": "array([[0., 0., 0., 0., 0.],\n       [0., 0., 0., 0., 0.]])"
     },
     "execution_count": 20,
     "metadata": {},
     "output_type": "execute_result"
    }
   ],
   "source": [
    "zeros"
   ],
   "metadata": {
    "collapsed": false,
    "ExecuteTime": {
     "end_time": "2025-02-08T10:54:11.341872Z",
     "start_time": "2025-02-08T10:54:11.337464Z"
    }
   },
   "id": "16d199f43e066e2c",
   "execution_count": 20
  },
  {
   "cell_type": "code",
   "outputs": [],
   "source": [
    "rng=np.arange(15)"
   ],
   "metadata": {
    "collapsed": false,
    "ExecuteTime": {
     "end_time": "2025-02-08T10:54:11.867828Z",
     "start_time": "2025-02-08T10:54:11.864622Z"
    }
   },
   "id": "8ac35e5bd5110d8c",
   "execution_count": 21
  },
  {
   "cell_type": "code",
   "outputs": [
    {
     "data": {
      "text/plain": "array([ 0,  1,  2,  3,  4,  5,  6,  7,  8,  9, 10, 11, 12, 13, 14])"
     },
     "execution_count": 22,
     "metadata": {},
     "output_type": "execute_result"
    }
   ],
   "source": [
    "rng"
   ],
   "metadata": {
    "collapsed": false,
    "ExecuteTime": {
     "end_time": "2025-02-08T10:54:12.459195Z",
     "start_time": "2025-02-08T10:54:12.453979Z"
    }
   },
   "id": "a4d4b30608ec4fa9",
   "execution_count": 22
  },
  {
   "cell_type": "code",
   "outputs": [],
   "source": [
    "lspace=np.linspace(1,5,4)"
   ],
   "metadata": {
    "collapsed": false,
    "ExecuteTime": {
     "end_time": "2025-02-08T10:54:12.959678Z",
     "start_time": "2025-02-08T10:54:12.955432Z"
    }
   },
   "id": "7eddcb9bcd141a04",
   "execution_count": 23
  },
  {
   "cell_type": "code",
   "outputs": [
    {
     "data": {
      "text/plain": "array([1.        , 2.33333333, 3.66666667, 5.        ])"
     },
     "execution_count": 24,
     "metadata": {},
     "output_type": "execute_result"
    }
   ],
   "source": [
    "lspace"
   ],
   "metadata": {
    "collapsed": false,
    "ExecuteTime": {
     "end_time": "2025-02-08T10:54:13.464937Z",
     "start_time": "2025-02-08T10:54:13.459556Z"
    }
   },
   "id": "3ce330f2968a8145",
   "execution_count": 24
  },
  {
   "cell_type": "code",
   "outputs": [],
   "source": [
    "emp_like=np.empty_like(lspace)"
   ],
   "metadata": {
    "collapsed": false,
    "ExecuteTime": {
     "end_time": "2025-02-08T10:54:14.115568Z",
     "start_time": "2025-02-08T10:54:14.111607Z"
    }
   },
   "id": "d2835442ada94b8c",
   "execution_count": 25
  },
  {
   "cell_type": "code",
   "outputs": [
    {
     "data": {
      "text/plain": "array([1.        , 2.33333333, 3.66666667, 5.        ])"
     },
     "execution_count": 26,
     "metadata": {},
     "output_type": "execute_result"
    }
   ],
   "source": [
    "emp_like"
   ],
   "metadata": {
    "collapsed": false,
    "ExecuteTime": {
     "end_time": "2025-02-08T10:54:14.689624Z",
     "start_time": "2025-02-08T10:54:14.683840Z"
    }
   },
   "id": "65f45f05eb61c170",
   "execution_count": 26
  },
  {
   "cell_type": "code",
   "outputs": [],
   "source": [
    "ide=np.identity(45)"
   ],
   "metadata": {
    "collapsed": false,
    "ExecuteTime": {
     "end_time": "2025-02-08T10:54:15.240248Z",
     "start_time": "2025-02-08T10:54:15.235705Z"
    }
   },
   "id": "f3559a71d405424c",
   "execution_count": 27
  },
  {
   "cell_type": "code",
   "outputs": [
    {
     "data": {
      "text/plain": "array([[1., 0., 0., ..., 0., 0., 0.],\n       [0., 1., 0., ..., 0., 0., 0.],\n       [0., 0., 1., ..., 0., 0., 0.],\n       ...,\n       [0., 0., 0., ..., 1., 0., 0.],\n       [0., 0., 0., ..., 0., 1., 0.],\n       [0., 0., 0., ..., 0., 0., 1.]])"
     },
     "execution_count": 28,
     "metadata": {},
     "output_type": "execute_result"
    }
   ],
   "source": [
    "ide"
   ],
   "metadata": {
    "collapsed": false,
    "ExecuteTime": {
     "end_time": "2025-02-08T10:54:15.871872Z",
     "start_time": "2025-02-08T10:54:15.866755Z"
    }
   },
   "id": "e769bd3a21cd3ee6",
   "execution_count": 28
  },
  {
   "cell_type": "code",
   "outputs": [
    {
     "data": {
      "text/plain": "(45, 45)"
     },
     "execution_count": 29,
     "metadata": {},
     "output_type": "execute_result"
    }
   ],
   "source": [
    "ide.shape"
   ],
   "metadata": {
    "collapsed": false,
    "ExecuteTime": {
     "end_time": "2025-02-08T10:54:16.347784Z",
     "start_time": "2025-02-08T10:54:16.342098Z"
    }
   },
   "id": "28882fed8fef303c",
   "execution_count": 29
  },
  {
   "cell_type": "code",
   "outputs": [],
   "source": [
    "arr=np.arange(99)"
   ],
   "metadata": {
    "collapsed": false,
    "ExecuteTime": {
     "end_time": "2025-02-08T10:54:16.953655Z",
     "start_time": "2025-02-08T10:54:16.949684Z"
    }
   },
   "id": "ec8bb3926b23203f",
   "execution_count": 30
  },
  {
   "cell_type": "code",
   "outputs": [
    {
     "data": {
      "text/plain": "array([ 0,  1,  2,  3,  4,  5,  6,  7,  8,  9, 10, 11, 12, 13, 14, 15, 16,\n       17, 18, 19, 20, 21, 22, 23, 24, 25, 26, 27, 28, 29, 30, 31, 32, 33,\n       34, 35, 36, 37, 38, 39, 40, 41, 42, 43, 44, 45, 46, 47, 48, 49, 50,\n       51, 52, 53, 54, 55, 56, 57, 58, 59, 60, 61, 62, 63, 64, 65, 66, 67,\n       68, 69, 70, 71, 72, 73, 74, 75, 76, 77, 78, 79, 80, 81, 82, 83, 84,\n       85, 86, 87, 88, 89, 90, 91, 92, 93, 94, 95, 96, 97, 98])"
     },
     "execution_count": 31,
     "metadata": {},
     "output_type": "execute_result"
    }
   ],
   "source": [
    "arr"
   ],
   "metadata": {
    "collapsed": false,
    "ExecuteTime": {
     "end_time": "2025-02-08T10:54:17.586036Z",
     "start_time": "2025-02-08T10:54:17.580552Z"
    }
   },
   "id": "cb3075e023f97e73",
   "execution_count": 31
  },
  {
   "cell_type": "code",
   "outputs": [
    {
     "data": {
      "text/plain": "array([[ 0,  1,  2,  3,  4,  5,  6,  7,  8,  9, 10, 11, 12, 13, 14, 15,\n        16, 17, 18, 19, 20, 21, 22, 23, 24, 25, 26, 27, 28, 29, 30, 31,\n        32],\n       [33, 34, 35, 36, 37, 38, 39, 40, 41, 42, 43, 44, 45, 46, 47, 48,\n        49, 50, 51, 52, 53, 54, 55, 56, 57, 58, 59, 60, 61, 62, 63, 64,\n        65],\n       [66, 67, 68, 69, 70, 71, 72, 73, 74, 75, 76, 77, 78, 79, 80, 81,\n        82, 83, 84, 85, 86, 87, 88, 89, 90, 91, 92, 93, 94, 95, 96, 97,\n        98]])"
     },
     "execution_count": 32,
     "metadata": {},
     "output_type": "execute_result"
    }
   ],
   "source": [
    "arr.reshape(3,33)"
   ],
   "metadata": {
    "collapsed": false,
    "ExecuteTime": {
     "end_time": "2025-02-08T10:54:18.295717Z",
     "start_time": "2025-02-08T10:54:18.290374Z"
    }
   },
   "id": "d81b455dbabffac",
   "execution_count": 32
  },
  {
   "cell_type": "code",
   "outputs": [],
   "source": [
    "arr=arr.ravel()"
   ],
   "metadata": {
    "collapsed": false,
    "ExecuteTime": {
     "end_time": "2025-02-08T10:54:18.901198Z",
     "start_time": "2025-02-08T10:54:18.897349Z"
    }
   },
   "id": "1b6ceb977bc11f42",
   "execution_count": 33
  },
  {
   "cell_type": "code",
   "outputs": [
    {
     "data": {
      "text/plain": "(99,)"
     },
     "execution_count": 34,
     "metadata": {},
     "output_type": "execute_result"
    }
   ],
   "source": [
    "arr.shape"
   ],
   "metadata": {
    "collapsed": false,
    "ExecuteTime": {
     "end_time": "2025-02-08T10:54:19.366957Z",
     "start_time": "2025-02-08T10:54:19.361543Z"
    }
   },
   "id": "25aac5cc46ff1941",
   "execution_count": 34
  },
  {
   "cell_type": "code",
   "outputs": [],
   "source": [
    "x=[[1,2,4],[4,5,6],[6,9,0]]"
   ],
   "metadata": {
    "collapsed": false,
    "ExecuteTime": {
     "end_time": "2025-02-08T10:54:19.843786Z",
     "start_time": "2025-02-08T10:54:19.840355Z"
    }
   },
   "id": "f5aa29a57c81c10f",
   "execution_count": 35
  },
  {
   "cell_type": "code",
   "outputs": [],
   "source": [
    "ar=np.array(x)"
   ],
   "metadata": {
    "collapsed": false,
    "ExecuteTime": {
     "end_time": "2025-02-08T10:54:20.375658Z",
     "start_time": "2025-02-08T10:54:20.371677Z"
    }
   },
   "id": "a7b5c7d5475d3dbf",
   "execution_count": 36
  },
  {
   "cell_type": "code",
   "outputs": [
    {
     "data": {
      "text/plain": "array([[1, 2, 4],\n       [4, 5, 6],\n       [6, 9, 0]])"
     },
     "execution_count": 37,
     "metadata": {},
     "output_type": "execute_result"
    }
   ],
   "source": [
    "ar"
   ],
   "metadata": {
    "collapsed": false,
    "ExecuteTime": {
     "end_time": "2025-02-08T10:54:20.971518Z",
     "start_time": "2025-02-08T10:54:20.966377Z"
    }
   },
   "id": "5a5790f7e3c4d368",
   "execution_count": 37
  },
  {
   "cell_type": "code",
   "outputs": [
    {
     "data": {
      "text/plain": "array([11, 16, 10])"
     },
     "execution_count": 38,
     "metadata": {},
     "output_type": "execute_result"
    }
   ],
   "source": [
    "ar.sum(axis=0)"
   ],
   "metadata": {
    "collapsed": false,
    "ExecuteTime": {
     "end_time": "2025-02-08T10:54:21.587804Z",
     "start_time": "2025-02-08T10:54:21.582190Z"
    }
   },
   "id": "24ea7c639ce6dbdb",
   "execution_count": 38
  },
  {
   "cell_type": "code",
   "outputs": [
    {
     "data": {
      "text/plain": "array([ 7, 15, 15])"
     },
     "execution_count": 39,
     "metadata": {},
     "output_type": "execute_result"
    }
   ],
   "source": [
    "ar.sum(axis=1)"
   ],
   "metadata": {
    "collapsed": false,
    "ExecuteTime": {
     "end_time": "2025-02-08T10:54:22.182145Z",
     "start_time": "2025-02-08T10:54:22.176914Z"
    }
   },
   "id": "61cebd5e5a2581f8",
   "execution_count": 39
  },
  {
   "cell_type": "code",
   "outputs": [
    {
     "data": {
      "text/plain": "array([[1, 4, 6],\n       [2, 5, 9],\n       [4, 6, 0]])"
     },
     "execution_count": 40,
     "metadata": {},
     "output_type": "execute_result"
    }
   ],
   "source": [
    "ar.T"
   ],
   "metadata": {
    "collapsed": false,
    "ExecuteTime": {
     "end_time": "2025-02-08T10:54:22.846Z",
     "start_time": "2025-02-08T10:54:22.840504Z"
    }
   },
   "id": "54c3cc446d4419da",
   "execution_count": 40
  },
  {
   "cell_type": "code",
   "outputs": [
    {
     "name": "stdout",
     "output_type": "stream",
     "text": [
      "1\n",
      "2\n",
      "4\n",
      "4\n",
      "5\n",
      "6\n",
      "6\n",
      "9\n",
      "0\n"
     ]
    }
   ],
   "source": [
    "for item in ar.flat:\n",
    "    print(item)"
   ],
   "metadata": {
    "collapsed": false,
    "ExecuteTime": {
     "end_time": "2025-02-08T10:54:23.644526Z",
     "start_time": "2025-02-08T10:54:23.641028Z"
    }
   },
   "id": "540cd1a80de340e",
   "execution_count": 41
  },
  {
   "cell_type": "code",
   "outputs": [
    {
     "ename": "SyntaxError",
     "evalue": "invalid syntax (1158809010.py, line 1)",
     "output_type": "error",
     "traceback": [
      "\u001B[1;36m  Cell \u001B[1;32mIn[42], line 1\u001B[1;36m\u001B[0m\n\u001B[1;33m    ar.ndim  \"\"\"two dimensional\"\"\"\u001B[0m\n\u001B[1;37m             ^\u001B[0m\n\u001B[1;31mSyntaxError\u001B[0m\u001B[1;31m:\u001B[0m invalid syntax\n"
     ]
    }
   ],
   "source": [
    "ar.ndim  \"\"\"two dimensional\"\"\""
   ],
   "metadata": {
    "collapsed": false,
    "ExecuteTime": {
     "end_time": "2025-02-08T10:54:24.566782Z",
     "start_time": "2025-02-08T10:54:24.561074Z"
    }
   },
   "id": "82b7da8a3513d87c",
   "execution_count": 42
  },
  {
   "cell_type": "code",
   "outputs": [
    {
     "data": {
      "text/plain": "9"
     },
     "execution_count": 43,
     "metadata": {},
     "output_type": "execute_result"
    }
   ],
   "source": [
    "ar.size"
   ],
   "metadata": {
    "collapsed": false,
    "ExecuteTime": {
     "end_time": "2025-02-08T10:54:25.401688Z",
     "start_time": "2025-02-08T10:54:25.396758Z"
    }
   },
   "id": "23bd4c485e6ab44d",
   "execution_count": 43
  },
  {
   "cell_type": "code",
   "outputs": [
    {
     "data": {
      "text/plain": "36"
     },
     "execution_count": 44,
     "metadata": {},
     "output_type": "execute_result"
    }
   ],
   "source": [
    "ar.nbytes"
   ],
   "metadata": {
    "collapsed": false,
    "ExecuteTime": {
     "end_time": "2025-02-08T10:54:25.897485Z",
     "start_time": "2025-02-08T10:54:25.892184Z"
    }
   },
   "id": "35cb51bfecab86de",
   "execution_count": 44
  },
  {
   "cell_type": "code",
   "outputs": [],
   "source": [
    "one=np.array([1,2,33,4])"
   ],
   "metadata": {
    "collapsed": false,
    "ExecuteTime": {
     "end_time": "2025-02-08T10:54:26.520103Z",
     "start_time": "2025-02-08T10:54:26.516831Z"
    }
   },
   "id": "cd56d46dbac6bdab",
   "execution_count": 45
  },
  {
   "cell_type": "code",
   "outputs": [
    {
     "data": {
      "text/plain": "2"
     },
     "execution_count": 46,
     "metadata": {},
     "output_type": "execute_result"
    }
   ],
   "source": [
    "one.argmax()"
   ],
   "metadata": {
    "collapsed": false,
    "ExecuteTime": {
     "end_time": "2025-02-08T10:54:27.172669Z",
     "start_time": "2025-02-08T10:54:27.166724Z"
    }
   },
   "id": "246303e9711e2453",
   "execution_count": 46
  },
  {
   "cell_type": "code",
   "outputs": [
    {
     "data": {
      "text/plain": "0"
     },
     "execution_count": 47,
     "metadata": {},
     "output_type": "execute_result"
    }
   ],
   "source": [
    "one.argmin()"
   ],
   "metadata": {
    "collapsed": false,
    "ExecuteTime": {
     "end_time": "2025-02-08T10:54:28.005004Z",
     "start_time": "2025-02-08T10:54:28.000338Z"
    }
   },
   "id": "5e5fda82ed9a7bb8",
   "execution_count": 47
  },
  {
   "cell_type": "code",
   "outputs": [
    {
     "data": {
      "text/plain": "array([0, 1, 3, 2], dtype=int64)"
     },
     "execution_count": 48,
     "metadata": {},
     "output_type": "execute_result"
    }
   ],
   "source": [
    "one.argsort()"
   ],
   "metadata": {
    "collapsed": false,
    "ExecuteTime": {
     "end_time": "2025-02-08T10:54:28.862840Z",
     "start_time": "2025-02-08T10:54:28.856440Z"
    }
   },
   "id": "94897af79b85607c",
   "execution_count": 48
  },
  {
   "cell_type": "code",
   "outputs": [
    {
     "data": {
      "text/plain": "array([0, 1, 3, 2], dtype=int64)"
     },
     "execution_count": 49,
     "metadata": {},
     "output_type": "execute_result"
    }
   ],
   "source": [
    "one.argsort()"
   ],
   "metadata": {
    "collapsed": false,
    "ExecuteTime": {
     "end_time": "2025-02-08T10:54:29.587658Z",
     "start_time": "2025-02-08T10:54:29.582615Z"
    }
   },
   "id": "1b0a6ba7858feaed",
   "execution_count": 49
  },
  {
   "cell_type": "code",
   "outputs": [
    {
     "data": {
      "text/plain": "array([2, 2, 1], dtype=int64)"
     },
     "execution_count": 51,
     "metadata": {},
     "output_type": "execute_result"
    }
   ],
   "source": [
    "\"\"\"43:22\"\"\"\n",
    "\n",
    "ar.argmax(axis=0)\n",
    "ar.argmax(axis=1)\n"
   ],
   "metadata": {
    "collapsed": false,
    "ExecuteTime": {
     "end_time": "2025-02-08T10:54:49.415700Z",
     "start_time": "2025-02-08T10:54:49.409712Z"
    }
   },
   "id": "3287b95a0162bb52",
   "execution_count": 51
  },
  {
   "cell_type": "code",
   "outputs": [
    {
     "data": {
      "text/plain": "array([1, 2, 4, 4, 5, 6, 6, 9, 0])"
     },
     "execution_count": 52,
     "metadata": {},
     "output_type": "execute_result"
    }
   ],
   "source": [
    "ar.ravel()"
   ],
   "metadata": {
    "collapsed": false,
    "ExecuteTime": {
     "end_time": "2025-02-08T10:56:01.045687Z",
     "start_time": "2025-02-08T10:56:01.040836Z"
    }
   },
   "id": "705962a04bd03f6e",
   "execution_count": 52
  },
  {
   "cell_type": "code",
   "outputs": [
    {
     "data": {
      "text/plain": "array([[1],\n       [2],\n       [4],\n       [4],\n       [5],\n       [6],\n       [6],\n       [9],\n       [0]])"
     },
     "execution_count": 55,
     "metadata": {},
     "output_type": "execute_result"
    }
   ],
   "source": [
    "ar.reshape((9,1))"
   ],
   "metadata": {
    "collapsed": false,
    "ExecuteTime": {
     "end_time": "2025-02-08T10:57:11.788996Z",
     "start_time": "2025-02-08T10:57:11.783096Z"
    }
   },
   "id": "2d0bbae7953daf1e",
   "execution_count": 55
  },
  {
   "cell_type": "code",
   "outputs": [
    {
     "data": {
      "text/plain": "array([1, 2, 4, 4, 5, 6, 6, 9, 0])"
     },
     "execution_count": 61,
     "metadata": {},
     "output_type": "execute_result"
    }
   ],
   "source": [
    "ar.reshape((9,))"
   ],
   "metadata": {
    "collapsed": false,
    "ExecuteTime": {
     "end_time": "2025-02-08T10:58:50.936667Z",
     "start_time": "2025-02-08T10:58:50.930792Z"
    }
   },
   "id": "f7db5d9803a4fe6b",
   "execution_count": 61
  },
  {
   "cell_type": "code",
   "outputs": [],
   "source": [
    "ar2=np.array([[2,4,6],[4,8,0],[1,6,8]])"
   ],
   "metadata": {
    "collapsed": false,
    "ExecuteTime": {
     "end_time": "2025-02-08T11:01:05.160728Z",
     "start_time": "2025-02-08T11:01:05.157071Z"
    }
   },
   "id": "d87453ec71c5b9e8",
   "execution_count": 62
  },
  {
   "cell_type": "code",
   "outputs": [
    {
     "data": {
      "text/plain": "array([[2, 4, 6],\n       [4, 8, 0],\n       [1, 6, 8]])"
     },
     "execution_count": 66,
     "metadata": {},
     "output_type": "execute_result"
    }
   ],
   "source": [
    "ar2"
   ],
   "metadata": {
    "collapsed": false,
    "ExecuteTime": {
     "end_time": "2025-02-08T11:01:55.991066Z",
     "start_time": "2025-02-08T11:01:55.985457Z"
    }
   },
   "id": "13a8dd565d229e15",
   "execution_count": 66
  },
  {
   "cell_type": "code",
   "outputs": [
    {
     "data": {
      "text/plain": "array([[1, 2, 4],\n       [4, 5, 6],\n       [6, 9, 0]])"
     },
     "execution_count": 67,
     "metadata": {},
     "output_type": "execute_result"
    }
   ],
   "source": [
    "ar"
   ],
   "metadata": {
    "collapsed": false,
    "ExecuteTime": {
     "end_time": "2025-02-08T11:02:05.013879Z",
     "start_time": "2025-02-08T11:02:05.008148Z"
    }
   },
   "id": "e0be1e45d32ad69",
   "execution_count": 67
  },
  {
   "cell_type": "code",
   "outputs": [
    {
     "data": {
      "text/plain": "array([[ 3,  6, 10],\n       [ 8, 13,  6],\n       [ 7, 15,  8]])"
     },
     "execution_count": 64,
     "metadata": {},
     "output_type": "execute_result"
    }
   ],
   "source": [
    "ar+ar2"
   ],
   "metadata": {
    "collapsed": false,
    "ExecuteTime": {
     "end_time": "2025-02-08T11:01:32.761566Z",
     "start_time": "2025-02-08T11:01:32.755888Z"
    }
   },
   "id": "fefc2356420a441b",
   "execution_count": 64
  },
  {
   "cell_type": "code",
   "outputs": [
    {
     "data": {
      "text/plain": "[52, 45, 8, 78]"
     },
     "execution_count": 68,
     "metadata": {},
     "output_type": "execute_result"
    }
   ],
   "source": [
    "[52,45]+[8,78]"
   ],
   "metadata": {
    "collapsed": false,
    "ExecuteTime": {
     "end_time": "2025-02-08T11:03:04.868470Z",
     "start_time": "2025-02-08T11:03:04.862688Z"
    }
   },
   "id": "42a8b880291f7a3a",
   "execution_count": 68
  },
  {
   "cell_type": "code",
   "outputs": [
    {
     "data": {
      "text/plain": "array([[ 2,  8, 24],\n       [16, 40,  0],\n       [ 6, 54,  0]])"
     },
     "execution_count": 69,
     "metadata": {},
     "output_type": "execute_result"
    }
   ],
   "source": [
    "ar*ar2"
   ],
   "metadata": {
    "collapsed": false,
    "ExecuteTime": {
     "end_time": "2025-02-08T11:03:40.392492Z",
     "start_time": "2025-02-08T11:03:40.386417Z"
    }
   },
   "id": "cbf1b95e499ee92b",
   "execution_count": 69
  },
  {
   "cell_type": "code",
   "outputs": [
    {
     "data": {
      "text/plain": "array([[1.        , 1.41421356, 2.        ],\n       [2.        , 2.23606798, 2.44948974],\n       [2.44948974, 3.        , 0.        ]])"
     },
     "execution_count": 70,
     "metadata": {},
     "output_type": "execute_result"
    }
   ],
   "source": [
    "np.sqrt(ar)"
   ],
   "metadata": {
    "collapsed": false,
    "ExecuteTime": {
     "end_time": "2025-02-08T11:04:13.364684Z",
     "start_time": "2025-02-08T11:04:13.359927Z"
    }
   },
   "id": "cbb8bc3a4159a45b",
   "execution_count": 70
  },
  {
   "cell_type": "code",
   "outputs": [
    {
     "data": {
      "text/plain": "8"
     },
     "execution_count": 71,
     "metadata": {},
     "output_type": "execute_result"
    }
   ],
   "source": [
    "ar2.max()"
   ],
   "metadata": {
    "collapsed": false,
    "ExecuteTime": {
     "end_time": "2025-02-08T11:04:29.315122Z",
     "start_time": "2025-02-08T11:04:29.309457Z"
    }
   },
   "id": "a255c15ae014788e",
   "execution_count": 71
  },
  {
   "cell_type": "code",
   "outputs": [
    {
     "data": {
      "text/plain": "(array([1, 2, 2], dtype=int64), array([2, 0, 1], dtype=int64))"
     },
     "execution_count": 72,
     "metadata": {},
     "output_type": "execute_result"
    }
   ],
   "source": [
    "np.where(ar>5)"
   ],
   "metadata": {
    "collapsed": false,
    "ExecuteTime": {
     "end_time": "2025-02-08T11:04:54.842773Z",
     "start_time": "2025-02-08T11:04:54.836211Z"
    }
   },
   "id": "96d3f9a0e1e0ad56",
   "execution_count": 72
  },
  {
   "cell_type": "code",
   "outputs": [],
   "source": [
    "import sys"
   ],
   "metadata": {
    "collapsed": false,
    "ExecuteTime": {
     "end_time": "2025-02-08T11:09:27.408904Z",
     "start_time": "2025-02-08T11:09:27.405002Z"
    }
   },
   "id": "9a0b11e1a0ef0890",
   "execution_count": 77
  },
  {
   "cell_type": "code",
   "outputs": [],
   "source": [
    "py_ar=[2,45,780]\n",
    "np_ar=np.array(py_ar)"
   ],
   "metadata": {
    "collapsed": false,
    "ExecuteTime": {
     "end_time": "2025-02-08T11:09:28.772857Z",
     "start_time": "2025-02-08T11:09:28.769401Z"
    }
   },
   "id": "93d11df1c9a453f5",
   "execution_count": 78
  },
  {
   "cell_type": "code",
   "outputs": [
    {
     "data": {
      "text/plain": "84"
     },
     "execution_count": 79,
     "metadata": {},
     "output_type": "execute_result"
    }
   ],
   "source": [
    "sys.getsizeof(1)*len(py_ar)"
   ],
   "metadata": {
    "collapsed": false,
    "ExecuteTime": {
     "end_time": "2025-02-08T11:09:29.742108Z",
     "start_time": "2025-02-08T11:09:29.737551Z"
    }
   },
   "id": "c550381896393471",
   "execution_count": 79
  },
  {
   "cell_type": "code",
   "outputs": [
    {
     "data": {
      "text/plain": "12"
     },
     "execution_count": 81,
     "metadata": {},
     "output_type": "execute_result"
    }
   ],
   "source": [
    "np_ar.itemsize*np_ar.size"
   ],
   "metadata": {
    "collapsed": false,
    "ExecuteTime": {
     "end_time": "2025-02-08T11:10:36.109156Z",
     "start_time": "2025-02-08T11:10:36.103996Z"
    }
   },
   "id": "ec147d4474c8614b",
   "execution_count": 81
  },
  {
   "cell_type": "code",
   "outputs": [
    {
     "ename": "SyntaxError",
     "evalue": "invalid syntax (1653793619.py, line 1)",
     "output_type": "error",
     "traceback": [
      "\u001B[1;36m  Cell \u001B[1;32mIn[82], line 1\u001B[1;36m\u001B[0m\n\u001B[1;33m    https://numpy.org/doc/stable/reference/generated/numpy.ndarray.html\u001B[0m\n\u001B[1;37m          ^\u001B[0m\n\u001B[1;31mSyntaxError\u001B[0m\u001B[1;31m:\u001B[0m invalid syntax\n"
     ]
    }
   ],
   "source": [
    "https://numpy.org/doc/stable/reference/generated/numpy.ndarray.html"
   ],
   "metadata": {
    "collapsed": false,
    "ExecuteTime": {
     "end_time": "2025-02-08T11:14:30.746215Z",
     "start_time": "2025-02-08T11:14:30.740796Z"
    }
   },
   "id": "a64be10a3009ae85",
   "execution_count": 82
  },
  {
   "cell_type": "code",
   "outputs": [
    {
     "ename": "SyntaxError",
     "evalue": "invalid syntax (131826960.py, line 1)",
     "output_type": "error",
     "traceback": [
      "\u001B[1;36m  Cell \u001B[1;32mIn[83], line 1\u001B[1;36m\u001B[0m\n\u001B[1;33m    https://pandas.pydata.org/docs/user_guide/basics.html\u001B[0m\n\u001B[1;37m          ^\u001B[0m\n\u001B[1;31mSyntaxError\u001B[0m\u001B[1;31m:\u001B[0m invalid syntax\n"
     ]
    }
   ],
   "source": [
    "https://pandas.pydata.org/docs/user_guide/basics.html"
   ],
   "metadata": {
    "collapsed": false,
    "ExecuteTime": {
     "end_time": "2025-02-08T11:15:34.342609Z",
     "start_time": "2025-02-08T11:15:34.337609Z"
    }
   },
   "id": "3546c09b79d29094",
   "execution_count": 83
  },
  {
   "cell_type": "code",
   "outputs": [],
   "source": [],
   "metadata": {
    "collapsed": false
   },
   "id": "e50df63bd6bfc17f"
  }
 ],
 "metadata": {
  "kernelspec": {
   "display_name": "Python 3",
   "language": "python",
   "name": "python3"
  },
  "language_info": {
   "codemirror_mode": {
    "name": "ipython",
    "version": 2
   },
   "file_extension": ".py",
   "mimetype": "text/x-python",
   "name": "python",
   "nbconvert_exporter": "python",
   "pygments_lexer": "ipython2",
   "version": "2.7.6"
  }
 },
 "nbformat": 4,
 "nbformat_minor": 5
}
