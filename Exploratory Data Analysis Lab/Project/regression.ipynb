{
 "cells": [
  {
   "cell_type": "code",
   "execution_count": 2,
   "metadata": {},
   "outputs": [
    {
     "name": "stdout",
     "output_type": "stream",
     "text": [
      "R^2 Score of the Regression Model: 0.8454492563418252\n"
     ]
    }
   ],
   "source": [
    "# Import necessary libraries\n",
    "import pandas as pd\n",
    "from sklearn.model_selection import train_test_split\n",
    "from sklearn.linear_model import LinearRegression\n",
    "from sklearn.metrics import r2_score\n",
    "from sklearn.preprocessing import LabelEncoder\n",
    "\n",
    "# Step 1: Load the dataset\n",
    "data = pd.read_csv('train (1).csv')  # Replace with your filename if running locally\n",
    "\n",
    "# Step 2: Data Cleaning - Handle missing values\n",
    "# Drop columns with more than 30% missing values\n",
    "missing_percent = (data.isnull().sum() / len(data)) * 100\n",
    "high_missing_cols = missing_percent[missing_percent > 30].index\n",
    "data = data.drop(columns=high_missing_cols)\n",
    "\n",
    "# Fill numeric missing values with median\n",
    "numeric_cols = data.select_dtypes(include=['int64', 'float64']).columns\n",
    "data[numeric_cols] = data[numeric_cols].fillna(data[numeric_cols].median())\n",
    "\n",
    "# Fill categorical missing values with mode\n",
    "categorical_cols = data.select_dtypes(include=['object']).columns\n",
    "data[categorical_cols] = data[categorical_cols].fillna(data[categorical_cols].mode().iloc[0])\n",
    "\n",
    "# Step 3: Encode categorical features using LabelEncoder\n",
    "le = LabelEncoder()\n",
    "for col in categorical_cols:\n",
    "    if col in data.columns:\n",
    "        data[col] = le.fit_transform(data[col])\n",
    "\n",
    "# Step 4: Prepare features and target variable\n",
    "X = data.drop(columns=['SalePrice', 'Id'])  # Drop 'Id' column\n",
    "y = data['SalePrice']\n",
    "\n",
    "# Step 5: Split the dataset into training and testing sets\n",
    "X_train, X_test, y_train, y_test = train_test_split(X, y, test_size=0.2, random_state=42)\n",
    "\n",
    "# Step 6: Train the Linear Regression model\n",
    "model = LinearRegression()\n",
    "model.fit(X_train, y_train)\n",
    "\n",
    "# Step 7: Make predictions and evaluate the model\n",
    "y_pred = model.predict(X_test)\n",
    "r2 = r2_score(y_test, y_pred)\n",
    "\n",
    "print(\"R^2 Score of the Regression Model:\", r2)\n"
   ]
  },
  {
   "cell_type": "code",
   "execution_count": null,
   "metadata": {},
   "outputs": [],
   "source": []
  }
 ],
 "metadata": {
  "kernelspec": {
   "display_name": "Python 3",
   "language": "python",
   "name": "python3"
  },
  "language_info": {
   "codemirror_mode": {
    "name": "ipython",
    "version": 3
   },
   "file_extension": ".py",
   "mimetype": "text/x-python",
   "name": "python",
   "nbconvert_exporter": "python",
   "pygments_lexer": "ipython3",
   "version": "3.12.1"
  }
 },
 "nbformat": 4,
 "nbformat_minor": 2
}
